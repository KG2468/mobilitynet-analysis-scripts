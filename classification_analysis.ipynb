{
 "cells": [
  {
   "cell_type": "markdown",
   "id": "36ac74aa",
   "metadata": {},
   "source": [
    "# Classification Analysis\n",
    "This notebook will contain classification analysis for both the sensed and pipelined algorithms. Analysis will be preformed in regards for the sensed and pipelined algorthms themselves, as well as the ensemble algorithms. The analysis for the ensemble algorithm will focus on the HAMF android phones and the HAHF iOS phones."
   ]
  },
  {
   "cell_type": "markdown",
   "id": "01c045fb",
   "metadata": {},
   "source": [
    "## Dependencies"
   ]
  },
  {
   "cell_type": "code",
   "execution_count": null,
   "id": "75b2c0fe",
   "metadata": {},
   "outputs": [],
   "source": [
    "# for reading and validating data\n",
    "import emeval.input.spec_details as eisd\n",
    "import emeval.input.phone_view as eipv\n",
    "import emeval.input.eval_view as eiev"
   ]
  },
  {
   "cell_type": "code",
   "execution_count": null,
   "id": "ef7ea7c3",
   "metadata": {},
   "outputs": [],
   "source": [
    "import emeval.viz.phone_view as ezpv\n",
    "import emeval.viz.eval_view as ezev\n",
    "import emeval.viz.geojson as ezgj"
   ]
  },
  {
   "cell_type": "code",
   "execution_count": null,
   "id": "08f1c6a7",
   "metadata": {},
   "outputs": [],
   "source": [
    "# for analysized view\n",
    "import emeval.analysed.phone_view as eapv"
   ]
  },
  {
   "cell_type": "code",
   "execution_count": null,
   "id": "d3c817fd",
   "metadata": {},
   "outputs": [],
   "source": [
    "import emeval.metrics.segmentation as ems"
   ]
  },
  {
   "cell_type": "code",
   "execution_count": null,
   "id": "234c622b",
   "metadata": {},
   "outputs": [],
   "source": [
    "import pandas as pd\n",
    "pd.options.display.float_format = '{:.6f}'.format\n",
    "import arrow\n",
    "import numpy as np"
   ]
  },
  {
   "cell_type": "code",
   "execution_count": null,
   "id": "30c83454",
   "metadata": {},
   "outputs": [],
   "source": [
    "# For plots\n",
    "import matplotlib.pyplot as plt\n",
    "%matplotlib inline"
   ]
  },
  {
   "cell_type": "code",
   "execution_count": null,
   "id": "b32ef879",
   "metadata": {},
   "outputs": [],
   "source": [
    "# For maps\n",
    "import folium\n",
    "import branca.element as bre"
   ]
  },
  {
   "cell_type": "code",
   "execution_count": null,
   "id": "ce7ef8a6",
   "metadata": {},
   "outputs": [],
   "source": [
    "# For easier debugging while working on modules\n",
    "import importlib"
   ]
  },
  {
   "cell_type": "code",
   "execution_count": null,
   "id": "b30cdf85",
   "metadata": {},
   "outputs": [],
   "source": [
    "import arrow"
   ]
  },
  {
   "cell_type": "code",
   "execution_count": null,
   "id": "fceb9e2b",
   "metadata": {},
   "outputs": [],
   "source": [
    "def import_sd_and_pv_from_server(trips  = [\"unimodal_trip_car_bike_mtv_la\", \"car_scooter_brex_san_jose\", \"train_bus_ebike_mtv_ucb\"], \n",
    "                                 AUTHOR_EMAIL  = \"shankari@eecs.berkeley.edu\", \n",
    "                                 DATASTORE_LOC = \"http://localhost:8080\", \n",
    "                                 pkl_file_name = None):\n",
    "    sd_l = []\n",
    "    pv_l = []\n",
    "    for trip in trips:\n",
    "        sd = eisd.ServerSpecDetails(DATASTORE_LOC, AUTHOR_EMAIL, trip)\n",
    "        pv = eipv.PhoneView(sd)\n",
    "        sd_l.append(sd)\n",
    "        pv_l.append(pv)\n",
    "    if pkl_file_name:\n",
    "        import pickle\n",
    "        with open(pkl_file_name, 'wb') as outp:\n",
    "            for pv in pv_l:\n",
    "                pickle.dump(pv, outp, pickle.HIGHEST_PROTOCOL)\n",
    "    return sd_l, pv_l"
   ]
  },
  {
   "cell_type": "code",
   "execution_count": null,
   "id": "748bad00",
   "metadata": {},
   "outputs": [],
   "source": [
    "def import_pv_from_pkl(pkl_file_name, \n",
    "                       trips = [\"unimodal_trip_car_bike_mtv_la\", \"car_scooter_brex_san_jose\", \"train_bus_ebike_mtv_ucb\"]):\n",
    "    import pickle\n",
    "    pv_l = []\n",
    "    with open('pv.pkl', 'rb') as inp:\n",
    "        for trip in trips:\n",
    "            pv_l.append(pickle.load(inp))\n",
    "    return pv_l"
   ]
  },
  {
   "cell_type": "code",
   "execution_count": null,
   "id": "f5f7a461",
   "metadata": {},
   "outputs": [],
   "source": [
    "(pv_la, pv_sj, pv_ucb) = import_pv_from_pkl('pv.pkl')"
   ]
  },
  {
   "cell_type": "markdown",
   "id": "be3b7b48",
   "metadata": {},
   "source": [
    "### Get the sensed data for each trip"
   ]
  },
  {
   "cell_type": "code",
   "execution_count": null,
   "id": "ed5b7353",
   "metadata": {},
   "outputs": [],
   "source": [
    "%%capture\n",
    "ems.fill_sensed_section_ranges(pv_la)\n",
    "ems.fill_sensed_section_ranges(pv_sj)\n",
    "ems.fill_sensed_section_ranges(pv_ucb)"
   ]
  },
  {
   "cell_type": "markdown",
   "id": "5425a4a7",
   "metadata": {},
   "source": [
    "## Get sensed timeline\n",
    "\n",
    "```python\n",
    "def get_trip_ss_and_gts_timeline(pv):\n",
    "    \"\"\"\n",
    "    Get the sensed and ground truth timeline for each evaluation trip range for a given phone view.\n",
    "    \n",
    "    ----------\n",
    "    Parameters\n",
    "    ----------\n",
    "    arg1: phone view\n",
    "        A phone view to recieve timelines for.\n",
    "    arg2: os\n",
    "        a phone os to evaluate, must be one of 'ios' or 'android'\n",
    "    arg3:\n",
    "        an acuracy/frequency combination, must be one of 'accuracy_control', 'HAHFDC', 'HAMFDC', 'MAHFDC', 'power_control'\n",
    "\n",
    "    -------\n",
    "    Returns\n",
    "    -------\n",
    "    list\n",
    "        A list of trips for each phone view. Each trip has two entries, the sensed mode timeline and the ground truth timeline for the corresponding evaluation trip range.\n",
    "    \"\"\"\n",
    "    ...\n",
    "```"
   ]
  },
  {
   "cell_type": "markdown",
   "id": "def9f8c4",
   "metadata": {},
   "source": [
    "`TODO` break up the timelines by os and accuracy/frequency"
   ]
  },
  {
   "cell_type": "code",
   "execution_count": null,
   "id": "d90fa1c5",
   "metadata": {},
   "outputs": [],
   "source": [
    "def get_trip_ss_and_gts_timeline(pv, os, role):\n",
    "    assert os in ['android', 'ios'], 'UNKNOWN OS'\n",
    "    assert role in ['accuracy_control', 'HAHFDC', 'HAMFDC', 'MAHFDC', 'power_control'], \"UNKNOWN ROLE\"\n",
    "    trips = []\n",
    "    for phone_os, phone_map in pv.map().items():\n",
    "        if os != phone_os:\n",
    "            continue\n",
    "        for phone_label, phone_detail_map in phone_map.items():\n",
    "            if \"control\" in phone_detail_map[\"role\"]:\n",
    "#                 print(\"Ignoring %s phone %s since they are always on\" % (phone_detail_map[\"role\"], phone_label))\n",
    "                continue\n",
    "            # this spec does not have any calibration ranges, but evaluation ranges are actually cooler\n",
    "            for r in phone_detail_map[\"evaluation_ranges\"]:\n",
    "                if r['eval_role_base'] != role:\n",
    "                    continue\n",
    "                for tr in r[\"evaluation_trip_ranges\"]:\n",
    "                    tr_ss  = []\n",
    "                    tr_gts = []\n",
    "                    for ss in tr[\"sensed_section_ranges\"]:\n",
    "                        tr_ss.append(ss)\n",
    "                    for section in tr[\"evaluation_section_ranges\"]:\n",
    "                        section_gt_leg = pv.spec_details.get_ground_truth_for_leg(tr['trip_id_base'],\n",
    "                                                                                  section['trip_id_base'],\n",
    "                                                                                  tr['start_ts'],\n",
    "                                                                                  tr['end_ts'])\n",
    "                        if section_gt_leg[\"type\"] == \"WAITING\":\n",
    "#                             print(\"Skipping WAITING section %s %s with potential partway transitions\" %\n",
    "#                                   (tr[\"trip_id\"], section[\"trip_id\"]))\n",
    "                            continue\n",
    "                        # this calulcates the metric for the mode\n",
    "\n",
    "                        ## and now we have the gt mode!\n",
    "                        gts = {'start_ts': section['start_ts'], \n",
    "                               'end_ts': section['end_ts'], \n",
    "                               'mode': section_gt_leg['mode']}\n",
    "                        tr_gts.append(gts)\n",
    "                # now, we build a timeline for each trip\n",
    "                trip = tr.copy()\n",
    "                trip['ss_timeline']  = tr_ss\n",
    "                trip['gts_timeline'] = tr_gts\n",
    "                trips.append(trip)\n",
    "    return trips"
   ]
  },
  {
   "cell_type": "markdown",
   "id": "20bb504d",
   "metadata": {},
   "source": [
    "## Binary Classification (in seconds)\n",
    "```python\n",
    "def get_binary_class_in_sec(os, role, pv=None, pv_l=None):\n",
    "    \"\"\"\n",
    "    This function computes binary classifications for a given set of trips in seconds.\n",
    "    Using one unit of duration as our base unit, we calculate the following classifications:\n",
    "        * True Positive\n",
    "            + A true positive is when we sense that we are in a mode and we are in that mode.\n",
    "        * False Positive\n",
    "            + A false positive is when we sense that we are in a mode that we are not it.\n",
    "        * False Negative\n",
    "            + A false negative is when we are in a mode, but we do not sense being in that mode.\n",
    "     \n",
    "     Note that we compute the binary classifications for each sensed mode, but we combine the 'WALKING' and 'RUNNING' modes.\n",
    "     Additionally, note that we have use the ground truth base mode when determining hits and misses. \n",
    "    \n",
    "    ----------\n",
    "    Parameters\n",
    "    ----------\n",
    "    arg1: string\n",
    "        a phone os to evaluate, must be one of 'ios' or 'android'\n",
    "    arg2: string.\n",
    "        an acuracy/frequency combination, must be one of 'accuracy_control', 'HAHFDC', 'HAMFDC', 'MAHFDC', 'power_control'.\n",
    "    arg3: phone view\n",
    "        A phone view to recieve timelines for, defaults to None.\n",
    "    arg4: phone view list\n",
    "        A phone view list to recieve timelines for, defaults to None.\n",
    "        \n",
    "    NOTE: must pass in either a phone view or a phone view list\n",
    "    \n",
    "    -------\n",
    "    Returns\n",
    "    -------\n",
    "    list\n",
    "        A list with the following entries\n",
    "            [0] A dictionary of true positives with sensed modes as keys and TP hits has values.\n",
    "            [1] A dictionary of false positives with sensed modes as keys and FP hits has values.\n",
    "            [2] A dictionary of false negatives with sensed modes as keys and FN hits has values.\n",
    "    \n",
    "    \"\"\"\n",
    "    ...\n",
    "```"
   ]
  },
  {
   "cell_type": "code",
   "execution_count": null,
   "id": "b683621c",
   "metadata": {},
   "outputs": [],
   "source": [
    "# taken from emission.core.wrapper.modeprediction\n",
    "import enum as enum\n",
    "class PredictedModeTypes(enum.Enum):\n",
    "    UNKNOWN = 0\n",
    "    WALKING = 1\n",
    "    BICYCLING = 2\n",
    "    BUS = 3\n",
    "    TRAIN = 4\n",
    "    CAR = 5\n",
    "    AIR_OR_HSR = 6"
   ]
  },
  {
   "cell_type": "code",
   "execution_count": null,
   "id": "1a9b89d4",
   "metadata": {},
   "outputs": [],
   "source": [
    "def get_binary_class_in_sec(os, role, pv=None, pv_l=None):\n",
    "    BASE_MODE = {\"WALKING\": \"WALKING\",\n",
    "                 \"RUNNING\" : \"WALKING\", \n",
    "                 \"CYCLING\" : \"CYCLING\",\n",
    "                 \"BICYCLING\": \"CYCLING\",\n",
    "                 \"ESCOOTER\": \"CYCLING\", \n",
    "                 \"AUTOMOTIVE\" : \"AUTOMOTIVE\",\n",
    "                 \"BUS\": \"AUTOMOTIVE\",\n",
    "                 \"TRAIN\": \"TRAIN\",\n",
    "                 \"LIGHT_RAIL\": \"TRAIN\",\n",
    "                 \"SUBWAY\": \"TRAIN\",\n",
    "                 \"CAR\": \"AUTOMOTIVE\",\n",
    "                 \"AIR_OR_HSR\": \"TRAIN\",\n",
    "                 \"INVALID\" : \"INVALID\"}\n",
    "    if pv:\n",
    "        assert pv_l is None, \"CANNOT PROVIDE BOTH PHONE VIEW AND PHONE VIEW LIST\"\n",
    "        trips = get_trip_ss_and_gts_timeline(pv, os, role)\n",
    "    elif pv_l:\n",
    "        trips = []\n",
    "        for pv in pv_l:\n",
    "            trips.extend(get_trip_ss_and_gts_timeline(pv, os, role))\n",
    "    else:\n",
    "        assert 1, \"MUST PASS EITHER PHONE VIEW OR PHONE VIEW LIST\"\n",
    "    TP, FN, FP, TN = {}, {}, {}, {}\n",
    "    for trip in trips:\n",
    "        for mode in set(BASE_MODE.values()):\n",
    "            for ss in trip['ss_timeline']:\n",
    "                try:\n",
    "                    # taken from emission.core.wrapper.modeprediction\n",
    "                    ss = ss['data']\n",
    "                    ss['mode'] = PredictedModeTypes(ss['sensed_mode'])._name_\n",
    "                except:\n",
    "                    pass\n",
    "                ss_dur = ss['end_ts'] - ss['start_ts']\n",
    "                gts_dur = 0\n",
    "                for gts in trip['gts_timeline']:\n",
    "                    if ss['end_ts'] >= gts['start_ts'] and ss['start_ts'] <= gts['end_ts']:\n",
    "                        dur = min(ss['end_ts'], gts['end_ts']) - max(ss['start_ts'], gts['start_ts'])\n",
    "                        gts_dur += dur\n",
    "                        if BASE_MODE[mode] == BASE_MODE[ss['mode']] and BASE_MODE[mode] == BASE_MODE[gts['mode']]:\n",
    "                            TP[mode] = TP.setdefault(mode, 0) + dur\n",
    "                        elif BASE_MODE[mode] == BASE_MODE[ss['mode']] and BASE_MODE[mode] != BASE_MODE[gts['mode']]:\n",
    "                            FP[mode] = FP.setdefault(mode, 0) + dur\n",
    "                        elif BASE_MODE[mode] != BASE_MODE[ss['mode']] and BASE_MODE[mode] == BASE_MODE[gts['mode']]:\n",
    "                            FN[mode] = FN.setdefault(mode, 0) + dur\n",
    "                        else:\n",
    "                            TN[mode] = TN.setdefault(mode, 0) + dur\n",
    "                leftover = ss_dur - gts_dur\n",
    "                assert leftover >= 0, f\"ERROR, NEGATIVE LEFTOVER OF {leftover}, NEED TO INVESTIGATE\"\n",
    "                if leftover > 0:\n",
    "                    # invalid base mode maps to NO_GT mode\n",
    "                    if mode == 'INVALID':\n",
    "                        TP[mode] = TP.setdefault(mode, 0) + leftover\n",
    "                    # We have no gts, but our modes are equal, so a false positive\n",
    "                    elif BASE_MODE[mode] == BASE_MODE[ss['mode']]:\n",
    "                        FP[mode] = FP.setdefault(mode, 0) + leftover\n",
    "                    # We have no_gts, but our modes are unequal, so a true negative\n",
    "                    else:\n",
    "                        TN[mode] = TN.setdefault(mode, 0) + leftover\n",
    "    return TP, FP, FN, TN"
   ]
  },
  {
   "cell_type": "code",
   "execution_count": null,
   "id": "b733db81",
   "metadata": {},
   "outputs": [],
   "source": [
    "%%capture\n",
    "av_ucb =  eapv.create_analysed_view(pv_ucb, 'http://localhost:8080', \"analysis/recreated_location\", \"analysis/cleaned_trip\", \"analysis/inferred_section\")"
   ]
  },
  {
   "cell_type": "code",
   "execution_count": null,
   "id": "56841e8d",
   "metadata": {},
   "outputs": [],
   "source": [
    "df = pd.DataFrame(get_binary_class_in_sec('ios', 'HAHFDC', pv=pv_la))\n",
    "dic={}\n",
    "d = df.reset_index(drop=True)\n",
    "dic['ios'+'\\\\_'+'HAHFDC'] = d\n",
    "d = pd.concat(dic, axis=1)\n",
    "d['Classifier'] = ['TP', 'FP', 'FN', 'TN']\n",
    "print(d.set_index('Classifier').rename_axis(['Title', 'Mode'], axis=1).style.to_latex())"
   ]
  },
  {
   "cell_type": "code",
   "execution_count": null,
   "id": "b8c1948f",
   "metadata": {},
   "outputs": [],
   "source": [
    "df = pd.DataFrame(get_binary_class_in_sec('ios', 'HAMFDC', pv=pv_la))\n",
    "dic={}\n",
    "d = df.reset_index(drop=True)\n",
    "dic['ios'+'\\\\_'+'HAMFDC'] = d\n",
    "d = pd.concat(dic, axis=1)\n",
    "d['Classifier'] = ['TP', 'FP', 'FN', 'TN']\n",
    "print(d.set_index('Classifier').rename_axis(['Title', 'Mode'], axis=1).style.to_latex())"
   ]
  },
  {
   "cell_type": "code",
   "execution_count": null,
   "id": "c5e76cb0",
   "metadata": {},
   "outputs": [],
   "source": [
    "df = pd.DataFrame(get_binary_class_in_sec('android', 'MAHFDC', pv=pv_la))\n",
    "dic={}\n",
    "d = df.reset_index(drop=True)\n",
    "dic['ios'+'\\\\_'+'MAHFDC'] = d\n",
    "d = pd.concat(dic, axis=1)\n",
    "d['Classifier'] = ['TP', 'FP', 'FN', 'TN']\n",
    "print(d.set_index('Classifier').rename_axis(['Title', 'Mode'], axis=1).style.to_latex())"
   ]
  },
  {
   "cell_type": "markdown",
   "id": "d415cb90",
   "metadata": {},
   "source": [
    "# Get the error bars for trips"
   ]
  },
  {
   "cell_type": "code",
   "execution_count": null,
   "id": "8b0599fb",
   "metadata": {},
   "outputs": [],
   "source": [
    "def get_FN_and_FP_rate(spec_details):\n",
    "    if type(spec_details) is not list: spec_details = [ spec_details ]\n",
    "    av_l = []\n",
    "#     for spec_detail in spec_details:\n",
    "#         phone_view = eipv.PhoneView(spec_detail)\n",
    "#         analysed_view = eapv.create_analysed_view(phone_view, spec_detail.DATASTORE_LOC, \"analysis/recreated_location\", \"analysis/cleaned_trip\", \"analysis/inferred_section\")\n",
    "#         av_l.append(analysed_view)\n",
    "    for pv in [pv_la, pv_sj, pv_ucb]:\n",
    "        analysed_view = eapv.create_analysed_view(pv, spec_details[0].DATASTORE_LOC, \"analysis/recreated_location\", \"analysis/cleaned_trip\", \"analysis/inferred_section\")\n",
    "        av_l.append(analysed_view)\n",
    "    FN_rate = {'ios_HAHFDC' : {}, 'android_HAHFDC' : {}}\n",
    "    FP_rate = {'ios_HAHFDC' : {}, 'android_HAHFDC' : {}}\n",
    "    for analysed_view in av_l:\n",
    "        (TP, FP, FN, TN) = get_binary_class_in_sec('ios', 'HAHFDC', pv=analysed_view)\n",
    "        assert len(FN.keys()) == len(FP.keys()), f\"FP: {FP.keys()}, \\t FN: {FN.keys()}\"\n",
    "        for mode in FN.keys():\n",
    "            FN_rate['ios_HAHFDC'][mode] = FN[mode] / (TP[mode] + FP[mode] + FN[mode] + TN[mode])\n",
    "            FP_rate['ios_HAHFDC'][mode] = FN[mode] / (TP[mode] + FP[mode] + FN[mode] + TN[mode])\n",
    "        (TP, FP, FN, TN) = get_binary_class_in_sec('android', 'HAHFDC', pv=analysed_view)\n",
    "        assert len(FN.keys()) == len(FP.keys()), f\"FP: {FP.keys()}, \\t FN: {FN.keys()}\"\n",
    "        for mode in FN.keys():\n",
    "            FN_rate['android_HAHFDC'][mode] = FN[mode] / (TP[mode] + FP[mode] + FN[mode] + TN[mode])\n",
    "            FP_rate['android_HAHFDC'][mode] = FN[mode] / (TP[mode] + FP[mode] + FN[mode] + TN[mode])\n",
    "    return FN_rate, FP_rate"
   ]
  },
  {
   "cell_type": "code",
   "execution_count": null,
   "id": "c3eaef6c",
   "metadata": {},
   "outputs": [],
   "source": [
    "sd = eisd.ServerSpecDetails('http://localhost:8080', \"shankari@eecs.berkeley.edu\", \"unimodal_trip_car_bike_mtv_la\")\n",
    "err = get_FN_and_FP_rate(sd)"
   ]
  },
  {
   "cell_type": "code",
   "execution_count": null,
   "id": "c433b622",
   "metadata": {},
   "outputs": [],
   "source": [
    "import json\n",
    "print(json.dumps(err))"
   ]
  },
  {
   "cell_type": "markdown",
   "id": "7a496827",
   "metadata": {},
   "source": [
    "# $F_\\beta$ score\n",
    "$$\n",
    "F_\\beta = \\frac {(1 + \\beta^2) \\cdot \\mathrm{true\\ positive} }{(1 + \\beta^2) \\cdot \\mathrm{true\\ positive} + \\beta^2 \\cdot \\mathrm{false\\ negative} + \\mathrm{false\\ positive}}\n",
    "$$\n",
    "\n",
    "```python\n",
    "def get_F_score(pv, os, role, beta=1):\n",
    "    \"\"\"\n",
    "    This function calculates the F score\n",
    "    $$\n",
    "    F_\\beta = \\frac {(1 + \\beta^2) \\cdot \\mathrm{true\\ positive} }{(1 + \\beta^2) \\cdot \\mathrm{true\\ positive} + \\beta^2 \\cdot \\mathrm{false\\ negative} + \\mathrm{false\\ positive}}\n",
    "    $$\n",
    "    based off data from a given set of phone views. Calls the get binary classification function\n",
    "    \n",
    "    ----------\n",
    "    Parameters\n",
    "    ----------\n",
    "    arg1: phone view\n",
    "        A phone view to recieve timelines for.\n",
    "    arg2: os\n",
    "        a phone os to evaluate, must be one of 'ios' or 'android'\n",
    "    arg3:\n",
    "        an acuracy/frequency combination, must be one of 'accuracy_control', 'HAHFDC', 'HAMFDC', 'MAHFDC', 'power_control'\n",
    "    arg4: int\n",
    "        The beta value in which to use in the $F_\\beta$ score. Defaults to 1.\n",
    "        \n",
    "    -------\n",
    "    Returns\n",
    "    -------\n",
    "    dict:\n",
    "        A dictionary with sensed modes as the keys and the corresponding of $F_\\beta$ scores as the values.\n",
    "    \n",
    "    \"\"\"\n",
    "    ...\n",
    "```"
   ]
  },
  {
   "cell_type": "code",
   "execution_count": null,
   "id": "62b79f82",
   "metadata": {},
   "outputs": [],
   "source": [
    "def get_F_score(os, role, beta=1, pv=None, pv_l=None):\n",
    "    assert os in ['android', 'ios'], 'UNKNOWN OS'\n",
    "    assert role in ['accuracy_control', 'HAHFDC', 'HAMFDC', 'MAHFDC', 'power_control'], \"UNKNOWN ROLE\"\n",
    "    if pv:\n",
    "        assert pv_l is None, \"CANNOT PROVIDE BOTH PHONE VIEW AND PHONE VIEW LIST\"\n",
    "        (TP, FP, FN, TN) = get_binary_class_in_sec(os, role, pv=pv)\n",
    "    elif pv_l:\n",
    "        (TP, FP, FN, TN) = get_binary_class_in_sec(os, role, pv_l=pv_l)\n",
    "    else:\n",
    "        assert 1, \"MUST PASS EITHER PHONE VIEW OR PHONE VIEW LIST\"\n",
    "    F_score = {}\n",
    "    for mode in TP.keys():\n",
    "        numerator   = (1 + beta**2) * TP.setdefault(mode, 0)\n",
    "        denominator = (1+beta**2) * TP.setdefault(mode, 0) + beta**2*FN.setdefault(mode, 0) + FP.setdefault(mode, 0)\n",
    "        F_score[mode] = (numerator)/(denominator)\n",
    "    return F_score"
   ]
  },
  {
   "cell_type": "markdown",
   "id": "ec18c1f5",
   "metadata": {},
   "source": [
    "$$\n",
    "MCC = \\frac{TP \\times TN - FP \\times FN}{\\sqrt{(TP+FP)(TP+FN)(TN+FP)(TN+FN)}}\n",
    "$$"
   ]
  },
  {
   "cell_type": "code",
   "execution_count": null,
   "id": "ea9c6163",
   "metadata": {},
   "outputs": [],
   "source": [
    "def get_mcc(os, role, beta=1, pv=None, pv_l=None):\n",
    "    assert os in ['android', 'ios'], 'UNKNOWN OS'\n",
    "    assert role in ['accuracy_control', 'HAHFDC', 'HAMFDC', 'MAHFDC', 'power_control'], \"UNKNOWN ROLE\"\n",
    "    if pv:\n",
    "        assert pv_l is None, \"CANNOT PROVIDE BOTH PHONE VIEW AND PHONE VIEW LIST\"\n",
    "        (TP, FP, FN, TN) = get_binary_class_in_sec(os, role, pv=pv)\n",
    "    elif pv_l:\n",
    "        (TP, FP, FN, TN) = get_binary_class_in_sec(os, role, pv_l=pv_l)\n",
    "    else:\n",
    "        assert 1, \"MUST PASS EITHER PHONE VIEW OR PHONE VIEW LIST\"\n",
    "    mcc = {}\n",
    "    for mode in TP.keys():\n",
    "        numerator   = TP.setdefault(mode, 0) * TN.setdefault(mode, 0) - FP.setdefault(mode, 0) * FN.setdefault(mode, 0)\n",
    "        denominator_squared = (TP.setdefault(mode, 0) + FP.setdefault(mode, 0))*(TP.setdefault(mode, 0) + FN.setdefault(mode, 0))*(TN.setdefault(mode, 0) + FP.setdefault(mode, 0))*(TN.setdefault(mode, 0) + FN.setdefault(mode, 0))\n",
    "        mcc[mode] = (numerator)/(np.sqrt(denominator_squared))\n",
    "    return mcc"
   ]
  },
  {
   "cell_type": "markdown",
   "id": "516ea836",
   "metadata": {},
   "source": [
    "Informedness\n",
    "$$\n",
    "\\frac{TP}{TP+FN} + \\frac{TN}{TN+FP} -1\n",
    "$$"
   ]
  },
  {
   "cell_type": "code",
   "execution_count": null,
   "id": "422ef664",
   "metadata": {},
   "outputs": [],
   "source": [
    "def get_inform(os, role, beta=1, pv=None, pv_l=None):\n",
    "    assert os in ['android', 'ios'], 'UNKNOWN OS'\n",
    "    assert role in ['accuracy_control', 'HAHFDC', 'HAMFDC', 'MAHFDC', 'power_control'], \"UNKNOWN ROLE\"\n",
    "    if pv:\n",
    "        assert pv_l is None, \"CANNOT PROVIDE BOTH PHONE VIEW AND PHONE VIEW LIST\"\n",
    "        (TP, FP, FN, TN) = get_binary_class_in_sec(os, role, pv=pv)\n",
    "    elif pv_l:\n",
    "        (TP, FP, FN, TN) = get_binary_class_in_sec(os, role, pv_l=pv_l)\n",
    "    else:\n",
    "        assert 1, \"MUST PASS EITHER PHONE VIEW OR PHONE VIEW LIST\"\n",
    "    info = {}\n",
    "    for mode in TP.keys():\n",
    "        n1 = TP.setdefault(mode, 0)\n",
    "        d1 = TP.setdefault(mode, 0) + FN.setdefault(mode, 0)\n",
    "        n2 = TN.setdefault(mode, 0)\n",
    "        d2 = TN.setdefault(mode, 0) + FP.setdefault(mode, 0)\n",
    "        info[mode] = (n1)/(d1)+(n2)/(d2) - 1\n",
    "    return info"
   ]
  },
  {
   "cell_type": "markdown",
   "id": "9d47c72c",
   "metadata": {},
   "source": [
    "Accuracy\n",
    "$$\n",
    "\\frac{TP + TN}{TP + TN+FP+FN}\n",
    "$$"
   ]
  },
  {
   "cell_type": "code",
   "execution_count": null,
   "id": "96086aa3",
   "metadata": {},
   "outputs": [],
   "source": [
    "def get_acc(os, role, beta=1, pv=None, pv_l=None):\n",
    "    assert os in ['android', 'ios'], 'UNKNOWN OS'\n",
    "    assert role in ['accuracy_control', 'HAHFDC', 'HAMFDC', 'MAHFDC', 'power_control'], \"UNKNOWN ROLE\"\n",
    "    if pv:\n",
    "        assert pv_l is None, \"CANNOT PROVIDE BOTH PHONE VIEW AND PHONE VIEW LIST\"\n",
    "        (TP, FP, FN, TN) = get_binary_class_in_sec(os, role, pv=pv)\n",
    "    elif pv_l:\n",
    "        (TP, FP, FN, TN) = get_binary_class_in_sec(os, role, pv_l=pv_l)\n",
    "    else:\n",
    "        assert 1, \"MUST PASS EITHER PHONE VIEW OR PHONE VIEW LIST\"\n",
    "    acc = {}\n",
    "    for mode in TP.keys():\n",
    "        n1 = TP.setdefault(mode, 0) + TN.setdefault(mode, 0)\n",
    "        d1 = TP.setdefault(mode, 0) + TN.setdefault(mode, 0) + FP.setdefault(mode, 0) + FN.setdefault(mode, 0)\n",
    "        acc[mode] = (n1)/(d1)\n",
    "    return acc"
   ]
  },
  {
   "cell_type": "code",
   "execution_count": null,
   "id": "d738ea94",
   "metadata": {},
   "outputs": [],
   "source": [
    "def display_metrics(os, role, pv=None, pv_l=None):\n",
    "    d = None\n",
    "    for i, role in enumerate(['HAHFDC','HAMFDC', 'MAHFDC']):\n",
    "        beta = 1\n",
    "        df = pd.DataFrame(get_acc(os, role, pv=pv, pv_l=pv_l), index=[f\"Accuracy\"])\n",
    "        df = pd.concat((df,\n",
    "                        pd.DataFrame(get_F_score(os, role, pv=pv, pv_l=pv_l, beta=beta), index=[f\"$F_{beta}$ score\"])\n",
    "                       ), axis=0 )\n",
    "        df = pd.concat((df,\n",
    "                        pd.DataFrame(get_mcc(os, role, pv=pv, pv_l=pv_l), index=[f\"MCC score\"])\n",
    "                       ), axis=0 )\n",
    "        df = pd.concat((df,\n",
    "                        pd.DataFrame(get_inform(os, role, pv=pv, pv_l=pv_l), index=[f\"Information score\"])\n",
    "                       ), axis=0 )\n",
    "        if d is None:\n",
    "            dic={}\n",
    "            d = df.reset_index(drop=True)\n",
    "            dic[role] = d\n",
    "            d = pd.concat(dic, axis=1)\n",
    "        else: \n",
    "            d = pd.concat((d,df.reset_index(drop=True)), axis=1)\n",
    "            d = df.reset_index(drop=True)\n",
    "            dic[role] = d\n",
    "            d = pd.concat(dic, axis=1)\n",
    "    d['Metrics'] = ['Accuracy', f\"$F_{beta}$ score\", f\"MCC score\", f\"Information score\"]\n",
    "    return d.set_index('Metrics').rename_axis(['Role', 'Mode'], axis=1)"
   ]
  },
  {
   "cell_type": "code",
   "execution_count": null,
   "id": "415479d4",
   "metadata": {},
   "outputs": [],
   "source": [
    "df = display_metrics('ios', 'HAHFDC', pv_la)\n",
    "df"
   ]
  },
  {
   "cell_type": "code",
   "execution_count": null,
   "id": "7108abe3",
   "metadata": {
    "scrolled": false
   },
   "outputs": [],
   "source": [
    "df = display_metrics('ios', 'HAHFDC', pv_la)\n",
    "s = df.style\n",
    "s\n",
    "cell_hover = {  # for row hover use <tr> instead of <td>\n",
    "    'selector': 'td:hover',\n",
    "    'props': [('background-color', '#ffffb3')]\n",
    "}\n",
    "index_names = {\n",
    "    'selector': '.index_name',\n",
    "    'props': 'font-style: italic; color: darkgrey; font-weight:normal;'\n",
    "}\n",
    "headers = {\n",
    "    'selector': 'th:not(.index_name)',\n",
    "    'props': 'background-color: #000066; color: white;'\n",
    "}\n",
    "s.set_table_styles([cell_hover, index_names, headers])\n",
    "\n",
    "\n",
    "s.set_table_styles({\n",
    "    ('HAHFDC', 'WALKING'): [{'selector': 'th', 'props': 'border-left: 1px solid white'},\n",
    "                               {'selector': 'td', 'props': 'border-left: 1px solid #000066'}]\n",
    "}, overwrite=False, axis=0)\n",
    "s.set_table_styles({\n",
    "    ('HAMFDC', 'WALKING'): [{'selector': 'th', 'props': 'border-left: 1px solid white'},\n",
    "                               {'selector': 'td', 'props': 'border-left: 1px solid #000066'}]\n",
    "}, overwrite=False, axis=0)\n",
    "s.set_table_styles({\n",
    "    ('MAHFDC', 'WALKING'): [{'selector': 'th', 'props': 'border-left: 1px solid white'},\n",
    "                               {'selector': 'td', 'props': 'border-left: 1px solid #000066'}]\n",
    "}, overwrite=False, axis=0)\n",
    "s.set_table_styles([\n",
    "    {'selector': 'th.col_heading', 'props': 'text-align: center;'},\n",
    "    {'selector': 'th.col_heading.level0', 'props': 'font-size: 1.5em;'},\n",
    "    {'selector': 'td', 'props': 'text-align: center; font-weight: bold;'},\n",
    "], overwrite=False);s\n",
    "# print(df.to_latex(index=False))"
   ]
  },
  {
   "cell_type": "markdown",
   "id": "68f62c54",
   "metadata": {},
   "source": [
    "## Confusion Matrix\n",
    "We will now generate confusion matrices based off OS and role, with the acctual modes as the rows, the predicted modes as the columns, and the entries as the base unit for the duration measurement"
   ]
  },
  {
   "cell_type": "code",
   "execution_count": null,
   "id": "60bd0e63",
   "metadata": {},
   "outputs": [],
   "source": [
    "def get_confusion_matrix(pv, os, role):\n",
    "    assert os in ['android', 'ios'], 'UNKNOWN OS'\n",
    "    assert role in ['accuracy_control', 'HAHFDC', 'HAMFDC', 'MAHFDC', 'power_control'], \"UNKNOWN ROLE\"\n",
    "    cm_l = []\n",
    "    trips = get_trip_ss_and_gts_timeline(pv, os, role)\n",
    "    for trip in trips:\n",
    "        for ss in trip['ss_timeline']:\n",
    "            ss_dur = ss['end_ts'] - ss['start_ts']\n",
    "            gts_dur = 0\n",
    "            cm = {}\n",
    "            for gts in trip['gts_timeline']:\n",
    "                if ss['end_ts'] >= gts['start_ts'] and ss['start_ts'] <= gts['end_ts']:\n",
    "                    dur = min(ss['end_ts'], gts['end_ts']) - max(ss['start_ts'], gts['start_ts'])\n",
    "                    gts_dur += dur\n",
    "                    cm[gts['mode']] = cm.setdefault(gts['mode'], 0) + dur\n",
    "            leftover = ss_dur - gts_dur\n",
    "            assert leftover >= 0, f\"ERROR, NEGATIVE LEFTOVER OF {leftover}, NEED TO INVESTIGATE\"\n",
    "            cm['NO_GT'] = cm.setdefault('NO_GT', 0) + leftover\n",
    "            cm['sensed_mode'] = ss['mode']\n",
    "            cm_l.append(cm)\n",
    "    return cm_l"
   ]
  },
  {
   "cell_type": "markdown",
   "id": "fc9ecf95",
   "metadata": {},
   "source": [
    "`TODO` make sure we can get confusion matrix accross phone views"
   ]
  },
  {
   "cell_type": "code",
   "execution_count": null,
   "id": "bf0987bc",
   "metadata": {},
   "outputs": [],
   "source": [
    "import itertools\n",
    "def plot_confusion_matrix(os, pv=None, pv_l=None):\n",
    "    assert pv != pv_l, \"MUST PROVIDE EITHER PHONE VIEW OR PHONE VIEW LIST\"\n",
    "    assert pv is not None or pv_l is not None, \"MUST PROVIDE EITHER PHONE VIEW OR PHONE VIEW LIST\"\n",
    "    if pv:\n",
    "        title =  f\"Confusion Matrix in seconds for {os}\\n Phone View{pv.spec_details.CURR_SPEC_ID}\"\n",
    "    if pv_l:\n",
    "        s=''\n",
    "        for pv in pv_l:\n",
    "            s = s + pv.spec_details.CURR_SPEC_ID + ',  '\n",
    "        title =  f\"Confusion Matrix in seconds for {os}\\n Phone Views={s[:-3]}\"\n",
    "    fig, ax = plt.subplots(1,3, figsize=(24,14), dpi=300)\n",
    "#     fig.suptitle(title, fontsize='xx-large')\n",
    "    fig.text(0.5, 0.04, 'Predicted Label', ha='center', fontsize='xx-large')\n",
    "    fig.text(0.04, 0.5, 'True Label', va='center', rotation='vertical', fontsize='xx-large')\n",
    "    for k, role in enumerate([\"HAHFDC\", \"HAMFDC\", \"MAHFDC\"]):\n",
    "\n",
    "        df = pd.DataFrame(get_confusion_matrix(pv, os, role)).groupby('sensed_mode').sum()    \n",
    "        cm = ax[k].imshow(df.transpose(), interpolation='nearest',  cmap=plt.cm.Blues)\n",
    "        ax[k].set_title(role)\n",
    "    #     plt.colorbar(cm, ax=ax[0])\n",
    "        tick_marks = np.arange(len(df))\n",
    "        ax[k].set_yticks(np.arange(len(df.columns)))\n",
    "        ax[k].set_xticks(np.arange(len(df)))\n",
    "        ax[k].set_yticklabels(df)\n",
    "        ax[k].set_xticklabels(df.index, rotation=80)\n",
    "        color_thresh = df.max().max() / 2\n",
    "        for i, j in itertools.product(range(df.shape[1]), range(df.shape[0])  ):\n",
    "            ax[k].text(j, i, round(df.transpose().iat[i,j], 2), horizontalalignment='center', \n",
    "                   color='white' if df.transpose().iat[i,j] > color_thresh else 'black')\n",
    "    #     break\n",
    "    fig.subplots_adjust(right=0.8)\n",
    "    cbar_ax = fig.add_axes([0.85, 0.15, 0.05, 0.7])\n",
    "    fig.colorbar(cm, cax=cbar_ax)\n",
    "    return fig"
   ]
  },
  {
   "cell_type": "markdown",
   "id": "93422a6c",
   "metadata": {},
   "source": [
    "`TODO` plot andoid and ios for all the different a/f configurations"
   ]
  },
  {
   "cell_type": "code",
   "execution_count": null,
   "id": "2d6114e4",
   "metadata": {},
   "outputs": [],
   "source": [
    "plot_confusion_matrix('ios', pv_l=[pv_la, pv_sj, pv_ucb]).savefig('ios_cm.png')"
   ]
  },
  {
   "cell_type": "code",
   "execution_count": null,
   "id": "ebac97a1",
   "metadata": {},
   "outputs": [],
   "source": [
    "plot_confusion_matrix('android', pv_l=[pv_la, pv_sj, pv_ucb]).savefig('android_cm.png')"
   ]
  },
  {
   "cell_type": "markdown",
   "id": "09b4ab8e",
   "metadata": {},
   "source": [
    "## Analyzed Data"
   ]
  },
  {
   "cell_type": "code",
   "execution_count": null,
   "id": "c0a4a5a5",
   "metadata": {},
   "outputs": [],
   "source": [
    "import emeval.analysed.phone_view as eapv"
   ]
  },
  {
   "cell_type": "code",
   "execution_count": null,
   "id": "afa60aea",
   "metadata": {},
   "outputs": [],
   "source": [
    "importlib.reload(eapv)"
   ]
  },
  {
   "cell_type": "code",
   "execution_count": null,
   "id": "87a082a4",
   "metadata": {},
   "outputs": [],
   "source": [
    "%%capture\n",
    "av_la_clean   = eapv.create_analysed_view(pv_la, \"http://localhost:8080\", \"analysis/recreated_location\", \"analysis/cleaned_trip\", \"analysis/cleaned_section\")\n",
    "av_sj_clean   = eapv.create_analysed_view(pv_sj, \"http://localhost:8080\", \"analysis/recreated_location\", \"analysis/cleaned_trip\", \"analysis/cleaned_section\")\n",
    "av_ucb_clean  = eapv.create_analysed_view(pv_ucb, \"http://localhost:8080\", \"analysis/recreated_location\", \"analysis/cleaned_trip\", \"analysis/cleaned_section\")"
   ]
  },
  {
   "cell_type": "code",
   "execution_count": null,
   "id": "fcfc5f5d",
   "metadata": {
    "scrolled": true
   },
   "outputs": [],
   "source": [
    "plot_confusion_matrix('ios', pv=av_la_clean)"
   ]
  },
  {
   "cell_type": "code",
   "execution_count": null,
   "id": "0b90ef35",
   "metadata": {},
   "outputs": [],
   "source": [
    "get_binary_class_in_sec('ios', 'HAHFDC', pv=av_la_clean)"
   ]
  }
 ],
 "metadata": {
  "kernelspec": {
   "display_name": "Python 3 (ipykernel)",
   "language": "python",
   "name": "python3"
  },
  "language_info": {
   "codemirror_mode": {
    "name": "ipython",
    "version": 3
   },
   "file_extension": ".py",
   "mimetype": "text/x-python",
   "name": "python",
   "nbconvert_exporter": "python",
   "pygments_lexer": "ipython3",
   "version": "3.8.2"
  }
 },
 "nbformat": 4,
 "nbformat_minor": 5
}
