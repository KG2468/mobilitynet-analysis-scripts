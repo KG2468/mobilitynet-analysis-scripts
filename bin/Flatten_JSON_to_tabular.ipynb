{
 "cells": [
  {
   "cell_type": "code",
   "execution_count": null,
   "id": "explicit-heaven",
   "metadata": {},
   "outputs": [],
   "source": [
    "import sys\n",
    "sys.path.append(\"..\")"
   ]
  },
  {
   "cell_type": "code",
   "execution_count": null,
   "id": "coupled-overall",
   "metadata": {},
   "outputs": [],
   "source": [
    "from emeval.input.spec_details import FileSpecDetails\n",
    "\n",
    "sd = FileSpecDetails(\"data/\", \"shankari@eecs.berkeley.edu\", \"sfba_trial_3\")"
   ]
  },
  {
   "cell_type": "code",
   "execution_count": null,
   "id": "cooperative-brown",
   "metadata": {},
   "outputs": [],
   "source": [
    "from emeval.input.phone_view import PhoneView\n",
    "\n",
    "pv = PhoneView(sd)"
   ]
  },
  {
   "cell_type": "code",
   "execution_count": null,
   "id": "engaged-january",
   "metadata": {},
   "outputs": [],
   "source": [
    "import pandas as pd\n",
    "from typing import Dict, Any, Callable\n",
    "\n",
    "\n",
    "def traverse_pv_map(node: Dict[str, Any], func: Callable[..., None]):\n",
    "    \"\"\"\n",
    "    Helper function for recursively traversing a PhoneView map.\n",
    "    \"\"\"\n",
    "    for key, val in node.items():\n",
    "        if isinstance(val, list):\n",
    "            for v in val:\n",
    "                traverse_pv_map(v, func)\n",
    "        elif isinstance(val, dict):\n",
    "            traverse_pv_map(val, func)\n",
    "        else:\n",
    "            # Do something at a terminal node\n",
    "            func(key, val)\n",
    "\n",
    "    \n",
    "def tabularize_pv_map(pv_map: Dict[str, Dict]) -> Dict[str, pd.DataFrame]:\n",
    "    \"\"\"\n",
    "    Converts a PhoneView map into a dict of Pandas DataFrames\n",
    "    with uniquely-identifiable (i.e. fully queryable) rows.\n",
    "    \"\"\"\n",
    "    # keeps track of all pd.DataFrame objects found in pv_map\n",
    "    df_map = dict()\n",
    "    \n",
    "    # keeps track of the \"primary key\"\n",
    "    # i.e. the rows that will be prepended to each value in df_map\n",
    "    pkey = set()  \n",
    "    \n",
    "    def populate_df_map_and_pkey(key, val):\n",
    "        \"\"\"\n",
    "        Called by `traverse_pv_map` to find all Pandas DataFrames\n",
    "        in the PhoneView map and generate the primary key.\n",
    "        \"\"\"\n",
    "        if isinstance(val, pd.DataFrame):\n",
    "            for col in val.columns:\n",
    "                if col in pkey:\n",
    "                    pkey.remove(col)\n",
    "            if key not in df_map:\n",
    "                print(f\"found Pandas DataFrame at {key=} with {val.shape[0]} rows\")\n",
    "                df_map[key] = val\n",
    "            else:\n",
    "                df_map[key] = pd.concat([df_map[key], val], ignore_index=True)\n",
    "                print(f\"appended {val.shape[0]} rows to {key} which now has {df_map[key].shape[0]} rows\")\n",
    "        else:\n",
    "            pkey.add(key)\n",
    "    \n",
    "    print(\"finding pd.DataFrame objects in PhoneView map and populating primary key...\")\n",
    "    print(10 * \"-\")\n",
    "    traverse_pv_map(pv_map, populate_df_map_and_pkey)\n",
    "    print(10 * \"-\")\n",
    "    print(f\"determined full primary key to be {pkey}\")\n",
    "    print(10 * \"=\")\n",
    "    \n",
    "    def prepend_pkey_to_dfs(key, val):\n",
    "        \"\"\"\n",
    "        Called by `traverse_pv_map` to prepend the primary key and\n",
    "        its corresponding values to each Pandas DataFrame in df_map.\n",
    "        \"\"\"\n",
    "        if key in pkey:\n",
    "            for label, df in df_map.items():\n",
    "                if key not in df.columns:\n",
    "                    df_map[label] = (\n",
    "                        df.assign(\n",
    "                            **{key: val}\n",
    "                        )[[key] + [c for c in df.columns if c != key]]\n",
    "                    )\n",
    "                    print(f\"added column {key} to {label}\")\n",
    "                    \n",
    "    print(\"prepending primary key to each Pandas DataFrame...\")\n",
    "    print(10 * \"-\")\n",
    "    traverse_pv_map(pv_map, prepend_pkey_to_dfs)\n",
    "    \n",
    "    # sanity check:\n",
    "    # ensure every primary key element is a column in each df_map value\n",
    "    for df in df_map.values():\n",
    "        assert all(p in df.columns for p in pkey)\n",
    "    \n",
    "    return df_map\n",
    "            \n",
    "    \n",
    "df_map = tabularize_pv_map(pv.map())"
   ]
  },
  {
   "cell_type": "code",
   "execution_count": null,
   "id": "animal-lincoln",
   "metadata": {},
   "outputs": [],
   "source": [
    "from IPython.display import display\n",
    "\n",
    "for label, df in df_map.items():\n",
    "    print(label)\n",
    "    display(df)"
   ]
  }
 ],
 "metadata": {
  "kernelspec": {
   "display_name": "Python 3",
   "language": "python",
   "name": "python3"
  },
  "language_info": {
   "codemirror_mode": {
    "name": "ipython",
    "version": 3
   },
   "file_extension": ".py",
   "mimetype": "text/x-python",
   "name": "python",
   "nbconvert_exporter": "python",
   "pygments_lexer": "ipython3",
   "version": "3.8.2"
  }
 },
 "nbformat": 4,
 "nbformat_minor": 5
}
