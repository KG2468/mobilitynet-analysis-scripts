{
 "cells": [
  {
   "cell_type": "code",
   "execution_count": null,
   "metadata": {},
   "outputs": [],
   "source": [
    "# for reading and validating data\n",
    "import emeval.input.spec_details as eisd\n",
    "import emeval.input.phone_view as eipv\n",
    "import emeval.input.eval_view as eiev"
   ]
  },
  {
   "cell_type": "code",
   "execution_count": null,
   "metadata": {},
   "outputs": [],
   "source": [
    "# Visualization helpers\n",
    "import emeval.viz.phone_view as ezpv\n",
    "import emeval.viz.eval_view as ezev\n",
    "import pandas as pd"
   ]
  },
  {
   "cell_type": "code",
   "execution_count": null,
   "metadata": {},
   "outputs": [],
   "source": [
    "# For computation\n",
    "import numpy as np\n",
    "import math\n",
    "import scipy.stats as stats\n",
    "import matplotlib.pyplot as plt"
   ]
  },
  {
   "cell_type": "code",
   "execution_count": null,
   "metadata": {},
   "outputs": [],
   "source": [
    "import geopandas as gpd\n",
    "import shapely as shp"
   ]
  },
  {
   "cell_type": "code",
   "execution_count": null,
   "metadata": {},
   "outputs": [],
   "source": [
    "DATASTORE_URL = \"http://cardshark.cs.berkeley.edu\"\n",
    "AUTHOR_EMAIL = \"shankari@eecs.berkeley.edu\"\n",
    "sd_la = eisd.SpecDetails(DATASTORE_URL, AUTHOR_EMAIL, \"unimodal_trip_car_bike_mtv_la\")\n",
    "sd_sj = eisd.SpecDetails(DATASTORE_URL, AUTHOR_EMAIL, \"car_scooter_brex_san_jose\")\n",
    "sd_ucb = eisd.SpecDetails(DATASTORE_URL, AUTHOR_EMAIL, \"train_bus_ebike_mtv_ucb\")"
   ]
  },
  {
   "cell_type": "code",
   "execution_count": null,
   "metadata": {},
   "outputs": [],
   "source": [
    "import importlib\n",
    "importlib.reload(ezpv)"
   ]
  },
  {
   "cell_type": "code",
   "execution_count": null,
   "metadata": {},
   "outputs": [],
   "source": [
    "pv_la = eipv.PhoneView(sd_la)"
   ]
  },
  {
   "cell_type": "code",
   "execution_count": null,
   "metadata": {},
   "outputs": [],
   "source": [
    "pv_sj = eipv.PhoneView(sd_sj)"
   ]
  },
  {
   "cell_type": "code",
   "execution_count": null,
   "metadata": {},
   "outputs": [],
   "source": [
    "pv_ucb = eipv.PhoneView(sd_ucb)"
   ]
  },
  {
   "cell_type": "code",
   "execution_count": null,
   "metadata": {},
   "outputs": [],
   "source": [
    "def get_polygons(pvunp):\n",
    "    \"\"\"\n",
    "    Return GeoSeries of polygons\n",
    "    \"\"\"\n",
    "    polygons = []\n",
    "    trips = pvunp.spec_details.curr_spec['evaluation_trips']\n",
    "\n",
    "    for trip in trips:\n",
    "        for leg in trip['legs']:\n",
    "            if 'loc' in leg and leg['loc']['geometry']['type'] == 'Polygon':\n",
    "                polygons.append(shp.geometry.Polygon(leg['loc']['geometry']['coordinates'][0]))\n",
    "            if 'end_loc' in leg and leg['end_loc']['geometry']['type'] == 'Polygon':\n",
    "                polygons.append(shp.geometry.Polygon(leg['end_loc']['geometry']['coordinates'][0]))\n",
    "            if 'start_loc' in leg and leg['start_loc']['geometry']['type'] == 'Polygon':\n",
    "                polygons.append(shp.geometry.Polygon(leg['start_loc']['geometry']['coordinates'][0]))\n",
    "    return gpd.GeoSeries(polygons)"
   ]
  },
  {
   "cell_type": "code",
   "execution_count": null,
   "metadata": {},
   "outputs": [],
   "source": [
    "def is_point_outside_polygons(loc_row, polygons):\n",
    "    \"\"\"\n",
    "    Utility function to check if a point represented by a row in a location dataframe\n",
    "    is contained within a series of Shapely polygons\n",
    "    \"\"\"\n",
    "    # print(loc_row)\n",
    "    point = loc_row.geometry\n",
    "    inside_polygons = polygons.contains(point)\n",
    "    return not inside_polygons.any()\n",
    "\n",
    "def get_travel_trajectory(df, polygons):\n",
    "    \"\"\" \n",
    "    Filters the dataframe of location points to only include values outside the defined polygons\n",
    "    \"\"\"\n",
    "    geo_df = gpd.GeoDataFrame(\n",
    "        df, geometry=df.apply(lambda lr: shp.geometry.Point(lr.longitude, lr.latitude), axis=1))\n",
    "    geo_df[\"outside_polygons\"] = geo_df.apply(lambda r: is_point_outside_polygons(r, polygons), axis=1)\n",
    "    # return a slice instead of setting a column value\n",
    "    return geo_df.query(\"outside_polygons==True\")\n",
    "\n",
    "def get_gt_linestring(gt_leg):\n",
    "    \"\"\"\n",
    "    Get lat-long corrdinates in ground truth\n",
    "    \"\"\"\n",
    "    if 'route_coords' in gt_leg:\n",
    "        coords = gt_leg['route_coords']['geometry']['coordinates']\n",
    "    else:\n",
    "        coords = []\n",
    "    return shp.geometry.LineString(coords)\n",
    "\n",
    "def get_measured_points(df, polygons):\n",
    "    \"\"\"\n",
    "    Get lat-long coordinates recorded from phone\n",
    "    \"\"\"\n",
    "    return get_travel_trajectory(df, polygons)\n",
    "\n",
    "def get_projection(loc_row, line):\n",
    "    point = geometry.Point(loc_row.longitude, loc_row.latitude)\n",
    "    return point.distance(line)\n",
    "\n",
    "def get_shortest_distances(df, line):\n",
    "    \"\"\"\n",
    "    Returns a series representing the distances from each point in a location dataframe to a line\n",
    "    \"\"\"\n",
    "    return df.distance(line)\n",
    "\n",
    "def convert_to_xy(points):\n",
    "    xy_points = []\n",
    "    R = 6371000 # Radius of the earth in m\n",
    "    \n",
    "    for point in points:\n",
    "        lon = point[0]\n",
    "        lat = point[1]\n",
    "        \n",
    "        theta = math.pi/2 - math.radians(lat) \n",
    "        phi = math.radians(lon)\n",
    "        \n",
    "        x = R * math.sin(theta) * math.cos(phi)\n",
    "        y = R * math.sin(theta) * math.sin(phi)\n",
    "        xy_points.append([x, y])\n",
    "        \n",
    "    return xy_points"
   ]
  },
  {
   "cell_type": "code",
   "execution_count": null,
   "metadata": {},
   "outputs": [],
   "source": [
    "def get_spatial_errors(pvunp):\n",
    "    spatial_error_list = []\n",
    "    # This is a GeoSeries\n",
    "    polygons = get_polygons(pvunp)\n",
    "    \n",
    "    for phone_os, phone_map in pvunp.map().items():\n",
    "        for phone_label, phone_detail_map in phone_map.items():\n",
    "            for (r_idx, r) in enumerate(phone_detail_map[\"evaluation_ranges\"]):\n",
    "                run_errors = []\n",
    "                for (tr_idx, tr) in enumerate(r[\"evaluation_trip_ranges\"]):\n",
    "                    trip_errors = []\n",
    "                    for (sr_idx, sr) in enumerate(tr[\"evaluation_section_ranges\"]):\n",
    "                        # This is a Shapely LineString\n",
    "                        section_gt_leg = pvunp.spec_details.get_ground_truth_for_leg(tr[\"trip_id_base\"], sr[\"trip_id_base\"])\n",
    "                        section_gt_points = get_gt_linestring(section_gt_leg)\n",
    "                        if section_gt_points.is_empty:\n",
    "                            print(\"No ground truth route for %s %s, must be polygon, skipping...\" % (tr[\"trip_id_base\"], sr[\"trip_id_base\"]))\n",
    "                            continue\n",
    "                        if len(sr['location_df']) == 0:\n",
    "                            print(\"No sensed locations found, role = %s skipping...\" % (r[\"eval_role_base\"]))\n",
    "                            # assert r[\"eval_role_base\"] == \"power_control\", \"Found no locations for %s, %s, %s, %s, %s\" % (phone_os, phone_label, r_idx, tr_idx, sr_idx)\n",
    "                            continue\n",
    "\n",
    "                        # This is a GeoDataFrame\n",
    "                        section_measured_points = get_measured_points(sr['location_df'], polygons)\n",
    "                        line = section_gt_points\n",
    "                        degree_dist = get_shortest_distances(section_measured_points.geometry, line)\n",
    "                        meter_dist = degree_dist * (6371000/360) # Radius of the earth in m\n",
    "                        # print(projections)\n",
    "\n",
    "                        trip_errors += meter_dist.tolist()\n",
    "                    \n",
    "                    run_errors += trip_errors\n",
    "                \n",
    "                \n",
    "                spatial_error_entry = {\"phone_os\": phone_os, \"phone_label\": phone_label, \"timeline\": pvunp.spec_details.curr_spec[\"id\"], \"run\": r_idx, \"role\": r[\"eval_role_base\"], \"errors\": run_errors}\n",
    "                spatial_error_list.append(spatial_error_entry)   \n",
    "    return spatial_error_list"
   ]
  },
  {
   "cell_type": "code",
   "execution_count": null,
   "metadata": {},
   "outputs": [],
   "source": [
    "spatial_errors_list = []\n",
    "spatial_errors_list.extend(get_spatial_errors(pv_la))\n",
    "spatial_errors_list.extend(get_spatial_errors(pv_sj))\n",
    "spatial_errors_list.extend(get_spatial_errors(pv_ucb))\n",
    "\n",
    "spatial_errors_df = pd.DataFrame(spatial_errors_list)"
   ]
  },
  {
   "cell_type": "code",
   "execution_count": null,
   "metadata": {},
   "outputs": [],
   "source": [
    "r2q_map = {\"power_control\": 0, \"HAMFDC\": 1, \"MAHFDC\": 1, \"HAHFDC\": 2, \"accuracy_control\": 3}"
   ]
  },
  {
   "cell_type": "code",
   "execution_count": null,
   "metadata": {},
   "outputs": [],
   "source": [
    "spatial_errors_df[\"quality\"] = spatial_errors_df.role.apply(lambda r: r2q_map[r])\n",
    "spatial_errors_df[\"label\"] = spatial_errors_df.role.apply(lambda r: r.replace('_control', ''))\n",
    "timeline_list = [\"train_bus_ebike_mtv_ucb\", \"car_scooter_brex_san_jose\", \"unimodal_trip_car_bike_mtv_la\"]"
   ]
  },
  {
   "cell_type": "markdown",
   "metadata": {},
   "source": [
    "# Plot of Individual Errors (Over each individual run for Android)"
   ]
  },
  {
   "cell_type": "code",
   "execution_count": null,
   "metadata": {},
   "outputs": [],
   "source": [
    "fig, ax_array = plt.subplots(nrows=0, ncols=0, figsize=(20, 15))\n",
    "os = \"android\"\n",
    "\n",
    "for i, tl in enumerate(timeline_list):\n",
    "    for r in range(3):\n",
    "        data = pd.Series()\n",
    "        labels = []\n",
    "        ax = fig.add_subplot(3,3, (i*len(timeline_list) + r) + 1)\n",
    "        for q in range(5):\n",
    "            curr_errors = spatial_errors_df.query('timeline == @tl & run == @r & phone_os == @os & quality == @q')['errors']\n",
    "            print(\"curr_errors for %s, %s, %s, %s = %s\" % (tl, r, os, q, curr_errors.head()))\n",
    "            data = data.append(curr_errors)\n",
    "            labels.extend(spatial_errors_df.query('timeline == @tl & run == @r & phone_os == @os & quality == @q')['role'])\n",
    "        print(\"appended data = %s\" % data.head())\n",
    "        ax.set_title(tl + \" - Run: \" + str(r+1))\n",
    "        ax.set_xticklabels(labels)\n",
    "        ax.set_ylabel('Spatial Errors in Meters (android)')\n",
    "        bp = ax.boxplot(data)"
   ]
  },
  {
   "cell_type": "markdown",
   "metadata": {},
   "source": [
    "# Plot of Individual Errors (Over each individual run for iOS)"
   ]
  },
  {
   "cell_type": "code",
   "execution_count": null,
   "metadata": {},
   "outputs": [],
   "source": [
    "fig = plt.figure(9, figsize=(20, 15))\n",
    "os = \"ios\"\n",
    "\n",
    "for i, tl in enumerate(timeline_list):\n",
    "    for r in range(3):\n",
    "        data = []\n",
    "        labels = []\n",
    "        ax = fig.add_subplot(3,3, (i*len(timeline_list) + r) + 1)\n",
    "        for q in range(4):\n",
    "            data.extend(spatial_errors_df.query('timeline == @tl & run == @r & phone_os == @os & quality == @q')['errors'])\n",
    "            labels.extend(spatial_errors_df.query('timeline == @tl & run == @r & phone_os == @os & quality == @q')['role'])\n",
    "        ax.set_title(tl + \" - Run: \" + str(r+1))\n",
    "        ax.set_xticklabels(labels)\n",
    "        ax.set_ylabel('Spatial Errors in Meters (iOS)')\n",
    "        bp = ax.boxplot(data)"
   ]
  },
  {
   "cell_type": "code",
   "execution_count": null,
   "metadata": {},
   "outputs": [],
   "source": [
    "fig = plt.figure(3, figsize=(11, 2.75))\n",
    "os = \"android\"\n",
    "\n",
    "for i, tl in enumerate(timeline_list):\n",
    "    ax = fig.add_subplot(1,3,i+1)\n",
    "    \n",
    "    for r in range(3):\n",
    "        data = []\n",
    "        labels = []\n",
    "        \n",
    "        for q in range(4):\n",
    "            data.extend(spatial_errors_df.query('timeline == @tl & run == @r & phone_os == @os & quality == @q')['errors'])\n",
    "            labels.extend(spatial_errors_df.query('timeline == @tl & run == @r & phone_os == @os & quality == @q')['label'])\n",
    "    ax.set_title(tl)\n",
    "    ax.set_xticklabels(labels)\n",
    "    ax.set_ylabel('Spatial Errors in Meters (android)')\n",
    "    bp = ax.boxplot(data)\n",
    "    plt.tight_layout()"
   ]
  },
  {
   "cell_type": "code",
   "execution_count": null,
   "metadata": {},
   "outputs": [],
   "source": [
    "fig = plt.figure(3, figsize=(11, 2.75))\n",
    "os = \"ios\"\n",
    "\n",
    "for i, tl in enumerate(timeline_list):\n",
    "    ax = fig.add_subplot(1,3,i+1)\n",
    "    \n",
    "    for r in range(3):\n",
    "        data = []\n",
    "        labels = []\n",
    "        \n",
    "        for q in range(4):\n",
    "            data.extend(spatial_errors_df.query('timeline == @tl & run == @r & phone_os == @os & quality == @q')['errors'])\n",
    "            labels.extend(spatial_errors_df.query('timeline == @tl & run == @r & phone_os == @os & quality == @q')['label'])\n",
    "    ax.set_title(tl)\n",
    "    ax.set_xticklabels(labels)\n",
    "    ax.set_ylabel('Spatial Errors in Meters (ios)')\n",
    "    bp = ax.boxplot(data)\n",
    "    plt.tight_layout()"
   ]
  },
  {
   "cell_type": "code",
   "execution_count": null,
   "metadata": {},
   "outputs": [],
   "source": []
  },
  {
   "cell_type": "code",
   "execution_count": null,
   "metadata": {},
   "outputs": [],
   "source": []
  },
  {
   "cell_type": "code",
   "execution_count": null,
   "metadata": {},
   "outputs": [],
   "source": []
  }
 ],
 "metadata": {
  "kernelspec": {
   "display_name": "Python 3",
   "language": "python",
   "name": "python3"
  },
  "language_info": {
   "codemirror_mode": {
    "name": "ipython",
    "version": 3
   },
   "file_extension": ".py",
   "mimetype": "text/x-python",
   "name": "python",
   "nbconvert_exporter": "python",
   "pygments_lexer": "ipython3",
   "version": "3.6.9"
  }
 },
 "nbformat": 4,
 "nbformat_minor": 2
}
