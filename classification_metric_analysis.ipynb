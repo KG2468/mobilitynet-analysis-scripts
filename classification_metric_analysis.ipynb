{
 "cells": [
  {
   "cell_type": "markdown",
   "metadata": {},
   "source": [
    "## Classification Unimodal Metric Analysis\n",
    "\n",
    "The goal of this notebook is to asses the accuracy of the classification assignment in the ML algorithm with regards to different travel modes."
   ]
  },
  {
   "cell_type": "markdown",
   "metadata": {},
   "source": [
    "## Set up the dependencies"
   ]
  },
  {
   "cell_type": "code",
   "execution_count": null,
   "metadata": {},
   "outputs": [],
   "source": [
    "# for reading and validating data\n",
    "import emeval.input.spec_details as eisd\n",
    "import emeval.input.phone_view as eipv\n",
    "import emeval.input.eval_view as eiev"
   ]
  },
  {
   "cell_type": "code",
   "execution_count": null,
   "metadata": {},
   "outputs": [],
   "source": [
    "# Visualization helpers\n",
    "import emeval.viz.phone_view as ezpv\n",
    "import emeval.viz.eval_view as ezev\n",
    "import emeval.viz.geojson as ezgj"
   ]
  },
  {
   "cell_type": "code",
   "execution_count": null,
   "metadata": {},
   "outputs": [],
   "source": [
    "# Analytics results\n",
    "import emeval.metrics.segmentation as ems"
   ]
  },
  {
   "cell_type": "code",
   "execution_count": null,
   "metadata": {},
   "outputs": [],
   "source": [
    "import pandas as pd\n",
    "pd.options.display.float_format = '{:.6f}'.format\n",
    "import arrow\n",
    "import numpy as np"
   ]
  },
  {
   "cell_type": "code",
   "execution_count": null,
   "metadata": {},
   "outputs": [],
   "source": [
    "# For plots\n",
    "import matplotlib.pyplot as plt\n",
    "%matplotlib inline"
   ]
  },
  {
   "cell_type": "code",
   "execution_count": null,
   "metadata": {},
   "outputs": [],
   "source": [
    "# For maps\n",
    "import folium\n",
    "import branca.element as bre"
   ]
  },
  {
   "cell_type": "code",
   "execution_count": null,
   "metadata": {},
   "outputs": [],
   "source": [
    "# For easier debugging while working on modules\n",
    "import importlib"
   ]
  },
  {
   "cell_type": "code",
   "execution_count": null,
   "metadata": {},
   "outputs": [],
   "source": [
    "import arrow"
   ]
  },
  {
   "cell_type": "markdown",
   "metadata": {},
   "source": [
    "## The spec\n",
    "\n",
    "The spec defines what experiments were done, and over which time ranges. Once the experiment is complete, most of the structure is read back from the data, but we use the spec to validate that it all worked correctly. The spec also contains the ground truth for the legs. Here, we use all three specs provided as per the documentation."
   ]
  },
  {
   "cell_type": "markdown",
   "metadata": {},
   "source": [
    "## Import from Server\n",
    "This function will import the phone view data from the server and write the phone view data to a `.pkl` file if optioned. This function will return a list of spec details and phone views for the specified trips.\n",
    "\n",
    "### Emperical Time Test:\n",
    "The following experiment was run on this function with all default arguments\n",
    "\n",
    "#### Spec:\n",
    "* Mac OSX 12.3.1 \n",
    "* 2.8 GHz Quad-Core Intel Core i7 CPU \n",
    "* 16 GB 1600 MHz DDR3 RAM\n",
    "\n",
    "#### Time (using %%time): \n",
    "* `CPU times: user 47.9 s, sys: 5.67 s, total: 53.5 s`\n",
    "* `Wall time: 19min 11s`"
   ]
  },
  {
   "cell_type": "code",
   "execution_count": null,
   "metadata": {},
   "outputs": [],
   "source": [
    "def import_sd_and_pv_from_server(trips  = [\"unimodal_trip_car_bike_mtv_la\", \"car_scooter_brex_san_jose\", \"train_bus_ebike_mtv_ucb\"], \n",
    "                                 AUTHOR_EMAIL  = \"shankari@eecs.berkeley.edu\", \n",
    "                                 DATASTORE_LOC = \"http://localhost:8080\", \n",
    "                                 pkl_file_name = None):\n",
    "    sd_l = []\n",
    "    pv_l = []\n",
    "    for trip in trips:\n",
    "        sd = eisd.ServerSpecDetails(DATASTORE_LOC, AUTHOR_EMAIL, trip)\n",
    "        pv = eipv.PhoneView(sd)\n",
    "        sd_l.append(sd)\n",
    "        pv_l.append(pv)\n",
    "    if pkl_file_name:\n",
    "        import pickle\n",
    "        with open(pkl_file_name, 'wb') as outp:\n",
    "            for pv in pv_l:\n",
    "                pickle.dump(pv, outp, pickle.HIGHEST_PROTOCOL)\n",
    "    return sd_l, pv_l"
   ]
  },
  {
   "cell_type": "markdown",
   "metadata": {},
   "source": [
    "## Import from .pkl (Recomended)\n",
    "\n",
    "### Emperical Time Test:\n",
    "The following experiment was run on this function with all default arguments\n",
    "\n",
    "#### Spec:\n",
    "* Mac OSX 12.3.1 \n",
    "* 2.8 GHz Quad-Core Intel Core i7 CPU \n",
    "* 16 GB 1600 MHz DDR3 RAM\n",
    "\n",
    "#### Time (using %%time): \n",
    "* `CPU times: user 12.4 s, sys: 2.41 s, total: 14.8 s`\n",
    "* `Wall time: 15.9 s`"
   ]
  },
  {
   "cell_type": "code",
   "execution_count": null,
   "metadata": {},
   "outputs": [],
   "source": [
    "def import_pv_from_pkl(pkl_file_name, \n",
    "                       trips = [\"unimodal_trip_car_bike_mtv_la\", \"car_scooter_brex_san_jose\", \"train_bus_ebike_mtv_ucb\"]):\n",
    "    import pickle\n",
    "    pv_l = []\n",
    "    with open('pv.pkl', 'rb') as inp:\n",
    "        for trip in trips:\n",
    "            pv_l.append(pickle.load(inp))\n",
    "    return pv_l"
   ]
  },
  {
   "cell_type": "code",
   "execution_count": null,
   "metadata": {},
   "outputs": [],
   "source": [
    "(pv_la, pv_sj, pv_ucb) = import_pv_from_pkl('pv.pkl')"
   ]
  },
  {
   "cell_type": "markdown",
   "metadata": {},
   "source": [
    "Get the sensed section data for each trip"
   ]
  },
  {
   "cell_type": "code",
   "execution_count": null,
   "metadata": {},
   "outputs": [],
   "source": [
    "%%capture\n",
    "ems.fill_sensed_section_ranges(pv_la)\n",
    "ems.fill_sensed_section_ranges(pv_sj)\n",
    "ems.fill_sensed_section_ranges(pv_ucb)"
   ]
  },
  {
   "cell_type": "markdown",
   "metadata": {},
   "source": [
    "## Get Sensed Mode Entries\n",
    "\n",
    "This function is the bread and butter of this notebook. The most important metric in this function is `matching_pct`, witch is retured as part of a dictionary from the call to `ems.get_mode_check_results(section, section_gt_leg, matching_section_map)`. `matching_pct` is defined by the following sequence of code:\n",
    "```python\n",
    "matching_sections = [s for s in sensed_section_range if s[\"mode\"] == base_mode]\n",
    "matching_ts = sum([(s[\"end_ts\"] - s[\"start_ts\"]) for s in matching_sections])\n",
    "gt_duration = (segment[\"end_ts\"] - segment[\"start_ts\"])\n",
    "matching_pct = matching_ts / gt_duration\n",
    "```\n",
    "which in turn is directly the metric described in [UCB/EECS-2019-180](http://www2.eecs.berkeley.edu/Pubs/TechRpts/2019/EECS-2019-180.html) pg. 129\n",
    "\n",
    "$$\n",
    "a_s = \\mathrm{ \\sum \\limits_{ss_{gts} \\in SS_{gts},~ss_{gts}.label=gts.label} \\frac{|ss_{gts}.end\\_ts - ss_{gts}.start\\_ts|}{|{gts}.end\\_ts - {gts}.start\\_ts|} } ~ \\forall gts \\in GTS\n",
    "$$\n",
    "\n",
    "as means to caputre error in sensed mode assignment. As this metric describes the time spent in matching modes, a resulting $a_s$ as close to $1$ is preferable."
   ]
  },
  {
   "cell_type": "code",
   "execution_count": null,
   "metadata": {},
   "outputs": [],
   "source": [
    "def get_sensed_mode_entries(pv):\n",
    "    sensed_mode_entry_list = []\n",
    "    for phone_os, phone_map in pv.map().items():\n",
    "        for phone_label, phone_detail_map in phone_map.items():\n",
    "            if \"control\" in phone_detail_map[\"role\"]:\n",
    "                print(\"Ignoring %s phone %s since they are always on\" % (phone_detail_map[\"role\"], phone_label))\n",
    "                continue\n",
    "            # this spec does not have any calibration ranges, but evaluation ranges are actually cooler\n",
    "            for r in phone_detail_map[\"evaluation_ranges\"]:\n",
    "                for tr in r[\"evaluation_trip_ranges\"]:\n",
    "                    matching_section_map = ems.find_matching_segments(tr[\"evaluation_section_ranges\"], \n",
    "                                                                      \"trip_id\", tr[\"sensed_section_ranges\"])\n",
    "                    for section in tr[\"evaluation_section_ranges\"]:\n",
    "                        section_gt_leg = pv.spec_details.get_ground_truth_for_leg(tr['trip_id_base'],\n",
    "                                                                                  section['trip_id_base'],\n",
    "                                                                                  tr['start_ts'],\n",
    "                                                                                  tr['end_ts'])\n",
    "                        if section_gt_leg[\"type\"] == \"WAITING\":\n",
    "                            print(\"Skipping WAITING section %s %s with potential partway transitions\" %\n",
    "                                  (tr[\"trip_id\"], section[\"trip_id\"]))\n",
    "                            continue\n",
    "                        # this calulcates the metric for the mode\n",
    "                        result = ems.get_mode_check_results(section, section_gt_leg, matching_section_map)\n",
    "                        sensed_mode_entry = {\"phone_os\": phone_os, \n",
    "                                             \"phone_label\": phone_label,\n",
    "                                             \"timeline\": pv.spec_details.curr_spec[\"id\"],\n",
    "                                             \"range_id\": r[\"trip_id\"],\n",
    "                                             \"run\": r[\"trip_run\"], \n",
    "                                             \"duration\": r[\"duration\"],\n",
    "                                             \"role\": r[\"eval_role_base\"],\n",
    "                                             \"section_count\": len(tr[\"sensed_section_ranges\"]),\n",
    "                                             \"trip_id\": tr[\"trip_id\"],\n",
    "                                             \"section_id\": section[\"trip_id\"]}\n",
    "                        sensed_mode_entry.update(result)\n",
    "                        sensed_mode_entry_list.append(sensed_mode_entry)\n",
    "\n",
    "    return sensed_mode_entry_list"
   ]
  },
  {
   "cell_type": "code",
   "execution_count": null,
   "metadata": {},
   "outputs": [],
   "source": [
    "%%capture\n",
    "sensed_mode_entries_list = []\n",
    "for pv in [pv_la, pv_sj, pv_ucb]:\n",
    "    sensed_mode_entries_list.extend(get_sensed_mode_entries(pv))\n",
    "sensed_mode_df = pd.DataFrame(sensed_mode_entries_list)"
   ]
  },
  {
   "cell_type": "markdown",
   "metadata": {},
   "source": [
    "## Data Analysis\n",
    "\n",
    "For the purpose of this study, we analyze the `matching_pct` metric with regards to each sensed mode of travel, in hopes to inform a future error bound on sensed mode data."
   ]
  },
  {
   "cell_type": "markdown",
   "metadata": {},
   "source": [
    "# Plot Mode vs. Matching Percentage data"
   ]
  },
  {
   "cell_type": "markdown",
   "metadata": {},
   "source": [
    "#### First, we plot just the base modes"
   ]
  },
  {
   "cell_type": "code",
   "execution_count": null,
   "metadata": {},
   "outputs": [],
   "source": [
    "ifig, ax_array = plt.subplots(nrows=1, ncols=3, figsize=(24,12), dpi=300, sharex=False, sharey=False)\n",
    "for i, mode in enumerate(sensed_mode_df.gt_base_mode.unique()):\n",
    "    sensed_mode_df.query(f\"gt_base_mode == '{mode}'\").boxplot(ax=ax_array[i], \n",
    "                                                              column=['matching_pct'], \n",
    "                                                              by=[\"gt_base_mode\"])"
   ]
  },
  {
   "cell_type": "markdown",
   "metadata": {},
   "source": [
    "#### Now we plot all the available modes"
   ]
  },
  {
   "cell_type": "code",
   "execution_count": null,
   "metadata": {},
   "outputs": [],
   "source": [
    "ifig, ax_array = plt.subplots(nrows=2, ncols=4, figsize=(24,12), dpi=300, sharex=False, sharey=False)\n",
    "for i, mode in enumerate(sensed_mode_df.gt_mode.unique()):\n",
    "    sensed_mode_df.query(f\"gt_mode == '{mode}'\").boxplot(ax=ax_array.flatten()[i], \n",
    "                                                              column=['matching_pct'], \n",
    "                                                              by=[\"gt_mode\"])"
   ]
  },
  {
   "cell_type": "markdown",
   "metadata": {},
   "source": [
    "#### Finaly, we see if any indavidual modes stick out amung the respective base modes"
   ]
  },
  {
   "cell_type": "code",
   "execution_count": null,
   "metadata": {},
   "outputs": [],
   "source": [
    "%%capture --no-display\n",
    "ifig, ax_array = plt.subplots(nrows=1, ncols=3, figsize=(24,12), dpi=300, sharex=False, sharey=False)\n",
    "for i, mode in enumerate(sensed_mode_df.gt_base_mode.unique()):\n",
    "    sensed_mode_df.query(f\"gt_base_mode == '{mode}'\").boxplot(ax=ax_array[i], \n",
    "                                                              column=['matching_pct'], \n",
    "                                                              by=[\"gt_mode\"])\n",
    "ifig.suptitle(\"Boxplot grouped by gt_mode distributed by gt_base_mode\")"
   ]
  },
  {
   "cell_type": "markdown",
   "metadata": {},
   "source": [
    "## And for thoes who care about the numbers"
   ]
  },
  {
   "cell_type": "markdown",
   "metadata": {},
   "source": [
    "Formating inspired by this stack post: https://stackoverflow.com/a/50899244"
   ]
  },
  {
   "cell_type": "code",
   "execution_count": null,
   "metadata": {
    "scrolled": false
   },
   "outputs": [],
   "source": [
    "from IPython.display import display_html \n",
    "display_list = []\n",
    "for i, mode in enumerate(sensed_mode_df.gt_base_mode.unique()):\n",
    "    df = sensed_mode_df.query(f\"gt_base_mode == '{mode}'\").describe()\n",
    "    df_styler = df.style.set_table_attributes(\"style='display:inline'\").set_caption(f\"BASE MODE: {mode}\")    \n",
    "    display_list.append(df_styler)\n",
    "display_html(''.join([display_list[k]._repr_html_() for k in range(i + 1)]), raw=True)"
   ]
  },
  {
   "cell_type": "code",
   "execution_count": null,
   "metadata": {
    "scrolled": false
   },
   "outputs": [],
   "source": [
    "display_list = []\n",
    "for i, mode in enumerate(sensed_mode_df.gt_mode.unique()):\n",
    "    df = sensed_mode_df.query(f\"gt_mode == '{mode}'\").describe()\n",
    "    df_styler = df.style.set_table_attributes(\"style='display:inline'\").set_caption(f\"MODE: {mode}\")    \n",
    "    display_list.append(df_styler)\n",
    "display_html(''.join([display_list[k]._repr_html_() for k in range(i + 1)]), raw=True)"
   ]
  },
  {
   "cell_type": "markdown",
   "metadata": {},
   "source": [
    "`TODO:` Sensed mode distribution with error bars on envaluation trip ranges"
   ]
  },
  {
   "cell_type": "markdown",
   "metadata": {},
   "source": [
    "## Get the Sensed Section Modes\n",
    "takes in a phone view and a run range - either \"evaluation_ranges\" or \"sensed_ranges\" - defaults to \"evaluation_ranges\" and returns the sensed modes."
   ]
  },
  {
   "cell_type": "code",
   "execution_count": null,
   "metadata": {},
   "outputs": [],
   "source": [
    "def get_sensed_section_modes(pv):\n",
    "    modes = []\n",
    "    for phone_os, phone_map in pv.map().items():\n",
    "        for phone_label, phone_detail_map in phone_map.items():\n",
    "            if \"control\" in phone_detail_map[\"role\"]:\n",
    "                print(\"Ignoring %s phone %s since they are always on\" % (phone_detail_map[\"role\"], phone_label))\n",
    "                continue\n",
    "            # this spec does not have any calibration ranges, but evaluation ranges are actually cooler\n",
    "            for r in phone_detail_map[\"evaluation_ranges\"]:\n",
    "                for tr in r[\"evaluation_trip_ranges\"]:\n",
    "                    for sensed_section in tr[\"sensed_section_ranges\"]:\n",
    "                        sensed_mode_entry = {\"phone_os\": phone_os, \n",
    "                                             \"phone_label\": phone_label,\n",
    "                                             \"timeline\": pv.spec_details.curr_spec[\"id\"],\n",
    "                                             \"range_id\": r[\"trip_id\"],\n",
    "                                             \"run\": r[\"trip_run\"], \n",
    "                                             \"duration\": r[\"duration\"],\n",
    "                                             \"role\": r[\"eval_role_base\"],\n",
    "                                             \"section_count\": len(tr[\"sensed_section_ranges\"]),\n",
    "                                             \"trip_id\": tr[\"trip_id\"],\n",
    "                                             \"start_ts\" : sensed_section[\"start_ts\"], \n",
    "                                             \"end_ts\" : sensed_section[\"end_ts\"],\n",
    "                                             \"sensed_mode\": sensed_section[\"mode\"]}\n",
    "                        modes.append(sensed_mode_entry)\n",
    "    return modes"
   ]
  },
  {
   "cell_type": "code",
   "execution_count": null,
   "metadata": {},
   "outputs": [],
   "source": [
    "%%capture\n",
    "eval_trip_sensed_modes = []\n",
    "for pv in [pv_la, pv_sj, pv_ucb]:\n",
    "    eval_trip_sensed_modes.extend(get_sensed_section_modes(pv))\n",
    "eval_trip_sensed_modes_df = pd.DataFrame(eval_trip_sensed_modes)"
   ]
  },
  {
   "cell_type": "code",
   "execution_count": null,
   "metadata": {},
   "outputs": [],
   "source": [
    "eval_trip_sensed_modes_df.sensed_mode.unique()"
   ]
  },
  {
   "cell_type": "code",
   "execution_count": null,
   "metadata": {},
   "outputs": [],
   "source": [
    "ifig, ax_array = plt.subplots(nrows=1, ncols=2, figsize=(12,6), dpi=300, sharex=False, sharey=False)\n",
    "\n",
    "eval_trip_sensed_modes_df.set_index('sensed_mode').groupby(['sensed_mode']).sum().plot.pie(y='duration', ax=ax_array[0], legend=False)\n",
    "eval_trip_sensed_modes_df.set_index('sensed_mode').groupby(['sensed_mode']).sum().plot.bar(y='duration', ax=ax_array[1])"
   ]
  },
  {
   "cell_type": "markdown",
   "metadata": {},
   "source": [
    "## Get sensed timeline\n",
    "\n",
    "```python\n",
    "def get_trip_ss_and_gts_timeline():\n",
    "    \"\"\"\n",
    "    Get the sensed and ground truth timeline for each evaluation trip range for a given phone view.\n",
    "    \n",
    "    ----------\n",
    "    Parameters\n",
    "    ----------\n",
    "    arg1: phone view\n",
    "        A phone view to recieve timelines for.\n",
    "\n",
    "    -------\n",
    "    Returns\n",
    "    -------\n",
    "    list\n",
    "        A list of trips for each phone view. Each trip has two entries, the sensed mode timeline and the ground truth timeline for the corresponding evaluation trip range.\n",
    "    \"\"\"\n",
    "    ...\n",
    "```"
   ]
  },
  {
   "cell_type": "code",
   "execution_count": null,
   "metadata": {},
   "outputs": [],
   "source": [
    "def get_trip_ss_and_gts_timeline(pv):\n",
    "    trips = []\n",
    "    for phone_os, phone_map in pv.map().items():\n",
    "        for phone_label, phone_detail_map in phone_map.items():\n",
    "            if \"control\" in phone_detail_map[\"role\"]:\n",
    "#                 print(\"Ignoring %s phone %s since they are always on\" % (phone_detail_map[\"role\"], phone_label))\n",
    "                continue\n",
    "            # this spec does not have any calibration ranges, but evaluation ranges are actually cooler\n",
    "            for r in phone_detail_map[\"evaluation_ranges\"]:\n",
    "                for tr in r[\"evaluation_trip_ranges\"]:\n",
    "                    tr_ss  = []\n",
    "                    tr_gts = []\n",
    "                    for ss in tr[\"sensed_section_ranges\"]:\n",
    "                        tr_ss.append(ss)\n",
    "                    for section in tr[\"evaluation_section_ranges\"]:\n",
    "                        section_gt_leg = pv.spec_details.get_ground_truth_for_leg(tr['trip_id_base'],\n",
    "                                                                                  section['trip_id_base'],\n",
    "                                                                                  tr['start_ts'],\n",
    "                                                                                  tr['end_ts'])\n",
    "                        if section_gt_leg[\"type\"] == \"WAITING\":\n",
    "#                             print(\"Skipping WAITING section %s %s with potential partway transitions\" %\n",
    "#                                   (tr[\"trip_id\"], section[\"trip_id\"]))\n",
    "                            continue\n",
    "                        # this calulcates the metric for the mode\n",
    "\n",
    "                        ## and now we have the gt mode!\n",
    "                        gts = {'start_ts': section['start_ts'], \n",
    "                               'end_ts': section['end_ts'], \n",
    "                               'mode': section_gt_leg['mode']}\n",
    "                        tr_gts.append(gts)\n",
    "                # now, we build a timeline for each trip\n",
    "                trip = tr.copy()\n",
    "                trip['ss_timeline']  = tr_ss\n",
    "                trip['gts_timeline'] = tr_gts\n",
    "                trips.append(trip)\n",
    "    return trips"
   ]
  },
  {
   "cell_type": "markdown",
   "metadata": {},
   "source": [
    "## Binary Classification\n",
    "```python\n",
    "def get_binary_class(pv_l=[pv_la, pv_sj, pv_ucb]):\n",
    "    \"\"\"\n",
    "    This function computes binary classifications for a given set of trips.\n",
    "    Using one unit of duration as our base unit, we calculate the following classifications:\n",
    "        * True Positive\n",
    "            + A true positive is when we sense that we are in a mode and we are in that mode.\n",
    "        * False Positive\n",
    "            + A false positive is when we sense that we are in a mode that we are not it.\n",
    "        * False Negative\n",
    "            + A false negative is when we are in a mode, but we do not sense being in that mode.\n",
    "     \n",
    "     Note that we compute the binary classifications for each sensed mode, but we combine the 'WALKING' and 'RUNNING' modes.\n",
    "     Additionally, note that we have use the ground truth base mode when determining hits and misses. \n",
    "    \n",
    "    ----------\n",
    "    Parameters\n",
    "    ----------\n",
    "    arg1: phone view list\n",
    "        A list of phone views to retrieve sensed and ground truth timelines for. Defaults to phone views from the LA, SJ, and UCB trips.\n",
    "    \n",
    "    -------\n",
    "    Returns\n",
    "    -------\n",
    "    list\n",
    "        A list with the following entries\n",
    "            [0] A dictionary of true positives with sensed modes as keys and TP hits has values.\n",
    "            [1] A dictionary of false positives with sensed modes as keys and FP hits has values.\n",
    "            [2] A dictionary of false negatives with sensed modes as keys and FN hits has values.\n",
    "    \n",
    "    \"\"\"\n",
    "    ...\n",
    "```"
   ]
  },
  {
   "cell_type": "code",
   "execution_count": null,
   "metadata": {},
   "outputs": [],
   "source": [
    "def get_binary_class(pv_l=[pv_la, pv_sj, pv_ucb]):\n",
    "    BASE_MODE = {\"WALKING\": \"WALKING\",\n",
    "        \"BICYCLING\": \"CYCLING\",\n",
    "        \"ESCOOTER\": \"CYCLING\",\n",
    "        \"BUS\": \"AUTOMOTIVE\",\n",
    "        \"TRAIN\": \"AUTOMOTIVE\",\n",
    "        \"LIGHT_RAIL\": \"AUTOMOTIVE\",\n",
    "        \"SUBWAY\": \"AUTOMOTIVE\",\n",
    "        \"CAR\": \"AUTOMOTIVE\"}\n",
    "    trips = []\n",
    "    for pv in pv_l:\n",
    "        trips.extend(get_trip_ss_and_gts_timeline(pv))\n",
    "    TP = {'INVALID' : 0}\n",
    "    FP = {}\n",
    "    FN = {}\n",
    "    ## loop though all of the trips\n",
    "    for trip in trips:\n",
    "        ## when we sense a mode. Used for TP and FP\n",
    "        for ss in trip['sensed_section_ranges']:\n",
    "            # sensed duration := TP + FP\n",
    "            ss_dur  = ss['end_ts'] - ss['start_ts']\n",
    "            time_in_gt_modes = {}\n",
    "            gts_dur = 0\n",
    "            for gts in trip['gts_timeline']:\n",
    "                # if the gts starts before the ss ends and ends after the ss starts\n",
    "                if gts['start_ts'] <= ss['end_ts'] and gts['end_ts'] >= ss['start_ts']:\n",
    "                    dur     = min(ss['end_ts'], gts['end_ts']) - max(ss['start_ts'], gts['start_ts'])\n",
    "                    gts_dur += dur\n",
    "                    if BASE_MODE[gts['mode']] == ss['mode']:\n",
    "                        # we sense that we are in a mode, and we are\n",
    "                        TP[ss['mode']] = time_in_gt_modes.setdefault(ss['mode'], 0) + dur\n",
    "                    else:\n",
    "                        # we sense that we are in a mode, and we are not\n",
    "                        FP[ss['mode']] = time_in_gt_modes.setdefault(ss['mode'], 0) + dur\n",
    "            ## Take care of when we have no gts, which is a FP as we sense we are in a mode, but in fact their is no gt, so we are not\n",
    "            leftover = ss_dur - gts_dur\n",
    "            assert leftover >= 0\n",
    "            FP[ss['mode']] = time_in_gt_modes.setdefault(ss['mode'], 0) + leftover # FIXME: this gives mode error\n",
    "        ## Now we check the ground truth timeline, for FN\n",
    "        for gts in trip['gts_timeline']:\n",
    "            gts_dur = gts['end_ts'] - gts['start_ts']\n",
    "            ss_dur = 0\n",
    "            for ss in trip['sensed_section_ranges']:\n",
    "                # if the ss starts before gts ends and ss ends after the gts starts\n",
    "                if ss['start_ts'] <= gts['end_ts'] and ss['end_ts'] >= gts['start_ts']:\n",
    "                    dur     = min(ss['end_ts'], gts['end_ts']) - max(ss['start_ts'], gts['start_ts'])\n",
    "                    ss_dur += dur\n",
    "                    if BASE_MODE[gts['mode']] != ss['mode']:\n",
    "                        # we sense that we are not in a mode, but we are\n",
    "                        FN[ss['mode']] = time_in_gt_modes.setdefault(ss['mode'], 0) + dur\n",
    "            leftover = gts_dur - ss_dur\n",
    "            assert leftover >= 0\n",
    "            # we sense that we are not in a mode, but we are\n",
    "            FN[ss['mode']] = time_in_gt_modes.setdefault(ss['mode'], 0) + leftover\n",
    "    ## add together running and walking for TP and FN and remove the running key\n",
    "    for BC in FP,FN:\n",
    "        BC['WALKING'] += BC['RUNNING']\n",
    "        BC.pop('RUNNING')\n",
    "    return [TP, FP, FN]"
   ]
  },
  {
   "cell_type": "markdown",
   "metadata": {},
   "source": [
    "# $F_\\beta$ score\n",
    "$$\n",
    "F_\\beta = \\frac {(1 + \\beta^2) \\cdot \\mathrm{true\\ positive} }{(1 + \\beta^2) \\cdot \\mathrm{true\\ positive} + \\beta^2 \\cdot \\mathrm{false\\ negative} + \\mathrm{false\\ positive}}\n",
    "$$\n",
    "\n",
    "```python\n",
    "def get_F_score(pv_l=[pv_la, pv_sj, pv_ucb], beta=1):\n",
    "    \"\"\"\n",
    "    This function calculates the F score\n",
    "    $$\n",
    "    F_\\beta = \\frac {(1 + \\beta^2) \\cdot \\mathrm{true\\ positive} }{(1 + \\beta^2) \\cdot \\mathrm{true\\ positive} + \\beta^2 \\cdot \\mathrm{false\\ negative} + \\mathrm{false\\ positive}}\n",
    "    $$\n",
    "    based off data from a given set of phone views. Calls the get binary classification function\n",
    "    \n",
    "    ----------\n",
    "    Parameters\n",
    "    ----------\n",
    "    arg1: phone view list\n",
    "        list of phone views to collect data from. Defaults to the LA, SJ, and UCB trip phone views\n",
    "    arg2: int\n",
    "        The beta value in which to use in the $F_\\beta$ score. Defaults to 1.\n",
    "        \n",
    "    -------\n",
    "    Returns\n",
    "    -------\n",
    "    dict:\n",
    "        A dictionary with sensed modes as the keys and the corresponding of $F_\\beta$ scores as the values.\n",
    "    \n",
    "    \"\"\"\n",
    "    ...\n",
    "```"
   ]
  },
  {
   "cell_type": "code",
   "execution_count": null,
   "metadata": {},
   "outputs": [],
   "source": [
    "def get_F_score(pv_l=[pv_la, pv_sj, pv_ucb], beta=1):\n",
    "    F_score = {}\n",
    "    (TP, FP, FN) = get_binary_class(pv_l)\n",
    "    for mode in FP.keys():\n",
    "        numerator   = (1 + beta**2) * TP[mode]\n",
    "        denominator = (1+beta**2) * TP[mode] + beta**2*FN[mode] + FP[mode]\n",
    "        F_score[mode] = (numerator)/(denominator)\n",
    "    return F_score"
   ]
  },
  {
   "cell_type": "code",
   "execution_count": null,
   "metadata": {},
   "outputs": [],
   "source": [
    "get_F_score()"
   ]
  },
  {
   "cell_type": "markdown",
   "metadata": {},
   "source": [
    "## Algorithm\n",
    "\n",
    "```\n",
    "for each trip:\n",
    "    for each sensed section in trip:\n",
    "        for each ground truth section in trip:\n",
    "            if the sensed section ocurrs at any point in a ground truth section:\n",
    "                record the ground truth mode and the durration spent in that mode\n",
    "        record the difference between sensed section duration and the time spend in each ground truth mode\n",
    "        divide time spent in ground truth modes for all modes\n",
    "        ledger the sensed mode, as well as the ratio of time spend in each groud truth mode\n",
    "group all sensed modes and determine the percentage of time spent in each ground truth mode for each sensed mode\n",
    "\n",
    "```"
   ]
  },
  {
   "cell_type": "markdown",
   "metadata": {},
   "source": [
    "# Confusion Matrix\n",
    "For every sensed section, lets find ground truth associated with that time frame, and we find the ratio of ground truth modes for that given time frame, and compare with the sensed mode."
   ]
  },
  {
   "cell_type": "code",
   "execution_count": null,
   "metadata": {
    "scrolled": true
   },
   "outputs": [],
   "source": [
    "def get_ss_mode_v_gt_mode(pv_l=[pv_la, pv_sj, pv_ucb]):\n",
    "    trips = []\n",
    "    for pv in pv_l:\n",
    "        trips.extend(get_trip_ss_and_gts_timeline(pv))\n",
    "    ss_mode_v_gt_mode_l = []\n",
    "    for trip in trips:\n",
    "        probabilities = {}\n",
    "        for ss in trip['sensed_section_ranges']:\n",
    "            ss_dur  = ss['end_ts'] - ss['start_ts']\n",
    "            time_in_gt_modes = {}\n",
    "            for i, gts in enumerate(trip['gts_timeline']): # TODO: optimize here\n",
    "                if gts['end_ts'] >= ss['start_ts'] and gts['start_ts'] <= ss['end_ts']:\n",
    "                    dur     = min(ss['end_ts'], gts['end_ts']) - max(ss['start_ts'], gts['start_ts'])\n",
    "                    time_in_gt_modes[gts['mode']] = time_in_gt_modes.setdefault(gts['mode'], 0) + dur\n",
    "            time_in_gt_modes['NO GT'] = max(ss_dur - sum(time_in_gt_modes.values(), 0.0),0) #TODO: make sure this is right\n",
    "            for mode in time_in_gt_modes.keys():\n",
    "                time_in_gt_modes[mode] /= ss_dur\n",
    "            # TODO: assert sum of all rows == 1 +- epsilon\n",
    "            time_in_gt_modes['sensed_mode'] = ss['mode']\n",
    "            ss_mode_v_gt_mode_l.append(time_in_gt_modes)\n",
    "    return ss_mode_v_gt_mode_l"
   ]
  },
  {
   "cell_type": "code",
   "execution_count": null,
   "metadata": {},
   "outputs": [],
   "source": [
    "ss_mode_v_gt_mode_df = pd.DataFrame(get_ss_mode_v_gt_mode([pv_la, pv_sj, pv_ucb])).groupby('sensed_mode').sum()\n",
    "ss_mode_v_gt_mode_df.div(ss_mode_v_gt_mode_df.sum(axis=1), axis=0).mul(100)"
   ]
  },
  {
   "cell_type": "markdown",
   "metadata": {},
   "source": [
    "# Now for the Analyzed Data"
   ]
  },
  {
   "cell_type": "markdown",
   "metadata": {},
   "source": [
    "To analyze the data, we run it throught the e-mission pipeline, maming sure to run `source setup/activate.sh` to activate our conda environemnt, and then we run `./e-mission-py.bash bin/reset_pipeline.py -a` to reset the pipeline. Finally, we run the following python script in the e-mission directory\n",
    "```python\n",
    "import logging\n",
    "from logging import config\n",
    "import emission.core.get_database as edb\n",
    "import emission.pipeline.intake_stage as epi\n",
    "users = list(edb.get_uuid_db().find())\n",
    "uuid_list = []\n",
    "for user in users:\n",
    "    uuid_list.append(user['uuid'])\n",
    "# I think the following process number should work. Not to be cynical, but it is only used for logging, so I don't care too much\n",
    "epi.run_intake_pipeline(str(len(uuid_list)), uuid_list)\n",
    "\n",
    "```\n",
    "\n",
    "\n",
    "Then we load in the anlyized data with `emeval.analysed.phone_view.create_analysed_view()`\n",
    "\n",
    "p.s. also, we can totaly save it as a .pkl file localy for speed :)"
   ]
  },
  {
   "cell_type": "code",
   "execution_count": null,
   "metadata": {},
   "outputs": [],
   "source": [
    "import emeval.analysed.phone_view as eapv"
   ]
  },
  {
   "cell_type": "code",
   "execution_count": null,
   "metadata": {
    "scrolled": true
   },
   "outputs": [],
   "source": [
    "av_la = eapv.create_analysed_view(pv_la, \"http://localhost:8080\", \"analysis/recreated_location\", \"analysis/cleaned_trip\", \"analysis/inferred_section\")"
   ]
  },
  {
   "cell_type": "code",
   "execution_count": null,
   "metadata": {},
   "outputs": [],
   "source": [
    "av_sj = eapv.create_analysed_view(pv_sj, \"http://localhost:8080\", \"analysis/recreated_location\", \"analysis/cleaned_trip\", \"analysis/inferred_section\")"
   ]
  },
  {
   "cell_type": "code",
   "execution_count": null,
   "metadata": {},
   "outputs": [],
   "source": [
    "av_ucb = eapv.create_analysed_view(pv_ucb, \"http://localhost:8080\", \"analysis/recreated_location\", \"analysis/cleaned_trip\", \"analysis/inferred_section\")"
   ]
  },
  {
   "cell_type": "code",
   "execution_count": null,
   "metadata": {},
   "outputs": [],
   "source": [
    "ss_mode_v_gt_mode_df = pd.DataFrame(get_ss_mode_v_gt_mode([av_la, av_sj, av_ucb])).groupby('sensed_mode').sum()\n",
    "ss_mode_v_gt_mode_df.div(ss_mode_v_gt_mode_df.sum(axis=1), axis=0).mul(100)"
   ]
  },
  {
   "cell_type": "code",
   "execution_count": null,
   "metadata": {},
   "outputs": [],
   "source": []
  }
 ],
 "metadata": {
  "kernelspec": {
   "display_name": "Python 3 (ipykernel)",
   "language": "python",
   "name": "python3"
  },
  "language_info": {
   "codemirror_mode": {
    "name": "ipython",
    "version": 3
   },
   "file_extension": ".py",
   "mimetype": "text/x-python",
   "name": "python",
   "nbconvert_exporter": "python",
   "pygments_lexer": "ipython3",
   "version": "3.8.13"
  }
 },
 "nbformat": 4,
 "nbformat_minor": 2
}
