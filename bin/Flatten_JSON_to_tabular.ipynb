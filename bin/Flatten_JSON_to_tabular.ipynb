{
 "cells": [
  {
   "cell_type": "code",
   "execution_count": null,
   "id": "biblical-catalyst",
   "metadata": {},
   "outputs": [],
   "source": [
    "import sys\n",
    "sys.path.append(\"..\")"
   ]
  },
  {
   "cell_type": "code",
   "execution_count": null,
   "id": "external-ensemble",
   "metadata": {},
   "outputs": [],
   "source": [
    "from emeval.input.spec_details import FileSpecDetails\n",
    "\n",
    "sd = FileSpecDetails(\"data/\", \"shankari@eecs.berkeley.edu\", \"train_bus_ebike_mtv_ucb\")"
   ]
  },
  {
   "cell_type": "code",
   "execution_count": null,
   "id": "middle-mouth",
   "metadata": {},
   "outputs": [],
   "source": [
    "from emeval.input.phone_view import PhoneView\n",
    "\n",
    "pv = PhoneView(sd)"
   ]
  },
  {
   "cell_type": "code",
   "execution_count": null,
   "id": "lovely-algeria",
   "metadata": {},
   "outputs": [],
   "source": [
    "import math\n",
    "\n",
    "df_map = {}\n",
    "primary_key = [\"spec_id\", \"phone_os\", \"phone_label\", \"start_ts\", \"end_ts\"]\n",
    "\n",
    "for phone_os, phone_map in pv.map().items():\n",
    "    for phone_label, phone_detail_map in phone_map.items():\n",
    "        for ranges in [phone_detail_map[\"evaluation_ranges\"], phone_detail_map[\"calibration_ranges\"]]:\n",
    "            for r in ranges:\n",
    "                for key in [k for k in r.keys() if \"_df\" in k]:\n",
    "                    # append \"primary key\" columns to df\n",
    "                    row_vals = [\n",
    "                        sd.CURR_SPEC_ID,\n",
    "                        phone_os,\n",
    "                        phone_label,\n",
    "                        math.floor(r[\"start_ts\"]),\n",
    "                        math.ceil(r[\"end_ts\"])]\n",
    "                    \n",
    "                    df = r[key].assign(**dict(zip(primary_key, row_vals)))\n",
    "                    \n",
    "                    # move \"primary key\" columns to front of df\n",
    "                    df = df[primary_key + [c for c in df.columns.values if c not in primary_key]]\n",
    "                    \n",
    "                    # append rows to larger version of df\n",
    "                    if key not in df_map:\n",
    "                        df_map[key] = df\n",
    "                    else:\n",
    "                        df_map[key] = df_map[key].append(df, ignore_index=True)"
   ]
  },
  {
   "cell_type": "code",
   "execution_count": null,
   "id": "satisfied-correlation",
   "metadata": {
    "scrolled": false
   },
   "outputs": [],
   "source": [
    "from IPython.display import display\n",
    "\n",
    "# show fully flattened phone view data\n",
    "for name, df in df_map.items():\n",
    "    print(name)\n",
    "    display(df)"
   ]
  }
 ],
 "metadata": {
  "kernelspec": {
   "display_name": "Python 3",
   "language": "python",
   "name": "python3"
  },
  "language_info": {
   "codemirror_mode": {
    "name": "ipython",
    "version": 3
   },
   "file_extension": ".py",
   "mimetype": "text/x-python",
   "name": "python",
   "nbconvert_exporter": "python",
   "pygments_lexer": "ipython3",
   "version": "3.8.2"
  }
 },
 "nbformat": 4,
 "nbformat_minor": 5
}
