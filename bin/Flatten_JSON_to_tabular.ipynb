{
 "cells": [
  {
   "cell_type": "code",
   "execution_count": null,
   "id": "finnish-window",
   "metadata": {},
   "outputs": [],
   "source": [
    "import sys\n",
    "sys.path.append(\"..\")"
   ]
  },
  {
   "cell_type": "code",
   "execution_count": null,
   "id": "educated-norwegian",
   "metadata": {},
   "outputs": [],
   "source": [
    "from emeval.input.spec_details import FileSpecDetails\n",
    "\n",
    "sd = FileSpecDetails(\"data/\", \"shankari@eecs.berkeley.edu\", \"train_bus_ebike_mtv_ucb\")"
   ]
  },
  {
   "cell_type": "code",
   "execution_count": null,
   "id": "contained-government",
   "metadata": {},
   "outputs": [],
   "source": [
    "from emeval.input.phone_view import PhoneView\n",
    "\n",
    "pv = PhoneView(sd)"
   ]
  },
  {
   "cell_type": "code",
   "execution_count": null,
   "id": "unique-chocolate",
   "metadata": {},
   "outputs": [],
   "source": [
    "import pandas as pd\n",
    "\n",
    "def get_dfs(pv_map):\n",
    "    \"\"\"\n",
    "    Returns a dictionary consisting of versions of the dataframes in a\n",
    "    PhoneView map with uniquely-identifiable (i.e. fully queryable) rows.\n",
    "    \"\"\"\n",
    "    df_map = dict()\n",
    "    pkey = set()\n",
    "    \n",
    "    def get_pkey(node, curr_pkey):\n",
    "        for key, val in node.items():\n",
    "            if isinstance(val, list):\n",
    "                for e in val:\n",
    "                    get_pkey(e, curr_pkey)\n",
    "            elif isinstance(val, dict):\n",
    "                get_pkey(val, curr_pkey)\n",
    "            elif isinstance(val, pd.DataFrame):\n",
    "                for col in val.columns.values:\n",
    "                    if col in curr_pkey:\n",
    "                        curr_pkey.remove(col)\n",
    "                if key not in df_map:\n",
    "                    df_map[key] = val\n",
    "            else:\n",
    "                curr_pkey.add(key)\n",
    "    \n",
    "    get_pkey(pv_map, pkey)\n",
    "    print(f\"determined {pkey=}\", end=\"\\n\\n\")\n",
    "    \n",
    "    def prepend_pkey(node):\n",
    "        for key, val in node.items():\n",
    "            if isinstance(val, list):\n",
    "                for e in val:\n",
    "                    prepend_pkey(e)\n",
    "            elif isinstance(val, dict):\n",
    "                prepend_pkey(val)\n",
    "            elif key in pkey:\n",
    "                for df_label, df in df_map.items():\n",
    "                    if key not in df.columns.values:\n",
    "                        df_map[df_label] = (\n",
    "                            df.assign(\n",
    "                                **{key: val},\n",
    "                                ignore_index=True\n",
    "                            )[[key] + [c for c in df.columns.values if c != key]]\n",
    "                        )\n",
    "                        print(f\"updated columns of {df_label=}: {df_map[df_label].columns.values}\", end=\"\\n\\n\")\n",
    "                    \n",
    "    prepend_pkey(pv_map)\n",
    "    \n",
    "    for df in df_map.values():\n",
    "        assert all(p in df.columns.values for p in pkey)\n",
    "    \n",
    "    return df_map\n",
    "\n",
    "df_map = get_dfs(pv.map())"
   ]
  },
  {
   "cell_type": "code",
   "execution_count": null,
   "id": "derived-dimension",
   "metadata": {},
   "outputs": [],
   "source": [
    "from IPython.display import display\n",
    "\n",
    "for label, df in df_map.items():\n",
    "    print(label)\n",
    "    display(df)"
   ]
  }
 ],
 "metadata": {
  "kernelspec": {
   "display_name": "Python 3",
   "language": "python",
   "name": "python3"
  },
  "language_info": {
   "codemirror_mode": {
    "name": "ipython",
    "version": 3
   },
   "file_extension": ".py",
   "mimetype": "text/x-python",
   "name": "python",
   "nbconvert_exporter": "python",
   "pygments_lexer": "ipython3",
   "version": "3.8.2"
  }
 },
 "nbformat": 4,
 "nbformat_minor": 5
}
