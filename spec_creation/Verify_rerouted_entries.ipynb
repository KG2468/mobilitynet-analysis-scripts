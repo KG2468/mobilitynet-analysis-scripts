{
 "cells": [
  {
   "cell_type": "code",
   "execution_count": null,
   "metadata": {},
   "outputs": [],
   "source": [
    "import json\n",
    "import polyline as pl\n",
    "import pandas as pd"
   ]
  },
  {
   "cell_type": "markdown",
   "metadata": {},
   "source": [
    "## Load all data"
   ]
  },
  {
   "cell_type": "code",
   "execution_count": null,
   "metadata": {},
   "outputs": [],
   "source": [
    "original_route = json.load(open(\"final_sfbayarea_filled/train_bus_ebike_mtv_ucb.filled.json\"))\n",
    "sm_reroute = json.load(open(\"final_sfbayarea_filled_reroutes/train_bus_ebike_mtv_ucb.filled.reroute.json\"))"
   ]
  },
  {
   "cell_type": "code",
   "execution_count": null,
   "metadata": {},
   "outputs": [],
   "source": [
    "combined_spec = json.load(open(\"final_sfbayarea/train_bus_ebike_mtv_ucb.json\"))\n",
    "combined_reroute = json.load(open(\"final_sfbayarea_filled_reroutes/train_bus_ebike_mtv_ucb.filled.reroute.json\"))"
   ]
  },
  {
   "cell_type": "markdown",
   "metadata": {},
   "source": [
    "## Check input spec\n",
    "\n",
    "First, we verify that we have a trajectory defined for each leg in the spec, and that the leg contains a polyline. This is true by spot-checking, but this checks it programmatically"
   ]
  },
  {
   "cell_type": "code",
   "execution_count": null,
   "metadata": {},
   "outputs": [],
   "source": [
    "def check_polyline_existence(t_or_l):\n",
    "    trajectory_key_list = t_or_l.keys() - [\"id\", \"name\", \"mode\", \"start_loc\", \"end_loc\", \"multiple_occupancy\"]\n",
    "    if len(trajectory_key_list) != 1:\n",
    "        print(\"key list = %s\" % trajectory_key_list)\n",
    "        return False\n",
    "    trajectory_key = next(iter(trajectory_key_list))\n",
    "    polyline_exists = (trajectory_key == \"polyline\" or trajectory_key == \"polylines\")\n",
    "    if not polyline_exists:\n",
    "        if trajectory_key == 'waypoint_coords':\n",
    "            wc = t_or_l[\"waypoint_coords\"]\n",
    "            if type(wc) == list:\n",
    "                polyline_exists_list = [\"polyline\" in w for w in wc]\n",
    "                polyline_exists = pd.Series(polyline_exists_list).all()\n",
    "            else:\n",
    "                polyline_exists = \"polyline\" in wc\n",
    "        else:\n",
    "            polyline_exists = False\n",
    "    else:\n",
    "        pass\n",
    "    print(\"Trajectory is defined using %s, includes polyline %s\" % (trajectory_key, polyline_exists))\n",
    "    if not polyline_exists:\n",
    "        print(\"======POLYLINE NOT FOUND for %s\" % t_or_l[\"id\"])\n",
    "    return polyline_exists"
   ]
  },
  {
   "cell_type": "code",
   "execution_count": null,
   "metadata": {},
   "outputs": [],
   "source": [
    "for t in combined_spec[\"evaluation_trips\"]:\n",
    "    if \"legs\" not in t:\n",
    "        print(\"Checking unimodal trip %s\" % t[\"id\"])\n",
    "        check_polyline_existence(t)\n",
    "        continue\n",
    "    for l in t[\"legs\"]:\n",
    "        print(\"Checking leg %s in trip %s\" % (l[\"id\"], t[\"id\"]))\n",
    "        check_polyline_existence(l)"
   ]
  },
  {
   "cell_type": "code",
   "execution_count": null,
   "metadata": {},
   "outputs": [],
   "source": []
  }
 ],
 "metadata": {
  "kernelspec": {
   "display_name": "Python 3",
   "language": "python",
   "name": "python3"
  },
  "language_info": {
   "codemirror_mode": {
    "name": "ipython",
    "version": 3
   },
   "file_extension": ".py",
   "mimetype": "text/x-python",
   "name": "python",
   "nbconvert_exporter": "python",
   "pygments_lexer": "ipython3",
   "version": "3.8.2"
  }
 },
 "nbformat": 4,
 "nbformat_minor": 4
}
