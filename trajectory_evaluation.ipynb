{
 "cells": [
  {
   "cell_type": "code",
   "execution_count": null,
   "metadata": {},
   "outputs": [],
   "source": [
    "# for reading and validating data\n",
    "import emeval.input.spec_details as eisd\n",
    "import emeval.input.phone_view as eipv\n",
    "import emeval.input.eval_view as eiev"
   ]
  },
  {
   "cell_type": "code",
   "execution_count": null,
   "metadata": {},
   "outputs": [],
   "source": [
    "# Visualization helpers\n",
    "import emeval.viz.phone_view as ezpv\n",
    "import emeval.viz.eval_view as ezev\n",
    "import pandas as pd"
   ]
  },
  {
   "cell_type": "code",
   "execution_count": null,
   "metadata": {},
   "outputs": [],
   "source": [
    "# For computation\n",
    "import numpy as np\n",
    "import math\n",
    "import scipy.stats as stats\n",
    "import matplotlib.pyplot as plt\n",
    "from shapely import geometry"
   ]
  },
  {
   "cell_type": "code",
   "execution_count": null,
   "metadata": {},
   "outputs": [],
   "source": [
    "DATASTORE_URL = \"http://cardshark.cs.berkeley.edu\"\n",
    "AUTHOR_EMAIL = \"shankari@eecs.berkeley.edu\"\n",
    "sd_la = eisd.SpecDetails(DATASTORE_URL, AUTHOR_EMAIL, \"unimodal_trip_car_bike_mtv_la\")\n",
    "sd_sj = eisd.SpecDetails(DATASTORE_URL, AUTHOR_EMAIL, \"car_scooter_brex_san_jose\")\n",
    "sd_ucb = eisd.SpecDetails(DATASTORE_URL, AUTHOR_EMAIL, \"train_bus_ebike_mtv_ucb\")"
   ]
  },
  {
   "cell_type": "code",
   "execution_count": null,
   "metadata": {},
   "outputs": [],
   "source": [
    "import importlib\n",
    "importlib.reload(ezpv)"
   ]
  },
  {
   "cell_type": "code",
   "execution_count": null,
   "metadata": {},
   "outputs": [],
   "source": [
    "pv_la = eipv.PhoneView(sd_la)"
   ]
  },
  {
   "cell_type": "code",
   "execution_count": null,
   "metadata": {},
   "outputs": [],
   "source": [
    "pv_sj = eipv.PhoneView(sd_sj)"
   ]
  },
  {
   "cell_type": "code",
   "execution_count": null,
   "metadata": {},
   "outputs": [],
   "source": [
    "pv_ucb = eipv.PhoneView(sd_ucb)"
   ]
  },
  {
   "cell_type": "code",
   "execution_count": null,
   "metadata": {},
   "outputs": [],
   "source": [
    "def get_polygons(pvunp):\n",
    "    polygons = []\n",
    "    trips = pvunp.spec_details.curr_spec['evaluation_trips']\n",
    "\n",
    "    for trip in trips:\n",
    "        for leg in trip['legs']:\n",
    "            if 'loc' in leg and leg['loc']['geometry']['type'] == 'Polygon':\n",
    "                polygons.append(geometry.Polygon(leg['loc']['geometry']['coordinates'][0]))\n",
    "            if 'end_loc' in leg and leg['end_loc']['geometry']['type'] == 'Polygon':\n",
    "                polygons.append(geometry.Polygon(leg['end_loc']['geometry']['coordinates'][0]))\n",
    "            if 'start_loc' in leg and leg['start_loc']['geometry']['type'] == 'Polygon':\n",
    "                polygons.append(geometry.Polygon(leg['start_loc']['geometry']['coordinates'][0]))\n",
    "    return polygons"
   ]
  },
  {
   "cell_type": "code",
   "execution_count": null,
   "metadata": {},
   "outputs": [],
   "source": [
    "def clean(arr):\n",
    "    \"\"\"\n",
    "    Latitude and Longitude defined as np array with shape (n,)\n",
    "    Reshape to (n,1)\n",
    "    \"\"\"\n",
    "    return arr.values.reshape((arr.shape[0], 1))\n",
    "\n",
    "def is_point_in_polygon(point, polygons):\n",
    "    \"\"\"\n",
    "    Utility function to check if given Shapely point\n",
    "    is contained within a Shapely polygon\n",
    "    \"\"\"\n",
    "    for polygon in polygons:\n",
    "        if polygon.contains(point):\n",
    "            return True\n",
    "    return False\n",
    "\n",
    "def get_trajectory(df, polygons, include_timestamps=True):\n",
    "    \"\"\" \n",
    "    Returns np array combining latitudes, longitudes\n",
    "    and timestamps (if asked for). Only returns those\n",
    "    points that are not contained within Parking Polygons.\n",
    "    \"\"\"\n",
    "    latitudes = clean(df['latitude'])\n",
    "    longitudes = clean(df['longitude'])\n",
    "    if include_timestamps:\n",
    "        timestamps = clean(df['ts'])\n",
    "    \n",
    "    coordinates = np.concatenate((longitudes, latitudes), axis=1).tolist()\n",
    "    \n",
    "    data_points = []\n",
    "    \n",
    "    for (i, coordinate) in enumerate(coordinates):\n",
    "        point = geometry.Point(coordinate[0], coordinate[1])\n",
    "        \n",
    "        if not is_point_in_polygon(point, polygons):\n",
    "            if include_timestamps:\n",
    "                coordinate.append(timestamps[i][0])\n",
    "        data_points.append(coordinate)\n",
    "    \n",
    "    return data_points\n",
    "\n",
    "def get_gt_points(pvunp, phone_os, phone_label, trip_index, section_index):\n",
    "    \"\"\"\n",
    "    Get lat-long corrdinates in ground truth\n",
    "    \"\"\"\n",
    "    data = pvunp.spec_details.curr_spec['evaluation_trips'][trip_index]['legs'][section_index]\n",
    "    if 'route_coords' in data:\n",
    "        return data['route_coords']['geometry']['coordinates']\n",
    "    return []\n",
    "\n",
    "def get_measured_points(df, polygons):\n",
    "    \"\"\"\n",
    "    Get lat-long coordinates recorded from phone\n",
    "    \"\"\"\n",
    "    return get_trajectory(df, polygons, include_timestamps=False)\n",
    "\n",
    "def get_projections(line, measured_points):\n",
    "    projections = []\n",
    "    for p in measured_points:\n",
    "        point = geometry.Point(p[0], p[1])\n",
    "        projections.append(point.distance(line))\n",
    "    return projections\n",
    "\n",
    "def convert_to_xy(points):\n",
    "    xy_points = []\n",
    "    R = 6371000 # Radius of the earth in m\n",
    "    \n",
    "    for point in points:\n",
    "        lon = point[0]\n",
    "        lat = point[1]\n",
    "        \n",
    "        theta = math.pi/2 - math.radians(lat) \n",
    "        phi = math.radians(lon)\n",
    "        \n",
    "        x = R * math.sin(theta) * math.cos(phi)\n",
    "        y = R * math.sin(theta) * math.sin(phi)\n",
    "        xy_points.append([x, y])\n",
    "        \n",
    "    return xy_points"
   ]
  },
  {
   "cell_type": "code",
   "execution_count": null,
   "metadata": {},
   "outputs": [],
   "source": [
    "def get_spatial_errors(pvunp):\n",
    "    spatial_error_list = []\n",
    "    polygons = get_polygons(pvunp)\n",
    "    \n",
    "    for phone_os, phone_map in pvunp.map().items():\n",
    "        \n",
    "        for phone_label, phone_detail_map in phone_map.items():\n",
    "            \n",
    "            for (r_idx, r) in enumerate(phone_detail_map[\"evaluation_ranges\"]):\n",
    "                run_errors = []\n",
    "\n",
    "                for (tr_idx, tr) in enumerate(r[\"evaluation_trip_ranges\"]):\n",
    "                    trip_errors = []\n",
    "\n",
    "                    for (sr_idx, sr) in enumerate(tr[\"evaluation_section_ranges\"]):\n",
    "                        section_gt_points = get_gt_points(pvunp, phone_os, phone_label, tr_idx, sr_idx)\n",
    "                        if len(sr['location_df']) == 0:\n",
    "                            continue\n",
    "\n",
    "                        section_measured_points = get_measured_points(sr['location_df'], polygons)\n",
    "                        line = geometry.LineString(convert_to_xy(section_gt_points))\n",
    "                        projections = get_projections(line, convert_to_xy(section_measured_points))\n",
    "\n",
    "                        trip_errors += projections\n",
    "                    \n",
    "                    run_errors += trip_errors\n",
    "                \n",
    "                \n",
    "                spatial_error_entry = {\"phone_os\": phone_os, \"phone_label\": phone_label, \"timeline\": pvunp.spec_details.curr_spec[\"id\"], \"run\": r_idx, \"role\": r[\"eval_role_base\"], \"errors\": run_errors}\n",
    "                spatial_error_list.append(spatial_error_entry)   \n",
    "    return spatial_error_list"
   ]
  },
  {
   "cell_type": "code",
   "execution_count": null,
   "metadata": {},
   "outputs": [],
   "source": [
    "spatial_errors_list = []\n",
    "spatial_errors_list.extend(get_spatial_errors(pv_la))\n",
    "spatial_errors_list.extend(get_spatial_errors(pv_sj))\n",
    "spatial_errors_list.extend(get_spatial_errors(pv_ucb))\n",
    "\n",
    "spatial_errors_df = pd.DataFrame(spatial_errors_list)"
   ]
  },
  {
   "cell_type": "code",
   "execution_count": null,
   "metadata": {},
   "outputs": [],
   "source": [
    "r2q_map = {\"power_control\": 0, \"HAMFDC\": 1, \"MAHFDC\": 1, \"HAHFDC\": 2, \"accuracy_control\": 3}"
   ]
  },
  {
   "cell_type": "code",
   "execution_count": null,
   "metadata": {},
   "outputs": [],
   "source": [
    "spatial_errors_df[\"quality\"] = spatial_errors_df.role.apply(lambda r: r2q_map[r])\n",
    "spatial_errors_df[\"label\"] = spatial_errors_df.role.apply(lambda r: r.replace('_control', ''))\n",
    "timeline_list = [\"train_bus_ebike_mtv_ucb\", \"car_scooter_brex_san_jose\", \"unimodal_trip_car_bike_mtv_la\"]"
   ]
  },
  {
   "cell_type": "markdown",
   "metadata": {},
   "source": [
    "# Plot of Individual Errors (Over each individual run for Android)"
   ]
  },
  {
   "cell_type": "code",
   "execution_count": null,
   "metadata": {},
   "outputs": [],
   "source": [
    "fig = plt.figure(9, figsize=(20, 15))\n",
    "os = \"android\"\n",
    "\n",
    "for i, tl in enumerate(timeline_list):\n",
    "    for r in range(3):\n",
    "        data = []\n",
    "        labels = []\n",
    "        ax = fig.add_subplot(3,3, (i*len(timeline_list) + r) + 1)\n",
    "        for q in range(4):\n",
    "            data.extend(spatial_errors_df.query('timeline == @tl & run == @r & phone_os == @os & quality == @q')['errors'])\n",
    "            labels.extend(spatial_errors_df.query('timeline == @tl & run == @r & phone_os == @os & quality == @q')['role'])\n",
    "        ax.set_title(tl + \" - Run: \" + str(r+1))\n",
    "        ax.set_xticklabels(labels)\n",
    "        ax.set_ylabel('Spatial Errors in Meters (android)')\n",
    "        bp = ax.boxplot(data)"
   ]
  },
  {
   "cell_type": "markdown",
   "metadata": {},
   "source": [
    "# Plot of Individual Errors (Over each individual run for iOS)"
   ]
  },
  {
   "cell_type": "code",
   "execution_count": null,
   "metadata": {},
   "outputs": [],
   "source": [
    "fig = plt.figure(9, figsize=(20, 15))\n",
    "os = \"ios\"\n",
    "\n",
    "for i, tl in enumerate(timeline_list):\n",
    "    for r in range(3):\n",
    "        data = []\n",
    "        labels = []\n",
    "        ax = fig.add_subplot(3,3, (i*len(timeline_list) + r) + 1)\n",
    "        for q in range(4):\n",
    "            data.extend(spatial_errors_df.query('timeline == @tl & run == @r & phone_os == @os & quality == @q')['errors'])\n",
    "            labels.extend(spatial_errors_df.query('timeline == @tl & run == @r & phone_os == @os & quality == @q')['role'])\n",
    "        ax.set_title(tl + \" - Run: \" + str(r+1))\n",
    "        ax.set_xticklabels(labels)\n",
    "        ax.set_ylabel('Spatial Errors in Meters (iOS)')\n",
    "        bp = ax.boxplot(data)"
   ]
  },
  {
   "cell_type": "code",
   "execution_count": null,
   "metadata": {},
   "outputs": [],
   "source": [
    "fig = plt.figure(3, figsize=(11, 2.75))\n",
    "os = \"android\"\n",
    "\n",
    "for i, tl in enumerate(timeline_list):\n",
    "    ax = fig.add_subplot(1,3,i+1)\n",
    "    \n",
    "    for r in range(3):\n",
    "        data = []\n",
    "        labels = []\n",
    "        \n",
    "        for q in range(4):\n",
    "            data.extend(spatial_errors_df.query('timeline == @tl & run == @r & phone_os == @os & quality == @q')['errors'])\n",
    "            labels.extend(spatial_errors_df.query('timeline == @tl & run == @r & phone_os == @os & quality == @q')['label'])\n",
    "    ax.set_title(tl)\n",
    "    ax.set_xticklabels(labels)\n",
    "    ax.set_ylabel('Spatial Errors in Meters (android)')\n",
    "    bp = ax.boxplot(data)\n",
    "    plt.tight_layout()"
   ]
  },
  {
   "cell_type": "code",
   "execution_count": null,
   "metadata": {},
   "outputs": [],
   "source": [
    "fig = plt.figure(3, figsize=(11, 2.75))\n",
    "os = \"ios\"\n",
    "\n",
    "for i, tl in enumerate(timeline_list):\n",
    "    ax = fig.add_subplot(1,3,i+1)\n",
    "    \n",
    "    for r in range(3):\n",
    "        data = []\n",
    "        labels = []\n",
    "        \n",
    "        for q in range(4):\n",
    "            data.extend(spatial_errors_df.query('timeline == @tl & run == @r & phone_os == @os & quality == @q')['errors'])\n",
    "            labels.extend(spatial_errors_df.query('timeline == @tl & run == @r & phone_os == @os & quality == @q')['label'])\n",
    "    ax.set_title(tl)\n",
    "    ax.set_xticklabels(labels)\n",
    "    ax.set_ylabel('Spatial Errors in Meters (android)')\n",
    "    bp = ax.boxplot(data)\n",
    "    plt.tight_layout()"
   ]
  }
 ],
 "metadata": {
  "kernelspec": {
   "display_name": "Python 3",
   "language": "python",
   "name": "python3"
  },
  "language_info": {
   "codemirror_mode": {
    "name": "ipython",
    "version": 3
   },
   "file_extension": ".py",
   "mimetype": "text/x-python",
   "name": "python",
   "nbconvert_exporter": "python",
   "pygments_lexer": "ipython3",
   "version": "3.6.1"
  }
 },
 "nbformat": 4,
 "nbformat_minor": 2
}
