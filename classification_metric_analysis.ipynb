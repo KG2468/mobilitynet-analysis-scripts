{
 "cells": [
  {
   "cell_type": "markdown",
   "metadata": {},
   "source": [
    "## Classification Unimodal Metric Analysis\n",
    "\n",
    "The goal of this notebook is to asses the accuracy of the classification assignment in the ML algorithm with regards to different travel modes."
   ]
  },
  {
   "cell_type": "markdown",
   "metadata": {},
   "source": [
    "## Set up the dependencies"
   ]
  },
  {
   "cell_type": "code",
   "execution_count": null,
   "metadata": {},
   "outputs": [],
   "source": [
    "# for reading and validating data\n",
    "import emeval.input.spec_details as eisd\n",
    "import emeval.input.phone_view as eipv\n",
    "import emeval.input.eval_view as eiev"
   ]
  },
  {
   "cell_type": "code",
   "execution_count": null,
   "metadata": {},
   "outputs": [],
   "source": [
    "# Visualization helpers\n",
    "import emeval.viz.phone_view as ezpv\n",
    "import emeval.viz.eval_view as ezev\n",
    "import emeval.viz.geojson as ezgj"
   ]
  },
  {
   "cell_type": "code",
   "execution_count": null,
   "metadata": {},
   "outputs": [],
   "source": [
    "# Analytics results\n",
    "import emeval.metrics.segmentation as ems"
   ]
  },
  {
   "cell_type": "code",
   "execution_count": null,
   "metadata": {},
   "outputs": [],
   "source": [
    "import pandas as pd\n",
    "pd.options.display.float_format = '{:.6f}'.format\n",
    "import arrow\n",
    "import numpy as np"
   ]
  },
  {
   "cell_type": "code",
   "execution_count": null,
   "metadata": {},
   "outputs": [],
   "source": [
    "# For plots\n",
    "import matplotlib.pyplot as plt\n",
    "%matplotlib inline"
   ]
  },
  {
   "cell_type": "code",
   "execution_count": null,
   "metadata": {},
   "outputs": [],
   "source": [
    "# For maps\n",
    "import folium\n",
    "import branca.element as bre"
   ]
  },
  {
   "cell_type": "code",
   "execution_count": null,
   "metadata": {},
   "outputs": [],
   "source": [
    "# For easier debugging while working on modules\n",
    "import importlib"
   ]
  },
  {
   "cell_type": "code",
   "execution_count": null,
   "metadata": {},
   "outputs": [],
   "source": [
    "import arrow"
   ]
  },
  {
   "cell_type": "markdown",
   "metadata": {},
   "source": [
    "## The spec\n",
    "\n",
    "The spec defines what experiments were done, and over which time ranges. Once the experiment is complete, most of the structure is read back from the data, but we use the spec to validate that it all worked correctly. The spec also contains the ground truth for the legs. Here, we read the spec for \n",
    "* the trip to LA for a unimodal timeline analysis\n",
    "* the trip to San Jose for a multimodal analysis\n",
    "* the trip to ... for a ... analysis of data combined over a trip or section"
   ]
  },
  {
   "cell_type": "code",
   "execution_count": null,
   "metadata": {},
   "outputs": [],
   "source": [
    "AUTHOR_EMAIL = \"shankari@eecs.berkeley.edu\"\n",
    "DATASTORE_LOC = \"http://localhost:8080\"\n",
    "sd_la  = eisd.ServerSpecDetails(DATASTORE_LOC, AUTHOR_EMAIL, \"unimodal_trip_car_bike_mtv_la\")\n",
    "sd_sj  = eisd.ServerSpecDetails(DATASTORE_LOC, AUTHOR_EMAIL, \"car_scooter_brex_san_jose\")\n",
    "sd_ucb = eisd.ServerSpecDetails(DATASTORE_LOC, AUTHOR_EMAIL, \"train_bus_ebike_mtv_ucb\")"
   ]
  },
  {
   "cell_type": "code",
   "execution_count": null,
   "metadata": {},
   "outputs": [],
   "source": [
    "pv_la = eipv.PhoneView(sd_la)"
   ]
  },
  {
   "cell_type": "code",
   "execution_count": null,
   "metadata": {},
   "outputs": [],
   "source": [
    "pv_sj = eipv.PhoneView(sd_sj)"
   ]
  },
  {
   "cell_type": "code",
   "execution_count": null,
   "metadata": {},
   "outputs": [],
   "source": [
    "pv_ucb = eipv.PhoneView(sd_ucb)"
   ]
  },
  {
   "cell_type": "markdown",
   "metadata": {},
   "source": [
    "Get the sensed section data for each trip"
   ]
  },
  {
   "cell_type": "code",
   "execution_count": null,
   "metadata": {},
   "outputs": [],
   "source": [
    "ems.fill_sensed_section_ranges(pv_la)\n",
    "ems.fill_sensed_section_ranges(pv_sj)\n",
    "ems.fill_sensed_section_ranges(pv_ucb)"
   ]
  },
  {
   "cell_type": "markdown",
   "metadata": {},
   "source": [
    "`TODO:` We want a sensed_section_mode entry, I will look to see if any notebooks have a good map for this"
   ]
  },
  {
   "cell_type": "code",
   "execution_count": null,
   "metadata": {},
   "outputs": [],
   "source": [
    "def get_sensed_mode_entries(pv):\n",
    "    sensed_mode_entry_list = []\n",
    "    for phone_os, phone_map in pv.map().items():\n",
    "        for phone_label, phone_detail_map in phone_map.items():\n",
    "            if \"control\" in phone_detail_map[\"role\"]:\n",
    "                print(\"Ignoring %s phone %s since they are always on\" % (phone_detail_map[\"role\"], phone_label))\n",
    "                continue\n",
    "            # this spec does not have any calibration ranges, but evaluation ranges are actually cooler\n",
    "            for r in phone_detail_map[\"evaluation_ranges\"]:\n",
    "                for tr in r[\"evaluation_trip_ranges\"]:\n",
    "                    matching_section_map = ems.find_matching_segments(tr[\"evaluation_section_ranges\"], \n",
    "                                                                      \"trip_id\", tr[\"sensed_section_ranges\"])\n",
    "                    for section in tr[\"evaluation_section_ranges\"]:\n",
    "                        section_gt_leg = pv.spec_details.get_ground_truth_for_leg(tr['trip_id_base'],\n",
    "                                                                                  section['trip_id_base'],\n",
    "                                                                                  tr['start_ts'],\n",
    "                                                                                  tr['end_ts'])\n",
    "                        if section_gt_leg[\"type\"] == \"WAITING\":\n",
    "                            print(\"Skipping WAITING section %s %s with potential partway transitions\" %\n",
    "                                  (tr[\"trip_id\"], section[\"trip_id\"]))\n",
    "                            continue\n",
    "                        # this calulcates the metric for the mode\n",
    "                        result = ems.get_mode_check_results(section, section_gt_leg, matching_section_map)\n",
    "                        sensed_mode_entry = {\"phone_os\": phone_os, \n",
    "                                             \"phone_label\": phone_label,\n",
    "                                             \"timeline\": pv.spec_details.curr_spec[\"id\"],\n",
    "                                             \"range_id\": r[\"trip_id\"],\n",
    "                                             \"run\": r[\"trip_run\"], \n",
    "                                             \"duration\": r[\"duration\"],\n",
    "                                             \"role\": r[\"eval_role_base\"],\n",
    "                                             \"section_count\": len(tr[\"sensed_section_ranges\"]),\n",
    "                                             \"trip_id\": tr[\"trip_id\"],\n",
    "                                             \"section_id\": section[\"trip_id\"]}\n",
    "                        sensed_mode_entry.update(result)\n",
    "                        sensed_mode_entry_list.append(sensed_mode_entry)\n",
    "\n",
    "    return sensed_mode_entry_list"
   ]
  },
  {
   "cell_type": "code",
   "execution_count": null,
   "metadata": {},
   "outputs": [],
   "source": [
    "sensed_mode_entries_list = []\n",
    "for pv in [pv_la, pv_sj, pv_ucb]:\n",
    "    sensed_mode_entries_list.extend(get_sensed_mode_entries(pv))\n",
    "sensed_mode_df = pd.DataFrame(sensed_mode_entries_list)"
   ]
  },
  {
   "cell_type": "markdown",
   "metadata": {},
   "source": [
    "## Data Frame\n",
    "\n",
    "For the purpose of this study, we focus on the the ... headers"
   ]
  },
  {
   "cell_type": "code",
   "execution_count": null,
   "metadata": {},
   "outputs": [],
   "source": [
    "sensed_mode_df.head()"
   ]
  },
  {
   "cell_type": "code",
   "execution_count": null,
   "metadata": {},
   "outputs": [],
   "source": [
    "# This is an array of our travel modes\n",
    "modes = sensed_mode_df.gt_mode.unique(); modes"
   ]
  },
  {
   "cell_type": "markdown",
   "metadata": {},
   "source": [
    "# Plot Mode vs. Matching Percentage data"
   ]
  },
  {
   "cell_type": "markdown",
   "metadata": {},
   "source": [
    "#### First, we plot just the base modes"
   ]
  },
  {
   "cell_type": "code",
   "execution_count": null,
   "metadata": {},
   "outputs": [],
   "source": [
    "ifig, ax_array = plt.subplots(nrows=1, ncols=3, figsize=(24,12), dpi=300, sharex=False, sharey=False)\n",
    "for i, mode in enumerate(sensed_mode_df.gt_base_mode.unique()):\n",
    "    sensed_mode_df.query(f\"gt_base_mode == '{mode}'\").boxplot(ax=ax_array[i], \n",
    "                                                              column=['matching_pct'], \n",
    "                                                              by=[\"gt_base_mode\"])"
   ]
  },
  {
   "cell_type": "markdown",
   "metadata": {},
   "source": [
    "#### Now we plot all the available modes"
   ]
  },
  {
   "cell_type": "code",
   "execution_count": null,
   "metadata": {},
   "outputs": [],
   "source": [
    "ifig, ax_array = plt.subplots(nrows=2, ncols=4, figsize=(24,12), dpi=300, sharex=False, sharey=False)\n",
    "for i, mode in enumerate(sensed_mode_df.gt_mode.unique()):\n",
    "    sensed_mode_df.query(f\"gt_mode == '{mode}'\").boxplot(ax=ax_array.flatten()[i], \n",
    "                                                              column=['matching_pct'], \n",
    "                                                              by=[\"gt_mode\"])"
   ]
  },
  {
   "cell_type": "markdown",
   "metadata": {},
   "source": [
    "#### Finaly, we see if any indavidual modes stick out amung the respective base modes"
   ]
  },
  {
   "cell_type": "code",
   "execution_count": null,
   "metadata": {},
   "outputs": [],
   "source": [
    "ifig, ax_array = plt.subplots(nrows=1, ncols=3, figsize=(24,12), dpi=300, sharex=False, sharey=False)\n",
    "for i, mode in enumerate(sensed_mode_df.gt_base_mode.unique()):\n",
    "    sensed_mode_df.query(f\"gt_base_mode == '{mode}'\").boxplot(ax=ax_array[i], \n",
    "                                                              column=['matching_pct'], \n",
    "                                                              by=[\"gt_mode\"])\n",
    "ifig.suptitle(\"Boxplot grouped by gt_mode distributed by gt_base_mode\")"
   ]
  },
  {
   "cell_type": "markdown",
   "metadata": {},
   "source": [
    "## And for thoes who care about the numbers"
   ]
  },
  {
   "cell_type": "code",
   "execution_count": null,
   "metadata": {},
   "outputs": [],
   "source": [
    "for i, mode in enumerate(sensed_mode_df.gt_base_mode.unique()):\n",
    "    display(sensed_mode_df.query(f\"gt_base_mode == '{mode}'\").describe().style.set_caption(f\"BASE MODE: {mode}\"))"
   ]
  },
  {
   "cell_type": "code",
   "execution_count": null,
   "metadata": {
    "scrolled": false
   },
   "outputs": [],
   "source": [
    "for i, mode in enumerate(sensed_mode_df.gt_mode.unique()):\n",
    "    display(sensed_mode_df.query(f\"gt_mode == '{mode}'\").describe().style.set_caption(f\"MODE: {mode}\"))"
   ]
  },
  {
   "cell_type": "markdown",
   "metadata": {},
   "source": [
    "`TODO:` handel outlieres"
   ]
  },
  {
   "cell_type": "markdown",
   "metadata": {},
   "source": [
    "`TODO:` figure out what modes are most likley to get mixed up"
   ]
  }
 ],
 "metadata": {
  "kernelspec": {
   "display_name": "Python 3",
   "language": "python",
   "name": "python3"
  },
  "language_info": {
   "codemirror_mode": {
    "name": "ipython",
    "version": 3
   },
   "file_extension": ".py",
   "mimetype": "text/x-python",
   "name": "python",
   "nbconvert_exporter": "python",
   "pygments_lexer": "ipython3",
   "version": "3.8.2"
  }
 },
 "nbformat": 4,
 "nbformat_minor": 2
}
