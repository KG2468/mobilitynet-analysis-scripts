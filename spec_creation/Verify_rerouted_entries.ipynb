{
 "cells": [
  {
   "cell_type": "code",
   "execution_count": 1,
   "metadata": {},
   "outputs": [],
   "source": [
    "import json\n",
    "import polyline as pl\n",
    "import pandas as pd\n",
    "from math import isclose\n",
    "import numpy as np"
   ]
  },
  {
   "cell_type": "markdown",
   "metadata": {},
   "source": [
    "## Load all data"
   ]
  },
  {
   "cell_type": "code",
   "execution_count": 2,
   "metadata": {},
   "outputs": [],
   "source": [
    "original_route = json.load(open(\"final_sfbayarea_filled/train_bus_ebike_mtv_ucb.filled.json\"))\n",
    "sm_reroute = json.load(open(\"final_sfbayarea_filled/train_bus_ebike_sm_reroute_mtv_ucb.filled.json\"))"
   ]
  },
  {
   "cell_type": "code",
   "execution_count": 3,
   "metadata": {},
   "outputs": [],
   "source": [
    "combined_spec = json.load(open(\"final_sfbayarea/train_bus_ebike_mtv_ucb.json\"))\n",
    "combined_reroute = json.load(open(\"final_sfbayarea_filled_reroutes/train_bus_ebike_mtv_ucb.filled.reroute.json\"))"
   ]
  },
  {
   "cell_type": "markdown",
   "metadata": {},
   "source": [
    "## Check input spec\n",
    "\n",
    "First, we verify that we have a trajectory defined for each leg in the spec, and that the leg contains a polyline. This is true by spot-checking, but this checks it programmatically"
   ]
  },
  {
   "cell_type": "code",
   "execution_count": 4,
   "metadata": {},
   "outputs": [],
   "source": [
    "def check_polyline_existence(t_or_l):\n",
    "    trajectory_key_list = t_or_l.keys() - [\"id\", \"name\", \"mode\", \"start_loc\", \"end_loc\", \"multiple_occupancy\"]\n",
    "    if len(trajectory_key_list) != 1:\n",
    "        print(\"key list = %s\" % trajectory_key_list)\n",
    "        return False\n",
    "    trajectory_key = next(iter(trajectory_key_list))\n",
    "    polyline_exists = (trajectory_key == \"polyline\" or trajectory_key == \"polylines\")\n",
    "    if not polyline_exists:\n",
    "        if trajectory_key == 'waypoint_coords':\n",
    "            wc = t_or_l[\"waypoint_coords\"]\n",
    "            if type(wc) == list:\n",
    "                polyline_exists_list = [\"polyline\" in w for w in wc]\n",
    "                polyline_exists = pd.Series(polyline_exists_list).all()\n",
    "            else:\n",
    "                polyline_exists = \"polyline\" in wc\n",
    "        else:\n",
    "            polyline_exists = False\n",
    "    else:\n",
    "        pass\n",
    "    print(\"Trajectory is defined using %s, includes polyline %s\" % (trajectory_key, polyline_exists))\n",
    "    if not polyline_exists:\n",
    "        print(\"======POLYLINE NOT FOUND for %s\" % t_or_l[\"id\"])\n",
    "    return polyline_exists"
   ]
  },
  {
   "cell_type": "code",
   "execution_count": 5,
   "metadata": {},
   "outputs": [
    {
     "name": "stdout",
     "output_type": "stream",
     "text": [
      "Checking leg walk_to_caltrain in trip mtv_to_berkeley_sf_bart\n",
      "Trajectory is defined using polyline, includes polyline True\n",
      "Checking leg commuter_rail_aboveground in trip mtv_to_berkeley_sf_bart\n",
      "Trajectory is defined using polyline, includes polyline True\n",
      "Checking leg subway_underground in trip mtv_to_berkeley_sf_bart\n",
      "Trajectory is defined using polyline, includes polyline True\n",
      "Checking leg walk_to_bus in trip mtv_to_berkeley_sf_bart\n",
      "Trajectory is defined using polyline, includes polyline True\n",
      "Checking leg city_bus_short in trip mtv_to_berkeley_sf_bart\n",
      "Trajectory is defined using polyline, includes polyline True\n",
      "Checking unimodal trip walk_urban_university\n",
      "Trajectory is defined using polyline, includes polyline True\n",
      "Checking leg walk to the bikeshare location in trip berkeley_to_mtv_SF_express_bus\n",
      "Trajectory is defined using polylines, includes polyline True\n",
      "Checking leg ebike_bikeshare_urban_long in trip berkeley_to_mtv_SF_express_bus\n",
      "Trajectory is defined using polylines, includes polyline True\n",
      "Checking leg express_bus in trip berkeley_to_mtv_SF_express_bus\n",
      "Trajectory is defined using polylines, includes polyline True\n",
      "Checking leg walk_downtown_urban_canyon in trip berkeley_to_mtv_SF_express_bus\n",
      "Trajectory is defined using polylines, includes polyline True\n",
      "Checking leg light_rail_below_above_ground in trip berkeley_to_mtv_SF_express_bus\n",
      "Trajectory is defined using polyline, includes polyline True\n",
      "Checking leg commuter_rail_with_tunnels in trip berkeley_to_mtv_SF_express_bus\n",
      "Trajectory is defined using polyline, includes polyline True\n",
      "Checking leg inner_suburb_downtown_walk in trip berkeley_to_mtv_SF_express_bus\n",
      "Trajectory is defined using polyline, includes polyline True\n"
     ]
    }
   ],
   "source": [
    "for t in combined_spec[\"evaluation_trips\"]:\n",
    "    if \"legs\" not in t:\n",
    "        print(\"Checking unimodal trip %s\" % t[\"id\"])\n",
    "        check_polyline_existence(t)\n",
    "        continue\n",
    "    for l in t[\"legs\"]:\n",
    "        print(\"Checking leg %s in trip %s\" % (l[\"id\"], t[\"id\"]))\n",
    "        check_polyline_existence(l)"
   ]
  },
  {
   "cell_type": "markdown",
   "metadata": {},
   "source": [
    "## Check output spec\n"
   ]
  },
  {
   "cell_type": "code",
   "execution_count": 6,
   "metadata": {},
   "outputs": [],
   "source": [
    "def check_coordinates(l1, l2):\n",
    "    if len(l1) != len(l2):\n",
    "        print(\"=== list lengths don't match: %s != %s\" % (len(l1), len(l2)))\n",
    "        return False\n",
    "    elif np.allclose(np.array(l1), np.array(l2)):\n",
    "        return True\n",
    "    else:\n",
    "        for i, (e1, e2) in enumerate(zip(l1, l2)):\n",
    "            if not isclose(e1[0], e2[0], rel_tol=1e-8) or not isclose(e1[1], e2[1], rel_tol=1e-8):\n",
    "                print(\"=== mismatch found at index %i: %s != %s\" % (i, e1, e2))\n",
    "                return False\n",
    "        print(\"=== elements match, but lists don't match?!\") #: %s != %s\" % (l1, l2))\n",
    "        return False"
   ]
  },
  {
   "cell_type": "code",
   "execution_count": 7,
   "metadata": {},
   "outputs": [],
   "source": [
    "def validate_shim_leg(ti, t, li, l):\n",
    "    if len(l[\"loc\"]) == 1:\n",
    "        orig_loc = original_route[\"evaluation_trips\"][ti][\"legs\"][li][\"loc\"]\n",
    "        combo_loc = l[\"loc\"][0]\n",
    "        # print(orig_loc[\"geometry\"][\"coordinates\"], combo_loc[\"geometry\"][\"coordinates\"])\n",
    "        valid = check_coordinates(orig_loc[\"geometry\"][\"coordinates\"], combo_loc[\"geometry\"][\"coordinates\"])\n",
    "        if not valid:\n",
    "            print(\"!!! Shim Leg %s has not been rerouted, check against original route = %s!!!\" % (l[\"id\"], valid))\n",
    "        else:\n",
    "            print(\"Shim Leg %s has not been rerouted, check against original route = %s\" % (l[\"id\"], valid))\n",
    "    else:\n",
    "        print(\"=== Leg %s has %s reroutes, need to check each of them\")"
   ]
  },
  {
   "cell_type": "code",
   "execution_count": 8,
   "metadata": {},
   "outputs": [],
   "source": [
    "def validate_leg_key(ti, t, li, l, key):\n",
    "    orig_l = original_route[\"evaluation_trips\"][ti][\"legs\"][li]\n",
    "    reroute_l = sm_reroute[\"evaluation_trips\"][ti][\"legs\"][li]\n",
    "    if len(l[key]) == 1:\n",
    "        # print(l[key][0][\"geometry\"][\"coordinates\"])\n",
    "        # print(orig_l[key][\"geometry\"][\"coordinates\"])\n",
    "        # No reroute. The combo fields should be equal to both original and rerouted fields, and they should be equal to each other\n",
    "        combo_orig = check_coordinates(l[key][0][\"geometry\"][\"coordinates\"], orig_l[key][\"geometry\"][\"coordinates\"])\n",
    "        combo_reroute = check_coordinates(l[key][0][\"geometry\"][\"coordinates\"], reroute_l[key][\"geometry\"][\"coordinates\"])\n",
    "        orig_reroute = check_coordinates(orig_l[key][\"geometry\"][\"coordinates\"], reroute_l[key][\"geometry\"][\"coordinates\"])\n",
    "        print(combo_orig, combo_reroute, orig_reroute)\n",
    "        return combo_orig and combo_reroute and orig_reroute\n",
    "    if len(l[key]) > 1:\n",
    "        # Reroute. Only two reroutes supported. The first combo fields should be equal to original and the second should be the rerouted\n",
    "        assert len(l[key]) == 2, \"Only two reroutes at this time, so use a simple check\"\n",
    "        combo_orig = check_coordinates(l[key][0][\"geometry\"][\"coordinates\"], orig_l[key][\"geometry\"][\"coordinates\"])\n",
    "        combo_reroute = check_coordinates(l[key][1][\"geometry\"][\"coordinates\"], reroute_l[key][\"geometry\"][\"coordinates\"])\n",
    "        print(combo_orig, combo_reroute)\n",
    "        return combo_orig and combo_reroute"
   ]
  },
  {
   "cell_type": "code",
   "execution_count": 9,
   "metadata": {},
   "outputs": [],
   "source": [
    "def validate_travel_leg(ti, t, li, l):\n",
    "    invalid_feature_list = []\n",
    "    if not validate_leg_key(ti, t, li, l, \"start_loc\"):\n",
    "        invalid_feature_list.append(\"start_loc\")\n",
    "    if not validate_leg_key(ti, t, li, l, \"end_loc\"):\n",
    "        invalid_feature_list.append(\"end_loc\")\n",
    "    if not validate_leg_key(ti, t, li, l, \"route_coords\"):\n",
    "        invalid_feature_list.append(\"route_coords\")\n",
    "    \n",
    "    if len(invalid_feature_list) > 0:\n",
    "        print(\"!! Travel Leg %s in trip %s has invalid keys %s !!\" % (l[\"id\"], t[\"id\"], invalid_feature_list))\n",
    "    else: \n",
    "        print(\"Travel Leg %s in trip %s matches previous trajectories\" % (l[\"id\"], t[\"id\"]))"
   ]
  },
  {
   "cell_type": "code",
   "execution_count": 10,
   "metadata": {},
   "outputs": [
    {
     "name": "stdout",
     "output_type": "stream",
     "text": [
      "True True True\n",
      "True True True\n",
      "True True True\n",
      "Travel Leg walk_to_caltrain in trip mtv_to_berkeley_sf_bart matches previous trajectories\n",
      "Shim Leg wait_for_commuter_rail_aboveground has not been rerouted, check against original route = True\n",
      "True True True\n",
      "True True True\n",
      "True True True\n",
      "Travel Leg commuter_rail_aboveground in trip mtv_to_berkeley_sf_bart matches previous trajectories\n",
      "Shim Leg tt_commuter_rail_aboveground_subway_underground has not been rerouted, check against original route = True\n",
      "Shim Leg wait_for_subway_underground has not been rerouted, check against original route = True\n",
      "True True True\n",
      "True True True\n",
      "True True True\n",
      "Travel Leg subway_underground in trip mtv_to_berkeley_sf_bart matches previous trajectories\n",
      "True True True\n",
      "True True True\n",
      "True True True\n",
      "Travel Leg walk_to_bus in trip mtv_to_berkeley_sf_bart matches previous trajectories\n",
      "Shim Leg wait_for_city_bus_short has not been rerouted, check against original route = True\n",
      "True True True\n",
      "True True True\n",
      "True True True\n",
      "Travel Leg city_bus_short in trip mtv_to_berkeley_sf_bart matches previous trajectories\n",
      "Shim Leg walk_end has not been rerouted, check against original route = True\n",
      "True True True\n",
      "True True True\n",
      "True True True\n",
      "Travel Leg walk_urban_university in trip walk_urban_university matches previous trajectories\n",
      "True True True\n",
      "True True\n",
      "=== list lengths don't match: 42 != 28\n",
      "=== list lengths don't match: 28 != 42\n",
      "False False\n",
      "!! Travel Leg walk to the bikeshare location in trip berkeley_to_mtv_SF_express_bus has invalid keys ['route_coords'] !!\n",
      "True True\n",
      "True True True\n",
      "True True\n",
      "Travel Leg ebike_bikeshare_urban_long in trip berkeley_to_mtv_SF_express_bus matches previous trajectories\n",
      "Shim Leg tt_ebike_bikeshare_urban_long_express_bus has not been rerouted, check against original route = True\n",
      "Shim Leg wait_for_express_bus has not been rerouted, check against original route = True\n",
      "True True True\n",
      "True True\n",
      "True True\n",
      "Travel Leg express_bus in trip berkeley_to_mtv_SF_express_bus matches previous trajectories\n",
      "True True\n",
      "True True True\n",
      "True True\n",
      "Travel Leg walk_downtown_urban_canyon in trip berkeley_to_mtv_SF_express_bus matches previous trajectories\n",
      "Shim Leg wait_for_light_rail_below_above_ground has not been rerouted, check against original route = True\n",
      "True True True\n",
      "True True True\n",
      "True True True\n",
      "Travel Leg light_rail_below_above_ground in trip berkeley_to_mtv_SF_express_bus matches previous trajectories\n",
      "Shim Leg tt_light_rail_below_above_ground_commuter_rail_with_tunnels has not been rerouted, check against original route = True\n",
      "Shim Leg wait_for_commuter_rail_with_tunnels has not been rerouted, check against original route = True\n",
      "True True True\n",
      "True True True\n",
      "True True True\n",
      "Travel Leg commuter_rail_with_tunnels in trip berkeley_to_mtv_SF_express_bus matches previous trajectories\n",
      "True True True\n",
      "True True True\n",
      "True True True\n",
      "Travel Leg inner_suburb_downtown_walk in trip berkeley_to_mtv_SF_express_bus matches previous trajectories\n"
     ]
    }
   ],
   "source": [
    "for ti, t in enumerate(combined_reroute[\"evaluation_trips\"]):\n",
    "    for li, l in enumerate(t[\"legs\"]):\n",
    "        if \"loc\" in l:\n",
    "            validate_shim_leg(ti, t, li, l)\n",
    "        else:\n",
    "            validate_travel_leg(ti, t, li, l)"
   ]
  }
 ],
 "metadata": {
  "kernelspec": {
   "display_name": "Python 3",
   "language": "python",
   "name": "python3"
  },
  "language_info": {
   "codemirror_mode": {
    "name": "ipython",
    "version": 3
   },
   "file_extension": ".py",
   "mimetype": "text/x-python",
   "name": "python",
   "nbconvert_exporter": "python",
   "pygments_lexer": "ipython3",
   "version": "3.8.2"
  }
 },
 "nbformat": 4,
 "nbformat_minor": 4
}
