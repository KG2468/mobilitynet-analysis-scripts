{
 "cells": [
  {
   "cell_type": "markdown",
   "metadata": {},
   "source": [
    "# Interactive spec creation\n",
    "\n",
    "This notebook is intended to make it easier to generate ground truth for trips to put into the evaluation spec files. Putting in a bunch of trips into a spec file and trying to fill in all of them leads to wasted time, specially if we have a lot of relations, since we must query OSM over and over to pull the data to populate the coordinates. And then we have to visualize all the trips at once as part of the validation, so if we find any errors, we need to regenerate the coordinates for all trips.\n",
    "\n",
    "This notebook allows us to interactively develop individual specs before copy-pasting them into the overall spec file."
   ]
  },
  {
   "cell_type": "markdown",
   "metadata": {},
   "source": [
    "### These initial cells are for setup and should not need to be changed"
   ]
  },
  {
   "cell_type": "code",
   "execution_count": null,
   "metadata": {},
   "outputs": [],
   "source": [
    "import logging\n",
    "logging.getLogger().setLevel(logging.DEBUG)"
   ]
  },
  {
   "cell_type": "markdown",
   "metadata": {},
   "source": [
    "#### Let's see what we can do with the OSM API directly"
   ]
  },
  {
   "cell_type": "code",
   "execution_count": null,
   "metadata": {},
   "outputs": [],
   "source": [
    "import autofill_eval_spec as aes"
   ]
  },
  {
   "cell_type": "code",
   "execution_count": null,
   "metadata": {},
   "outputs": [],
   "source": [
    "import folium\n",
    "import folium.features as fof\n",
    "import folium.utilities as ful\n",
    "import branca.element as bre"
   ]
  },
  {
   "cell_type": "code",
   "execution_count": null,
   "metadata": {},
   "outputs": [],
   "source": [
    "import polyline as pl"
   ]
  },
  {
   "cell_type": "code",
   "execution_count": null,
   "metadata": {},
   "outputs": [],
   "source": [
    "import osmapi"
   ]
  },
  {
   "cell_type": "code",
   "execution_count": null,
   "metadata": {},
   "outputs": [],
   "source": [
    "osm = osmapi.OsmApi()"
   ]
  },
  {
   "cell_type": "code",
   "execution_count": null,
   "metadata": {},
   "outputs": [],
   "source": [
    "def lonlat_swap(lon_lat):\n",
    "    return list(reversed(lon_lat))"
   ]
  },
  {
   "cell_type": "code",
   "execution_count": null,
   "metadata": {},
   "outputs": [],
   "source": [
    "def get_marker(loc, disp_color):\n",
    "    if loc[\"geometry\"][\"type\"] == \"Point\":\n",
    "        curr_latlng = lonlat_swap(loc[\"geometry\"][\"coordinates\"])\n",
    "        return folium.Marker(curr_latlng, icon=folium.Icon(color=disp_color),\n",
    "                  popup=\"%s\" % loc[\"properties\"][\"name\"])\n",
    "    elif loc[\"geometry\"][\"type\"] == \"Polygon\":\n",
    "        assert len(loc[\"geometry\"][\"coordinates\"]) == 1,\\\n",
    "            \"Only simple polygons supported!\"\n",
    "        curr_latlng = [lonlat_swap(c) for c in loc[\"geometry\"][\"coordinates\"][0]]\n",
    "        print(\"Returning polygon for %s\" % curr_latlng)\n",
    "        return folium.PolyLine(curr_latlng, color=disp_color, fill=disp_color,\n",
    "                  popup=\"%s\" % loc[\"properties\"][\"name\"])        "
   ]
  },
  {
   "cell_type": "code",
   "execution_count": null,
   "metadata": {},
   "outputs": [],
   "source": [
    "def get_map_for_evaluation_trip(trip):\n",
    "    curr_map = folium.Map()\n",
    "    get_marker(trip[\"start_loc\"], \"green\").add_to(curr_map)\n",
    "    get_marker(trip[\"end_loc\"], \"red\").add_to(curr_map)\n",
    "    # trips from relations won't have waypoints\n",
    "    if \"waypoint_coords\" in trip:\n",
    "        for i, wpc in enumerate(trip[\"waypoint_coords\"]):\n",
    "            folium.map.Marker(\n",
    "                lonlat_swap(wpc), popup=\"%d\" % i,\n",
    "                icon=fof.DivIcon(class_name='leaflet-div-icon')).add_to(curr_map)\n",
    "    print(\"Found %d coordinates for the route\" % (len(trip[\"route_coords\"])))\n",
    "    latlng_route_coords = [lonlat_swap(rc) for rc in trip[\"route_coords\"][\"geometry\"][\"coordinates\"]]\n",
    "    folium.PolyLine(latlng_route_coords,\n",
    "                    popup=\"%s: %s\" % (trip[\"mode\"], trip[\"name\"])).add_to(curr_map)\n",
    "    for i, c in enumerate(latlng_route_coords):\n",
    "        folium.CircleMarker(c, radius=5, popup=\"%d: %s\" % (i, c)).add_to(curr_map)\n",
    "    curr_map.fit_bounds(ful.get_bounds(trip[\"route_coords\"][\"geometry\"][\"coordinates\"], lonlat=True))    \n",
    "    return curr_map"
   ]
  },
  {
   "cell_type": "markdown",
   "metadata": {},
   "source": [
    "# This is the important part\n",
    "\n",
    "Instructions:\n",
    "- Edit the cell below to include the spec that you are experimenting with\n",
    "- Run the cells below that to fill it in and display it\n",
    "- Tweak the various fill/population methods until the trip looks right\n",
    "- Copy/paste the leg spec into your spec file\n",
    "- Rinse and repeat"
   ]
  },
  {
   "cell_type": "code",
   "execution_count": null,
   "metadata": {},
   "outputs": [],
   "source": [
    "curr_leg_spec = \\\n",
    "        {\n",
    "            \"id\": \"unexpected_bike_to_bus\",\n",
    "            \"name\": \"Bike to bus when stop changed due to Thursday night live\",\n",
    "            \"mode\": \"BICYCLING\",\n",
    "            \"start_loc\": {\n",
    "                \"osm_id\": 6129383336,\n",
    "                \"name\": \"Mountain View City Hall\"\n",
    "            },\n",
    "            \"end_loc\": {\n",
    "                \"osm_id\": 726963272,\n",
    "                \"name\": \"El Camino and Miramonte (alternate stop)\"                \n",
    "            },\n",
    "            \"waypoint_coords\": [\n",
    "          [\n",
    "            -122.0817732810974,\n",
    "            37.38932665304395\n",
    "          ],\n",
    "          [\n",
    "            -122.08233386278151,\n",
    "            37.38833995211305\n",
    "          ],\n",
    "          [\n",
    "            -122.08664685487746,\n",
    "            37.39046251514165\n",
    "          ],\n",
    "          [\n",
    "            -122.08813816308974,\n",
    "            37.38838683668442\n",
    "          ],\n",
    "          [\n",
    "            -122.08862364292143,\n",
    "            37.38818438037076\n",
    "          ]\n",
    "            ]\n",
    "        }"
   ]
  },
  {
   "cell_type": "code",
   "execution_count": null,
   "metadata": {},
   "outputs": [],
   "source": [
    "import importlib"
   ]
  },
  {
   "cell_type": "code",
   "execution_count": null,
   "metadata": {},
   "outputs": [],
   "source": [
    "importlib.reload(aes)"
   ]
  },
  {
   "cell_type": "code",
   "execution_count": null,
   "metadata": {},
   "outputs": [],
   "source": [
    "curr_leg_spec = \\\n",
    "        {\n",
    "            \"id\": \"suburb_bicycling\",\n",
    "            \"name\": \"Los Altos Library to Mountain View Library\",\n",
    "            \"mode\": \"BICYCLING\",\n",
    "            \"start_loc\":     {\n",
    "      \"type\": \"Feature\",\n",
    "      \"properties\": {\n",
    "          \"name\": \"Los Altos Library\"\n",
    "      },\n",
    "      \"geometry\": {\n",
    "        \"type\": \"Polygon\",\n",
    "        \"coordinates\": [\n",
    "          [\n",
    "            [\n",
    "              -122.11386322975159,\n",
    "              37.38049489802194\n",
    "            ],\n",
    "            [\n",
    "              -122.11191058158873,\n",
    "              37.37965088242338\n",
    "            ],\n",
    "            [\n",
    "              -122.11124002933502,\n",
    "              37.37964235696482\n",
    "            ],\n",
    "            [\n",
    "              -122.11118102073668,\n",
    "              37.37997911184045\n",
    "            ],\n",
    "            [\n",
    "              -122.11119711399078,\n",
    "              37.38072934511354\n",
    "            ],\n",
    "            [\n",
    "              -122.11176574230194,\n",
    "              37.3807208197776\n",
    "            ],\n",
    "            [\n",
    "              -122.11254358291625,\n",
    "              37.38109167099526\n",
    "            ],\n",
    "            [\n",
    "              -122.11386322975159,\n",
    "              37.38109593364228\n",
    "            ],\n",
    "            [\n",
    "              -122.11386322975159,\n",
    "              37.38049489802194\n",
    "            ]\n",
    "          ]\n",
    "        ]\n",
    "      }\n",
    "    },\n",
    "            \"end_loc\":     {\n",
    "      \"type\": \"Feature\",\n",
    "      \"properties\": {\n",
    "        \"name\": \"Mountain View Library\"\n",
    "      },\n",
    "      \"geometry\": {\n",
    "        \"type\": \"Polygon\",\n",
    "        \"coordinates\": [\n",
    "          [\n",
    "            [\n",
    "              -122.08355963230133,\n",
    "              37.39091642895306\n",
    "            ],\n",
    "            [\n",
    "              -122.08428382873535,\n",
    "              37.38975713188671\n",
    "            ],\n",
    "            [\n",
    "              -122.08383858203888,\n",
    "              37.389573859018185\n",
    "            ],\n",
    "            [\n",
    "              -122.08340406417847,\n",
    "              37.390196132517175\n",
    "            ],\n",
    "            [\n",
    "              -122.08311975002289,\n",
    "              37.39012793841312\n",
    "            ],\n",
    "            [\n",
    "              -122.08280861377716,\n",
    "              37.390656441096894\n",
    "            ],\n",
    "            [\n",
    "              -122.08355426788331,\n",
    "              37.39096757399895\n",
    "            ],\n",
    "            [\n",
    "              -122.08355963230133,\n",
    "              37.39091642895306\n",
    "            ]\n",
    "          ]\n",
    "        ]\n",
    "      }\n",
    "    },\n",
    "    \n",
    "            \"polyline\": \"ayecF~nchVrAp@\\\\RhB~@}AhEEJ{@~BY^UXSZbB`BpBlArAp@dB|@fAXPF^LRH^Dl@@r@EZ?HH@f@Qh@Ql@TJHPP`@DVBHEXQ@EABh@v@P`@H@@d@`@f@FxAAElZJ^FT?rEYAoAB@X^v@RRTTfChCxD~CxAxA~DhDbAbABBb@`@|BzBFFMRLR?lEFH@nCBnEA|DA~BCxAA~@AxFBVLZCvLAhEGRHJ?t@?dCf@?AnCD@TTNB^ALCHCFT?rC\"\n",
    "        }"
   ]
  },
  {
   "cell_type": "code",
   "execution_count": null,
   "metadata": {},
   "outputs": [],
   "source": [
    "aes.validate_and_fill_leg(curr_leg_spec)"
   ]
  },
  {
   "cell_type": "code",
   "execution_count": null,
   "metadata": {},
   "outputs": [],
   "source": [
    "# curr_leg_spec"
   ]
  },
  {
   "cell_type": "code",
   "execution_count": null,
   "metadata": {},
   "outputs": [],
   "source": [
    "get_map_for_evaluation_trip(curr_leg_spec)"
   ]
  },
  {
   "cell_type": "code",
   "execution_count": null,
   "metadata": {},
   "outputs": [],
   "source": []
  }
 ],
 "metadata": {
  "kernelspec": {
   "display_name": "Python 3",
   "language": "python",
   "name": "python3"
  },
  "language_info": {
   "codemirror_mode": {
    "name": "ipython",
    "version": 3
   },
   "file_extension": ".py",
   "mimetype": "text/x-python",
   "name": "python",
   "nbconvert_exporter": "python",
   "pygments_lexer": "ipython3",
   "version": "3.6.1"
  }
 },
 "nbformat": 4,
 "nbformat_minor": 2
}
