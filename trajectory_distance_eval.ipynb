{
 "cells": [
  {
   "cell_type": "code",
   "execution_count": null,
   "id": "8f6e2e37",
   "metadata": {},
   "outputs": [],
   "source": [
    "# for reading and validating data\n",
    "import emeval.input.spec_details as eisd\n",
    "import emeval.input.phone_view as eipv\n",
    "import emeval.input.eval_view as eiev"
   ]
  },
  {
   "cell_type": "code",
   "execution_count": null,
   "id": "d06ccf71",
   "metadata": {},
   "outputs": [],
   "source": [
    "# Visualization helpers\n",
    "import emeval.viz.phone_view as ezpv\n",
    "import emeval.viz.eval_view as ezev"
   ]
  },
  {
   "cell_type": "code",
   "execution_count": null,
   "id": "02e57808",
   "metadata": {},
   "outputs": [],
   "source": [
    "# for pipelined data\n",
    "import emeval.analysed.phone_view as eapv"
   ]
  },
  {
   "cell_type": "code",
   "execution_count": null,
   "id": "bfe4e426",
   "metadata": {},
   "outputs": [],
   "source": [
    "import pandas as pd"
   ]
  },
  {
   "cell_type": "code",
   "execution_count": null,
   "id": "402ad1a9",
   "metadata": {
    "scrolled": true
   },
   "outputs": [],
   "source": [
    "import geopandas as gpd\n",
    "import shapely as shp"
   ]
  },
  {
   "cell_type": "code",
   "execution_count": null,
   "id": "3e6c70a6",
   "metadata": {},
   "outputs": [],
   "source": [
    "import numpy as np"
   ]
  },
  {
   "cell_type": "code",
   "execution_count": null,
   "id": "aa6b3f38",
   "metadata": {},
   "outputs": [],
   "source": [
    "import emeval.metrics.dist_calculations as emd"
   ]
  },
  {
   "cell_type": "code",
   "execution_count": null,
   "id": "2a2a824b",
   "metadata": {},
   "outputs": [],
   "source": [
    "# For plots\n",
    "import matplotlib.pyplot as plt\n",
    "%matplotlib inline"
   ]
  },
  {
   "cell_type": "code",
   "execution_count": null,
   "id": "edc3aeff",
   "metadata": {},
   "outputs": [],
   "source": [
    "# Analytics results\n",
    "import emeval.metrics.segmentation as ems"
   ]
  },
  {
   "cell_type": "code",
   "execution_count": null,
   "id": "e5ef2924",
   "metadata": {},
   "outputs": [],
   "source": [
    "# for statistics\n",
    "import scipy as sp\n",
    "import scipy.stats as spst "
   ]
  },
  {
   "cell_type": "code",
   "execution_count": null,
   "id": "9eeacb7e",
   "metadata": {},
   "outputs": [],
   "source": [
    "# For easier debugging while working on modules\n",
    "import importlib"
   ]
  },
  {
   "cell_type": "code",
   "execution_count": null,
   "id": "e33b319b",
   "metadata": {},
   "outputs": [],
   "source": [
    "#import sys "
   ]
  },
  {
   "cell_type": "code",
   "execution_count": null,
   "id": "ca3f4232",
   "metadata": {},
   "outputs": [],
   "source": [
    "#sys.path.append('/Users/gkosmach/Documents/every_trip_counts/e-mission-server')"
   ]
  },
  {
   "cell_type": "code",
   "execution_count": null,
   "id": "8fdad08f",
   "metadata": {},
   "outputs": [],
   "source": [
    "#import emission.analysis.intake.cleaning.location_smoothing as eaicl"
   ]
  },
  {
   "cell_type": "code",
   "execution_count": null,
   "id": "36e99aaa",
   "metadata": {},
   "outputs": [],
   "source": [
    "# json\n",
    "import json"
   ]
  },
  {
   "cell_type": "code",
   "execution_count": null,
   "id": "a8592014",
   "metadata": {},
   "outputs": [],
   "source": [
    "def import_sd_and_pv_from_server(trips  = [\"unimodal_trip_car_bike_mtv_la\", \"car_scooter_brex_san_jose\", \"train_bus_ebike_mtv_ucb\"], \n",
    "                                 AUTHOR_EMAIL  = \"shankari@eecs.berkeley.edu\", \n",
    "                                 DATASTORE_LOC = \"http://localhost:8080\", \n",
    "                                 pkl_file_name = None):\n",
    "    sd_l = []\n",
    "    pv_l = []\n",
    "    for trip in trips:\n",
    "        sd = eisd.ServerSpecDetails(DATASTORE_LOC, AUTHOR_EMAIL, trip)\n",
    "        pv = eipv.PhoneView(sd)\n",
    "        sd_l.append(sd)\n",
    "        pv_l.append(pv)\n",
    "    if pkl_file_name:\n",
    "        import pickle\n",
    "        with open(pkl_file_name, 'wb') as outp:\n",
    "            for pv in pv_l:\n",
    "                pickle.dump(pv, outp, pickle.HIGHEST_PROTOCOL)\n",
    "    return sd_l, pv_l"
   ]
  },
  {
   "cell_type": "code",
   "execution_count": null,
   "id": "78cdb998",
   "metadata": {},
   "outputs": [],
   "source": [
    "def import_pv_from_pkl(pkl_file_name, \n",
    "                       trips = [\"unimodal_trip_car_bike_mtv_la\", \"car_scooter_brex_san_jose\", \"train_bus_ebike_mtv_ucb\"]):\n",
    "    import pickle\n",
    "    pv_l = []\n",
    "    with open('pv.pkl', 'rb') as inp:\n",
    "        for trip in trips:\n",
    "            pv_l.append(pickle.load(inp))\n",
    "    return pv_l"
   ]
  },
  {
   "cell_type": "code",
   "execution_count": null,
   "id": "03207718",
   "metadata": {},
   "outputs": [],
   "source": [
    "(pv_la, pv_sj, pv_ucb) = import_pv_from_pkl('pv.pkl')"
   ]
  },
  {
   "cell_type": "code",
   "execution_count": null,
   "id": "27d8d8c4",
   "metadata": {},
   "outputs": [],
   "source": [
    "av_la = eapv.create_analysed_view(pv_la, \"http://localhost:8080\", \"analysis/recreated_location\", \"analysis/cleaned_trip\", \"analysis/cleaned_section\")\n",
    "av_sj = eapv.create_analysed_view(pv_sj, \"http://localhost:8080\", \"analysis/recreated_location\", \"analysis/cleaned_trip\", \"analysis/cleaned_section\")\n",
    "av_ucb = eapv.create_analysed_view(pv_ucb, \"http://localhost:8080\", \"analysis/recreated_location\", \"analysis/cleaned_trip\", \"analysis/cleaned_section\")"
   ]
  },
  {
   "cell_type": "code",
   "execution_count": null,
   "id": "036e8bad",
   "metadata": {
    "scrolled": true
   },
   "outputs": [],
   "source": [
    "def get_ss_and_gts_data(pv_l, os, role):\n",
    "    if type(pv_l) is not list:\n",
    "        pv_l = [pv_l]\n",
    "    trip_data = []\n",
    "    trip_dists = []\n",
    "    for pv in pv_l:\n",
    "        for phone_os, phone_map in pv.map().items():\n",
    "            if os != phone_os: continue\n",
    "            for phone_label, phone_detail_map in phone_map.items():\n",
    "                for r in phone_detail_map[\"evaluation_ranges\"]:\n",
    "                    if role not in r['eval_role']: continue\n",
    "                    if 'control' in r['eval_role']: continue\n",
    "                    for tr in r[\"evaluation_trip_ranges\"]:\n",
    "                        sensed_dist = 0\n",
    "                        gt_dist     = 0\n",
    "                        sensed_section_data = []\n",
    "                        ground_truth_section_data = []\n",
    "                        for ss in tr['sensed_section_ranges']:\n",
    "                            ss['data']['eval_role'] = r['eval_role']\n",
    "                            ss['data']['os']        = phone_os\n",
    "                            sensed_dist += ss['data']['distance']\n",
    "                            sensed_section_data.append(ss['data'])\n",
    "                        for sr in tr['evaluation_section_ranges']:\n",
    "                            section_gt_leg = pv.spec_details.get_ground_truth_for_leg(tr[\"trip_id_base\"], sr[\"trip_id_base\"], tr['start_ts'], tr['end_ts'])\n",
    "                            section_gt_shapes = gpd.GeoSeries(eisd.SpecDetails.get_shapes_for_leg(section_gt_leg))\n",
    "                            if len(section_gt_shapes) == 1:\n",
    "                                assert section_gt_leg[\"type\"] != \"TRAVEL\", \"For %s, %s, %s, %s, %s found type %s\" % (phone_os, phone_label, r_idx, tr_idx, sr_idx, section_gt_leg[\"type\"])\n",
    "                                continue\n",
    "                            if len(sr['location_df']) == 0:\n",
    "                                continue\n",
    "                            ## GET THE TOTAL GT DISTANCE OF A SECTION\n",
    "                            ground_truth_section_data.append(sr[\"location_df\"])\n",
    "                            gt_dist += ground_truth_section_data[-1].distance.sum()\n",
    "                        \n",
    "                        if gt_dist == 0 or sensed_dist == 0:\n",
    "                            continue\n",
    "                        if gt_dist != 0:\n",
    "                            trip_dists.append({'sensed_distance' : sensed_dist, 'ground_truth_distance' : gt_dist})\n",
    "                        trip_data.append( {'sensed_section_data' : sensed_section_data, 'ground_truth_section_data' : ground_truth_section_data})\n",
    "    return trip_dists, trip_data"
   ]
  },
  {
   "cell_type": "markdown",
   "id": "190afc4a",
   "metadata": {},
   "source": [
    "#### First, we find the overall approximation errors"
   ]
  },
  {
   "cell_type": "code",
   "execution_count": null,
   "id": "945332fc",
   "metadata": {},
   "outputs": [],
   "source": [
    "def get_approx_err(os, role, pv_l=[av_la, av_sj, av_ucb]):\n",
    "    trip_dist, trip_data = get_ss_and_gts_data(pv_l, os, role)\n",
    "    relative_error = []\n",
    "    absolute_error = []\n",
    "    for i in range(len(trip_dist)):\n",
    "        abs_err = (trip_dist[i]['sensed_distance'] - trip_dist[i]['ground_truth_distance'])\n",
    "        rel_err = abs_err / trip_dist[i]['ground_truth_distance']\n",
    "        relative_error.append(rel_err)\n",
    "        absolute_error.append(abs_err)\n",
    "    relative_error_df = pd.DataFrame(relative_error)\n",
    "    absolute_error_df =  pd.DataFrame(absolute_error)\n",
    "    return absolute_error_df, relative_error_df"
   ]
  },
  {
   "cell_type": "code",
   "execution_count": null,
   "id": "80659d0d",
   "metadata": {},
   "outputs": [],
   "source": [
    "def get_describe_table(os):\n",
    "    dic = {}\n",
    "    df = None\n",
    "    err_df = None\n",
    "    for role in ['HAHFDC', 'HAMFDC', 'MAHFDC']:\n",
    "        a_err, r_err = get_approx_err(os, role)\n",
    "        if df is None:\n",
    "            df = r_err.rename(columns={0: f\"{role}\"}).describe()\n",
    "            err_df = r_err.rename(columns={0: f\"{role}\"})\n",
    "        else:\n",
    "            df = pd.concat([df, r_err.rename(columns={0: f\"{role}\"}).describe()], axis=1)\n",
    "            err_df = pd.concat([err_df, r_err.rename(columns={0: f\"{role}\"})], axis=1)\n",
    "    dic[os] = df\n",
    "    err_df.plot.density(title=f'Gaussian KDE of Relative Error for {os}')\n",
    "    err_df.plot.box(title=f'Box Plots of Relative Error for {os}')\n",
    "    return pd.concat(dic, axis=1)"
   ]
  },
  {
   "cell_type": "code",
   "execution_count": null,
   "id": "d68aa907",
   "metadata": {},
   "outputs": [],
   "source": [
    "get_describe_table('ios')"
   ]
  },
  {
   "cell_type": "code",
   "execution_count": null,
   "id": "c1e01453",
   "metadata": {},
   "outputs": [],
   "source": [
    "get_describe_table('android')"
   ]
  },
  {
   "cell_type": "markdown",
   "id": "8e85e9f7",
   "metadata": {},
   "source": [
    "# Production Level Boxplots"
   ]
  },
  {
   "cell_type": "code",
   "execution_count": null,
   "id": "d188e49b",
   "metadata": {},
   "outputs": [],
   "source": [
    "fig, ax = plt.subplots(1,2, figsize=(8,4), dpi=300, sharey=True)\n",
    "for i,os in enumerate(['android', 'ios']):\n",
    "    dic = {}\n",
    "    df = None\n",
    "    err_df = None\n",
    "    for role in ['HAHFDC', 'HAMFDC', 'MAHFDC']:\n",
    "\n",
    "        a_err, r_err = get_approx_err(os, role)\n",
    "        if df is None:\n",
    "            df = r_err.rename(columns={0: f\"{role}\"}).describe()\n",
    "            err_df = r_err.rename(columns={0: f\"{role}\"})\n",
    "        else:\n",
    "            df = pd.concat([df, r_err.rename(columns={0: f\"{role}\"}).describe()], axis=1)\n",
    "            err_df = pd.concat([err_df, r_err.rename(columns={0: f\"{role}\"})], axis=1)\n",
    "    dic[os] = df\n",
    "    err_df.plot.box(title=f'{os}', ax=ax[i], patch_artist=True)\n",
    "plt.suptitle(\"Signed Relative Length Error by OS and Configuration Settings\", weight='bold', size='x-large')\n",
    "# plt.savefig(fname='images/mes_len_boxplots',  bbox_inches=\"tight\")"
   ]
  },
  {
   "cell_type": "markdown",
   "id": "c7965dca",
   "metadata": {},
   "source": [
    "# JSON table "
   ]
  },
  {
   "cell_type": "code",
   "execution_count": null,
   "id": "7f940ea5",
   "metadata": {},
   "outputs": [],
   "source": [
    "json_dump = json.dumps( \n",
    "    {\n",
    "        \"relative_distance_errors\" :\n",
    "        {\n",
    "            \"android:HAMF\" : np.array(get_approx_err('android', 'HAMFDC')[-1]).tolist(),\n",
    "            \"ios:HAHF\"     : np.array(get_approx_err('ios', 'HAHFDC')[-1]).tolist()\n",
    "        }\n",
    "    }\n",
    ")\n",
    "# Writing to relative_distance_errors.json\n",
    "with open(\"tables/relative_distance_errors.json\", \"w\") as outfile:\n",
    "    outfile.write(json_dump)"
   ]
  },
  {
   "cell_type": "markdown",
   "id": "a9e15cf6",
   "metadata": {},
   "source": [
    "# Function that takes in a spec detail (or spec details) and outputs a JSON table"
   ]
  },
  {
   "cell_type": "code",
   "execution_count": null,
   "id": "2c751b89",
   "metadata": {},
   "outputs": [],
   "source": [
    "def get_relative_distance_error_table(sd, output_file_name=\"relative_distance_errors.json\") :\n",
    "    if type(sd) is not list: sd = [sd]\n",
    "    pv_l = []\n",
    "    av_l = []\n",
    "    for s in sd:\n",
    "        pv = eipv.PhoneView(sd)\n",
    "        av = eapv.create_analysed_view(pv, s.DATASTORE_LOC, \"analysis/recreated_location\", \"analysis/cleaned_trip\", \"analysis/cleaned_section\")\n",
    "        pv_l.append(pv_l)\n",
    "        av_l.append(av_l)\n",
    "    abs_err, rel_err = get_approx_err(os, role, pv_l=pv_l)\n",
    "    json_dump = json.dumps( \n",
    "        {\n",
    "            \"relative_distance_errors\" :\n",
    "            {\n",
    "                \"android:HAMF\" : np.array(get_approx_err('android', 'HAMFDC')[-1]).tolist(),\n",
    "                \"ios:HAHF\"     : np.array(get_approx_err('ios', 'HAHFDC')[-1]).tolist()\n",
    "            }\n",
    "        }\n",
    "    )\n",
    "    # Writing to relative_distance_errors.json\n",
    "    with open(output_file_name, \"w\") as outfile:\n",
    "        outfile.write(json_dump)"
   ]
  }
 ],
 "metadata": {
  "kernelspec": {
   "display_name": "Python 3 (ipykernel)",
   "language": "python",
   "name": "python3"
  },
  "language_info": {
   "codemirror_mode": {
    "name": "ipython",
    "version": 3
   },
   "file_extension": ".py",
   "mimetype": "text/x-python",
   "name": "python",
   "nbconvert_exporter": "python",
   "pygments_lexer": "ipython3",
   "version": "3.8.13"
  }
 },
 "nbformat": 4,
 "nbformat_minor": 5
}
