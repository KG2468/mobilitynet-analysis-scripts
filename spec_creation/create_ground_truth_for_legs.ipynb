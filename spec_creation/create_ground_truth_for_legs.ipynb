{
 "cells": [
  {
   "cell_type": "markdown",
   "metadata": {},
   "source": [
    "# Interactive spec creation\n",
    "\n",
    "This notebook is intended to make it easier to generate ground truth for trips to put into the evaluation spec files. Putting in a bunch of trips into a spec file and trying to fill in all of them leads to wasted time, specially if we have a lot of relations, since we must query OSM over and over to pull the data to populate the coordinates. And then we have to visualize all the trips at once as part of the validation, so if we find any errors, we need to regenerate the coordinates for all trips.\n",
    "\n",
    "This notebook allows us to interactively develop individual specs before copy-pasting them into the overall spec file."
   ]
  },
  {
   "cell_type": "markdown",
   "metadata": {},
   "source": [
    "### These initial cells are for setup and should not need to be changed"
   ]
  },
  {
   "cell_type": "code",
   "execution_count": null,
   "metadata": {},
   "outputs": [],
   "source": [
    "import logging\n",
    "logging.getLogger().setLevel(logging.DEBUG)"
   ]
  },
  {
   "cell_type": "markdown",
   "metadata": {},
   "source": [
    "#### Let's see what we can do with the OSM API directly"
   ]
  },
  {
   "cell_type": "code",
   "execution_count": null,
   "metadata": {},
   "outputs": [],
   "source": [
    "import autofill_eval_spec as aes"
   ]
  },
  {
   "cell_type": "code",
   "execution_count": null,
   "metadata": {},
   "outputs": [],
   "source": [
    "import folium\n",
    "import folium.features as fof\n",
    "import folium.utilities as ful\n",
    "import branca.element as bre"
   ]
  },
  {
   "cell_type": "code",
   "execution_count": null,
   "metadata": {},
   "outputs": [],
   "source": [
    "import polyline as pl\n",
    "import json"
   ]
  },
  {
   "cell_type": "code",
   "execution_count": null,
   "metadata": {},
   "outputs": [],
   "source": [
    "import osmapi"
   ]
  },
  {
   "cell_type": "code",
   "execution_count": null,
   "metadata": {},
   "outputs": [],
   "source": [
    "osm = osmapi.OsmApi()"
   ]
  },
  {
   "cell_type": "code",
   "execution_count": null,
   "metadata": {},
   "outputs": [],
   "source": [
    "def lonlat_swap(lon_lat):\n",
    "    return list(reversed(lon_lat))"
   ]
  },
  {
   "cell_type": "code",
   "execution_count": null,
   "metadata": {},
   "outputs": [],
   "source": [
    "def get_one_marker(loc, disp_color):\n",
    "    if loc[\"geometry\"][\"type\"] == \"Point\":\n",
    "        curr_latlng = lonlat_swap(loc[\"geometry\"][\"coordinates\"])\n",
    "        return folium.Marker(curr_latlng, icon=folium.Icon(color=disp_color),\n",
    "                  popup=\"%s\" % loc[\"properties\"][\"name\"])\n",
    "    elif loc[\"geometry\"][\"type\"] == \"Polygon\":\n",
    "        assert len(loc[\"geometry\"][\"coordinates\"]) == 1,\\\n",
    "            \"Only simple polygons supported!\"\n",
    "        curr_latlng = [lonlat_swap(c) for c in loc[\"geometry\"][\"coordinates\"][0]]\n",
    "        # print(\"Returning polygon for %s\" % curr_latlng)\n",
    "        return folium.PolyLine(curr_latlng, color=disp_color, fill=disp_color,\n",
    "                  popup=\"%s\" % loc[\"properties\"][\"name\"])"
   ]
  },
  {
   "cell_type": "code",
   "execution_count": null,
   "metadata": {},
   "outputs": [],
   "source": [
    "def get_marker(loc, disp_color):\n",
    "    if type(loc) == list:\n",
    "        return [get_one_marker(l, disp_color) for l in loc]\n",
    "    else:\n",
    "        print(\"Found single entry, is this expected?\")\n",
    "        return [get_one_marker(loc, disp_color)]"
   ]
  },
  {
   "cell_type": "code",
   "execution_count": null,
   "metadata": {},
   "outputs": [],
   "source": [
    "def add_waypoint_markers(waypoint_coords, curr_map):\n",
    "    for i, wpc in enumerate(waypoint_coords[\"geometry\"][\"coordinates\"]):\n",
    "        folium.map.Marker(\n",
    "            lonlat_swap(wpc), popup=\"%d\" % i,\n",
    "            icon=fof.DivIcon(class_name='leaflet-div-icon')).add_to(curr_map)\n",
    "\n",
    "def get_map_for_travel_leg(trip):\n",
    "    curr_map = folium.Map()\n",
    "    # print([loc for loc in trip[\"start_loc\"]])\n",
    "    print([loc for loc in trip[\"end_loc\"]])\n",
    "    [get_one_marker(loc, \"green\").add_to(curr_map) for loc in trip[\"start_loc\"]]\n",
    "    [get_one_marker(loc, \"red\").add_to(curr_map) for loc in trip[\"end_loc\"]]\n",
    "    \n",
    "    # iterate over all reroutes\n",
    "    for rc in trip[\"route_coords\"]:\n",
    "        coords = rc[\"geometry\"][\"coordinates\"]\n",
    "        print(\"Found %d coordinates for the route\" % (len(coords)))\n",
    "        \n",
    "        latlng_coords = [lonlat_swap(c) for c in coords]\n",
    "        folium.PolyLine(latlng_coords, popup=\"%s: %s\" % (trip[\"mode\"], trip[\"name\"])).add_to(curr_map)\n",
    "        \n",
    "        for i, c in enumerate(latlng_coords):\n",
    "            folium.CircleMarker(c, radius=5, popup=\"%d: %s\" % (i, c)).add_to(curr_map)\n",
    "            \n",
    "        curr_map.fit_bounds(ful.get_bounds(latlng_coords))\n",
    "    \n",
    "    return curr_map"
   ]
  },
  {
   "cell_type": "code",
   "execution_count": null,
   "metadata": {},
   "outputs": [],
   "source": [
    "def get_map_for_shim_leg(trip):\n",
    "    curr_map = folium.Map()\n",
    "    for loc in trip[\"loc\"]:\n",
    "        mkr = get_one_marker(loc, \"purple\")\n",
    "        mkr.add_to(curr_map)\n",
    "        curr_map.fit_bounds(mkr.get_bounds())\n",
    "    return curr_map"
   ]
  },
  {
   "cell_type": "markdown",
   "metadata": {},
   "source": [
    "# This is the important part\n",
    "\n",
    "Instructions:\n",
    "- Experiment with methods to generate start and end polygons or polylines (either here or using http://geojson.io or https://open-polyline-decoder.60devs.com/)\n",
    "- Edit the cell below and use them to create a spec leg\n",
    "- Run the cells below that to fill it in and display it\n",
    "- Tweak the various fill/population methods until the trip looks right\n",
    "- The leg is saved to a file (`/tmp/curr_leg.json`) every time\n",
    "- Once the leg is final, include the text *in the file* into your spec\n",
    "- DO NOT copy and paste directly from the notebook; the JSON can be finicky about the formatting\n",
    "- Rinse and repeat"
   ]
  },
  {
   "cell_type": "markdown",
   "metadata": {},
   "source": [
    "### Option 1: Using an OSM relation and a start and end node\n",
    "\n",
    "Used to create the bus route in the sample spec"
   ]
  },
  {
   "cell_type": "code",
   "execution_count": null,
   "metadata": {
    "scrolled": false
   },
   "outputs": [],
   "source": [
    "# Using a public transit relation and start and end stops from OSM\n",
    "# This is the 52 bus line from El Camino/Castro to Foothill College\n",
    "route_coords = aes.get_coords_for_relation(rid=9937346, start_node=6703651466, end_node=343648647)\n",
    "pl.encode(route_coords)"
   ]
  },
  {
   "cell_type": "markdown",
   "metadata": {},
   "source": [
    "## Option 2a: Using OSRM with OSM nodes\n",
    "\n",
    "- Used to create the walking route in the sample spec (to bus stop and from bus stop)\n",
    "- The Foothill version was post-edited with geojson.io since OSRM persisted in doubling back"
   ]
  },
  {
   "cell_type": "code",
   "execution_count": null,
   "metadata": {},
   "outputs": [],
   "source": [
    "t = {\n",
    "    \"mode\": \"WALKING\", # or CAR, BICYCLING or BUS\n",
    "    \"route_waypoints\": [6426801140, 2338378009, 2338378003]\n",
    "}\n",
    "route_coords = aes.get_route_from_osrm(t, start_coords=aes.node_to_geojson_coords(5301175134), end_coords=aes.node_to_geojson_coords(2161940025))\n",
    "pl.encode(route_coords)"
   ]
  },
  {
   "cell_type": "markdown",
   "metadata": {},
   "source": [
    "### Example of re-encoding the polyline after editing\n",
    "\n",
    "- Copy paste the old coords into geojson.io\n",
    "- edit\n",
    "- paste the new coords back here\n",
    "- encode into the new polyline"
   ]
  },
  {
   "cell_type": "code",
   "execution_count": null,
   "metadata": {},
   "outputs": [],
   "source": [
    "# [lonlat_swap(c) for c in route_coords]"
   ]
  },
  {
   "cell_type": "code",
   "execution_count": null,
   "metadata": {},
   "outputs": [],
   "source": [
    "# new_coords = []\n",
    "# pl.encode([lonlat_swap(c) for c in new_coords])"
   ]
  },
  {
   "cell_type": "markdown",
   "metadata": {},
   "source": [
    "## Option 2b: Using OSRM with coordinate waypoints\n",
    "\n",
    "Used to create the car trip in the sample spec\n",
    "- use geojson.io to find start and end points in the polygon \n",
    "- use geojson.io to create the waypoint linestring\n",
    "\n",
    "Post-edited in geojson.io to avoid weird routing with OSRM"
   ]
  },
  {
   "cell_type": "code",
   "execution_count": null,
   "metadata": {},
   "outputs": [],
   "source": [
    "t = {\n",
    "    \"mode\": \"CAR\", # or CAR, BICYCLING or BUS\n",
    "    \"waypoint_coords\":     \n",
    "    {\n",
    "      \"type\": \"Feature\",\n",
    "      \"properties\": {},\n",
    "      \"geometry\": {\n",
    "        \"type\": \"LineString\",\n",
    "        \"coordinates\": [\n",
    "          [-122.09133803844452, 37.37410486690446],\n",
    "          [-122.08707869052887, 37.374087814725534],\n",
    "          [-122.08697140216826, 37.3750235473139],\n",
    "          [-122.08697944879532, 37.3772040360451],\n",
    "          [-122.08701968193054, 37.38092329624445],\n",
    "          [-122.08611845970152, 37.38176942882687]\n",
    "        ]\n",
    "      }\n",
    "    }\n",
    "}\n",
    "start_lonlat = [-122.13025152683258, 37.35973490013966]\n",
    "end_lonlat = [-122.08356499671936, 37.39037087962563]\n",
    "route_coords = aes.get_route_from_osrm(t, start_coords=start_lonlat, end_coords=end_lonlat)\n",
    "pl.encode(route_coords)"
   ]
  },
  {
   "cell_type": "markdown",
   "metadata": {},
   "source": [
    "### Tweak if needed"
   ]
  },
  {
   "cell_type": "code",
   "execution_count": null,
   "metadata": {},
   "outputs": [],
   "source": [
    "# [lonlat_swap(c) for c in route_coords]"
   ]
  },
  {
   "cell_type": "code",
   "execution_count": null,
   "metadata": {},
   "outputs": [],
   "source": [
    "# new_coords = []\n",
    "# pl.encode([lonlat_swap(c) for c in new_coords])"
   ]
  },
  {
   "cell_type": "code",
   "execution_count": null,
   "metadata": {},
   "outputs": [],
   "source": [
    "import importlib"
   ]
  },
  {
   "cell_type": "code",
   "execution_count": null,
   "metadata": {},
   "outputs": [],
   "source": [
    "importlib.reload(aes)"
   ]
  },
  {
   "cell_type": "markdown",
   "metadata": {},
   "source": [
    "## Spec we are working on"
   ]
  },
  {
   "cell_type": "code",
   "execution_count": null,
   "metadata": {},
   "outputs": [],
   "source": [
    "curr_leg_spec = \\\n",
    "{\n",
    "                \"id\": \"campus_walk\",\n",
    "                \"name\": \"Walk on the Foothill campus\",\n",
    "                \"mode\": \"WALKING\",\n",
    "                \"start_loc\": {\n",
    "                    \"type\": \"Feature\",\n",
    "                    \"properties\": {\n",
    "                        \"name\": \"Foothill pool\"\n",
    "                    },\n",
    "                    \"geometry\": {\n",
    "                        \"type\": \"Polygon\",\n",
    "                        \"coordinates\": [\n",
    "                            [\n",
    "            [\n",
    "              -122.12678946554661,\n",
    "              37.3624887707069\n",
    "            ],\n",
    "            [\n",
    "              -122.1268632262945,\n",
    "              37.36245146328467\n",
    "            ],\n",
    "            [\n",
    "              -122.12655209004879,\n",
    "              37.362050140841276\n",
    "            ],\n",
    "            [\n",
    "              -122.12643943727016,\n",
    "              37.36215779992784\n",
    "            ],\n",
    "            [\n",
    "              -122.12671637535095,\n",
    "              37.36252447922224\n",
    "            ],\n",
    "            [\n",
    "              -122.12678946554661,\n",
    "              37.3624887707069\n",
    "            ]\n",
    "                            ]\n",
    "                        ]\n",
    "                    }\n",
    "                },\n",
    "                \"end_loc\": {\n",
    "                    \"type\": \"Feature\",\n",
    "                    \"properties\": {\n",
    "                        \"name\": \"Foothill fountain\"\n",
    "                    },\n",
    "                    \"geometry\": {\n",
    "                        \"type\": \"Polygon\",\n",
    "                        \"coordinates\": [\n",
    "                            [\n",
    "                                [ -122.12924435734747, 37.36135941352246 ],\n",
    "                                [ -122.12901771068573, 37.36108013616577 ],\n",
    "                                [ -122.12868243455887, 37.361213379309085 ],\n",
    "                                [ -122.12891444563866, 37.361499051811045 ],\n",
    "                                [ -122.12924435734747, 37.36135941352246 ]\n",
    "                            ]\n",
    "                        ]\n",
    "                    }\n",
    "                },\n",
    "                \"polyline\": \"mj`cFd{khVIHEGJIKHk@uAGOVQBFDHBHDH@BBFHRt@i@BFDHRRDDHFFJDJn@~AN`@L^_@Va@TOb@D\\\\Pb@JRF^Df@????f@xA????j@]ULUNg@yAEg@G_@KSQc@E]Nc@`@U^W\"\n",
    "            }"
   ]
  },
  {
   "cell_type": "markdown",
   "metadata": {},
   "source": [
    "### Write it out before filling it in"
   ]
  },
  {
   "cell_type": "code",
   "execution_count": null,
   "metadata": {},
   "outputs": [],
   "source": [
    "json.dump(curr_leg_spec, open(\"/tmp/curr_leg.json\", \"w\"), indent=4)"
   ]
  },
  {
   "cell_type": "markdown",
   "metadata": {},
   "source": [
    "### Fill it in"
   ]
  },
  {
   "cell_type": "code",
   "execution_count": null,
   "metadata": {},
   "outputs": [],
   "source": [
    "curr_leg_spec = aes.validate_and_fill_leg(curr_leg_spec, \"2020-01-01\", \"2021-10-10\")"
   ]
  },
  {
   "cell_type": "code",
   "execution_count": null,
   "metadata": {},
   "outputs": [],
   "source": [
    "# Dump filled value to copy-paste into geojson.io as needed\n",
    "# json.dumps(curr_leg_spec[\"route_coords\"][0])"
   ]
  },
  {
   "cell_type": "markdown",
   "metadata": {},
   "source": [
    "### Validate it"
   ]
  },
  {
   "cell_type": "code",
   "execution_count": null,
   "metadata": {},
   "outputs": [],
   "source": [
    "get_map_for_travel_leg(curr_leg_spec)"
   ]
  },
  {
   "cell_type": "markdown",
   "metadata": {},
   "source": [
    "### Insert into spec\n",
    "\n",
    "- If everything looks good, insert the leg from `/tmp/curr_leg.json` into the spec\n",
    "- If something looks wrong, keep tweaking"
   ]
  },
  {
   "cell_type": "markdown",
   "metadata": {},
   "source": [
    "Sat down in San Jose: 12:28pm\n",
    "Got up from San Jose: 3:47pm"
   ]
  },
  {
   "cell_type": "code",
   "execution_count": null,
   "metadata": {},
   "outputs": [],
   "source": []
  },
  {
   "cell_type": "code",
   "execution_count": null,
   "metadata": {},
   "outputs": [],
   "source": []
  }
 ],
 "metadata": {
  "kernelspec": {
   "display_name": "Python 3",
   "language": "python",
   "name": "python3"
  },
  "language_info": {
   "codemirror_mode": {
    "name": "ipython",
    "version": 3
   },
   "file_extension": ".py",
   "mimetype": "text/x-python",
   "name": "python",
   "nbconvert_exporter": "python",
   "pygments_lexer": "ipython3",
   "version": "3.8.2"
  }
 },
 "nbformat": 4,
 "nbformat_minor": 2
}
