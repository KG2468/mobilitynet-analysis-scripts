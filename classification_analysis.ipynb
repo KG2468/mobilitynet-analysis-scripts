{
 "cells": [
  {
   "cell_type": "markdown",
   "id": "36ac74aa",
   "metadata": {},
   "source": [
    "# Classification Analysis\n",
    "This notebook will contain classification analysis for both the sensed and pipelined algorithms. Analysis will be preformed in regards for the sensed and pipelined algorthms themselves, as well as the ensemble algorithms. The analysis for the ensemble algorithm will focus on the HAMF android phones and the HAHF iOS phones."
   ]
  },
  {
   "cell_type": "markdown",
   "id": "01c045fb",
   "metadata": {},
   "source": [
    "## Dependencies"
   ]
  },
  {
   "cell_type": "code",
   "execution_count": null,
   "id": "75b2c0fe",
   "metadata": {},
   "outputs": [],
   "source": [
    "# for reading and validating data\n",
    "import emeval.input.spec_details as eisd\n",
    "import emeval.input.phone_view as eipv\n",
    "import emeval.input.eval_view as eiev"
   ]
  },
  {
   "cell_type": "code",
   "execution_count": null,
   "id": "ef7ea7c3",
   "metadata": {},
   "outputs": [],
   "source": [
    "import emeval.viz.phone_view as ezpv\n",
    "import emeval.viz.eval_view as ezev\n",
    "import emeval.viz.geojson as ezgj"
   ]
  },
  {
   "cell_type": "code",
   "execution_count": null,
   "id": "d3c817fd",
   "metadata": {},
   "outputs": [],
   "source": [
    "import emeval.metrics.segmentation as ems"
   ]
  },
  {
   "cell_type": "code",
   "execution_count": null,
   "id": "234c622b",
   "metadata": {},
   "outputs": [],
   "source": [
    "import pandas as pd\n",
    "pd.options.display.float_format = '{:.6f}'.format\n",
    "import arrow\n",
    "import numpy as np"
   ]
  },
  {
   "cell_type": "code",
   "execution_count": null,
   "id": "30c83454",
   "metadata": {},
   "outputs": [],
   "source": [
    "# For plots\n",
    "import matplotlib.pyplot as plt\n",
    "%matplotlib inline"
   ]
  },
  {
   "cell_type": "code",
   "execution_count": null,
   "id": "b32ef879",
   "metadata": {},
   "outputs": [],
   "source": [
    "# For maps\n",
    "import folium\n",
    "import branca.element as bre"
   ]
  },
  {
   "cell_type": "code",
   "execution_count": null,
   "id": "ce7ef8a6",
   "metadata": {},
   "outputs": [],
   "source": [
    "# For easier debugging while working on modules\n",
    "import importlib"
   ]
  },
  {
   "cell_type": "code",
   "execution_count": null,
   "id": "b30cdf85",
   "metadata": {},
   "outputs": [],
   "source": [
    "import arrow"
   ]
  },
  {
   "cell_type": "code",
   "execution_count": null,
   "id": "fceb9e2b",
   "metadata": {},
   "outputs": [],
   "source": [
    "def import_sd_and_pv_from_server(trips  = [\"unimodal_trip_car_bike_mtv_la\", \"car_scooter_brex_san_jose\", \"train_bus_ebike_mtv_ucb\"], \n",
    "                                 AUTHOR_EMAIL  = \"shankari@eecs.berkeley.edu\", \n",
    "                                 DATASTORE_LOC = \"http://localhost:8080\", \n",
    "                                 pkl_file_name = None):\n",
    "    sd_l = []\n",
    "    pv_l = []\n",
    "    for trip in trips:\n",
    "        sd = eisd.ServerSpecDetails(DATASTORE_LOC, AUTHOR_EMAIL, trip)\n",
    "        pv = eipv.PhoneView(sd)\n",
    "        sd_l.append(sd)\n",
    "        pv_l.append(pv)\n",
    "    if pkl_file_name:\n",
    "        import pickle\n",
    "        with open(pkl_file_name, 'wb') as outp:\n",
    "            for pv in pv_l:\n",
    "                pickle.dump(pv, outp, pickle.HIGHEST_PROTOCOL)\n",
    "    return sd_l, pv_l"
   ]
  },
  {
   "cell_type": "code",
   "execution_count": null,
   "id": "748bad00",
   "metadata": {},
   "outputs": [],
   "source": [
    "def import_pv_from_pkl(pkl_file_name, \n",
    "                       trips = [\"unimodal_trip_car_bike_mtv_la\", \"car_scooter_brex_san_jose\", \"train_bus_ebike_mtv_ucb\"]):\n",
    "    import pickle\n",
    "    pv_l = []\n",
    "    with open('pv.pkl', 'rb') as inp:\n",
    "        for trip in trips:\n",
    "            pv_l.append(pickle.load(inp))\n",
    "    return pv_l"
   ]
  },
  {
   "cell_type": "code",
   "execution_count": null,
   "id": "f5f7a461",
   "metadata": {},
   "outputs": [],
   "source": [
    "(pv_la, pv_sj, pv_ucb) = import_pv_from_pkl('pv.pkl')"
   ]
  },
  {
   "cell_type": "markdown",
   "id": "be3b7b48",
   "metadata": {},
   "source": [
    "### Get the sensed data for each trip"
   ]
  },
  {
   "cell_type": "code",
   "execution_count": null,
   "id": "ed5b7353",
   "metadata": {},
   "outputs": [],
   "source": [
    "%%capture\n",
    "ems.fill_sensed_section_ranges(pv_la)\n",
    "ems.fill_sensed_section_ranges(pv_sj)\n",
    "ems.fill_sensed_section_ranges(pv_ucb)"
   ]
  },
  {
   "cell_type": "markdown",
   "id": "5425a4a7",
   "metadata": {},
   "source": [
    "## Get sensed timeline\n",
    "\n",
    "```python\n",
    "def get_trip_ss_and_gts_timeline(pv):\n",
    "    \"\"\"\n",
    "    Get the sensed and ground truth timeline for each evaluation trip range for a given phone view.\n",
    "    \n",
    "    ----------\n",
    "    Parameters\n",
    "    ----------\n",
    "    arg1: phone view\n",
    "        A phone view to recieve timelines for.\n",
    "    arg2: os\n",
    "        a phone os to evaluate, must be one of 'ios' or 'android'\n",
    "    arg3:\n",
    "        an acuracy/frequency combination, must be one of 'accuracy_control', 'HAHFDC', 'HAMFDC', 'MAHFDC', 'power_control'\n",
    "\n",
    "    -------\n",
    "    Returns\n",
    "    -------\n",
    "    list\n",
    "        A list of trips for each phone view. Each trip has two entries, the sensed mode timeline and the ground truth timeline for the corresponding evaluation trip range.\n",
    "    \"\"\"\n",
    "    ...\n",
    "```"
   ]
  },
  {
   "cell_type": "markdown",
   "id": "def9f8c4",
   "metadata": {},
   "source": [
    "`TODO` break up the timelines by os and accuracy/frequency"
   ]
  },
  {
   "cell_type": "code",
   "execution_count": null,
   "id": "d90fa1c5",
   "metadata": {},
   "outputs": [],
   "source": [
    "def get_trip_ss_and_gts_timeline(pv, os, role):\n",
    "    assert os in ['android', 'ios'], 'UNKNOWN OS'\n",
    "    assert role in ['accuracy_control', 'HAHFDC', 'HAMFDC', 'MAHFDC', 'power_control'], \"UNKNOWN ROLE\"\n",
    "    trips = []\n",
    "    for phone_os, phone_map in pv.map().items():\n",
    "        if os != phone_os:\n",
    "            continue\n",
    "        for phone_label, phone_detail_map in phone_map.items():\n",
    "            if \"control\" in phone_detail_map[\"role\"]:\n",
    "#                 print(\"Ignoring %s phone %s since they are always on\" % (phone_detail_map[\"role\"], phone_label))\n",
    "                continue\n",
    "            # this spec does not have any calibration ranges, but evaluation ranges are actually cooler\n",
    "            for r in phone_detail_map[\"evaluation_ranges\"]:\n",
    "                if r['eval_role_base'] != role:\n",
    "                    continue\n",
    "                for tr in r[\"evaluation_trip_ranges\"]:\n",
    "                    tr_ss  = []\n",
    "                    tr_gts = []\n",
    "                    for ss in tr[\"sensed_section_ranges\"]:\n",
    "                        tr_ss.append(ss)\n",
    "                    for section in tr[\"evaluation_section_ranges\"]:\n",
    "                        section_gt_leg = pv.spec_details.get_ground_truth_for_leg(tr['trip_id_base'],\n",
    "                                                                                  section['trip_id_base'],\n",
    "                                                                                  tr['start_ts'],\n",
    "                                                                                  tr['end_ts'])\n",
    "                        if section_gt_leg[\"type\"] == \"WAITING\":\n",
    "#                             print(\"Skipping WAITING section %s %s with potential partway transitions\" %\n",
    "#                                   (tr[\"trip_id\"], section[\"trip_id\"]))\n",
    "                            continue\n",
    "                        # this calulcates the metric for the mode\n",
    "\n",
    "                        ## and now we have the gt mode!\n",
    "                        gts = {'start_ts': section['start_ts'], \n",
    "                               'end_ts': section['end_ts'], \n",
    "                               'mode': section_gt_leg['mode']}\n",
    "                        tr_gts.append(gts)\n",
    "                # now, we build a timeline for each trip\n",
    "                trip = tr.copy()\n",
    "                trip['ss_timeline']  = tr_ss\n",
    "                trip['gts_timeline'] = tr_gts\n",
    "                trips.append(trip)\n",
    "    return trips"
   ]
  },
  {
   "cell_type": "markdown",
   "id": "20bb504d",
   "metadata": {},
   "source": [
    "## Binary Classification\n",
    "```python\n",
    "def get_binary_class(pv, os, role):\n",
    "    \"\"\"\n",
    "    This function computes binary classifications for a given set of trips.\n",
    "    Using one unit of duration as our base unit, we calculate the following classifications:\n",
    "        * True Positive\n",
    "            + A true positive is when we sense that we are in a mode and we are in that mode.\n",
    "        * False Positive\n",
    "            + A false positive is when we sense that we are in a mode that we are not it.\n",
    "        * False Negative\n",
    "            + A false negative is when we are in a mode, but we do not sense being in that mode.\n",
    "     \n",
    "     Note that we compute the binary classifications for each sensed mode, but we combine the 'WALKING' and 'RUNNING' modes.\n",
    "     Additionally, note that we have use the ground truth base mode when determining hits and misses. \n",
    "    \n",
    "    ----------\n",
    "    Parameters\n",
    "    ----------\n",
    "    arg1: phone view\n",
    "        A phone view to recieve timelines for.\n",
    "    arg2: os\n",
    "        a phone os to evaluate, must be one of 'ios' or 'android'\n",
    "    arg3:\n",
    "        an acuracy/frequency combination, must be one of 'accuracy_control', 'HAHFDC', 'HAMFDC', 'MAHFDC', 'power_control'\n",
    "    \n",
    "    -------\n",
    "    Returns\n",
    "    -------\n",
    "    list\n",
    "        A list with the following entries\n",
    "            [0] A dictionary of true positives with sensed modes as keys and TP hits has values.\n",
    "            [1] A dictionary of false positives with sensed modes as keys and FP hits has values.\n",
    "            [2] A dictionary of false negatives with sensed modes as keys and FN hits has values.\n",
    "    \n",
    "    \"\"\"\n",
    "    ...\n",
    "```"
   ]
  },
  {
   "cell_type": "code",
   "execution_count": null,
   "id": "39fd0caa",
   "metadata": {},
   "outputs": [],
   "source": [
    "def get_binary_class(pv, os, role):\n",
    "    assert os in ['android', 'ios'], 'UNKNOWN OS'\n",
    "    assert role in ['accuracy_control', 'HAHFDC', 'HAMFDC', 'MAHFDC', 'power_control'], \"UNKNOWN ROLE\"\n",
    "    BASE_MODE = {\"WALKING\": \"WALKING\",\n",
    "        \"BICYCLING\": \"CYCLING\",\n",
    "        \"ESCOOTER\": \"CYCLING\",\n",
    "        \"BUS\": \"AUTOMOTIVE\",\n",
    "        \"TRAIN\": \"AUTOMOTIVE\",\n",
    "        \"LIGHT_RAIL\": \"AUTOMOTIVE\",\n",
    "        \"SUBWAY\": \"AUTOMOTIVE\",\n",
    "        \"CAR\": \"AUTOMOTIVE\"}\n",
    "    trips = get_trip_ss_and_gts_timeline(pv, os, role)\n",
    "    TP = {}\n",
    "    FP = {}\n",
    "    FN = {}\n",
    "    ## loop though all of the trips\n",
    "    for trip in trips:\n",
    "        ## when we sense a mode. Used for TP and FP\n",
    "        for ss in trip['sensed_section_ranges']:\n",
    "            # sensed duration := TP + FP\n",
    "            ss_dur  = ss['end_ts'] - ss['start_ts']\n",
    "            time_in_gt_modes = {}\n",
    "            gts_dur = 0\n",
    "            for gts in trip['gts_timeline']:\n",
    "                # if the gts starts before the ss ends and ends after the ss starts\n",
    "                if gts['start_ts'] <= ss['end_ts'] and gts['end_ts'] >= ss['start_ts']:\n",
    "                    dur     = min(ss['end_ts'], gts['end_ts']) - max(ss['start_ts'], gts['start_ts'])\n",
    "                    gts_dur += dur\n",
    "                    if BASE_MODE[gts['mode']] == ss['mode']:\n",
    "                        # we sense that we are in a mode, and we are\n",
    "                        TP[ss['mode']] = time_in_gt_modes.setdefault(ss['mode'], 0) + dur\n",
    "                    else:\n",
    "                        # we sense that we are in a mode, and we are not\n",
    "                        FP[ss['mode']] = time_in_gt_modes.setdefault(ss['mode'], 0) + dur\n",
    "            ## Take care of when we have no gts, which is a FP as we sense we are in a mode, but in fact their is no gt, so we are not\n",
    "            leftover = ss_dur - gts_dur\n",
    "            assert leftover >= 0\n",
    "            FP[ss['mode']] = time_in_gt_modes.setdefault(ss['mode'], 0) + leftover # FIXME: this gives mode error\n",
    "        ## Now we check the ground truth timeline, for FN\n",
    "        for gts in trip['gts_timeline']:\n",
    "            gts_dur = gts['end_ts'] - gts['start_ts']\n",
    "            ss_dur = 0\n",
    "            for ss in trip['sensed_section_ranges']:\n",
    "                # if the ss starts before gts ends and ss ends after the gts starts\n",
    "                if ss['start_ts'] <= gts['end_ts'] and ss['end_ts'] >= gts['start_ts']:\n",
    "                    dur     = min(ss['end_ts'], gts['end_ts']) - max(ss['start_ts'], gts['start_ts'])\n",
    "                    ss_dur += dur\n",
    "                    if BASE_MODE[gts['mode']] != ss['mode']:\n",
    "                        # we sense that we are not in a mode, but we are\n",
    "                        FN[ss['mode']] = time_in_gt_modes.setdefault(ss['mode'], 0) + dur\n",
    "            leftover = gts_dur - ss_dur\n",
    "            assert leftover >= 0\n",
    "            # we sense that we are not in a mode, but we are\n",
    "            FN[ss['mode']] = time_in_gt_modes.setdefault(ss['mode'], 0) + leftover\n",
    "    return [TP, FP, FN]"
   ]
  },
  {
   "cell_type": "markdown",
   "id": "7a496827",
   "metadata": {},
   "source": [
    "# $F_\\beta$ score\n",
    "$$\n",
    "F_\\beta = \\frac {(1 + \\beta^2) \\cdot \\mathrm{true\\ positive} }{(1 + \\beta^2) \\cdot \\mathrm{true\\ positive} + \\beta^2 \\cdot \\mathrm{false\\ negative} + \\mathrm{false\\ positive}}\n",
    "$$\n",
    "\n",
    "```python\n",
    "def get_F_score(pv, os, role, beta=1):\n",
    "    \"\"\"\n",
    "    This function calculates the F score\n",
    "    $$\n",
    "    F_\\beta = \\frac {(1 + \\beta^2) \\cdot \\mathrm{true\\ positive} }{(1 + \\beta^2) \\cdot \\mathrm{true\\ positive} + \\beta^2 \\cdot \\mathrm{false\\ negative} + \\mathrm{false\\ positive}}\n",
    "    $$\n",
    "    based off data from a given set of phone views. Calls the get binary classification function\n",
    "    \n",
    "    ----------\n",
    "    Parameters\n",
    "    ----------\n",
    "    arg1: phone view\n",
    "        A phone view to recieve timelines for.\n",
    "    arg2: os\n",
    "        a phone os to evaluate, must be one of 'ios' or 'android'\n",
    "    arg3:\n",
    "        an acuracy/frequency combination, must be one of 'accuracy_control', 'HAHFDC', 'HAMFDC', 'MAHFDC', 'power_control'\n",
    "    arg4: int\n",
    "        The beta value in which to use in the $F_\\beta$ score. Defaults to 1.\n",
    "        \n",
    "    -------\n",
    "    Returns\n",
    "    -------\n",
    "    dict:\n",
    "        A dictionary with sensed modes as the keys and the corresponding of $F_\\beta$ scores as the values.\n",
    "    \n",
    "    \"\"\"\n",
    "    ...\n",
    "```"
   ]
  },
  {
   "cell_type": "code",
   "execution_count": null,
   "id": "4d11ecc6",
   "metadata": {},
   "outputs": [],
   "source": [
    "(TP, FP, FN) = get_binary_class(pv_la, 'android', 'HAMFDC')\n",
    "print(TP, '\\n', FP, '\\n', FN)"
   ]
  },
  {
   "cell_type": "code",
   "execution_count": null,
   "id": "62b79f82",
   "metadata": {},
   "outputs": [],
   "source": [
    "def get_F_score(pv, os, role, beta=1):\n",
    "    assert os in ['android', 'ios'], 'UNKNOWN OS'\n",
    "    assert role in ['accuracy_control', 'HAHFDC', 'HAMFDC', 'MAHFDC', 'power_control'], \"UNKNOWN ROLE\"\n",
    "    F_score = {}\n",
    "    (TP, FP, FN) = get_binary_class(pv, os, role)\n",
    "    for mode in TP.keys():\n",
    "        numerator   = (1 + beta**2) * TP[mode]\n",
    "        denominator = (1+beta**2) * TP[mode] + beta**2*FN[mode] + FP[mode]\n",
    "        F_score[mode] = (numerator)/(denominator)\n",
    "    return F_score"
   ]
  },
  {
   "cell_type": "code",
   "execution_count": null,
   "id": "d738ea94",
   "metadata": {},
   "outputs": [],
   "source": [
    "get_F_score(pv_la, 'ios', 'HAHFDC') ## TODO: investigate low walking scores"
   ]
  },
  {
   "cell_type": "markdown",
   "id": "68f62c54",
   "metadata": {},
   "source": [
    "## Confusion Matrix\n",
    "We will now generate confusion matrices based off OS and role, with the acctual modes as the rows, the predicted modes as the columns, and the entries as the base unit for the duration measurement"
   ]
  },
  {
   "cell_type": "code",
   "execution_count": null,
   "id": "2267cafb",
   "metadata": {},
   "outputs": [],
   "source": [
    "def get_confusion_matrix(pv, os, role):\n",
    "    assert os in ['android', 'ios'], 'UNKNOWN OS'\n",
    "    assert role in ['accuracy_control', 'HAHFDC', 'HAMFDC', 'MAHFDC', 'power_control'], \"UNKNOWN ROLE\"\n",
    "    trips = get_trip_ss_and_gts_timeline(pv, os, role)\n",
    "    ss_mode_v_gt_mode_l = []\n",
    "    for trip in trips:\n",
    "        probabilities = {}\n",
    "        for ss in trip['sensed_section_ranges']:\n",
    "            ss_dur  = ss['end_ts'] - ss['start_ts']\n",
    "            time_in_gt_modes = {}\n",
    "            for i, gts in enumerate(trip['gts_timeline']): # TODO: optimize here\n",
    "                if gts['end_ts'] >= ss['start_ts'] and gts['start_ts'] <= ss['end_ts']:\n",
    "                    dur     = min(ss['end_ts'], gts['end_ts']) - max(ss['start_ts'], gts['start_ts'])\n",
    "                    time_in_gt_modes[gts['mode']] = time_in_gt_modes.setdefault(gts['mode'], 0) + dur\n",
    "            time_in_gt_modes['NO GT'] = max(ss_dur - sum(time_in_gt_modes.values(), 0.0),0) #TODO: make sure this is right\n",
    "            for mode in time_in_gt_modes.keys():\n",
    "                time_in_gt_modes[mode] /= ss_dur\n",
    "            # TODO: assert sum of all rows == 1 +- epsilon\n",
    "            time_in_gt_modes['sensed_mode'] = ss['mode']\n",
    "            ss_mode_v_gt_mode_l.append(time_in_gt_modes)\n",
    "    return ss_mode_v_gt_mode_l"
   ]
  },
  {
   "cell_type": "markdown",
   "id": "fc9ecf95",
   "metadata": {},
   "source": [
    "`TODO` make sure we can get confusion matrix accross phone views"
   ]
  },
  {
   "cell_type": "code",
   "execution_count": null,
   "id": "bf0987bc",
   "metadata": {},
   "outputs": [],
   "source": [
    "import itertools\n",
    "def plot_confusion_matrix(pv, os, role):\n",
    "    df = pd.DataFrame(get_confusion_matrix(pv_la, os, role)).groupby('sensed_mode').sum()\n",
    "    fig, ax = plt.subplots(1,1, figsize=(10,10))\n",
    "    cm = ax.imshow(df, interpolation='nearest',  cmap=plt.cm.Blues)\n",
    "    ax.set_title(f\"Confusion Matrix\\n SPEC ID={pv_la.spec_details.CURR_SPEC_ID}\\n os={os}\\n role={role}\")\n",
    "    plt.colorbar(cm, ax=ax)\n",
    "    tick_marks = np.arange(len(df))\n",
    "    ax.set_xticks(np.arange(len(df.columns)))\n",
    "    ax.set_yticks(np.arange(len(df)))\n",
    "    ax.set_xticklabels(df)\n",
    "    ax.set_yticklabels(df.index)\n",
    "    ax.set_xlabel('True label')\n",
    "    ax.set_ylabel('Predicted label')"
   ]
  },
  {
   "cell_type": "markdown",
   "id": "93422a6c",
   "metadata": {},
   "source": [
    "`TODO` plot andoid and ios for all the different a/f configurations"
   ]
  },
  {
   "cell_type": "code",
   "execution_count": null,
   "id": "2d6114e4",
   "metadata": {},
   "outputs": [],
   "source": [
    "plot_confusion_matrix(pv_la, 'ios', 'HAHFDC')"
   ]
  },
  {
   "cell_type": "code",
   "execution_count": null,
   "id": "34f10cc6",
   "metadata": {},
   "outputs": [],
   "source": []
  }
 ],
 "metadata": {
  "kernelspec": {
   "display_name": "Python 3 (ipykernel)",
   "language": "python",
   "name": "python3"
  },
  "language_info": {
   "codemirror_mode": {
    "name": "ipython",
    "version": 3
   },
   "file_extension": ".py",
   "mimetype": "text/x-python",
   "name": "python",
   "nbconvert_exporter": "python",
   "pygments_lexer": "ipython3",
   "version": "3.8.2"
  }
 },
 "nbformat": 4,
 "nbformat_minor": 5
}
