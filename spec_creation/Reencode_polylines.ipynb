{
 "cells": [
  {
   "cell_type": "code",
   "execution_count": null,
   "id": "steady-reverse",
   "metadata": {},
   "outputs": [],
   "source": [
    "import json\n",
    "import polyline as pl"
   ]
  },
  {
   "cell_type": "code",
   "execution_count": null,
   "id": "worthy-salmon",
   "metadata": {},
   "outputs": [],
   "source": [
    "filled_reroute = json.load(open(\"final_sfbayarea_filled/train_bus_ebike_sm_reroute_mtv_ucb.filled.json\"))\n",
    "\n",
    "polylines_dict = {}\n",
    "\n",
    "for ev in filled_reroute[\"evaluation_trips\"]:\n",
    "    for leg in ev[\"legs\"]:\n",
    "        if \"route_coords\" in leg:\n",
    "            leg_id = leg[\"id\"]\n",
    "            coords = leg[\"route_coords\"][\"geometry\"][\"coordinates\"]\n",
    "            latlng_coords = [[x[1], x[0]] for x in coords]\n",
    "            encoded = pl.encode(latlng_coords)\n",
    "            polylines_dict[leg_id] = encoded\n",
    "            print(f\"Encoded {leg_id}...\")"
   ]
  },
  {
   "cell_type": "code",
   "execution_count": null,
   "id": "fantastic-notice",
   "metadata": {},
   "outputs": [],
   "source": [
    "polylines_dict"
   ]
  },
  {
   "cell_type": "code",
   "execution_count": null,
   "id": "perceived-dream",
   "metadata": {},
   "outputs": [],
   "source": [
    "json.dump(polylines_dict, open(\"/tmp/polylines.json\", \"w\"), indent=4)"
   ]
  }
 ],
 "metadata": {
  "kernelspec": {
   "display_name": "Python 3",
   "language": "python",
   "name": "python3"
  },
  "language_info": {
   "codemirror_mode": {
    "name": "ipython",
    "version": 3
   },
   "file_extension": ".py",
   "mimetype": "text/x-python",
   "name": "python",
   "nbconvert_exporter": "python",
   "pygments_lexer": "ipython3",
   "version": "3.8.2"
  }
 },
 "nbformat": 4,
 "nbformat_minor": 5
}
