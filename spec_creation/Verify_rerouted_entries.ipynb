{
 "cells": [
  {
   "cell_type": "code",
   "execution_count": null,
   "metadata": {},
   "outputs": [],
   "source": [
    "import json\n",
    "import polyline as pl\n",
    "import pandas as pd\n",
    "from pytest import approx"
   ]
  },
  {
   "cell_type": "markdown",
   "metadata": {},
   "source": [
    "## Load all data"
   ]
  },
  {
   "cell_type": "code",
   "execution_count": null,
   "metadata": {},
   "outputs": [],
   "source": [
    "original_route = json.load(open(\"final_sfbayarea_filled/train_bus_ebike_mtv_ucb.filled.json\"))\n",
    "sm_reroute = json.load(open(\"final_sfbayarea_filled/train_bus_ebike_sm_reroute_mtv_ucb.filled.json\"))"
   ]
  },
  {
   "cell_type": "code",
   "execution_count": null,
   "metadata": {},
   "outputs": [],
   "source": [
    "combined_spec = json.load(open(\"final_sfbayarea/train_bus_ebike_mtv_ucb.json\"))\n",
    "combined_reroute = json.load(open(\"final_sfbayarea_filled_reroutes/train_bus_ebike_mtv_ucb.filled.reroute.json\"))"
   ]
  },
  {
   "cell_type": "markdown",
   "metadata": {},
   "source": [
    "## Check input spec\n",
    "\n",
    "First, we verify that we have a trajectory defined for each leg in the spec, and that the leg contains a polyline. This is true by spot-checking, but this checks it programmatically"
   ]
  },
  {
   "cell_type": "code",
   "execution_count": null,
   "metadata": {},
   "outputs": [],
   "source": [
    "def check_polyline_existence(t_or_l):\n",
    "    trajectory_key_list = t_or_l.keys() - [\"id\", \"name\", \"mode\", \"start_loc\", \"end_loc\", \"multiple_occupancy\"]\n",
    "    if len(trajectory_key_list) != 1:\n",
    "        print(\"key list = %s\" % trajectory_key_list)\n",
    "        return False\n",
    "    trajectory_key = next(iter(trajectory_key_list))\n",
    "    polyline_exists = (trajectory_key == \"polyline\" or trajectory_key == \"polylines\")\n",
    "    if not polyline_exists:\n",
    "        if trajectory_key == 'waypoint_coords':\n",
    "            wc = t_or_l[\"waypoint_coords\"]\n",
    "            if type(wc) == list:\n",
    "                polyline_exists_list = [\"polyline\" in w for w in wc]\n",
    "                polyline_exists = pd.Series(polyline_exists_list).all()\n",
    "            else:\n",
    "                polyline_exists = \"polyline\" in wc\n",
    "        else:\n",
    "            polyline_exists = False\n",
    "    else:\n",
    "        pass\n",
    "    print(\"Trajectory is defined using %s, includes polyline %s\" % (trajectory_key, polyline_exists))\n",
    "    if not polyline_exists:\n",
    "        print(\"======POLYLINE NOT FOUND for %s\" % t_or_l[\"id\"])\n",
    "    return polyline_exists"
   ]
  },
  {
   "cell_type": "code",
   "execution_count": null,
   "metadata": {},
   "outputs": [],
   "source": [
    "for t in combined_spec[\"evaluation_trips\"]:\n",
    "    if \"legs\" not in t:\n",
    "        print(\"Checking unimodal trip %s\" % t[\"id\"])\n",
    "        check_polyline_existence(t)\n",
    "        continue\n",
    "    for l in t[\"legs\"]:\n",
    "        print(\"Checking leg %s in trip %s\" % (l[\"id\"], t[\"id\"]))\n",
    "        check_polyline_existence(l)"
   ]
  },
  {
   "cell_type": "markdown",
   "metadata": {},
   "source": [
    "## Check output spec\n"
   ]
  },
  {
   "cell_type": "code",
   "execution_count": null,
   "metadata": {},
   "outputs": [],
   "source": [
    "def check_coordinates(l1, l2):\n",
    "    if l1 == l2:\n",
    "        return True\n",
    "    elif len(l1) != len(l2):\n",
    "        print(\"=== list lengths don't match: %s != %s\" % (len(l1), len(l2)))\n",
    "        return False\n",
    "    else:\n",
    "        for i, (e1, e2) in enumerate(zip(l1, l2)):\n",
    "            if e1 != approx(e2):\n",
    "                print(\"=== mismatch found at index %i: %s != %s\" % (i, e1, e2))\n",
    "                return False\n",
    "        print(\"=== elements match, but lists don't match?!\") #: %s != %s\" % (l1, l2))\n",
    "        return False"
   ]
  },
  {
   "cell_type": "code",
   "execution_count": null,
   "metadata": {},
   "outputs": [],
   "source": [
    "def validate_shim_leg(ti, t, li, l):\n",
    "    if len(l[\"loc\"]) == 1:\n",
    "        orig_loc = original_route[\"evaluation_trips\"][ti][\"legs\"][li][\"loc\"]\n",
    "        combo_loc = l[\"loc\"][0]\n",
    "        # print(orig_loc[\"geometry\"][\"coordinates\"], combo_loc[\"geometry\"][\"coordinates\"])\n",
    "        valid = check_coordinates(orig_loc[\"geometry\"][\"coordinates\"], combo_loc[\"geometry\"][\"coordinates\"])\n",
    "        if not valid:\n",
    "            print(\"!!! Shim Leg %s has not been rerouted, check against original route = %s!!!\" % (l[\"id\"], valid))\n",
    "        else:\n",
    "            print(\"Shim Leg %s has not been rerouted, check against original route = %s\" % (l[\"id\"], valid))\n",
    "    else:\n",
    "        print(\"=== Leg %s has %s reroutes, need to check each of them\")"
   ]
  },
  {
   "cell_type": "code",
   "execution_count": null,
   "metadata": {},
   "outputs": [],
   "source": [
    "def validate_leg_key(ti, t, li, l, key):\n",
    "    orig_l = original_route[\"evaluation_trips\"][ti][\"legs\"][li]\n",
    "    reroute_l = sm_reroute[\"evaluation_trips\"][ti][\"legs\"][li]\n",
    "    if len(l[key]) == 1:\n",
    "        # print(l[key][0][\"geometry\"][\"coordinates\"])\n",
    "        # print(orig_l[key][\"geometry\"][\"coordinates\"])\n",
    "        # No reroute. The combo fields should be equal to both original and rerouted fields, and they should be equal to each other\n",
    "        combo_orig = check_coordinates(l[key][0][\"geometry\"][\"coordinates\"], orig_l[key][\"geometry\"][\"coordinates\"])\n",
    "        combo_reroute = check_coordinates(l[key][0][\"geometry\"][\"coordinates\"], reroute_l[key][\"geometry\"][\"coordinates\"])\n",
    "        orig_reroute = check_coordinates(orig_l[key][\"geometry\"][\"coordinates\"], reroute_l[key][\"geometry\"][\"coordinates\"])\n",
    "        print(combo_orig, combo_reroute, orig_reroute)\n",
    "        return combo_orig and combo_reroute and orig_reroute\n",
    "    if len(l[key]) > 1:\n",
    "        # Reroute. Only two reroutes supported. The first combo fields should be equal to original and the second should be the rerouted\n",
    "        assert len(l[key]) == 2, \"Only two reroutes at this time, so use a simple check\"\n",
    "        combo_orig = check_coordinates(l[key][0][\"geometry\"][\"coordinates\"], orig_l[key][\"geometry\"][\"coordinates\"])\n",
    "        combo_reroute = check_coordinates(l[key][1][\"geometry\"][\"coordinates\"], reroute_l[key][\"geometry\"][\"coordinates\"])\n",
    "        print(combo_orig, combo_reroute)\n",
    "        return combo_orig and combo_reroute"
   ]
  },
  {
   "cell_type": "code",
   "execution_count": null,
   "metadata": {},
   "outputs": [],
   "source": [
    "def validate_travel_leg(ti, t, li, l):\n",
    "    invalid_feature_list = []\n",
    "    if not validate_leg_key(ti, t, li, l, \"start_loc\"):\n",
    "        invalid_feature_list.append(\"start_loc\")\n",
    "    if not validate_leg_key(ti, t, li, l, \"end_loc\"):\n",
    "        invalid_feature_list.append(\"end_loc\")\n",
    "    if not validate_leg_key(ti, t, li, l, \"route_coords\"):\n",
    "        invalid_feature_list.append(\"route_coords\")\n",
    "    \n",
    "    if len(invalid_feature_list) > 0:\n",
    "        print(\"!! Travel Leg %s in trip %s has invalid keys %s !!\" % (l[\"id\"], t[\"id\"], invalid_feature_list))\n",
    "    else: \n",
    "        print(\"Travel Leg %s in trip %s matches previous trajectories\" % (l[\"id\"], t[\"id\"]))"
   ]
  },
  {
   "cell_type": "code",
   "execution_count": null,
   "metadata": {},
   "outputs": [],
   "source": [
    "for ti, t in enumerate(combined_reroute[\"evaluation_trips\"]):\n",
    "    for li, l in enumerate(t[\"legs\"]):\n",
    "        if \"loc\" in l:\n",
    "            validate_shim_leg(ti, t, li, l)\n",
    "        else:\n",
    "            validate_travel_leg(ti, t, li, l)"
   ]
  }
 ],
 "metadata": {
  "kernelspec": {
   "display_name": "Python 3",
   "language": "python",
   "name": "python3"
  },
  "language_info": {
   "codemirror_mode": {
    "name": "ipython",
    "version": 3
   },
   "file_extension": ".py",
   "mimetype": "text/x-python",
   "name": "python",
   "nbconvert_exporter": "python",
   "pygments_lexer": "ipython3",
   "version": "3.8.2"
  }
 },
 "nbformat": 4,
 "nbformat_minor": 4
}
