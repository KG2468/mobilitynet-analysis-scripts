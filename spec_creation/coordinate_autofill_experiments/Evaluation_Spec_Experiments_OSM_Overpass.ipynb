{
 "cells": [
  {
   "cell_type": "markdown",
   "metadata": {},
   "source": [
    "### Convert a list of relations defining a route to a set of coordinates"
   ]
  },
  {
   "cell_type": "markdown",
   "metadata": {},
   "source": [
    "Again, we are trying to find the coordinates for public transit trip. This experiments with using osmapi directly to find the nodes that are part of a relation. Seems promising, but also seems like a lot of work to get the corner cases right. Might return to this later."
   ]
  },
  {
   "cell_type": "code",
   "execution_count": null,
   "metadata": {},
   "outputs": [],
   "source": [
    "import logging\n",
    "logging.getLogger().setLevel(logging.DEBUG)"
   ]
  },
  {
   "cell_type": "markdown",
   "metadata": {},
   "source": [
    "#### Let's see what we can do with the OSM API directly"
   ]
  },
  {
   "cell_type": "code",
   "execution_count": null,
   "metadata": {},
   "outputs": [],
   "source": [
    "import osmapi"
   ]
  },
  {
   "cell_type": "code",
   "execution_count": null,
   "metadata": {},
   "outputs": [],
   "source": [
    "import folium"
   ]
  },
  {
   "cell_type": "code",
   "execution_count": null,
   "metadata": {},
   "outputs": [],
   "source": [
    "osm = osmapi.OsmApi()"
   ]
  },
  {
   "cell_type": "code",
   "execution_count": null,
   "metadata": {},
   "outputs": [],
   "source": [
    "# Get a node\n",
    "relation_details = osm.RelationGet(8094017); relation_details"
   ]
  },
  {
   "cell_type": "code",
   "execution_count": null,
   "metadata": {},
   "outputs": [],
   "source": [
    "# Porting the perl script at https://wiki.openstreetmap.org/wiki/Relations/Relations_to_GPX\n",
    "# to python\n",
    "def get_way_list(relation_details):\n",
    "    wl = []\n",
    "    for member in relation_details[\"member\"]:\n",
    "        # print(member[\"ref\"], member[\"type\"])\n",
    "        assert member[\"type\"] != \"relation\", \"This is a parent relation for child %d, expecting only child relations\" % member[\"ref\"]\n",
    "        if member[\"type\"] == \"way\" and member[\"role\"] != \"platform\":\n",
    "            wl.append(member[\"ref\"])\n",
    "    return wl"
   ]
  },
  {
   "cell_type": "code",
   "execution_count": null,
   "metadata": {},
   "outputs": [],
   "source": [
    "wl = get_way_list(osm.RelationGet(8094017))\n",
    "idx = wl.index(52869637); idx"
   ]
  },
  {
   "cell_type": "code",
   "execution_count": null,
   "metadata": {},
   "outputs": [],
   "source": [
    "wl[74:]"
   ]
  },
  {
   "cell_type": "code",
   "execution_count": null,
   "metadata": {},
   "outputs": [],
   "source": [
    "# way details is an array of n-1 node entries followed by a way entry\n",
    "# the way entry has an \"nd\" field which is an array of node ids in the correct order\n",
    "# the n-1 node entries are not necessarily in the correct order but provide the id -> lat,lng mapping\n",
    "def get_coords_for_way(wid, prev_last_node=-1):\n",
    "    lat = {}\n",
    "    lon = {}\n",
    "    coords_list = []\n",
    "    way_details = osm.WayFull(wid)\n",
    "    # print(\"Processing way %d with %d nodes\" % (wid, len(way_details) - 1))\n",
    "    for e in way_details:\n",
    "        if e[\"type\"] == \"node\":\n",
    "            lat[e[\"data\"][\"id\"]] = e[\"data\"][\"lat\"]\n",
    "            lon[e[\"data\"][\"id\"]] = e[\"data\"][\"lon\"]\n",
    "        if e[\"type\"] == \"way\":\n",
    "            assert e[\"data\"][\"id\"] == wid, \"Way id mismatch! %d != %d\" % (e[\"data\"][\"id\"], wl[0])\n",
    "            ordered_node_array = e[\"data\"][\"nd\"]\n",
    "            print(\"Comparing %d and %d\" % (prev_last_node, ordered_node_array[-1]))\n",
    "            if prev_last_node != -1 and ordered_node_array[-1] == prev_last_node:\n",
    "                print(\"LAST entry %d matches prev_last_node %d, REVERSING order for %d\" %\n",
    "                      (ordered_node_array[-1], prev_last_node, wid))\n",
    "                ordered_node_array = list(reversed(ordered_node_array))\n",
    "            for on in ordered_node_array:\n",
    "                coords_list.append([lon[on], lat[on]])\n",
    "    return ordered_node_array, coords_list"
   ]
  },
  {
   "cell_type": "code",
   "execution_count": null,
   "metadata": {},
   "outputs": [],
   "source": [
    "# on_list, coords_list = get_coords_for_way(27422567)\n",
    "# on_list[-1], coords_list"
   ]
  },
  {
   "cell_type": "code",
   "execution_count": null,
   "metadata": {},
   "outputs": [],
   "source": [
    "# on_list, coords_list = get_coords_for_way(367132251, 65477623)\n",
    "# on_list[-1], coords_list"
   ]
  },
  {
   "cell_type": "code",
   "execution_count": null,
   "metadata": {},
   "outputs": [],
   "source": [
    "# on_list, coords_list = get_coords_for_way(367132252, 65477686)\n",
    "# on_list[-1], coords_list"
   ]
  },
  {
   "cell_type": "code",
   "execution_count": null,
   "metadata": {},
   "outputs": [],
   "source": [
    "# on_list, coords_list = get_coords_for_way(32315631, 3710856959)\n",
    "# on_list[-1], coords_list"
   ]
  },
  {
   "cell_type": "code",
   "execution_count": null,
   "metadata": {},
   "outputs": [],
   "source": [
    "def get_coords_for_relation(rid, start_node, end_node):\n",
    "    relation_details = osm.RelationGet(rid)\n",
    "    wl = get_way_list(relation_details)\n",
    "    print(\"Relation %d mapped to %d ways\" % (rid, len(wl)))\n",
    "    coords_list = []\n",
    "    on_list = []\n",
    "    prev_last_node = -1\n",
    "    for wid in wl:\n",
    "        w_on_list, w_coords_list = get_coords_for_way(wid, prev_last_node)\n",
    "        on_list.extend(w_on_list)\n",
    "        coords_list.extend(w_coords_list)\n",
    "        prev_last_node = w_on_list[-1]\n",
    "        print(\"After adding %d entries from wid %d, curr count = %d\" % (len(w_on_list), wid, len(coords_list)))\n",
    "    start_index = on_list.index(start_node)\n",
    "    end_index = on_list.index(end_node)\n",
    "    assert start_index <= end_index, \"Start index %d is before end %d\" % (start_index, end_index)\n",
    "    return coords_list[start_index:end_index+1]"
   ]
  },
  {
   "cell_type": "code",
   "execution_count": null,
   "metadata": {},
   "outputs": [],
   "source": [
    "coords_list = []\n",
    "on_list = []\n",
    "prev_last_node = -1\n",
    "for wid in wl[]:\n",
    "    w_on_list, w_coords_list = get_coords_for_way(wid, prev_last_node)\n",
    "    on_list.extend(w_on_list)\n",
    "    coords_list.extend(w_coords_list)\n",
    "    prev_last_node = w_on_list[-1]\n",
    "    print(\"After adding %d entries from wid %d, curr count = %d\" % (len(w_on_list), wid, len(coords_list)))"
   ]
  },
  {
   "cell_type": "code",
   "execution_count": null,
   "metadata": {},
   "outputs": [],
   "source": [
    "def show_coords_on_map(route_coords):\n",
    "    curr_map = folium.Map()\n",
    "    latlng_route_coords = [lonlat_swap(rc) for rc in route_coords]\n",
    "    pl = folium.PolyLine(latlng_route_coords)\n",
    "    pl.add_to(curr_map)\n",
    "    for i, c in enumerate(latlng_route_coords):\n",
    "        folium.CircleMarker(c, radius=5, popup=\"%d: %s\" % (i, c)).add_to(curr_map)\n",
    "    curr_map.fit_bounds(pl.get_bounds()) \n",
    "    return curr_map"
   ]
  },
  {
   "cell_type": "code",
   "execution_count": null,
   "metadata": {},
   "outputs": [],
   "source": [
    "show_coords_on_map(coords_list)"
   ]
  },
  {
   "cell_type": "code",
   "execution_count": null,
   "metadata": {},
   "outputs": [],
   "source": [
    "# BART from Millbrae to Richmond\n",
    "# route_coords = get_coords_for_relation(2851613, 6138188702, 65409922)\n",
    "# show_coords_on_map(route_coords)"
   ]
  },
  {
   "cell_type": "code",
   "execution_count": null,
   "metadata": {
    "scrolled": false
   },
   "outputs": [],
   "source": [
    "# Caltrain from San Jose to San Francisco\n",
    "route_coords = get_coords_for_relation(8094017, 5020708467, 5465520388)"
   ]
  },
  {
   "cell_type": "code",
   "execution_count": null,
   "metadata": {},
   "outputs": [],
   "source": [
    "# on_list.index(65409922), on_list.index(6138188702)"
   ]
  },
  {
   "cell_type": "code",
   "execution_count": null,
   "metadata": {},
   "outputs": [],
   "source": [
    "# on_list[650:850]"
   ]
  },
  {
   "cell_type": "code",
   "execution_count": null,
   "metadata": {},
   "outputs": [],
   "source": [
    "# [(650+i, r) for i, r in enumerate(route_coords[650:850])]"
   ]
  },
  {
   "cell_type": "code",
   "execution_count": null,
   "metadata": {},
   "outputs": [],
   "source": [
    "# route_coords = route_coords[309:708+1]"
   ]
  },
  {
   "cell_type": "code",
   "execution_count": null,
   "metadata": {},
   "outputs": [],
   "source": [
    "show_coords_on_map(route_coords)"
   ]
  },
  {
   "cell_type": "code",
   "execution_count": null,
   "metadata": {},
   "outputs": [],
   "source": [
    "def lonlat_swap(lon_lat):\n",
    "    return list(reversed(lon_lat))"
   ]
  },
  {
   "cell_type": "code",
   "execution_count": null,
   "metadata": {},
   "outputs": [],
   "source": [
    "# Ways that the node is part of. Note that there are two ways with different IDs (685743128 and 685743129) at different changesets\n",
    "osm.NodeWays(6426793216)"
   ]
  },
  {
   "cell_type": "code",
   "execution_count": null,
   "metadata": {},
   "outputs": [],
   "source": [
    "# NodeRelations does not work, probably because there are no relations and this is not a transitive property\n",
    "osm.NodeRelations(6426793216)"
   ]
  },
  {
   "cell_type": "code",
   "execution_count": null,
   "metadata": {},
   "outputs": [],
   "source": [
    "ways = osm.NodeWays(6426793216)\n",
    "for w in ways:\n",
    "    rw = osm.WayRelations(w[\"id\"])\n",
    "    print(\"Considering way %d\" % w[\"id\"])\n",
    "    for r in rw:\n",
    "        # print(r)\n",
    "        print(\"Found relation %d with type %s\" % (r[\"id\"], r[\"tag\"][\"type\"]))\n",
    "    # print(\"Found %d relations of types %s for way %d\" % (len(rw), [r[\"type\"] for r in rw], w[\"id\"]))\n",
    "    # print(\"Found %d route relations for way %d\" % (len([r for r in rw if r[\"type\"] == \"route\"]), w[\"id\"]))"
   ]
  },
  {
   "cell_type": "code",
   "execution_count": null,
   "metadata": {},
   "outputs": [],
   "source": []
  },
  {
   "cell_type": "code",
   "execution_count": null,
   "metadata": {},
   "outputs": [],
   "source": []
  }
 ],
 "metadata": {
  "kernelspec": {
   "display_name": "Python 3",
   "language": "python",
   "name": "python3"
  },
  "language_info": {
   "codemirror_mode": {
    "name": "ipython",
    "version": 3
   },
   "file_extension": ".py",
   "mimetype": "text/x-python",
   "name": "python",
   "nbconvert_exporter": "python",
   "pygments_lexer": "ipython3",
   "version": "3.6.1"
  }
 },
 "nbformat": 4,
 "nbformat_minor": 2
}
