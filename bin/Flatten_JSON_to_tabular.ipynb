{
 "cells": [
  {
   "cell_type": "code",
   "execution_count": null,
   "id": "progressive-wages",
   "metadata": {},
   "outputs": [],
   "source": [
    "import sys\n",
    "sys.path.append(\"..\")"
   ]
  },
  {
   "cell_type": "code",
   "execution_count": null,
   "id": "gorgeous-receiver",
   "metadata": {},
   "outputs": [],
   "source": [
    "from emeval.input.spec_details import FileSpecDetails\n",
    "\n",
    "sd = FileSpecDetails(\"data/\", \"shankari@eecs.berkeley.edu\", \"train_bus_ebike_mtv_ucb\")"
   ]
  },
  {
   "cell_type": "code",
   "execution_count": null,
   "id": "enormous-worse",
   "metadata": {},
   "outputs": [],
   "source": [
    "from emeval.input.phone_view import PhoneView\n",
    "\n",
    "pv = PhoneView(sd)"
   ]
  },
  {
   "cell_type": "code",
   "execution_count": null,
   "id": "union-pastor",
   "metadata": {},
   "outputs": [],
   "source": [
    "import pandas as pd\n",
    "\n",
    "def get_dfs(pv_map):\n",
    "    \"\"\"\n",
    "    Returns a dictionary consisting of versions of the dataframes in a\n",
    "    PhoneView map with uniquely-identifiable (i.e. fully queryable) rows.\n",
    "    \"\"\"\n",
    "    df_map = {}\n",
    "    pkey = set()\n",
    "    \n",
    "    def gen_pkey(node, curr_pkey):\n",
    "        \"\"\"\n",
    "        Creates the primary key set, which consists of the columnns that\n",
    "        will be pre-pended to each dataframe to uniquely identify each row.\n",
    "        These columnns correspond to the terminal nodes of the PhoneView map.\n",
    "        \"\"\"\n",
    "        for key, val in node.items():\n",
    "            if isinstance(val, list):\n",
    "                for e in val:\n",
    "                    gen_pkey(e, curr_pkey)\n",
    "            elif isinstance(val, dict):\n",
    "                gen_pkey(val, curr_pkey)\n",
    "            elif isinstance(val, pd.DataFrame):\n",
    "                for col in val.columns.values:\n",
    "                    if col in curr_pkey:\n",
    "                        curr_pkey.remove(col)\n",
    "                if key not in df_map:\n",
    "                    df_map[key] = val\n",
    "            else:\n",
    "                curr_pkey.add(key)\n",
    "    \n",
    "    gen_pkey(pv_map, pkey)\n",
    "    \n",
    "    # TODO: figure out how to pre-pend rows to dataframes based on primary key\n",
    "    \n",
    "    # return df_map\n",
    "    return pkey\n",
    "\n",
    "get_dfs(pv.map())"
   ]
  }
 ],
 "metadata": {
  "kernelspec": {
   "display_name": "Python 3",
   "language": "python",
   "name": "python3"
  },
  "language_info": {
   "codemirror_mode": {
    "name": "ipython",
    "version": 3
   },
   "file_extension": ".py",
   "mimetype": "text/x-python",
   "name": "python",
   "nbconvert_exporter": "python",
   "pygments_lexer": "ipython3",
   "version": "3.8.2"
  }
 },
 "nbformat": 4,
 "nbformat_minor": 5
}
