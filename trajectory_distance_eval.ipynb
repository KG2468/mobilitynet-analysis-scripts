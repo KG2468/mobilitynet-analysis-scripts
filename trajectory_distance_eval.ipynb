{
 "cells": [
  {
   "cell_type": "code",
   "execution_count": 1,
   "id": "ef62dbaa",
   "metadata": {},
   "outputs": [],
   "source": [
    "# for reading and validating data\n",
    "import emeval.input.spec_details as eisd\n",
    "import emeval.input.phone_view as eipv\n",
    "import emeval.input.eval_view as eiev"
   ]
  },
  {
   "cell_type": "code",
   "execution_count": 2,
   "id": "d3a02471",
   "metadata": {},
   "outputs": [],
   "source": [
    "# Visualization helpers\n",
    "import emeval.viz.phone_view as ezpv\n",
    "import emeval.viz.eval_view as ezev"
   ]
  },
  {
   "cell_type": "code",
   "execution_count": 3,
   "id": "1e1a23b3",
   "metadata": {},
   "outputs": [],
   "source": [
    "# for pipelined data\n",
    "import emeval.analysed.phone_view as eapv"
   ]
  },
  {
   "cell_type": "code",
   "execution_count": 4,
   "id": "97a8ef3f",
   "metadata": {},
   "outputs": [],
   "source": [
    "import pandas as pd"
   ]
  },
  {
   "cell_type": "code",
   "execution_count": 5,
   "id": "92caa55a",
   "metadata": {},
   "outputs": [],
   "source": [
    "import geopandas as gpd\n",
    "import shapely as shp"
   ]
  },
  {
   "cell_type": "code",
   "execution_count": 6,
   "id": "6b77b20c",
   "metadata": {},
   "outputs": [],
   "source": [
    "import numpy as np"
   ]
  },
  {
   "cell_type": "code",
   "execution_count": 7,
   "id": "fd6505c3",
   "metadata": {},
   "outputs": [],
   "source": [
    "import emeval.metrics.dist_calculations as emd"
   ]
  },
  {
   "cell_type": "code",
   "execution_count": 8,
   "id": "7525cf0d",
   "metadata": {},
   "outputs": [],
   "source": [
    "# For plots\n",
    "import matplotlib.pyplot as plt\n",
    "%matplotlib inline"
   ]
  },
  {
   "cell_type": "code",
   "execution_count": 9,
   "id": "6c5dd71f",
   "metadata": {},
   "outputs": [],
   "source": [
    "# Analytics results\n",
    "import emeval.metrics.segmentation as ems"
   ]
  },
  {
   "cell_type": "code",
   "execution_count": 10,
   "id": "f1179837",
   "metadata": {},
   "outputs": [],
   "source": [
    "# For easier debugging while working on modules\n",
    "import importlib"
   ]
  },
  {
   "cell_type": "code",
   "execution_count": 11,
   "id": "ae9a913f",
   "metadata": {},
   "outputs": [],
   "source": [
    "def import_sd_and_pv_from_server(trips  = [\"unimodal_trip_car_bike_mtv_la\", \"car_scooter_brex_san_jose\", \"train_bus_ebike_mtv_ucb\"], \n",
    "                                 AUTHOR_EMAIL  = \"shankari@eecs.berkeley.edu\", \n",
    "                                 DATASTORE_LOC = \"http://localhost:8080\", \n",
    "                                 pkl_file_name = None):\n",
    "    sd_l = []\n",
    "    pv_l = []\n",
    "    for trip in trips:\n",
    "        sd = eisd.ServerSpecDetails(DATASTORE_LOC, AUTHOR_EMAIL, trip)\n",
    "        pv = eipv.PhoneView(sd)\n",
    "        sd_l.append(sd)\n",
    "        pv_l.append(pv)\n",
    "    if pkl_file_name:\n",
    "        import pickle\n",
    "        with open(pkl_file_name, 'wb') as outp:\n",
    "            for pv in pv_l:\n",
    "                pickle.dump(pv, outp, pickle.HIGHEST_PROTOCOL)\n",
    "    return sd_l, pv_l"
   ]
  },
  {
   "cell_type": "code",
   "execution_count": 12,
   "id": "478ecf33",
   "metadata": {},
   "outputs": [],
   "source": [
    "def import_pv_from_pkl(pkl_file_name, \n",
    "                       trips = [\"unimodal_trip_car_bike_mtv_la\", \"car_scooter_brex_san_jose\", \"train_bus_ebike_mtv_ucb\"]):\n",
    "    import pickle\n",
    "    pv_l = []\n",
    "    with open('pv.pkl', 'rb') as inp:\n",
    "        for trip in trips:\n",
    "            pv_l.append(pickle.load(inp))\n",
    "    return pv_l"
   ]
  },
  {
   "cell_type": "code",
   "execution_count": 13,
   "id": "15defce4",
   "metadata": {},
   "outputs": [],
   "source": [
    "(pv_la, pv_sj, pv_ucb) = import_pv_from_pkl('pv.pkl')"
   ]
  },
  {
   "cell_type": "code",
   "execution_count": 16,
   "id": "556b7771",
   "metadata": {},
   "outputs": [],
   "source": [
    "import emeval.analysed.location_smoothing as eaicl"
   ]
  },
  {
   "cell_type": "code",
   "execution_count": 18,
   "id": "a3de7b94",
   "metadata": {},
   "outputs": [
    {
     "ename": "AttributeError",
     "evalue": "'str' object has no attribute 'to_dict'",
     "output_type": "error",
     "traceback": [
      "\u001b[0;31m---------------------------------------------------------------------------\u001b[0m",
      "\u001b[0;31mAttributeError\u001b[0m                            Traceback (most recent call last)",
      "Input \u001b[0;32mIn [18]\u001b[0m, in \u001b[0;36m<cell line: 1>\u001b[0;34m()\u001b[0m\n\u001b[0;32m----> 1\u001b[0m \u001b[43meaicl\u001b[49m\u001b[38;5;241;43m.\u001b[39;49m\u001b[43madd_dist_heading_speed\u001b[49m\u001b[43m(\u001b[49m\u001b[38;5;124;43m'\u001b[39;49m\u001b[38;5;124;43m'\u001b[39;49m\u001b[43m)\u001b[49m\n",
      "File \u001b[0;32m~/Documents/every_trip_counts/mobilitynet-analysis-scripts/emeval/analysed/location_smoothing.py:8\u001b[0m, in \u001b[0;36madd_dist_heading_speed\u001b[0;34m(points_df)\u001b[0m\n\u001b[1;32m      1\u001b[0m \u001b[38;5;28;01mdef\u001b[39;00m \u001b[38;5;21madd_dist_heading_speed\u001b[39m(points_df):\n\u001b[1;32m      2\u001b[0m     \u001b[38;5;66;03m# type: (pandas.DataFrame) -> pandas.DataFrame\u001b[39;00m\n\u001b[1;32m      3\u001b[0m     \u001b[38;5;124;03m\"\"\"\u001b[39;00m\n\u001b[1;32m      4\u001b[0m \u001b[38;5;124;03m    Returns a new dataframe with an added \"speed\" column.\u001b[39;00m\n\u001b[1;32m      5\u001b[0m \u001b[38;5;124;03m    The speed column has the speed between each point and its previous point.\u001b[39;00m\n\u001b[1;32m      6\u001b[0m \u001b[38;5;124;03m    The first row has a speed of zero.\u001b[39;00m\n\u001b[1;32m      7\u001b[0m \u001b[38;5;124;03m    \"\"\"\u001b[39;00m\n\u001b[0;32m----> 8\u001b[0m     point_list \u001b[38;5;241m=\u001b[39m [ad\u001b[38;5;241m.\u001b[39mAttrDict(row) \u001b[38;5;28;01mfor\u001b[39;00m row \u001b[38;5;129;01min\u001b[39;00m \u001b[43mpoints_df\u001b[49m\u001b[38;5;241;43m.\u001b[39;49m\u001b[43mto_dict\u001b[49m(\u001b[38;5;124m'\u001b[39m\u001b[38;5;124mrecords\u001b[39m\u001b[38;5;124m'\u001b[39m)]\n\u001b[1;32m      9\u001b[0m     zipped_points_list \u001b[38;5;241m=\u001b[39m \u001b[38;5;28mlist\u001b[39m(\u001b[38;5;28mzip\u001b[39m(point_list, point_list[\u001b[38;5;241m1\u001b[39m:]))\n\u001b[1;32m     11\u001b[0m     distances \u001b[38;5;241m=\u001b[39m [pf\u001b[38;5;241m.\u001b[39mcalDistance(p1, p2) \u001b[38;5;28;01mfor\u001b[39;00m (p1, p2) \u001b[38;5;129;01min\u001b[39;00m zipped_points_list]\n",
      "\u001b[0;31mAttributeError\u001b[0m: 'str' object has no attribute 'to_dict'"
     ]
    }
   ],
   "source": [
    "eaicl.add_dist_heading_speed()"
   ]
  },
  {
   "cell_type": "code",
   "execution_count": 20,
   "id": "be1d371c",
   "metadata": {},
   "outputs": [
    {
     "ename": "NameError",
     "evalue": "name 'pv' is not defined",
     "output_type": "error",
     "traceback": [
      "\u001b[0;31m---------------------------------------------------------------------------\u001b[0m",
      "\u001b[0;31mNameError\u001b[0m                                 Traceback (most recent call last)",
      "Input \u001b[0;32mIn [20]\u001b[0m, in \u001b[0;36m<cell line: 1>\u001b[0;34m()\u001b[0m\n\u001b[0;32m----> 1\u001b[0m \u001b[38;5;28;01mfor\u001b[39;00m phone_os, phone_map \u001b[38;5;129;01min\u001b[39;00m \u001b[43mpv\u001b[49m\u001b[38;5;241m.\u001b[39mmap()\u001b[38;5;241m.\u001b[39mitems():\n\u001b[1;32m      2\u001b[0m     \u001b[38;5;28;01mfor\u001b[39;00m phone_label, phone_detail_map \u001b[38;5;129;01min\u001b[39;00m phone_map\u001b[38;5;241m.\u001b[39mitems():\n\u001b[1;32m      3\u001b[0m         \u001b[38;5;28;01mfor\u001b[39;00m (r_idx, r) \u001b[38;5;129;01min\u001b[39;00m \u001b[38;5;28menumerate\u001b[39m(phone_detail_map[\u001b[38;5;124m\"\u001b[39m\u001b[38;5;124mevaluation_ranges\u001b[39m\u001b[38;5;124m\"\u001b[39m]):\n",
      "\u001b[0;31mNameError\u001b[0m: name 'pv' is not defined"
     ]
    }
   ],
   "source": [
    "for phone_os, phone_map in pv.map().items():\n",
    "    for phone_label, phone_detail_map in phone_map.items():\n",
    "        for (r_idx, r) in enumerate(phone_detail_map[\"evaluation_ranges\"]):\n",
    "            run_errors = []\n",
    "            for (tr_idx, tr) in enumerate(r[\"evaluation_trip_ranges\"]):\n",
    "                trip_errors = []\n",
    "                for (sr_idx, sr) in enumerate(tr[\"evaluation_section_ranges\"]):\n",
    "                    pass"
   ]
  }
 ],
 "metadata": {
  "kernelspec": {
   "display_name": "Python 3 (ipykernel)",
   "language": "python",
   "name": "python3"
  },
  "language_info": {
   "codemirror_mode": {
    "name": "ipython",
    "version": 3
   },
   "file_extension": ".py",
   "mimetype": "text/x-python",
   "name": "python",
   "nbconvert_exporter": "python",
   "pygments_lexer": "ipython3",
   "version": "3.8.2"
  }
 },
 "nbformat": 4,
 "nbformat_minor": 5
}
