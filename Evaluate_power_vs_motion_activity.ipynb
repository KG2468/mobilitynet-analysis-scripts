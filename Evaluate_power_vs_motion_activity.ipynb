{
 "cells": [
  {
   "cell_type": "markdown",
   "metadata": {},
   "source": [
    "## Set up the dependencies"
   ]
  },
  {
   "cell_type": "code",
   "execution_count": null,
   "metadata": {},
   "outputs": [],
   "source": [
    "# for reading and validating data\n",
    "import emeval.input.spec_details as eisd\n",
    "import emeval.input.phone_view as eipv\n",
    "import emeval.input.eval_view as eiev"
   ]
  },
  {
   "cell_type": "code",
   "execution_count": null,
   "metadata": {},
   "outputs": [],
   "source": [
    "# Visualization helpers\n",
    "import emeval.viz.phone_view as ezpv\n",
    "import emeval.viz.eval_view as ezev"
   ]
  },
  {
   "cell_type": "code",
   "execution_count": null,
   "metadata": {},
   "outputs": [],
   "source": [
    "# For plots\n",
    "import matplotlib.pyplot as plt\n",
    "from matplotlib.collections import PatchCollection\n",
    "from matplotlib.patches import Rectangle\n",
    "%matplotlib inline"
   ]
  },
  {
   "cell_type": "code",
   "execution_count": null,
   "metadata": {},
   "outputs": [],
   "source": [
    "# For maps\n",
    "import folium\n",
    "import branca.element as bre"
   ]
  },
  {
   "cell_type": "code",
   "execution_count": null,
   "metadata": {},
   "outputs": [],
   "source": [
    "# For easier debugging while working on modules\n",
    "import importlib"
   ]
  },
  {
   "cell_type": "code",
   "execution_count": null,
   "metadata": {},
   "outputs": [],
   "source": [
    "import pandas as pd\n",
    "pd.options.display.float_format = '{:.6f}'.format\n",
    "import arrow\n",
    "import numpy as np"
   ]
  },
  {
   "cell_type": "code",
   "execution_count": null,
   "metadata": {},
   "outputs": [],
   "source": [
    "THIRTY_MINUTES = 30 * 60\n",
    "TEN_MINUTES = 10 * 60"
   ]
  },
  {
   "cell_type": "markdown",
   "metadata": {},
   "source": [
    "## The spec\n",
    "\n",
    "The spec defines what experiments were done, and over which time ranges. Once the experiment is complete, most of the structure is read back from the data, but we use the spec to validate that it all worked correctly. The spec also contains the ground truth for the legs. Here, we read the spec for the trip to UC Berkeley."
   ]
  },
  {
   "cell_type": "code",
   "execution_count": null,
   "metadata": {},
   "outputs": [],
   "source": [
    "DATASTORE_URL = \"http://cardshark.cs.berkeley.edu\"\n",
    "AUTHOR_EMAIL = \"shankari@eecs.berkeley.edu\"\n",
    "sd_la = eisd.SpecDetails(DATASTORE_URL, AUTHOR_EMAIL, \"unimodal_trip_car_bike_mtv_la\")\n",
    "sd_sj = eisd.SpecDetails(DATASTORE_URL, AUTHOR_EMAIL, \"car_scooter_brex_san_jose\")\n",
    "sd_ucb = eisd.SpecDetails(DATASTORE_URL, AUTHOR_EMAIL, \"train_bus_ebike_mtv_ucb\")"
   ]
  },
  {
   "cell_type": "markdown",
   "metadata": {},
   "source": [
    "## The views\n",
    "\n",
    "There are two main views for the data - the phone view and the evaluation view. "
   ]
  },
  {
   "cell_type": "markdown",
   "metadata": {},
   "source": [
    "### Phone view\n",
    "\n",
    "In the phone view, the phone is primary, and then there is a tree that you can traverse to get the data that you want. Traversing that tree typically involves nested for loops; here's an example of loading the phone view and traversing it. You can replace the print statements with real code. When you are ready to check this in, please move the function to one of the python modules so that we can invoke it more generally"
   ]
  },
  {
   "cell_type": "code",
   "execution_count": null,
   "metadata": {},
   "outputs": [],
   "source": [
    "importlib.reload(eipv)"
   ]
  },
  {
   "cell_type": "code",
   "execution_count": null,
   "metadata": {
    "scrolled": true
   },
   "outputs": [],
   "source": [
    "pv_la = eipv.PhoneView(sd_la)"
   ]
  },
  {
   "cell_type": "code",
   "execution_count": null,
   "metadata": {},
   "outputs": [],
   "source": [
    "pv_sj = eipv.PhoneView(sd_sj)"
   ]
  },
  {
   "cell_type": "code",
   "execution_count": null,
   "metadata": {},
   "outputs": [],
   "source": [
    "pv_ucb = eipv.PhoneView(sd_ucb)"
   ]
  },
  {
   "cell_type": "markdown",
   "metadata": {},
   "source": [
    "## Number of transitions in a section\n",
    "\n",
    "We should ideally have only one transition in every TRAVEL section"
   ]
  },
  {
   "cell_type": "code",
   "execution_count": null,
   "metadata": {},
   "outputs": [],
   "source": [
    "def get_transition_mask_android(df):\n",
    "    return df.zzbhB.diff() > 0"
   ]
  },
  {
   "cell_type": "code",
   "execution_count": null,
   "metadata": {},
   "outputs": [],
   "source": [
    "def get_transition_mask_ios(df):\n",
    "    if len(df) == 0:\n",
    "        return np.array([])\n",
    "    \n",
    "    ret_list = [False]\n",
    "    valid_modes = [\"walking\", \"cycling\", \"running\", \"automotive\"]\n",
    "    for row in np.diff(df[valid_modes], axis=0):\n",
    "        ret_list.append(row.any())\n",
    "    ret_array = np.array(ret_list)\n",
    "    print(df.shape, ret_array.shape, ret_array)\n",
    "    return ret_array"
   ]
  },
  {
   "cell_type": "code",
   "execution_count": null,
   "metadata": {},
   "outputs": [],
   "source": [
    "def get_count_start_end_diff(sr, ma_df, jba_df, transition_mask_fn):\n",
    "    count = np.count_nonzero(ma_df[transition_mask_fn(ma_df)] > 0)\n",
    "    ma_transition_points = ma_df[transition_mask_fn(ma_df)]\n",
    "    if len(ma_transition_points) > 0:\n",
    "        start_ts_diff = abs(sr[\"start_ts\"] - ma_transition_points.iloc[0].ts)\n",
    "        end_ts_diff = abs(sr[\"end_ts\"] - ma_transition_points.iloc[-1].ts)\n",
    "    else:\n",
    "        start_ts_diff = THIRTY_MINUTES\n",
    "        end_ts_diff = THIRTY_MINUTES\n",
    "\n",
    "    jba_transition_points = jba_df[transition_mask_fn(jba_df)]\n",
    "    if len(jba_transition_points) > 0:\n",
    "        jba_start_ts_diff = (jba_transition_points.ts - sr[\"start_ts\"]).abs().min()\n",
    "        jba_end_ts_diff = (jba_transition_points.ts - sr[\"end_ts\"]).abs().min()\n",
    "    else:\n",
    "        jba_start_ts_diff = THIRTY_MINUTES\n",
    "        jba_end_ts_diff = THIRTY_MINUTES\n",
    "    return {\n",
    "        \"count\": count,\n",
    "        \"start_ts_diff\": start_ts_diff / 60,\n",
    "        \"end_ts_diff\": end_ts_diff / 60,\n",
    "        \"expanded_start_ts_diff\": jba_start_ts_diff / 60,\n",
    "        \"expanded_end_ts_diff\": jba_end_ts_diff / 60\n",
    "    }"
   ]
  },
  {
   "cell_type": "code",
   "execution_count": null,
   "metadata": {},
   "outputs": [],
   "source": []
  },
  {
   "cell_type": "code",
   "execution_count": null,
   "metadata": {},
   "outputs": [],
   "source": [
    "def get_tradeoff_entries(pv):\n",
    "    tradeoff_entry_list = []\n",
    "    for phone_os, phone_map in pv.map().items():\n",
    "        print(15 * \"=*\")\n",
    "        print(phone_os, phone_map.keys())\n",
    "        for phone_label, phone_detail_map in phone_map.items():\n",
    "            print(4 * ' ', 15 * \"-*\")\n",
    "            print(4 * ' ', phone_label, phone_detail_map.keys())\n",
    "            if \"control\" in phone_detail_map[\"role\"]:\n",
    "                print(\"Ignoring %s phone %s since they are always on\" % (phone_detail_map[\"role\"], phone_label))\n",
    "                continue\n",
    "            # this spec does not have any calibration ranges, but evaluation ranges are actually cooler\n",
    "            for r in phone_detail_map[\"evaluation_ranges\"]:\n",
    "                print(8 * ' ', 30 * \"=\")\n",
    "                print(8 * ' ',r.keys())\n",
    "                print(8 * ' ',r[\"trip_id\"], r[\"eval_common_trip_id\"], r[\"eval_role\"], len(r[\"evaluation_trip_ranges\"]))\n",
    "                bcs = r[\"battery_df\"][\"battery_level_pct\"]\n",
    "                delta_battery = bcs.iloc[0] - bcs.iloc[-1]\n",
    "                print(\"Battery starts at %d, ends at %d, drain = %d\" % (bcs.iloc[0], bcs.iloc[-1], delta_battery))\n",
    "                for tr in r[\"evaluation_trip_ranges\"]:\n",
    "                    for section in tr[\"evaluation_section_ranges\"]:\n",
    "                        ma_df = section[\"motion_activity_df\"]\n",
    "                        # Expand the range in order to allow for detection beyond ground truth bounds\n",
    "                        jba_df = r[\"motion_activity_df\"].query(\"ts > %s & ts < %s\" % (sr[\"start_ts\"] - THIRTY_MINUTES, sr[\"end_ts\"] + THIRTY_MINUTES))\n",
    "                        if phone_os == \"android\":\n",
    "                            valid_entries_query = \"zzbhB not in [3,4,5]\"\n",
    "                            csed_df_entry = get_count_start_end_diff(sr,\n",
    "                                                ma_df.query(valid_entries_query),\n",
    "                                                jba_df.query(valid_entries_query),\n",
    "                                                get_transition_mask_android)\n",
    "                        else:\n",
    "                            valid_entries_query = \"automotive == True | cycling == True | running == True | walking == True\"\n",
    "                            csed_df_entry = get_count_start_end_diff(sr,\n",
    "                                                ma_df.query(valid_entries_query),\n",
    "                                                jba_df.query(valid_entries_query),\n",
    "                                                get_transition_mask_ios)                                  \n",
    "                        tradeoff_entry = {\"phone_os\": phone_os, \"phone_label\": phone_label,\n",
    "                                      \"timeline\": pv.spec_details.curr_spec[\"id\"],\n",
    "                                     \"run\": r[\"trip_run\"], \"duration\": r[\"duration\"],\n",
    "                                     \"role\": r[\"eval_role_base\"], \"battery_drain\": delta_battery,\n",
    "                                      \"trip_id\": tr[\"trip_id\"], \"section_id\": section[\"trip_id\"]}\n",
    "                        tradeoff_entry.update(csed_df_entry)\n",
    "                        tradeoff_entry_list.append(tradeoff_entry)\n",
    "\n",
    "    return tradeoff_entry_list"
   ]
  },
  {
   "cell_type": "code",
   "execution_count": null,
   "metadata": {},
   "outputs": [],
   "source": [
    "r = pv_la.map()[\"ios\"][\"ucb-sdb-ios-3\"][\"evaluation_ranges\"][0]\n",
    "print(r.keys())\n",
    "sr = r[\"evaluation_trip_ranges\"][0][\"evaluation_section_ranges\"][1]\n",
    "print(sr[\"trip_id\"], r.keys())\n",
    "ma_df = sr[\"motion_activity_df\"]\n",
    "jba_df = r[\"motion_activity_df\"].query(\"ts > %s & ts < %s\" % (sr[\"start_ts\"] - TEN_MINUTES, sr[\"end_ts\"] + TEN_MINUTES))\n",
    "print(get_count_start_end_diff(sr, ma_df, jba_df, get_transition_mask_ios))\n",
    "valid_query = \"automotive == True | cycling == True | running == True | walking == True\"\n",
    "print(ma_df.columns)\n",
    "print(len(ma_df.query(valid_query)))\n",
    "print(jba_df.columns)\n",
    "print(len(jba_df.query(valid_query)))\n",
    "print(get_count_start_end_diff(sr, ma_df.query(valid_query), jba_df.query(valid_query), get_transition_mask_ios))"
   ]
  },
  {
   "cell_type": "code",
   "execution_count": null,
   "metadata": {},
   "outputs": [],
   "source": [
    "ma_df.query(valid_query)"
   ]
  },
  {
   "cell_type": "code",
   "execution_count": null,
   "metadata": {},
   "outputs": [],
   "source": [
    "ret_list = []\n",
    "for row in np.diff(ma_df.query(valid_query)[[\"walking\", \"cycling\", \"running\", \"automotive\"]], axis=0):\n",
    "    ret_list.append(row.any())\n",
    "ret_list"
   ]
  },
  {
   "cell_type": "code",
   "execution_count": null,
   "metadata": {},
   "outputs": [],
   "source": [
    "(transition_points.ts - 1564274403.318182).min()"
   ]
  },
  {
   "cell_type": "code",
   "execution_count": null,
   "metadata": {},
   "outputs": [],
   "source": [
    "# We are not going to look at battery life at the evaluation trip level; we will end with evaluation range\n",
    "# since we want to capture the overall drain for the timeline\n",
    "tradeoff_entries_list = []\n",
    "tradeoff_entries_list.extend(get_tradeoff_entries(pv_la))\n",
    "tradeoff_entries_list.extend(get_tradeoff_entries(pv_sj))\n",
    "tradeoff_entries_list.extend(get_tradeoff_entries(pv_ucb))\n",
    "tradeoff_df = pd.DataFrame(tradeoff_entries_list)"
   ]
  },
  {
   "cell_type": "code",
   "execution_count": null,
   "metadata": {},
   "outputs": [],
   "source": [
    "tradeoff_df.query(\"phone_os == 'ios' & timeline == 'train_bus_ebike_mtv_ucb'\")"
   ]
  },
  {
   "cell_type": "code",
   "execution_count": null,
   "metadata": {},
   "outputs": [],
   "source": [
    "r2q_map = {\"power_control\": 0, \"HAMFDC\": 1, \"MAHFDC\": 1, \"HAHFDC\": 2, \"accuracy_control\": 3}\n",
    "q2r_android_list = [\"power_control\", \"HAMFDC\", \"HAHFDC\", \"accuracy_control\"]\n",
    "q2r_ios_list = [\"power_control\", \"MAHFDC\", \"HAHFDC\", \"accuracy_control\"]"
   ]
  },
  {
   "cell_type": "code",
   "execution_count": null,
   "metadata": {},
   "outputs": [],
   "source": [
    "# Make a number so that can get the plots to come out in order\n",
    "tradeoff_df[\"quality\"] = tradeoff_df.role.apply(lambda r: r2q_map[r])"
   ]
  },
  {
   "cell_type": "code",
   "execution_count": null,
   "metadata": {},
   "outputs": [],
   "source": [
    "ifig, ax_array = plt.subplots(nrows=4,ncols=3,figsize=(16,16), sharex=False, sharey=True)\n",
    "timeline_list = [\"train_bus_ebike_mtv_ucb\", \"car_scooter_brex_san_jose\", \"unimodal_trip_car_bike_mtv_la\"]\n",
    "for i, tl in enumerate(timeline_list):\n",
    "    tradeoff_df.query(\"timeline == @tl & phone_os == 'android'\").boxplot(ax = ax_array[0][i], column=[\"start_ts_diff\"], by=[\"quality\"])\n",
    "    ax_array[0][i].set_title(tl)\n",
    "    tradeoff_df.query(\"timeline == @tl & phone_os == 'android'\").boxplot(ax = ax_array[1][i], column=[\"end_ts_diff\"], by=[\"quality\"])\n",
    "    ax_array[1][i].set_title(\"\")\n",
    "    tradeoff_df.query(\"timeline == @tl & phone_os == 'ios'\").boxplot(ax = ax_array[2][i], column=[\"start_ts_diff\"], by=[\"quality\"], showbox=False, whis=\"range\")\n",
    "    ax_array[2][i].set_title(\"\")\n",
    "    tradeoff_df.query(\"timeline == @tl & phone_os == 'ios'\").boxplot(ax = ax_array[3][i], column=[\"end_ts_diff\"], by=[\"quality\"], showbox=False, whis=\"range\")\n",
    "    ax_array[3][i].set_title(\"\")\n",
    "\n",
    "    # print(android_ax_returned.shape, ios_ax_returned.shape)\n",
    "\n",
    "for ax in ax_array[0]:\n",
    "    ax.set_xticklabels(q2r_android_list[1:])\n",
    "    ax.set_xlabel(\"\")\n",
    "\n",
    "for ax in ax_array[1]:\n",
    "    ax.set_xticklabels(q2r_android_list[1:])\n",
    "    ax.set_xlabel(\"\")\n",
    "\n",
    "for ax in ax_array[2]:\n",
    "    ax.set_xticklabels(q2r_ios_list[1:])\n",
    "    ax.set_xlabel(\"\")\n",
    "\n",
    "for ax in ax_array[3]:\n",
    "    ax.set_xticklabels(q2r_android_list[1:])\n",
    "    ax.set_xlabel(\"\")    \n",
    "\n",
    "ax_array[0][0].set_ylabel(\"Difference in secs between section start and first valid transition (android)\")\n",
    "ax_array[1][0].set_ylabel(\"Difference in secs between section end and last valid transition (android)\")\n",
    "ax_array[2][0].set_ylabel(\"Difference in secs between section start and first valid transition (ios)\")\n",
    "ax_array[3][0].set_ylabel(\"Difference in secs between section end and last valid transition (ios)\")\n",
    "ifig.suptitle(\"Section start/end accuracy v/s quality over multiple timelines\")\n",
    "# ifig.tight_layout()"
   ]
  },
  {
   "cell_type": "code",
   "execution_count": null,
   "metadata": {},
   "outputs": [],
   "source": [
    "ifig, ax_array = plt.subplots(nrows=4,ncols=3,figsize=(16,16), sharex=False, sharey=True)\n",
    "timeline_list = [\"train_bus_ebike_mtv_ucb\", \"car_scooter_brex_san_jose\", \"unimodal_trip_car_bike_mtv_la\"]\n",
    "for i, tl in enumerate(timeline_list):\n",
    "    tradeoff_df.query(\"timeline == @tl & phone_os == 'android'\").boxplot(ax = ax_array[0][i], column=[\"expanded_start_ts_diff\"], by=[\"quality\"])\n",
    "    ax_array[0][i].set_title(tl)\n",
    "    tradeoff_df.query(\"timeline == @tl & phone_os == 'android'\").boxplot(ax = ax_array[1][i], column=[\"expanded_end_ts_diff\"], by=[\"quality\"])\n",
    "    ax_array[1][i].set_title(\"\")\n",
    "    tradeoff_df.query(\"timeline == @tl & phone_os == 'ios'\").boxplot(ax = ax_array[2][i], column=[\"expanded_start_ts_diff\"], by=[\"quality\"])\n",
    "    ax_array[2][i].set_title(\"\")\n",
    "    tradeoff_df.query(\"timeline == @tl & phone_os == 'ios'\").boxplot(ax = ax_array[3][i], column=[\"expanded_end_ts_diff\"], by=[\"quality\"])\n",
    "    ax_array[3][i].set_title(\"\")\n",
    "\n",
    "    # print(android_ax_returned.shape, ios_ax_returned.shape)\n",
    "\n",
    "for ax in ax_array[0]:\n",
    "    ax.set_xticklabels(q2r_android_list[1:])\n",
    "    ax.set_xlabel(\"\")\n",
    "\n",
    "for ax in ax_array[1]:\n",
    "    ax.set_xticklabels(q2r_android_list[1:])\n",
    "    ax.set_xlabel(\"\")\n",
    "\n",
    "for ax in ax_array[2]:\n",
    "    ax.set_xticklabels(q2r_ios_list[1:])\n",
    "    ax.set_xlabel(\"\")\n",
    "\n",
    "for ax in ax_array[3]:\n",
    "    ax.set_xticklabels(q2r_ios_list[1:])\n",
    "    ax.set_xlabel(\"\")    \n",
    "\n",
    "ax_array[0][0].set_ylabel(\"section start - closest (android)\")\n",
    "ax_array[1][0].set_ylabel(\"section end - closest (android)\")\n",
    "ax_array[2][0].set_ylabel(\"section start - closest (ios)\")\n",
    "ax_array[3][0].set_ylabel(\"section end - closest (ios)\")\n",
    "\n",
    "# ax_array[2][0].set_ylabel(\"Battery drain (ios)\")\n",
    "# ax_array[3][0].set_ylabel(\"Difference in trip counts (ios)\")\n",
    "ifig.suptitle(\"Expanded section start/end accuracy for valid transitions v/s quality over multiple timelines\")\n",
    "# ifig.tight_layout()"
   ]
  },
  {
   "cell_type": "code",
   "execution_count": null,
   "metadata": {},
   "outputs": [],
   "source": []
  }
 ],
 "metadata": {
  "kernelspec": {
   "display_name": "Python 3",
   "language": "python",
   "name": "python3"
  },
  "language_info": {
   "codemirror_mode": {
    "name": "ipython",
    "version": 3
   },
   "file_extension": ".py",
   "mimetype": "text/x-python",
   "name": "python",
   "nbconvert_exporter": "python",
   "pygments_lexer": "ipython3",
   "version": "3.6.7"
  }
 },
 "nbformat": 4,
 "nbformat_minor": 2
}
