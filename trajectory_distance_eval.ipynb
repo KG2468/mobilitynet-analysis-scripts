{
 "cells": [
  {
   "cell_type": "code",
   "execution_count": null,
   "id": "8f6e2e37",
   "metadata": {},
   "outputs": [],
   "source": [
    "# for reading and validating data\n",
    "import emeval.input.spec_details as eisd\n",
    "import emeval.input.phone_view as eipv\n",
    "import emeval.input.eval_view as eiev"
   ]
  },
  {
   "cell_type": "code",
   "execution_count": null,
   "id": "d06ccf71",
   "metadata": {},
   "outputs": [],
   "source": [
    "# Visualization helpers\n",
    "import emeval.viz.phone_view as ezpv\n",
    "import emeval.viz.eval_view as ezev"
   ]
  },
  {
   "cell_type": "code",
   "execution_count": null,
   "id": "02e57808",
   "metadata": {},
   "outputs": [],
   "source": [
    "# for pipelined data\n",
    "import emeval.analysed.phone_view as eapv"
   ]
  },
  {
   "cell_type": "code",
   "execution_count": null,
   "id": "bfe4e426",
   "metadata": {},
   "outputs": [],
   "source": [
    "import pandas as pd"
   ]
  },
  {
   "cell_type": "code",
   "execution_count": null,
   "id": "402ad1a9",
   "metadata": {
    "scrolled": true
   },
   "outputs": [],
   "source": [
    "import geopandas as gpd\n",
    "import shapely as shp\n",
    "import shapely.geometry as shpgeo"
   ]
  },
  {
   "cell_type": "code",
   "execution_count": null,
   "id": "d0cf7fdf",
   "metadata": {},
   "outputs": [],
   "source": [
    "import emeval.viz.geojson as ezgj"
   ]
  },
  {
   "cell_type": "code",
   "execution_count": null,
   "id": "3e6c70a6",
   "metadata": {},
   "outputs": [],
   "source": [
    "import numpy as np"
   ]
  },
  {
   "cell_type": "code",
   "execution_count": null,
   "id": "aa6b3f38",
   "metadata": {},
   "outputs": [],
   "source": [
    "import emeval.metrics.dist_calculations as emd"
   ]
  },
  {
   "cell_type": "code",
   "execution_count": null,
   "id": "2a2a824b",
   "metadata": {},
   "outputs": [],
   "source": [
    "# For plots\n",
    "import matplotlib.pyplot as plt\n",
    "%matplotlib inline"
   ]
  },
  {
   "cell_type": "code",
   "execution_count": null,
   "id": "edc3aeff",
   "metadata": {},
   "outputs": [],
   "source": [
    "# Analytics results\n",
    "import emeval.metrics.segmentation as ems"
   ]
  },
  {
   "cell_type": "code",
   "execution_count": null,
   "id": "e5ef2924",
   "metadata": {},
   "outputs": [],
   "source": [
    "# for statistics\n",
    "import scipy as sp\n",
    "import scipy.stats as spst "
   ]
  },
  {
   "cell_type": "code",
   "execution_count": null,
   "id": "9eeacb7e",
   "metadata": {},
   "outputs": [],
   "source": [
    "# For easier debugging while working on modules\n",
    "import importlib"
   ]
  },
  {
   "cell_type": "code",
   "execution_count": null,
   "id": "e33b319b",
   "metadata": {},
   "outputs": [],
   "source": [
    "import sys "
   ]
  },
  {
   "cell_type": "code",
   "execution_count": null,
   "id": "ca3f4232",
   "metadata": {},
   "outputs": [],
   "source": [
    "sys.path.append('/Users/gkosmach/Documents/every_trip_counts/e-mission-server')"
   ]
  },
  {
   "cell_type": "code",
   "execution_count": null,
   "id": "8fdad08f",
   "metadata": {},
   "outputs": [],
   "source": [
    "import emission.analysis.intake.cleaning.location_smoothing as eaicl"
   ]
  },
  {
   "cell_type": "code",
   "execution_count": null,
   "id": "36e99aaa",
   "metadata": {},
   "outputs": [],
   "source": [
    "# json\n",
    "import json"
   ]
  },
  {
   "cell_type": "code",
   "execution_count": null,
   "id": "a8592014",
   "metadata": {},
   "outputs": [],
   "source": [
    "def import_sd_and_pv_from_server(trips  = [\"unimodal_trip_car_bike_mtv_la\", \"car_scooter_brex_san_jose\", \"train_bus_ebike_mtv_ucb\"], \n",
    "                                 AUTHOR_EMAIL  = \"shankari@eecs.berkeley.edu\", \n",
    "                                 DATASTORE_LOC = \"http://localhost:8080\", \n",
    "                                 pkl_file_name = None):\n",
    "    sd_l = []\n",
    "    pv_l = []\n",
    "    for trip in trips:\n",
    "        sd = eisd.ServerSpecDetails(DATASTORE_LOC, AUTHOR_EMAIL, trip)\n",
    "        pv = eipv.PhoneView(sd)\n",
    "        sd_l.append(sd)\n",
    "        pv_l.append(pv)\n",
    "    if pkl_file_name:\n",
    "        import pickle\n",
    "        with open(pkl_file_name, 'wb') as outp:\n",
    "            for pv in pv_l:\n",
    "                pickle.dump(pv, outp, pickle.HIGHEST_PROTOCOL)\n",
    "    return sd_l, pv_l"
   ]
  },
  {
   "cell_type": "code",
   "execution_count": null,
   "id": "78cdb998",
   "metadata": {},
   "outputs": [],
   "source": [
    "def import_pv_from_pkl(pkl_file_name, \n",
    "                       trips = [\"unimodal_trip_car_bike_mtv_la\", \"car_scooter_brex_san_jose\", \"train_bus_ebike_mtv_ucb\"]):\n",
    "    import pickle\n",
    "    pv_l = []\n",
    "    with open('pv.pkl', 'rb') as inp:\n",
    "        for trip in trips:\n",
    "            pv_l.append(pickle.load(inp))\n",
    "    return pv_l"
   ]
  },
  {
   "cell_type": "code",
   "execution_count": null,
   "id": "03207718",
   "metadata": {},
   "outputs": [],
   "source": [
    "(pv_la, pv_sj, pv_ucb) = import_pv_from_pkl('pv.pkl')"
   ]
  },
  {
   "cell_type": "code",
   "execution_count": null,
   "id": "27d8d8c4",
   "metadata": {},
   "outputs": [],
   "source": [
    "av_la = eapv.create_analysed_view(pv_la, \"http://localhost:8080\", \"analysis/recreated_location\", \"analysis/cleaned_trip\", \"analysis/cleaned_section\")\n",
    "av_sj = eapv.create_analysed_view(pv_sj, \"http://localhost:8080\", \"analysis/recreated_location\", \"analysis/cleaned_trip\", \"analysis/cleaned_section\")\n",
    "av_ucb = eapv.create_analysed_view(pv_ucb, \"http://localhost:8080\", \"analysis/recreated_location\", \"analysis/cleaned_trip\", \"analysis/cleaned_section\")"
   ]
  },
  {
   "cell_type": "code",
   "execution_count": null,
   "id": "036e8bad",
   "metadata": {
    "scrolled": true
   },
   "outputs": [],
   "source": [
    "def get_ss_and_gts_dists(pv_l, os, role):\n",
    "    if type(pv_l) is not list:\n",
    "        pv_l = [pv_l]\n",
    "    trip_dists = []\n",
    "    for pv in pv_l:\n",
    "        for phone_os, phone_map in pv.map().items():\n",
    "            if os != phone_os: continue\n",
    "            for phone_label, phone_detail_map in phone_map.items():\n",
    "                for r in phone_detail_map[\"evaluation_ranges\"]:\n",
    "                    if role not in r['eval_role']: continue\n",
    "                    if 'control' in r['eval_role']: continue\n",
    "                    run_ss_dist, run_gt_dist = 0,0\n",
    "                    for i, tr in enumerate(r[\"evaluation_trip_ranges\"]):\n",
    "                        sensed_dist, gt_dist = 0,0\n",
    "                        for ss in tr['sensed_section_ranges']:\n",
    "                            if 'data' in ss.keys():\n",
    "                                if i > 0: assert ss['data']['start_ts'] > r[\"evaluation_trip_ranges\"][i-1]['end_ts']\n",
    "                                if i > 0: assert ss['data']['start_ts'] > trip_dists[-1]['gt_end_ts']\n",
    "                                sensed_dist += ss['data']['distance']\n",
    "#                                 print(ss['data']['sensed_mode'], ss['data']['start_ts'], ss['data']['end_ts'])\n",
    "                            else:\n",
    "                                sensed_dist = eaicl.add_dist_heading( tr['location_df'] ).distance.sum()\n",
    "                                break\n",
    "                        print(sensed_dist)\n",
    "                        run_ss_dist += sensed_dist\n",
    "                        for sr in tr['evaluation_section_ranges']:\n",
    "                            ##### Ground Truth Distance ######\n",
    "                            gt_leg = pv.spec_details.get_ground_truth_for_leg(\n",
    "                                tr[\"trip_id_base\"], \n",
    "                                sr[\"trip_id_base\"], \n",
    "                                tr['start_ts'], \n",
    "                                tr['end_ts']\n",
    "                            )\n",
    "                            gt_shapes = gpd.GeoSeries(eisd.SpecDetails.get_shapes_for_leg(gt_leg))\n",
    "                            if len(gt_shapes) <= 1:\n",
    "                                continue\n",
    "                            ## GET THE TOTAL GT DISTANCE OF A SECTION\n",
    "                            gt_linestring = gt_shapes['route']\n",
    "                            gt_geo_df = emd.linestring_to_geo_df(gt_linestring)\n",
    "                            gt_loc_df = emd.to_loc_df(gt_geo_df)\n",
    "                            gt_loc_with_dist_df =  eaicl.add_dist_heading( gt_loc_df )\n",
    "                            gt_dist += gt_loc_with_dist_df['distance'].sum()\n",
    "#                             print(gt_leg['id'], sr['start_ts'], sr['end_ts'])\n",
    "                        print(gt_dist)\n",
    "                        run_gt_dist += gt_dist\n",
    "#                         print('sensed distance \\t', sensed_dist)\n",
    "#                         print('ground truth distance \\t', gt_dist)\n",
    "                        trip_dists.append(\n",
    "                            {\n",
    "                                'sensed_distance' : sensed_dist,\n",
    "                                'ground_truth_distance' : gt_dist,\n",
    "                                'gt_end_ts' : tr['evaluation_section_ranges'][-1]['end_ts']\n",
    "                            }\n",
    "                        )\n",
    "#                     print('run sensed distance \\t', run_ss_dist)\n",
    "#                     print('run ground truth dist \\t', run_gt_dist)\n",
    "#                     print(f\"trip: \\t{tr['trip_id']} \\n os: \\t{phone_os}\",'\\n \\n')\n",
    "    return trip_dists"
   ]
  },
  {
   "cell_type": "code",
   "execution_count": null,
   "id": "9999a3e3",
   "metadata": {},
   "outputs": [],
   "source": [
    "get_ss_and_gts_dists([av_la, av_sj, av_ucb], 'ios', 'HAMFDC');"
   ]
  },
  {
   "cell_type": "markdown",
   "id": "190afc4a",
   "metadata": {},
   "source": [
    "#### First, we find the overall approximation errors"
   ]
  },
  {
   "cell_type": "code",
   "execution_count": null,
   "id": "945332fc",
   "metadata": {},
   "outputs": [],
   "source": [
    "def get_approx_err(os, role, pv_l):\n",
    "    trip_dist = get_ss_and_gts_dists(pv_l, os, role)\n",
    "    relative_error = []\n",
    "    absolute_error = []\n",
    "    for i in range(len(trip_dist)):\n",
    "        abs_err = (trip_dist[i]['sensed_distance'] - trip_dist[i]['ground_truth_distance'])\n",
    "        rel_err = abs_err / trip_dist[i]['ground_truth_distance']\n",
    "        relative_error.append(rel_err)\n",
    "        absolute_error.append(abs_err)\n",
    "    relative_error_df = pd.DataFrame(relative_error)\n",
    "    absolute_error_df =  pd.DataFrame(absolute_error)\n",
    "    return absolute_error_df, relative_error_df"
   ]
  },
  {
   "cell_type": "code",
   "execution_count": null,
   "id": "80659d0d",
   "metadata": {},
   "outputs": [],
   "source": [
    "def get_describe_table(os, pv_l):\n",
    "    dic = {}\n",
    "    df = None\n",
    "    err_df = None\n",
    "    for role in ['HAHFDC', 'HAMFDC', 'MAHFDC']:\n",
    "        a_err, r_err = get_approx_err(os, role, pv_l)\n",
    "        if df is None:\n",
    "            df = r_err.rename(columns={0: f\"{role}\"}).describe()\n",
    "            err_df = r_err.rename(columns={0: f\"{role}\"})\n",
    "        else:\n",
    "            df = pd.concat([df, r_err.rename(columns={0: f\"{role}\"}).describe()], axis=1)\n",
    "            err_df = pd.concat([err_df, r_err.rename(columns={0: f\"{role}\"})], axis=1)\n",
    "    dic[os] = df\n",
    "    err_df.plot.density(title=f'Gaussian KDE of Relative Error for {os}')\n",
    "    err_df.plot.box(title=f'Box Plots of Relative Error for {os}')\n",
    "    return pd.concat(dic, axis=1)"
   ]
  },
  {
   "cell_type": "markdown",
   "id": "fea11ad9",
   "metadata": {},
   "source": [
    "# Production Level Box Plots for Select Settings"
   ]
  },
  {
   "cell_type": "code",
   "execution_count": null,
   "id": "deb19d48",
   "metadata": {},
   "outputs": [],
   "source": [
    "def box_selected():\n",
    "    fig, ax = plt.subplots(1,2, figsize=(12,4), dpi=300, sharey=False)\n",
    "    fig.text(0.06, 0.5, 'Signed Relative Error', va='center', rotation='vertical')\n",
    "    for i, pv_l in enumerate([[pv_la, pv_sj, pv_ucb], [av_la, av_sj, av_ucb]]):\n",
    "        a_err, r_err_and = get_approx_err('android', 'HAHFDC', pv_l)\n",
    "        a_err, r_err_ios = get_approx_err('ios', 'HAMFDC', pv_l)\n",
    "        err_df = pd.concat(\n",
    "            [\n",
    "                r_err_and.rename(columns={0 : 'andoird:HAHFDC'}),\n",
    "                r_err_ios.rename(columns={0 : 'ios:HAMFDC'})\n",
    "            ], axis=1\n",
    "        )\n",
    "        if i == 0:\n",
    "            title = 'raw'\n",
    "        else:\n",
    "            title = 'clean'\n",
    "        err_df.plot.box(title=title, ax=ax[i])\n",
    "    plt.savefig(fname=f'images/rel_err_box_selected',  bbox_inches=\"tight\")"
   ]
  },
  {
   "cell_type": "code",
   "execution_count": null,
   "id": "13f3502a",
   "metadata": {},
   "outputs": [],
   "source": [
    "box_selected()"
   ]
  },
  {
   "cell_type": "markdown",
   "id": "171ac0c9",
   "metadata": {},
   "source": [
    "## Results"
   ]
  },
  {
   "cell_type": "code",
   "execution_count": null,
   "id": "31280902",
   "metadata": {},
   "outputs": [],
   "source": [
    "2.811445**2"
   ]
  },
  {
   "cell_type": "code",
   "execution_count": null,
   "id": "7498fe59",
   "metadata": {},
   "outputs": [],
   "source": [
    "get_describe_table('android', [pv_la, pv_sj, pv_ucb])"
   ]
  },
  {
   "cell_type": "code",
   "execution_count": null,
   "id": "a1e5e48a",
   "metadata": {},
   "outputs": [],
   "source": [
    "0.291166**2"
   ]
  },
  {
   "cell_type": "code",
   "execution_count": null,
   "id": "6bbd15a1",
   "metadata": {},
   "outputs": [],
   "source": [
    "get_describe_table('ios', [pv_la, pv_sj, pv_ucb])"
   ]
  },
  {
   "cell_type": "markdown",
   "id": "5eea26f7",
   "metadata": {},
   "source": [
    "### cleaned output"
   ]
  },
  {
   "cell_type": "code",
   "execution_count": null,
   "id": "c8eb5b98",
   "metadata": {},
   "outputs": [],
   "source": [
    "0.156445**2"
   ]
  },
  {
   "cell_type": "code",
   "execution_count": null,
   "id": "917cb296",
   "metadata": {},
   "outputs": [],
   "source": [
    "get_describe_table('android', [av_la, av_sj, av_ucb])"
   ]
  },
  {
   "cell_type": "code",
   "execution_count": null,
   "id": "2a8d11be",
   "metadata": {},
   "outputs": [],
   "source": [
    "0.291166**2"
   ]
  },
  {
   "cell_type": "code",
   "execution_count": null,
   "id": "3b75ca84",
   "metadata": {},
   "outputs": [],
   "source": [
    "get_describe_table('ios', [av_la, av_sj, av_ucb])"
   ]
  },
  {
   "cell_type": "code",
   "execution_count": null,
   "id": "5051133c",
   "metadata": {},
   "outputs": [],
   "source": [
    "box_selected()"
   ]
  },
  {
   "cell_type": "code",
   "execution_count": null,
   "id": "b46d3d70",
   "metadata": {},
   "outputs": [],
   "source": [
    "import numpy as np \n",
    "import pylab \n",
    "import scipy.stats as stats\n",
    "measurements = np.random.normal(loc = 20, scale = 5, size=100)\n",
    "a_err, r_err_ios = get_approx_err('ios', 'HAMFDC', [pv_la, pv_la, pv_la]); np.array(r_err_ios)\n",
    "r = np.array(r_err_ios).flatten()\n",
    "print(measurements.shape, r.shape)\n",
    "stats.probplot(r, dist=\"norm\", plot=pylab)\n",
    "pylab.show()"
   ]
  },
  {
   "cell_type": "code",
   "execution_count": null,
   "id": "729b4eb7",
   "metadata": {},
   "outputs": [],
   "source": [
    "measurements;\n",
    "a_err, r_err_ios = get_approx_err('ios', 'HAMFDC', [av_la]); np.array(r_err_ios)"
   ]
  },
  {
   "cell_type": "markdown",
   "id": "c8f5109c",
   "metadata": {},
   "source": [
    "\n",
    "# investigate outlier"
   ]
  },
  {
   "cell_type": "markdown",
   "id": "c7965dca",
   "metadata": {},
   "source": [
    "# JSON table "
   ]
  },
  {
   "cell_type": "code",
   "execution_count": null,
   "id": "7f940ea5",
   "metadata": {},
   "outputs": [],
   "source": [
    "json_dump = json.dumps( \n",
    "    {\n",
    "        \"relative_distance_errors\" :\n",
    "        {\n",
    "            \"android:HAMF\" : np.array(get_approx_err('android', 'HAMFDC')[-1]).tolist(),\n",
    "            \"ios:HAHF\"     : np.array(get_approx_err('ios', 'HAHFDC')[-1]).tolist()\n",
    "        }\n",
    "    }\n",
    ")\n",
    "# Writing to relative_distance_errors.json\n",
    "with open(\"tables/relative_distance_errors.json\", \"w\") as outfile:\n",
    "    outfile.write(json_dump)"
   ]
  },
  {
   "cell_type": "markdown",
   "id": "a9e15cf6",
   "metadata": {},
   "source": [
    "# Function that takes in a spec detail (or spec details) and outputs a JSON table"
   ]
  },
  {
   "cell_type": "code",
   "execution_count": null,
   "id": "2c751b89",
   "metadata": {},
   "outputs": [],
   "source": [
    "def get_relative_distance_error_table(sd, output_file_name=\"relative_distance_errors.json\") :\n",
    "    if type(sd) is not list: sd = [sd]\n",
    "    pv_l = []\n",
    "    av_l = []\n",
    "    for s in sd:\n",
    "        pv = eipv.PhoneView(sd)\n",
    "        av = eapv.create_analysed_view(pv, s.DATASTORE_LOC, \"analysis/recreated_location\", \"analysis/cleaned_trip\", \"analysis/cleaned_section\")\n",
    "        pv_l.append(pv_l)\n",
    "        av_l.append(av_l)\n",
    "    abs_err, rel_err = get_approx_err(os, role, pv_l=pv_l)\n",
    "    json_dump = json.dumps( \n",
    "        {\n",
    "            \"relative_distance_errors\" :\n",
    "            {\n",
    "                \"android:HAMF\" : np.array(get_approx_err('android', 'HAMFDC')[-1]).tolist(),\n",
    "                \"ios:HAHF\"     : np.array(get_approx_err('ios', 'HAHFDC')[-1]).tolist()\n",
    "            }\n",
    "        }\n",
    "    )\n",
    "    # Writing to relative_distance_errors.json\n",
    "    with open(output_file_name, \"w\") as outfile:\n",
    "        outfile.write(json_dump)"
   ]
  }
 ],
 "metadata": {
  "kernelspec": {
   "display_name": "Python 3 (ipykernel)",
   "language": "python",
   "name": "python3"
  },
  "language_info": {
   "codemirror_mode": {
    "name": "ipython",
    "version": 3
   },
   "file_extension": ".py",
   "mimetype": "text/x-python",
   "name": "python",
   "nbconvert_exporter": "python",
   "pygments_lexer": "ipython3",
   "version": "3.8.13"
  }
 },
 "nbformat": 4,
 "nbformat_minor": 5
}
