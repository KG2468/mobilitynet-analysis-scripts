{
 "cells": [
  {
   "cell_type": "code",
   "execution_count": null,
   "id": "informational-robinson",
   "metadata": {},
   "outputs": [],
   "source": [
    "import sys\n",
    "sys.path.append(\"..\")"
   ]
  },
  {
   "cell_type": "code",
   "execution_count": null,
   "id": "known-george",
   "metadata": {},
   "outputs": [],
   "source": [
    "from emeval.input.spec_details import FileSpecDetails\n",
    "\n",
    "sd = FileSpecDetails(\"data/\", \"shankari@eecs.berkeley.edu\", \"train_bus_ebike_mtv_ucb\")"
   ]
  },
  {
   "cell_type": "code",
   "execution_count": null,
   "id": "stupid-opportunity",
   "metadata": {},
   "outputs": [],
   "source": [
    "from emeval.input.phone_view import PhoneView\n",
    "\n",
    "pv = PhoneView(sd)"
   ]
  },
  {
   "cell_type": "code",
   "execution_count": null,
   "id": "packed-august",
   "metadata": {},
   "outputs": [],
   "source": [
    "import pandas as pd\n",
    "\n",
    "def get_dfs(pv_map):\n",
    "    \"\"\"\n",
    "    Returns a dictionary consisting of versions of the dataframes in a\n",
    "    PhoneView map with uniquely-identifiable (i.e. fully queryable) rows.\n",
    "    \"\"\"\n",
    "    df_map = {}\n",
    "    pkey = set()\n",
    "    \n",
    "    def prepend_pkey(node, curr_pkey):\n",
    "        \"\"\"\n",
    "        \"\"\"\n",
    "        for key, val in node.items():\n",
    "            if isinstance(val, list):\n",
    "                for e in val:\n",
    "                    prepend_pkey(e, curr_pkey)\n",
    "            elif isinstance(val, dict):\n",
    "                prepend_pkey(val, curr_pkey)\n",
    "            elif isinstance(val, pd.DataFrame):\n",
    "                for col in val.columns.values:\n",
    "                    if col in curr_pkey:\n",
    "                        curr_pkey.remove(col)\n",
    "                if key not in df_map:\n",
    "                    df_map[key] = val\n",
    "            else:\n",
    "                curr_pkey.add(key)\n",
    "                for label in df_map:\n",
    "                    if key not in df_map[label].columns.values:\n",
    "                        df_map[label].assign(key=val)\n",
    "                        print(f\"assigned {key=} to {label}\")\n",
    "    \n",
    "    prepend_pkey(pv_map, pkey)\n",
    "    \n",
    "    return df_map\n",
    "\n",
    "df_map = get_dfs(pv.map())"
   ]
  },
  {
   "cell_type": "code",
   "execution_count": null,
   "id": "geological-easter",
   "metadata": {},
   "outputs": [],
   "source": [
    "for label, df in df_map.items():\n",
    "    import IPython.display as display\n",
    "    print(label)\n",
    "    display(df.columns.values)"
   ]
  }
 ],
 "metadata": {
  "kernelspec": {
   "display_name": "Python 3",
   "language": "python",
   "name": "python3"
  },
  "language_info": {
   "codemirror_mode": {
    "name": "ipython",
    "version": 3
   },
   "file_extension": ".py",
   "mimetype": "text/x-python",
   "name": "python",
   "nbconvert_exporter": "python",
   "pygments_lexer": "ipython3",
   "version": "3.8.2"
  }
 },
 "nbformat": 4,
 "nbformat_minor": 5
}
