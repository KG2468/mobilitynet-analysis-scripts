{
 "cells": [
  {
   "cell_type": "markdown",
   "metadata": {},
   "source": [
    "## Power drain from 100%\n",
    "\n",
    "This notebook visualizes and analyses *power drain* while moving. We show that iOS appears to report 100% battery for a while after the test starts, but if the test starts with 80%, we can see the drain immediately. This seems to suggest that iOS has some battery level in \"reserve\". Because we can't easily account for this, we ensure that we start all our experiments with full phones."
   ]
  },
  {
   "cell_type": "markdown",
   "metadata": {},
   "source": [
    "## Import all the dependencies"
   ]
  },
  {
   "cell_type": "code",
   "execution_count": null,
   "metadata": {},
   "outputs": [],
   "source": [
    "import sys\n",
    "sys.path.append(\"..\")"
   ]
  },
  {
   "cell_type": "code",
   "execution_count": null,
   "metadata": {
    "scrolled": false
   },
   "outputs": [],
   "source": [
    "# for reading and validating data\n",
    "import emeval.input.spec_details as eisd\n",
    "import emeval.input.phone_view as eipv\n",
    "import emeval.input.eval_view as eiev"
   ]
  },
  {
   "cell_type": "code",
   "execution_count": null,
   "metadata": {
    "scrolled": false
   },
   "outputs": [],
   "source": [
    "# Visualization helpers\n",
    "import emeval.viz.phone_view as ezpv\n",
    "import emeval.viz.eval_view as ezev"
   ]
  },
  {
   "cell_type": "code",
   "execution_count": null,
   "metadata": {
    "scrolled": false
   },
   "outputs": [],
   "source": [
    "# For plots\n",
    "import matplotlib.pyplot as plt\n",
    "%matplotlib inline"
   ]
  },
  {
   "cell_type": "code",
   "execution_count": null,
   "metadata": {
    "scrolled": false
   },
   "outputs": [],
   "source": [
    "# For maps\n",
    "import branca.element as bre"
   ]
  },
  {
   "cell_type": "code",
   "execution_count": null,
   "metadata": {},
   "outputs": [],
   "source": [
    "# For displaying dates\n",
    "import arrow"
   ]
  },
  {
   "cell_type": "markdown",
   "metadata": {},
   "source": [
    "## Load and validate data\n",
    "\n",
    "The first issue to note is that we actually have two specs here. The first spec is the checked in `evaluation.spec.sample`, which defines calibration for both stationary and moving instances, and some evaluation trips. However, while starting with the calibration, we noticed some inconsistencies between the power curves. So in order to be more consistent, I defined a second, calibration-only spec `examples/calibration.only.json`, which essentially repeats the calibration experiments multiple times.\n",
    "\n",
    "After that, I returned to the first set of experiments for the moving calibration and the evaluation."
   ]
  },
  {
   "cell_type": "code",
   "execution_count": null,
   "metadata": {
    "scrolled": false
   },
   "outputs": [],
   "source": [
    "DATASTORE_URL = \"http://cardshark.cs.berkeley.edu\"\n",
    "AUTHOR_EMAIL = \"shankari@eecs.berkeley.edu\"\n",
    "sd_80pct = eisd.SpecDetails(DATASTORE_URL, AUTHOR_EMAIL, \"sfba_med_freq_calibration_stationary_only_pilot\")\n",
    "sd_mf = eisd.SpecDetails(DATASTORE_URL, AUTHOR_EMAIL, \"sfba_med_freq_calibration_stationary_only\")"
   ]
  },
  {
   "cell_type": "code",
   "execution_count": null,
   "metadata": {},
   "outputs": [],
   "source": [
    "pv_80pct = eipv.PhoneView(sd_80pct)"
   ]
  },
  {
   "cell_type": "code",
   "execution_count": null,
   "metadata": {},
   "outputs": [],
   "source": [
    "pv_mf = eipv.PhoneView(sd_mf)"
   ]
  },
  {
   "cell_type": "code",
   "execution_count": null,
   "metadata": {},
   "outputs": [],
   "source": [
    "pv_mf = eipv.PhoneView(sd_mf)"
   ]
  },
  {
   "cell_type": "code",
   "execution_count": null,
   "metadata": {},
   "outputs": [],
   "source": [
    "pv_mf.validate()\n",
    "pv_80pct.validate()"
   ]
  },
  {
   "cell_type": "code",
   "execution_count": null,
   "metadata": {},
   "outputs": [],
   "source": [
    "ev_80pct = eiev.EvaluationView()\n",
    "ev_80pct.from_view_multiple_runs(pv_80pct, \"\")\n",
    "ev_mf = eiev.EvaluationView()\n",
    "ev_mf.from_view_multiple_runs(pv_mf, \"\")"
   ]
  },
  {
   "cell_type": "code",
   "execution_count": null,
   "metadata": {},
   "outputs": [],
   "source": [
    "(ifig, [android_ax, ios_ax]) = plt.subplots(ncols=1, nrows=2, figsize=(16,16))\n",
    "\n",
    "ezpv.plot_all_power_drain(ios_ax, pv_mf.map()[\"ios\"], \"calibration\", \"stationary\")\n",
    "ezpv.plot_all_power_drain(ios_ax, pv_80pct.map()[\"ios\"], \"calibration\", \"stationary\")\n",
    "ios_ax.legend(loc=\"upper left\", mode=\"expand\", bbox_to_anchor=(0, 3.5, 1.25,0.2), ncol=2, prop={\"size\": 12})\n",
    "ezpv.plot_all_power_drain(android_ax, pv_mf.map()[\"android\"], \"calibration\", \"stationary\")\n",
    "ezpv.plot_all_power_drain(android_ax, pv_80pct.map()[\"android\"], \"calibration\", \"stationary\")\n",
    "android_ax.legend(loc=\"lower left\", mode=\"expand\", bbox_to_anchor=(0,-2.75,1.25,0.2), ncol=2, prop={\"size\": 12})"
   ]
  },
  {
   "cell_type": "markdown",
   "metadata": {},
   "source": [
    "### Plotting individual curves + predicted offset\n",
    "\n",
    "We also plot the predicted drain if the 80% line had the same characteristics but was offset to start at zero.\n",
    "And we can see that the resulting curve ends up parallel but consistently below the other two values, mainly due to the initial zero values."
   ]
  },
  {
   "cell_type": "code",
   "execution_count": null,
   "metadata": {},
   "outputs": [],
   "source": [
    "[r[\"trip_id\"] for r in pv_80pct.map()[\"ios\"][\"ucb-sdb-ios-1\"][\"calibration_ranges\"]]"
   ]
  },
  {
   "cell_type": "markdown",
   "metadata": {},
   "source": [
    "High accuracy is the first range and balanced accuracy is the second range in the two 80% calibration ranges"
   ]
  },
  {
   "cell_type": "code",
   "execution_count": null,
   "metadata": {},
   "outputs": [],
   "source": [
    "(ifig, ax) = plt.subplots(figsize=(12,3), nrows=0, ncols=0)\n",
    "ezpv.plot_separate_power_drain(ifig, pv_80pct.map()[\"ios\"], 4, \"calibration\", \"high\")\n",
    "ezpv.plot_separate_power_drain(ifig, pv_mf.map()[\"ios\"], 4, \"calibration\", \"high\")\n",
    "added_axes = ifig.axes\n",
    "# print(len(added_axes))\n",
    "for i, (phone_label, phone_detail_map) in enumerate(pv_80pct.map()[\"ios\"].items()):\n",
    "    # print(phone_label, phone_detail_map.keys())\n",
    "    battery_df = phone_detail_map[\"calibration_ranges\"][0][\"battery_df\"]\n",
    "    start_charge = battery_df.battery_level_pct.iloc[0]\n",
    "    battery_df[\"offset_pct\"] = battery_df.battery_level_pct + (100 - start_charge)\n",
    "    battery_df.plot(x=\"hr\", y=\"offset_pct\", ax=added_axes[i], style='--')"
   ]
  },
  {
   "cell_type": "code",
   "execution_count": null,
   "metadata": {},
   "outputs": [],
   "source": [
    "(ifig, ax) = plt.subplots(figsize=(12,3), nrows=0, ncols=0)\n",
    "ezpv.plot_separate_power_drain(ifig, pv_80pct.map()[\"ios\"], 4, \"calibration\", \"balanced\")\n",
    "ezpv.plot_separate_power_drain(ifig, pv_mf.map()[\"ios\"], 4, \"calibration\", \"balanced\")\n",
    "added_axes = ifig.axes\n",
    "print(len(added_axes))\n",
    "for i, (phone_label, phone_detail_map) in enumerate(pv_80pct.map()[\"ios\"].items()):\n",
    "    # print(phone_label, phone_detail_map.keys())\n",
    "    battery_df = phone_detail_map[\"calibration_ranges\"][1][\"battery_df\"] # we can see that the offset value for balanced accuracy is the first one\n",
    "    start_charge = battery_df.battery_level_pct.iloc[0]\n",
    "    battery_df[\"offset_pct\"] = battery_df.battery_level_pct + (100 - start_charge)\n",
    "    battery_df.plot(x=\"hr\", y=\"offset_pct\", ax=added_axes[i], style='--')"
   ]
  },
  {
   "cell_type": "markdown",
   "metadata": {},
   "source": [
    "### High accuracy diff check first\n",
    "\n",
    "We can also compute some numbers instead of looking at graphs"
   ]
  },
  {
   "cell_type": "code",
   "execution_count": null,
   "metadata": {},
   "outputs": [],
   "source": [
    "# First, let's check the diff for the high accuracy\n",
    "battery_80_pct = pv_80pct.map()[\"ios\"][\"ucb-sdb-ios-1\"][\"calibration_ranges\"][0][\"battery_df\"]\n",
    "print(\"For the 80 start, high accuracy, start = %d, diff = %d, duration = %d\" %\n",
    "      (battery_80_pct.battery_level_pct.iloc[0], (battery_80_pct.battery_level_pct.iloc[0] - battery_80_pct.battery_level_pct.iloc[-1]), battery_80_pct.hr.max()))"
   ]
  },
  {
   "cell_type": "code",
   "execution_count": null,
   "metadata": {},
   "outputs": [],
   "source": [
    "[r[\"trip_id\"] for r in pv_mf.map()[\"ios\"][\"ucb-sdb-ios-1\"][\"calibration_ranges\"]]"
   ]
  },
  {
   "cell_type": "code",
   "execution_count": null,
   "metadata": {},
   "outputs": [],
   "source": [
    "battery_100_pct_list = [r[\"battery_df\"] for r in pv_mf.map()[\"ios\"][\"ucb-sdb-ios-1\"][\"calibration_ranges\"][:2]]\n",
    "for df in battery_100_pct_list:\n",
    "    print(\"For the 100 start, high accuracy, start = %d, diff = %d, duration = %d\" %\n",
    "        (df.battery_level_pct.iloc[0], (df.battery_level_pct.iloc[0] - df.battery_level_pct.iloc[-1]), df.hr.iloc[-1]))"
   ]
  },
  {
   "cell_type": "code",
   "execution_count": null,
   "metadata": {},
   "outputs": [],
   "source": [
    "for df in battery_100_pct_list:\n",
    "    print(\"For the 100 start, high accuracy, start = %d, diff = %d, duration = %d\" %\n",
    "        (df.battery_level_pct.iloc[0], (df.battery_level_pct.iloc[0] - df.battery_level_pct.iloc[-1]), df.hr.iloc[-1]))"
   ]
  },
  {
   "cell_type": "markdown",
   "metadata": {},
   "source": [
    "### Medium accuracy check next"
   ]
  },
  {
   "cell_type": "code",
   "execution_count": null,
   "metadata": {},
   "outputs": [],
   "source": [
    "battery_80_pct = pv_80pct.map()[\"ios\"][\"ucb-sdb-ios-1\"][\"calibration_ranges\"][1][\"battery_df\"]\n",
    "print(\"For the 80 start, high accuracy, start = %d, diff = %d, duration = %d\" %\n",
    "      (battery_80_pct.battery_level_pct.iloc[0], (battery_80_pct.battery_level_pct.iloc[0] - battery_80_pct.battery_level_pct.iloc[-1]), battery_80_pct.hr.max()))"
   ]
  },
  {
   "cell_type": "code",
   "execution_count": null,
   "metadata": {},
   "outputs": [],
   "source": [
    "battery_100_pct_list = [r[\"battery_df\"] for r in pv_mf.map()[\"ios\"][\"ucb-sdb-ios-1\"][\"calibration_ranges\"][2:]]\n",
    "for df in battery_100_pct_list:\n",
    "    print(\"For the 100 start, high accuracy, start = %d, diff = %d, duration = %d\" %\n",
    "        (df.battery_level_pct.iloc[0], (df.battery_level_pct.iloc[0] - df.battery_level_pct.iloc[-1]), df.hr.iloc[-1]))"
   ]
  },
  {
   "cell_type": "code",
   "execution_count": null,
   "metadata": {},
   "outputs": [],
   "source": []
  }
 ],
 "metadata": {
  "kernelspec": {
   "display_name": "Python 3",
   "language": "python",
   "name": "python3"
  },
  "language_info": {
   "codemirror_mode": {
    "name": "ipython",
    "version": 3
   },
   "file_extension": ".py",
   "mimetype": "text/x-python",
   "name": "python",
   "nbconvert_exporter": "python",
   "pygments_lexer": "ipython3",
   "version": "3.6.1"
  }
 },
 "nbformat": 4,
 "nbformat_minor": 2
}
