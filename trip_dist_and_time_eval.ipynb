{
 "cells": [
  {
   "cell_type": "code",
   "execution_count": null,
   "id": "ef62dbaa",
   "metadata": {},
   "outputs": [],
   "source": [
    "# for reading and validating data\n",
    "import emeval.input.spec_details as eisd\n",
    "import emeval.input.phone_view as eipv\n",
    "import emeval.input.eval_view as eiev"
   ]
  },
  {
   "cell_type": "code",
   "execution_count": null,
   "id": "97a8ef3f",
   "metadata": {},
   "outputs": [],
   "source": [
    "import pandas as pd"
   ]
  },
  {
   "cell_type": "code",
   "execution_count": null,
   "id": "92caa55a",
   "metadata": {},
   "outputs": [],
   "source": [
    "import geopandas as gpd\n",
    "import shapely as shp"
   ]
  },
  {
   "cell_type": "code",
   "execution_count": null,
   "id": "6b77b20c",
   "metadata": {},
   "outputs": [],
   "source": [
    "import numpy as np"
   ]
  },
  {
   "cell_type": "code",
   "execution_count": null,
   "id": "fd6505c3",
   "metadata": {},
   "outputs": [],
   "source": [
    "import emeval.metrics.dist_calculations as emd"
   ]
  },
  {
   "cell_type": "code",
   "execution_count": null,
   "id": "7525cf0d",
   "metadata": {},
   "outputs": [],
   "source": [
    "# For plots\n",
    "import matplotlib.pyplot as plt\n",
    "%matplotlib inline"
   ]
  },
  {
   "cell_type": "code",
   "execution_count": null,
   "id": "6c5dd71f",
   "metadata": {},
   "outputs": [],
   "source": [
    "# Analytics results\n",
    "import emeval.metrics.segmentation as ems"
   ]
  },
  {
   "cell_type": "code",
   "execution_count": null,
   "id": "f1179837",
   "metadata": {},
   "outputs": [],
   "source": [
    "# For easier debugging while working on modules\n",
    "import importlib"
   ]
  },
  {
   "cell_type": "code",
   "execution_count": null,
   "id": "ae9a913f",
   "metadata": {},
   "outputs": [],
   "source": [
    "def import_sd_and_pv_from_server(trips  = [\"unimodal_trip_car_bike_mtv_la\", \"car_scooter_brex_san_jose\", \"train_bus_ebike_mtv_ucb\"], \n",
    "                                 AUTHOR_EMAIL  = \"shankari@eecs.berkeley.edu\", \n",
    "                                 DATASTORE_LOC = \"http://localhost:8080\", \n",
    "                                 pkl_file_name = None):\n",
    "    sd_l = []\n",
    "    pv_l = []\n",
    "    for trip in trips:\n",
    "        sd = eisd.ServerSpecDetails(DATASTORE_LOC, AUTHOR_EMAIL, trip)\n",
    "        pv = eipv.PhoneView(sd)\n",
    "        sd_l.append(sd)\n",
    "        pv_l.append(pv)\n",
    "    if pkl_file_name:\n",
    "        import pickle\n",
    "        with open(pkl_file_name, 'wb') as outp:\n",
    "            for pv in pv_l:\n",
    "                pickle.dump(pv, outp, pickle.HIGHEST_PROTOCOL)\n",
    "    return sd_l, pv_l"
   ]
  },
  {
   "cell_type": "code",
   "execution_count": null,
   "id": "478ecf33",
   "metadata": {},
   "outputs": [],
   "source": [
    "def import_pv_from_pkl(pkl_file_name, \n",
    "                       trips = [\"unimodal_trip_car_bike_mtv_la\", \"car_scooter_brex_san_jose\", \"train_bus_ebike_mtv_ucb\"]):\n",
    "    import pickle\n",
    "    pv_l = []\n",
    "    with open('pv.pkl', 'rb') as inp:\n",
    "        for trip in trips:\n",
    "            pv_l.append(pickle.load(inp))\n",
    "    return pv_l"
   ]
  },
  {
   "cell_type": "code",
   "execution_count": null,
   "id": "15defce4",
   "metadata": {},
   "outputs": [],
   "source": [
    "(pv_la, pv_sj, pv_ucb) = import_pv_from_pkl('pv.pkl')"
   ]
  },
  {
   "cell_type": "code",
   "execution_count": null,
   "id": "a6fda22e",
   "metadata": {},
   "outputs": [],
   "source": [
    "def get_spatial_errors(pv):\n",
    "    spatial_error_df = pd.DataFrame()\n",
    "    \n",
    "    for phone_os, phone_map in pv.map().items():\n",
    "        for phone_label, phone_detail_map in phone_map.items():\n",
    "            for (r_idx, r) in enumerate(phone_detail_map[\"evaluation_ranges\"]):\n",
    "                run_errors = []\n",
    "                for (tr_idx, tr) in enumerate(r[\"evaluation_trip_ranges\"]):\n",
    "                    trip_errors = []\n",
    "                    for (sr_idx, sr) in enumerate(tr[\"evaluation_section_ranges\"]):\n",
    "                        # This is a Shapely LineString\n",
    "                        section_gt_leg = pv.spec_details.get_ground_truth_for_leg(tr[\"trip_id_base\"], sr[\"trip_id_base\"], sr[\"start_ts\"], sr[\"end_ts\"])\n",
    "                        section_gt_shapes = gpd.GeoSeries(eisd.SpecDetails.get_shapes_for_leg(section_gt_leg))\n",
    "                        if len(section_gt_shapes) == 1:\n",
    "                            print(\"No ground truth route for %s %s, must be polygon, skipping...\" % (tr[\"trip_id_base\"], sr[\"trip_id_base\"]))\n",
    "                            assert section_gt_leg[\"type\"] != \"TRAVEL\", \"For %s, %s, %s, %s, %s found type %s\" % (phone_os, phone_label, r_idx, tr_idx, sr_idx, section_gt_leg[\"type\"])\n",
    "                            continue\n",
    "                        if len(sr['location_df']) == 0:\n",
    "                            print(\"No sensed locations found, role = %s skipping...\" % (r[\"eval_role_base\"]))\n",
    "                            # assert r[\"eval_role_base\"] == \"power_control\", \"Found no locations for %s, %s, %s, %s, %s\" % (phone_os, phone_label, r_idx, tr_idx, sr_idx)\n",
    "                            continue\n",
    "                            \n",
    "                        print(\"Processing travel leg %s, %s, %s, %s, %s\" %\n",
    "                              (phone_os, phone_label, r[\"eval_role_base\"], tr[\"trip_id_base\"], sr[\"trip_id_base\"]))\n",
    "                        # This is a GeoDataFrame\n",
    "                        section_geo_df = emd.to_geo_df(sr[\"location_df\"])\n",
    "                        \n",
    "                        # After this point, everything is in UTM so that 2-D inside/filtering operations work\n",
    "                        utm_section_geo_df = emd.to_utm_df(section_geo_df)\n",
    "                        utm_section_gt_shapes = section_gt_shapes.apply(lambda s: shp.ops.transform(emd.to_utm_coords, s))\n",
    "                        filtered_us_gpdf = emd.filter_geo_df(utm_section_geo_df, utm_section_gt_shapes.loc[\"start_loc\":\"end_loc\"])\n",
    "                        filtered_gt_linestring = emd.filter_ground_truth_linestring(utm_section_gt_shapes)\n",
    "                        meter_dist = filtered_us_gpdf.geometry.distance(filtered_gt_linestring)\n",
    "                        ne = len(meter_dist)\n",
    "                        filtered_section_geo_df = section_geo_df.loc[filtered_us_gpdf.index]\n",
    "                        curr_spatial_error_df = gpd.GeoDataFrame({\"error\": meter_dist,\n",
    "                                                                  \"ts\": section_geo_df.ts,\n",
    "                                                                  \"geometry\": section_geo_df.geometry,\n",
    "                                                                  \"ts\": filtered_section_geo_df.ts,\n",
    "                                                                  \"geometry\": filtered_section_geo_df.geometry,\n",
    "                                                                  \"phone_os\": np.repeat(phone_os, ne),\n",
    "                                                                  \"phone_label\": np.repeat(phone_label, ne),\n",
    "                                                                  \"role\": np.repeat(r[\"eval_role_base\"], ne),\n",
    "                                                                  \"timeline\": np.repeat(pv.spec_details.CURR_SPEC_ID, ne), \n",
    "                                                                  \"run\": np.repeat(r_idx, ne),\n",
    "                                                                  \"trip_id\": np.repeat(tr[\"trip_id_base\"], ne),\n",
    "                                                                  \"section_id\": np.repeat(sr[\"trip_id_base\"], ne)})\n",
    "                        spatial_error_df = pd.concat([spatial_error_df, curr_spatial_error_df], axis=\"index\")\n",
    "    return spatial_error_df"
   ]
  },
  {
   "cell_type": "code",
   "execution_count": null,
   "id": "511336ed",
   "metadata": {},
   "outputs": [],
   "source": [
    "spatial_errors_df = pd.DataFrame()\n",
    "for pv in [pv_la, pv_sj, pv_ucb]:\n",
    "    spatial_errors_df = pd.concat([spatial_errors_df, get_spatial_errors(pv)], axis=\"index\")"
   ]
  },
  {
   "cell_type": "markdown",
   "id": "a7057b5e",
   "metadata": {},
   "source": [
    "## Get Total Spacial Error for Each Trip\n",
    "### `TODO:`\n",
    "* Algo analysis\n",
    "    + focus on everythin\n",
    "* Ensemble\n",
    "    + Android: HAMF\n",
    "    + IOS    : HAHF"
   ]
  },
  {
   "cell_type": "code",
   "execution_count": null,
   "id": "4384e9bb",
   "metadata": {},
   "outputs": [],
   "source": [
    "spatial_errors_df.head()"
   ]
  },
  {
   "cell_type": "code",
   "execution_count": null,
   "id": "796fe778",
   "metadata": {
    "scrolled": false
   },
   "outputs": [],
   "source": [
    "spatial_err_by_phone_run_df = spatial_errors_df.groupby(['run', 'phone_label', 'phone_os', 'role']).sum()\n",
    "spatial_err_by_phone_run_df.head()"
   ]
  }
 ],
 "metadata": {
  "kernelspec": {
   "display_name": "Python 3 (ipykernel)",
   "language": "python",
   "name": "python3"
  },
  "language_info": {
   "codemirror_mode": {
    "name": "ipython",
    "version": 3
   },
   "file_extension": ".py",
   "mimetype": "text/x-python",
   "name": "python",
   "nbconvert_exporter": "python",
   "pygments_lexer": "ipython3",
   "version": "3.8.2"
  }
 },
 "nbformat": 4,
 "nbformat_minor": 5
}
