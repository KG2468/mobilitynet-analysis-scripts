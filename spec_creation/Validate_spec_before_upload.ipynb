{
 "cells": [
  {
   "cell_type": "markdown",
   "metadata": {},
   "source": [
    "### Setup some basic stuff"
   ]
  },
  {
   "cell_type": "code",
   "execution_count": null,
   "metadata": {},
   "outputs": [],
   "source": [
    "import logging\n",
    "logging.getLogger().setLevel(logging.DEBUG)"
   ]
  },
  {
   "cell_type": "code",
   "execution_count": null,
   "metadata": {},
   "outputs": [],
   "source": [
    "import folium\n",
    "import folium.features as fof\n",
    "import folium.utilities as ful\n",
    "import branca.element as bre\n",
    "import json\n",
    "import geojson as gj\n",
    "import arrow"
   ]
  },
  {
   "cell_type": "code",
   "execution_count": null,
   "metadata": {},
   "outputs": [],
   "source": [
    "def lonlat_swap(lon_lat):\n",
    "    return list(reversed(lon_lat))"
   ]
  },
  {
   "cell_type": "code",
   "execution_count": null,
   "metadata": {},
   "outputs": [],
   "source": [
    "def get_row_count(n_maps, cols):\n",
    "    rows = (n_maps / cols)\n",
    "    if (n_maps % cols != 0):\n",
    "        rows = rows + 1\n",
    "    return rows"
   ]
  },
  {
   "cell_type": "code",
   "execution_count": null,
   "metadata": {},
   "outputs": [],
   "source": [
    "def get_marker(loc, disp_color):\n",
    "    if loc[\"geometry\"][\"type\"] == \"Point\":\n",
    "        curr_latlng = lonlat_swap(loc[\"geometry\"][\"coordinates\"])\n",
    "        return folium.Marker(curr_latlng, icon=folium.Icon(color=disp_color),\n",
    "                  popup=\"%s\" % loc[\"properties\"][\"name\"])\n",
    "    elif loc[\"geometry\"][\"type\"] == \"Polygon\":\n",
    "        assert len(loc[\"geometry\"][\"coordinates\"]) == 1,\\\n",
    "            \"Only simple polygons supported!\"\n",
    "        curr_latlng = [lonlat_swap(c) for c in loc[\"geometry\"][\"coordinates\"][0]]\n",
    "        # print(\"Returning polygon for %s\" % curr_latlng)\n",
    "        return folium.PolyLine(curr_latlng, color=disp_color, fill=disp_color,\n",
    "                  popup=\"%s\" % loc[\"properties\"][\"name\"])        "
   ]
  },
  {
   "cell_type": "markdown",
   "metadata": {},
   "source": [
    "### Read the data"
   ]
  },
  {
   "cell_type": "code",
   "execution_count": null,
   "metadata": {},
   "outputs": [],
   "source": [
    "spec_to_validate = json.load(open(\"car_scooter_brex_san_jose.filled.json\"))\n",
    "sensing_configs = json.load(open(\"sensing_regimes.all.specs.json\"))"
   ]
  },
  {
   "cell_type": "markdown",
   "metadata": {},
   "source": [
    "### Validating the time range"
   ]
  },
  {
   "cell_type": "code",
   "execution_count": null,
   "metadata": {},
   "outputs": [],
   "source": [
    "print(\"Experiment runs from %s -> %s\" % (arrow.get(spec_to_validate[\"start_ts\"]), arrow.get(spec_to_validate[\"end_ts\"])))\n",
    "start_fmt_time_to_validate = arrow.get(spec_to_validate[\"start_ts\"]).format(\"YYYY-MM-DD\")\n",
    "end_fmt_time_to_validate = arrow.get(spec_to_validate[\"end_ts\"]).format(\"YYYY-MM-DD\")\n",
    "if (start_fmt_time_to_validate != spec_to_validate[\"start_fmt_date\"]):\n",
    "    print(\"VALIDATION FAILED, got start %s, expected %s\" % (start_fmt_time_to_validate, spec_to_validate[\"start_fmt_date\"]))\n",
    "if (end_fmt_time_to_validate != spec_to_validate[\"end_fmt_date\"]):\n",
    "    print(\"VALIDATION FAILED, got end %s, expected %s\" % (end_fmt_time_to_validate, spec_to_validate[\"end_fmt_date\"]))"
   ]
  },
  {
   "cell_type": "markdown",
   "metadata": {},
   "source": [
    "### Validating calibration trips"
   ]
  },
  {
   "cell_type": "code",
   "execution_count": null,
   "metadata": {},
   "outputs": [],
   "source": [
    "def get_map_for_calibration_test(trip):\n",
    "    curr_map = folium.Map()\n",
    "    if trip[\"start_loc\"] is None or trip[\"end_loc\"] is None:\n",
    "        return curr_map\n",
    "    curr_start = lonlat_swap(trip[\"start_loc\"][\"coordinates\"])\n",
    "    curr_end = lonlat_swap(trip[\"end_loc\"][\"coordinates\"])\n",
    "    folium.Marker(curr_start, icon=folium.Icon(color=\"green\"),\n",
    "                  popup=\"Start: %s\" % trip[\"start_loc\"][\"name\"]).add_to(curr_map)\n",
    "    folium.Marker(curr_end, icon=folium.Icon(color=\"red\"),\n",
    "                  popup=\"End: %s\" % trip[\"end_loc\"][\"name\"]).add_to(curr_map)\n",
    "    folium.PolyLine([curr_start, curr_end], popup=trip[\"id\"]).add_to(curr_map)\n",
    "    curr_map.fit_bounds([curr_start, curr_end])    \n",
    "    return curr_map"
   ]
  },
  {
   "cell_type": "code",
   "execution_count": null,
   "metadata": {
    "scrolled": false
   },
   "outputs": [],
   "source": [
    "calibration_tests = spec_to_validate[\"calibration_tests\"]\n",
    "rows = get_row_count(len(calibration_tests), 4)\n",
    "calibration_maps = bre.Figure((rows,4))\n",
    "for i, t in enumerate(calibration_tests):\n",
    "    if t[\"config\"][\"sensing_config\"] != sensing_configs[t[\"config\"][\"id\"]][\"sensing_config\"]:\n",
    "        print(\"Mismatch in config for test\" % t)\n",
    "    curr_map = get_map_for_calibration_test(t)\n",
    "    calibration_maps.add_subplot(rows, 4, i+1).add_child(curr_map)\n",
    "calibration_maps"
   ]
  },
  {
   "cell_type": "markdown",
   "metadata": {},
   "source": [
    "### Validating evaluation trips"
   ]
  },
  {
   "cell_type": "code",
   "execution_count": null,
   "metadata": {},
   "outputs": [],
   "source": [
    "def get_map_for_travel_leg(trip):\n",
    "    curr_map = folium.Map()\n",
    "    get_marker(trip[\"start_loc\"], \"green\").add_to(curr_map)\n",
    "    get_marker(trip[\"end_loc\"], \"red\").add_to(curr_map)\n",
    "    # trips from relations won't have waypoints\n",
    "    if \"waypoint_coords\" in trip:\n",
    "        for i, wpc in enumerate(trip[\"waypoint_coords\"]):\n",
    "            folium.map.Marker(\n",
    "                lonlat_swap(wpc), popup=\"%d\" % i,\n",
    "                icon=fof.DivIcon(class_name='leaflet-div-icon')).add_to(curr_map)\n",
    "    print(\"Found %d coordinates for the route\" % (len(trip[\"route_coords\"])))\n",
    "    latlng_route_coords = [lonlat_swap(rc) for rc in trip[\"route_coords\"][\"geometry\"][\"coordinates\"]]\n",
    "    folium.PolyLine(latlng_route_coords,\n",
    "                    popup=\"%s: %s\" % (trip[\"mode\"], trip[\"name\"])).add_to(curr_map)\n",
    "    for i, c in enumerate(latlng_route_coords):\n",
    "        folium.CircleMarker(c, radius=5, popup=\"%d: %s\" % (i, c)).add_to(curr_map)\n",
    "    curr_map.fit_bounds(ful.get_bounds(trip[\"route_coords\"][\"geometry\"][\"coordinates\"], lonlat=True))    \n",
    "    return curr_map"
   ]
  },
  {
   "cell_type": "code",
   "execution_count": null,
   "metadata": {},
   "outputs": [],
   "source": [
    "def get_map_for_shim_leg(trip):\n",
    "    curr_map = folium.Map()\n",
    "    mkr = get_marker(trip[\"loc\"], \"purple\")\n",
    "    mkr.add_to(curr_map)\n",
    "    curr_map.fit_bounds(mkr.get_bounds())\n",
    "    return curr_map"
   ]
  },
  {
   "cell_type": "code",
   "execution_count": null,
   "metadata": {},
   "outputs": [],
   "source": [
    "evaluation_trips = spec_to_validate[\"evaluation_trips\"]\n",
    "map_list = []\n",
    "for t in evaluation_trips:\n",
    "    for l in t[\"legs\"]:\n",
    "        if l[\"type\"] == \"TRAVEL\":\n",
    "            curr_map = get_map_for_travel_leg(l)\n",
    "            map_list.append(curr_map)\n",
    "        else:\n",
    "            curr_map = get_map_for_shim_leg(l)\n",
    "            map_list.append(curr_map)\n",
    "\n",
    "rows = get_row_count(len(map_list), 2)\n",
    "evaluation_maps = bre.Figure(ratio=\"{}%\".format((rows/2) * 100))\n",
    "for i, curr_map in enumerate(map_list):\n",
    "    evaluation_maps.add_subplot(rows, 2, i+1).add_child(curr_map)\n",
    "evaluation_maps"
   ]
  },
  {
   "cell_type": "markdown",
   "metadata": {},
   "source": [
    "### Validating sensing settings"
   ]
  },
  {
   "cell_type": "code",
   "execution_count": null,
   "metadata": {},
   "outputs": [],
   "source": [
    "for ss in spec_to_validate[\"sensing_settings\"]:\n",
    "    for phoneOS, compare_map in ss.items():\n",
    "        compare_list = compare_map[\"compare\"]\n",
    "        for i, ssc in enumerate(compare_map[\"sensing_configs\"]):\n",
    "            if ssc[\"id\"] != compare_list[i]:\n",
    "                print(\"Mismatch in sensing configurations for %s\" % ss)"
   ]
  },
  {
   "cell_type": "code",
   "execution_count": null,
   "metadata": {},
   "outputs": [],
   "source": []
  }
 ],
 "metadata": {
  "kernelspec": {
   "display_name": "Python 3",
   "language": "python",
   "name": "python3"
  },
  "language_info": {
   "codemirror_mode": {
    "name": "ipython",
    "version": 3
   },
   "file_extension": ".py",
   "mimetype": "text/x-python",
   "name": "python",
   "nbconvert_exporter": "python",
   "pygments_lexer": "ipython3",
   "version": "3.6.1"
  }
 },
 "nbformat": 4,
 "nbformat_minor": 2
}
