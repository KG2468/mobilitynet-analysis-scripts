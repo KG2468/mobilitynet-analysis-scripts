{
 "cells": [
  {
   "cell_type": "markdown",
   "metadata": {},
   "source": [
    "## Set up the dependencies"
   ]
  },
  {
   "cell_type": "code",
   "execution_count": null,
   "metadata": {},
   "outputs": [],
   "source": [
    "# for reading and validating data\n",
    "import emeval.input.spec_details as eisd\n",
    "import emeval.input.phone_view as eipv\n",
    "import emeval.input.eval_view as eiev"
   ]
  },
  {
   "cell_type": "code",
   "execution_count": null,
   "metadata": {},
   "outputs": [],
   "source": [
    "# Visualization helpers\n",
    "import emeval.viz.phone_view as ezpv\n",
    "import emeval.viz.eval_view as ezev"
   ]
  },
  {
   "cell_type": "code",
   "execution_count": null,
   "metadata": {},
   "outputs": [],
   "source": [
    "# For plots\n",
    "import matplotlib.pyplot as plt\n",
    "from matplotlib.collections import PatchCollection\n",
    "from matplotlib.patches import Rectangle\n",
    "%matplotlib inline"
   ]
  },
  {
   "cell_type": "code",
   "execution_count": null,
   "metadata": {},
   "outputs": [],
   "source": [
    "# For maps\n",
    "import folium\n",
    "import branca.element as bre"
   ]
  },
  {
   "cell_type": "code",
   "execution_count": null,
   "metadata": {},
   "outputs": [],
   "source": [
    "# For easier debugging while working on modules\n",
    "import importlib"
   ]
  },
  {
   "cell_type": "code",
   "execution_count": null,
   "metadata": {},
   "outputs": [],
   "source": [
    "import pandas as pd\n",
    "pd.options.display.float_format = '{:.6f}'.format\n",
    "import arrow"
   ]
  },
  {
   "cell_type": "code",
   "execution_count": null,
   "metadata": {},
   "outputs": [],
   "source": [
    "THIRTY_MINUTES = 30 * 60"
   ]
  },
  {
   "cell_type": "markdown",
   "metadata": {},
   "source": [
    "## The spec\n",
    "\n",
    "The spec defines what experiments were done, and over which time ranges. Once the experiment is complete, most of the structure is read back from the data, but we use the spec to validate that it all worked correctly. The spec also contains the ground truth for the legs. Here, we read the spec for the trip to UC Berkeley."
   ]
  },
  {
   "cell_type": "code",
   "execution_count": null,
   "metadata": {},
   "outputs": [],
   "source": [
    "DATASTORE_URL = \"http://cardshark.cs.berkeley.edu\"\n",
    "AUTHOR_EMAIL = \"shankari@eecs.berkeley.edu\"\n",
    "sd_la = eisd.SpecDetails(DATASTORE_URL, AUTHOR_EMAIL, \"unimodal_trip_car_bike_mtv_la\")\n",
    "sd_sj = eisd.SpecDetails(DATASTORE_URL, AUTHOR_EMAIL, \"car_scooter_brex_san_jose\")\n",
    "sd_ucb = eisd.SpecDetails(DATASTORE_URL, AUTHOR_EMAIL, \"train_bus_ebike_mtv_ucb\")"
   ]
  },
  {
   "cell_type": "markdown",
   "metadata": {},
   "source": [
    "## The views\n",
    "\n",
    "There are two main views for the data - the phone view and the evaluation view. "
   ]
  },
  {
   "cell_type": "markdown",
   "metadata": {},
   "source": [
    "### Phone view\n",
    "\n",
    "In the phone view, the phone is primary, and then there is a tree that you can traverse to get the data that you want. Traversing that tree typically involves nested for loops; here's an example of loading the phone view and traversing it. You can replace the print statements with real code. When you are ready to check this in, please move the function to one of the python modules so that we can invoke it more generally"
   ]
  },
  {
   "cell_type": "code",
   "execution_count": null,
   "metadata": {},
   "outputs": [],
   "source": [
    "importlib.reload(eipv)"
   ]
  },
  {
   "cell_type": "code",
   "execution_count": null,
   "metadata": {
    "scrolled": true
   },
   "outputs": [],
   "source": [
    "pv_la = eipv.PhoneView(sd_la)"
   ]
  },
  {
   "cell_type": "code",
   "execution_count": null,
   "metadata": {},
   "outputs": [],
   "source": [
    "pv_sj = eipv.PhoneView(sd_sj)"
   ]
  },
  {
   "cell_type": "code",
   "execution_count": null,
   "metadata": {},
   "outputs": [],
   "source": [
    "pv_ucb = eipv.PhoneView(sd_ucb)"
   ]
  },
  {
   "cell_type": "markdown",
   "metadata": {},
   "source": [
    "## Number of detected trips versus ground truth trips\n",
    "\n",
    "Checks to see how many spurious transitions there were"
   ]
  },
  {
   "cell_type": "code",
   "execution_count": null,
   "metadata": {},
   "outputs": [],
   "source": [
    "import arrow"
   ]
  },
  {
   "cell_type": "code",
   "execution_count": null,
   "metadata": {},
   "outputs": [],
   "source": [
    "def find_ranges(transition_df, start_transition, end_transition):\n",
    "    \"\"\"\n",
    "    Return ranges formed by alternating start and end transition pairs.\n",
    "    Unexpected transitions are ignored\n",
    "    So S, S, E, E, E, E -> 1\n",
    "    S, E, S, E, S, S -> 2\n",
    "    E, S, E, S -> 1\n",
    "    \"\"\"\n",
    "    start_ts = None\n",
    "    range_list = []\n",
    "    for t in transition_df.to_dict(orient='records'):\n",
    "        # print(\"Considering transition %s\" % t)\n",
    "        if start_ts is None and t[\"transition\"] == start_transition:\n",
    "            start_ts = t[\"ts\"]\n",
    "        elif start_ts is not None and t[\"transition\"] == end_transition:\n",
    "            range_list.append({\"start_ts\": start_ts, \"end_ts\": t[\"ts\"]})\n",
    "            start_ts = None\n",
    "    # print(\"Returning %s\" % range_list)\n",
    "    return range_list"
   ]
  },
  {
   "cell_type": "code",
   "execution_count": null,
   "metadata": {},
   "outputs": [],
   "source": [
    "def fill_sensed_trip_ranges(pv):\n",
    "    for phone_os, phone_map in pv.map().items():\n",
    "        print(15 * \"=*\")\n",
    "        print(phone_os, phone_map.keys())\n",
    "        for phone_label, phone_detail_map in phone_map.items():\n",
    "            print(4 * ' ', 15 * \"-*\")\n",
    "            print(4 * ' ', phone_label, phone_detail_map[\"role\"], phone_detail_map.keys())\n",
    "            if \"control\" in phone_detail_map[\"role\"]:\n",
    "                print(\"Ignoring %s phone %s since they are always on\" % (phone_detail_map[\"role\"], phone_label))\n",
    "                continue\n",
    "            # this spec does not have any calibration ranges, but evaluation ranges are actually cooler\n",
    "            for r in phone_detail_map[\"evaluation_ranges\"]:\n",
    "                print(8 * ' ', 30 * \"=\")\n",
    "                print(8 * ' ',r.keys())\n",
    "                print(8 * ' ',r[\"trip_id\"], r[\"eval_common_trip_id\"], r[\"eval_role\"], len(r[\"evaluation_trip_ranges\"]))\n",
    "                # print(r[\"transition_df\"][[\"transition\", \"fmt_time\"]])\n",
    "                if phone_os == \"android\":\n",
    "                    query_str = \"transition == 'local.transition.exited_geofence' | transition == 'local.transition.stopped_moving'\"\n",
    "                else:\n",
    "                    assert phone_os == \"ios\"\n",
    "                    query_str = \"transition == 'T_EXITED_GEOFENCE' | transition == 'T_VISIT_ENDED' | transition == 'T_VISIT_STARTED' | transition == 'T_TRIP_ENDED'\"\n",
    "\n",
    "                sensed_transitions = r[\"transition_df\"].query(query_str)\n",
    "                print(sensed_transitions[[\"transition\", \"fmt_time\"]])\n",
    "                if phone_os == \"android\":\n",
    "                    r[\"sensed_trip_ranges\"] = find_ranges(sensed_transitions, \"local.transition.exited_geofence\", \"local.transition.stopped_moving\")\n",
    "                    r[\"visit_sensed_trip_ranges\"] = []\n",
    "                else:\n",
    "                    assert phone_os == \"ios\"\n",
    "                    r[\"sensed_trip_ranges\"] = find_ranges(sensed_transitions, \"T_EXITED_GEOFENCE\", \"T_TRIP_ENDED\")\n",
    "                    r[\"visit_sensed_trip_ranges\"] = find_ranges(sensed_transitions, \"T_VISIT_ENDED\", \"T_VISIT_STARTED\")\n",
    "\n",
    "                ground_truth_ranges = r[\"evaluation_trip_ranges\"]\n",
    "                # print([(r[\"start_ts\"], arrow.get(r[\"start_ts\"]).to(\"America/Los_Angeles\"), r[\"end_ts\"], arrow.get(r[\"end_ts\"]).to(\"America/Los_Angeles\")) for r in ground_truth_ranges])\n",
    "                print(8 * ' ', len(r[\"sensed_trip_ranges\"]), len(r[\"visit_sensed_trip_ranges\"]), len(ground_truth_ranges))"
   ]
  },
  {
   "cell_type": "code",
   "execution_count": null,
   "metadata": {},
   "outputs": [],
   "source": [
    "fill_sensed_trip_ranges(pv_la)\n",
    "fill_sensed_trip_ranges(pv_sj)\n",
    "fill_sensed_trip_ranges(pv_ucb)"
   ]
  },
  {
   "cell_type": "markdown",
   "metadata": {},
   "source": [
    "### Start and end times mismatch"
   ]
  },
  {
   "cell_type": "code",
   "execution_count": null,
   "metadata": {},
   "outputs": [],
   "source": [
    "def find_closest_trip_idx(gt, sensed_trips, key):\n",
    "    ts_diffs = [abs(gt[key] - st[key]) for st in sensed_trips]\n",
    "    min_diff = min(ts_diffs)\n",
    "    if min_diff > THIRTY_MINUTES:\n",
    "        # too far out, maybe this gt_trip doesn't have any matching trip\n",
    "        return None\n",
    "    else:\n",
    "        min_index = ts_diffs.index(min_diff)\n",
    "        return min_index"
   ]
  },
  {
   "cell_type": "code",
   "execution_count": null,
   "metadata": {},
   "outputs": [],
   "source": [
    "def find_matching_trips(gt_trips, sensed_trips):\n",
    "    matching_trips_map = {}\n",
    "    if len(gt_trips) == len(sensed_trips):\n",
    "        print(\"Found matching lengths %d = %d\" % (len(gt_trips), len(sensed_trips)))\n",
    "        for gt, st in zip(gt_trips, sensed_trips):\n",
    "            matching_trips_map[gt[\"trip_id\"]] = {\"type\": \"both\", \"match\": [st]}\n",
    "    else:\n",
    "        print(\"Found mismatched lengths %d != %d, need to use more complex matching\" % (len(gt_trips), len(sensed_trips)))\n",
    "        for gt in gt_trips:\n",
    "            start_trip_idx = find_closest_trip_idx(gt, sensed_trips, \"start_ts\")\n",
    "            end_trip_idx = find_closest_trip_idx(gt, sensed_trips, \"end_ts\")\n",
    "            if start_trip_idx is not None and end_trip_idx is not None:\n",
    "                # we found both start and end within a reasonable timeframe\n",
    "                matching_trips_map[gt[\"trip_id\"]] = {\"type\": \"both\", \"match\": sensed_trips[start_trip_idx:end_trip_idx+1]}\n",
    "            elif start_trip_idx is not None:\n",
    "                # we find a trip that starts pretty close by but ends super early, let's pick it anyway\n",
    "                assert end_trip_idx is None\n",
    "                matching_trips_map[gt[\"trip_id\"]] = {\"type\": \"start_ts\", \"match\": [sensed_trips[start_trip_idx]]}\n",
    "            elif end_trip_idx is not None:\n",
    "                # we find a trip that ends pretty close by but starts super early/late, let's pick it anyway\n",
    "                assert start_trip_idx is None\n",
    "                matching_trips_map[gt[\"trip_id\"]] = {\"type\": \"end_ts\", \"match\": [sensed_trips[end_trip_idx]]}\n",
    "            else:\n",
    "                # we find nothing that is close to either the start or the end; no matching trips\n",
    "                assert start_trip_idx is None and end_trip_idx is None\n",
    "                matching_trips_map[gt[\"trip_id\"]] = {\"type\": \"none\", \"match\": []}\n",
    "\n",
    "    return matching_trips_map"
   ]
  },
  {
   "cell_type": "code",
   "execution_count": null,
   "metadata": {},
   "outputs": [],
   "source": [
    "curr_run = pv_la.map()[\"android\"][\"ucb-sdb-android-2\"][\"evaluation_ranges\"][0]\n",
    "print(curr_run.keys())\n",
    "find_matching_trips(curr_run[\"evaluation_trip_ranges\"], curr_run[\"sensed_trip_ranges\"])"
   ]
  },
  {
   "cell_type": "code",
   "execution_count": null,
   "metadata": {},
   "outputs": [],
   "source": [
    "[1,2,3][1:2]"
   ]
  },
  {
   "cell_type": "code",
   "execution_count": null,
   "metadata": {},
   "outputs": [],
   "source": [
    "def get_tradeoff_entries(pv):\n",
    "    tradeoff_entry_list = []\n",
    "    for phone_os, phone_map in pv.map().items():\n",
    "        print(15 * \"=*\")\n",
    "        print(phone_os, phone_map.keys())\n",
    "        for phone_label, phone_detail_map in phone_map.items():\n",
    "            print(4 * ' ', 15 * \"-*\")\n",
    "            print(4 * ' ', phone_label, phone_detail_map.keys())\n",
    "            if \"control\" in phone_detail_map[\"role\"]:\n",
    "                print(\"Ignoring %s phone %s since they are always on\" % (phone_detail_map[\"role\"], phone_label))\n",
    "                continue\n",
    "            # this spec does not have any calibration ranges, but evaluation ranges are actually cooler\n",
    "            for r in phone_detail_map[\"evaluation_ranges\"]:\n",
    "                print(8 * ' ', 30 * \"=\")\n",
    "                print(8 * ' ',r.keys())\n",
    "                print(8 * ' ',r[\"trip_id\"], r[\"eval_common_trip_id\"], r[\"eval_role\"], len(r[\"evaluation_trip_ranges\"]))\n",
    "                bcs = r[\"battery_df\"][\"battery_level_pct\"]\n",
    "                delta_battery = bcs.iloc[0] - bcs.iloc[-1]\n",
    "                print(\"Battery starts at %d, ends at %d, drain = %d\" % (bcs.iloc[0], bcs.iloc[-1], delta_battery))\n",
    "                delta_trips = abs(len(r[\"evaluation_trip_ranges\"]) - len(r[\"sensed_trip_ranges\"]))\n",
    "                delta_visit_reports = abs(len(r[\"evaluation_trip_ranges\"]) - len(r[\"visit_sensed_trip_ranges\"]))\n",
    "                matching_trip_map = find_matching_trips(r[\"evaluation_trip_ranges\"], r[\"sensed_trip_ranges\"])\n",
    "                print(matching_trip_map)\n",
    "                for trip in r[\"evaluation_trip_ranges\"]:\n",
    "                    sensed_trip_range = matching_trip_map[trip[\"trip_id\"]]\n",
    "                    if len(sensed_trip_range[\"match\"]) > 0:\n",
    "                        if sensed_trip_range[\"type\"] == \"both\" or sensed_trip_range[\"type\"] == \"start_ts\":\n",
    "                            start_ts_diff = abs(trip[\"start_ts\"] - sensed_trip_range[\"match\"][0][\"start_ts\"])\n",
    "                        else:\n",
    "                            start_ts_diff = THIRTY_MINUTES\n",
    "                            \n",
    "                        if sensed_trip_range[\"type\"] == \"both\" or sensed_trip_range[\"type\"] == \"end_ts\":\n",
    "                            end_ts_diff = abs(trip[\"end_ts\"] - sensed_trip_range[\"match\"][-1][\"end_ts\"])\n",
    "                        else:\n",
    "                            end_ts_diff = THIRTY_MINUTES\n",
    "                    else:\n",
    "                        start_ts_diff = THIRTY_MINUTES\n",
    "                        end_ts_diff = THIRTY_MINUTES\n",
    "                    tradeoff_entry = {\"phone_os\": phone_os, \"phone_label\": phone_label,\n",
    "                                      \"timeline\": pv.spec_details.curr_spec[\"id\"],\n",
    "                                     \"run\": r[\"trip_run\"], \"duration\": r[\"duration\"],\n",
    "                                     \"role\": r[\"eval_role_base\"], \"battery_drain\": delta_battery,\n",
    "                                     \"trip_count_diff\": delta_trips, \"visit_report_diff\": delta_visit_reports,\n",
    "                                      \"trip_id\": trip[\"trip_id\"],\n",
    "                                     \"start_ts_diff\": start_ts_diff / 60, \"end_ts_diff\": end_ts_diff / 60}\n",
    "                    tradeoff_entry_list.append(tradeoff_entry)\n",
    "    return tradeoff_entry_list"
   ]
  },
  {
   "cell_type": "code",
   "execution_count": null,
   "metadata": {
    "scrolled": true
   },
   "outputs": [],
   "source": [
    "# We are not going to look at battery life at the evaluation trip level; we will end with evaluation range\n",
    "# since we want to capture the overall drain for the timeline\n",
    "tradeoff_entries_list = []\n",
    "tradeoff_entries_list.extend(get_tradeoff_entries(pv_la))\n",
    "tradeoff_entries_list.extend(get_tradeoff_entries(pv_sj))\n",
    "tradeoff_entries_list.extend(get_tradeoff_entries(pv_ucb))\n",
    "tradeoff_df = pd.DataFrame(tradeoff_entries_list)"
   ]
  },
  {
   "cell_type": "code",
   "execution_count": null,
   "metadata": {},
   "outputs": [],
   "source": [
    "tradeoff_df[tradeoff_df.phone_os == \"ios\"]"
   ]
  },
  {
   "cell_type": "code",
   "execution_count": null,
   "metadata": {},
   "outputs": [],
   "source": [
    "ifig, ax = plt.subplots(nrows=1, ncols=1)\n",
    "errorboxes = []\n",
    "for key, df in tradeoff_df.groupby(\"role\"):\n",
    "    tcd = df.trip_count_diff\n",
    "    bd = df.battery_drain\n",
    "    print(\"Plotting rect with params %s, %d, %d\" % (str((tcd.min(), bd.min())),\n",
    "                                                    tcd.max() - tcd.min(),\n",
    "                                                    bd.max() - bd.min()))\n",
    "    rect = Rectangle((tcd.min(), bd.min()), tcd.max() - tcd.min(), bd.max()-bd.min())\n",
    "    errorboxes.append(rect)\n",
    "    \n",
    "\n",
    "# Create patch collection with specified colour/alpha\n",
    "pc = PatchCollection(errorboxes, facecolor=\"green\", alpha=0.75,\n",
    "                        edgecolor=\"red\")\n",
    "\n",
    "# Add collection to axes\n",
    "ax.add_collection(pc)\n",
    "ax.set_xlim(-2, 10)\n",
    "ax.set_ylim(-5, 30)"
   ]
  },
  {
   "cell_type": "code",
   "execution_count": null,
   "metadata": {},
   "outputs": [],
   "source": [
    "r2q_map = {\"power_control\": 0, \"HAMFDC\": 1, \"MAHFDC\": 1, \"HAHFDC\": 2, \"accuracy_control\": 3}\n",
    "q2r_android_list = [\"power_control\", \"HAMFDC\", \"HAHFDC\", \"accuracy_control\"]\n",
    "q2r_ios_list = [\"power_control\", \"MAHFDC\", \"HAHFDC\", \"accuracy_control\"]"
   ]
  },
  {
   "cell_type": "code",
   "execution_count": null,
   "metadata": {},
   "outputs": [],
   "source": [
    "# Make a number so that can get the plots to come out in order\n",
    "tradeoff_df[\"quality\"] = tradeoff_df.role.apply(lambda r: r2q_map[r])"
   ]
  },
  {
   "cell_type": "code",
   "execution_count": null,
   "metadata": {},
   "outputs": [],
   "source": [
    "tradeoff_df.groupby(\"quality\")"
   ]
  },
  {
   "cell_type": "code",
   "execution_count": null,
   "metadata": {},
   "outputs": [],
   "source": [
    "ifig, ax_array = plt.subplots(nrows=3,ncols=3,figsize=(16,16), sharex=False, sharey=True)\n",
    "timeline_list = [\"train_bus_ebike_mtv_ucb\", \"car_scooter_brex_san_jose\", \"unimodal_trip_car_bike_mtv_la\"]\n",
    "for i, tl in enumerate(timeline_list):\n",
    "    tradeoff_df.query(\"timeline == @tl & phone_os == 'android'\").boxplot(ax = ax_array[0][i], column=[\"trip_count_diff\"], by=[\"quality\"], showbox=False, whis=\"range\")\n",
    "    ax_array[0][i].set_title(tl)\n",
    "    tradeoff_df.query(\"timeline == @tl & phone_os == 'ios'\").boxplot(ax = ax_array[1][i], column=[\"trip_count_diff\"], by=[\"quality\"], showbox=False, whis=\"range\")\n",
    "    ax_array[1][i].set_title(\"\")\n",
    "    tradeoff_df.query(\"timeline == @tl & phone_os == 'ios'\").boxplot(ax = ax_array[2][i], column=[\"visit_report_diff\"], by=[\"quality\"], showbox=False, whis=\"range\")\n",
    "    ax_array[2][i].set_title(\"\")\n",
    "\n",
    "    # print(android_ax_returned.shape, ios_ax_returned.shape)\n",
    "\n",
    "for ax in ax_array[0]:\n",
    "    ax.set_xticklabels(q2r_android_list[1:])\n",
    "    ax.set_xlabel(\"\")\n",
    "\n",
    "for ax in ax_array[1]:\n",
    "    ax.set_xticklabels(q2r_ios_list[1:])\n",
    "    ax.set_xlabel(\"\")\n",
    "\n",
    "for ax in ax_array[2]:\n",
    "    ax.set_xticklabels(q2r_ios_list[1:])\n",
    "    ax.set_xlabel(\"\")\n",
    "\n",
    "ax_array[0][0].set_ylabel(\"Difference in trip counts (android)\")\n",
    "ax_array[1][0].set_ylabel(\"Difference in trip counts (ios)\")\n",
    "ax_array[2][0].set_ylabel(\"Difference in visit reports (ios)\")\n",
    "ifig.suptitle(\"Trip start/end detection v/s configured quality over multiple timelines\")\n",
    "# ifig.tight_layout()"
   ]
  },
  {
   "cell_type": "code",
   "execution_count": null,
   "metadata": {},
   "outputs": [],
   "source": [
    "ifig, ax_array = plt.subplots(nrows=4,ncols=3,figsize=(16,16), sharex=False, sharey=True)\n",
    "timeline_list = [\"train_bus_ebike_mtv_ucb\", \"car_scooter_brex_san_jose\", \"unimodal_trip_car_bike_mtv_la\"]\n",
    "for i, tl in enumerate(timeline_list):\n",
    "    tradeoff_df.query(\"timeline == @tl & phone_os == 'android'\").boxplot(ax = ax_array[0][i], column=[\"start_ts_diff\"], by=[\"quality\"], showbox=False)\n",
    "    ax_array[0][i].set_title(tl)\n",
    "    tradeoff_df.query(\"timeline == @tl & phone_os == 'android'\").boxplot(ax = ax_array[1][i], column=[\"end_ts_diff\"], by=[\"quality\"], showbox=False)\n",
    "    ax_array[1][i].set_title(\"\")\n",
    "    tradeoff_df.query(\"timeline == @tl & phone_os == 'ios'\").boxplot(ax = ax_array[2][i], column=[\"start_ts_diff\"], by=[\"quality\"], showbox=False)\n",
    "    ax_array[2][i].set_title(\"\")\n",
    "    tradeoff_df.query(\"timeline == @tl & phone_os == 'ios'\").boxplot(ax = ax_array[3][i], column=[\"end_ts_diff\"], by=[\"quality\"], showbox=False)\n",
    "    ax_array[3][i].set_title(\"\")\n",
    "\n",
    "    # print(android_ax_returned.shape, ios_ax_returned.shape)\n",
    "\n",
    "for ax in ax_array[0]:\n",
    "    ax.set_xticklabels(q2r_android_list[1:])\n",
    "    ax.set_xlabel(\"\")\n",
    "    \n",
    "for ax in ax_array[1]:\n",
    "    ax.set_xticklabels(q2r_android_list[1:])\n",
    "    ax.set_xlabel(\"\")\n",
    "\n",
    "\n",
    "for ax in ax_array[2]:\n",
    "    ax.set_xticklabels(q2r_ios_list[1:])\n",
    "    ax.set_xlabel(\"\")\n",
    "\n",
    "for ax in ax_array[3]:\n",
    "    ax.set_xticklabels(q2r_ios_list[1:])\n",
    "    ax.set_xlabel(\"\")\n",
    "\n",
    "ax_array[0][0].set_ylabel(\"Start time diff mins (android)\")\n",
    "ax_array[1][0].set_ylabel(\"End time diff mins (android)\")\n",
    "ax_array[2][0].set_ylabel(\"Start time diff mins (ios)\")\n",
    "ax_array[3][0].set_ylabel(\"End time diff mins (ios)\")\n",
    "ifig.suptitle(\"Trip start end accuracy v/s configured quality over multiple timelines\")\n",
    "# ifig.tight_layout()"
   ]
  },
  {
   "cell_type": "code",
   "execution_count": null,
   "metadata": {},
   "outputs": [],
   "source": []
  },
  {
   "cell_type": "code",
   "execution_count": null,
   "metadata": {},
   "outputs": [],
   "source": []
  },
  {
   "cell_type": "code",
   "execution_count": null,
   "metadata": {},
   "outputs": [],
   "source": []
  }
 ],
 "metadata": {
  "kernelspec": {
   "display_name": "Python 3",
   "language": "python",
   "name": "python3"
  },
  "language_info": {
   "codemirror_mode": {
    "name": "ipython",
    "version": 3
   },
   "file_extension": ".py",
   "mimetype": "text/x-python",
   "name": "python",
   "nbconvert_exporter": "python",
   "pygments_lexer": "ipython3",
   "version": "3.6.7"
  }
 },
 "nbformat": 4,
 "nbformat_minor": 2
}
