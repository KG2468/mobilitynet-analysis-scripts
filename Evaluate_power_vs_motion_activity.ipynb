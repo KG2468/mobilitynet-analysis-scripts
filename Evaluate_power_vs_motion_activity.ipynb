{
 "cells": [
  {
   "cell_type": "markdown",
   "metadata": {},
   "source": [
    "## Set up the dependencies"
   ]
  },
  {
   "cell_type": "code",
   "execution_count": null,
   "metadata": {},
   "outputs": [],
   "source": [
    "# for reading and validating data\n",
    "import emeval.input.spec_details as eisd\n",
    "import emeval.input.phone_view as eipv\n",
    "import emeval.input.eval_view as eiev"
   ]
  },
  {
   "cell_type": "code",
   "execution_count": null,
   "metadata": {},
   "outputs": [],
   "source": [
    "# Visualization helpers\n",
    "import emeval.viz.phone_view as ezpv\n",
    "import emeval.viz.eval_view as ezev"
   ]
  },
  {
   "cell_type": "code",
   "execution_count": null,
   "metadata": {},
   "outputs": [],
   "source": [
    "# For plots\n",
    "import matplotlib.pyplot as plt\n",
    "from matplotlib.collections import PatchCollection\n",
    "from matplotlib.patches import Rectangle\n",
    "%matplotlib inline"
   ]
  },
  {
   "cell_type": "code",
   "execution_count": null,
   "metadata": {},
   "outputs": [],
   "source": [
    "# For maps\n",
    "import folium\n",
    "import branca.element as bre"
   ]
  },
  {
   "cell_type": "code",
   "execution_count": null,
   "metadata": {},
   "outputs": [],
   "source": [
    "# For easier debugging while working on modules\n",
    "import importlib"
   ]
  },
  {
   "cell_type": "code",
   "execution_count": null,
   "metadata": {},
   "outputs": [],
   "source": [
    "import pandas as pd\n",
    "pd.options.display.float_format = '{:.6f}'.format\n",
    "import arrow\n",
    "import numpy as np"
   ]
  },
  {
   "cell_type": "code",
   "execution_count": null,
   "metadata": {},
   "outputs": [],
   "source": [
    "THIRTY_MINUTES = 30 * 60\n",
    "TEN_MINUTES = 10 * 60"
   ]
  },
  {
   "cell_type": "markdown",
   "metadata": {},
   "source": [
    "## The spec\n",
    "\n",
    "The spec defines what experiments were done, and over which time ranges. Once the experiment is complete, most of the structure is read back from the data, but we use the spec to validate that it all worked correctly. The spec also contains the ground truth for the legs. Here, we read the spec for the trip to UC Berkeley."
   ]
  },
  {
   "cell_type": "code",
   "execution_count": null,
   "metadata": {},
   "outputs": [],
   "source": [
    "DATASTORE_URL = \"http://cardshark.cs.berkeley.edu\"\n",
    "AUTHOR_EMAIL = \"shankari@eecs.berkeley.edu\"\n",
    "sd_la = eisd.SpecDetails(DATASTORE_URL, AUTHOR_EMAIL, \"unimodal_trip_car_bike_mtv_la\")\n",
    "sd_sj = eisd.SpecDetails(DATASTORE_URL, AUTHOR_EMAIL, \"car_scooter_brex_san_jose\")\n",
    "sd_ucb = eisd.SpecDetails(DATASTORE_URL, AUTHOR_EMAIL, \"train_bus_ebike_mtv_ucb\")"
   ]
  },
  {
   "cell_type": "markdown",
   "metadata": {},
   "source": [
    "## The views\n",
    "\n",
    "There are two main views for the data - the phone view and the evaluation view. "
   ]
  },
  {
   "cell_type": "markdown",
   "metadata": {},
   "source": [
    "### Phone view\n",
    "\n",
    "In the phone view, the phone is primary, and then there is a tree that you can traverse to get the data that you want. Traversing that tree typically involves nested for loops; here's an example of loading the phone view and traversing it. You can replace the print statements with real code. When you are ready to check this in, please move the function to one of the python modules so that we can invoke it more generally"
   ]
  },
  {
   "cell_type": "code",
   "execution_count": null,
   "metadata": {},
   "outputs": [],
   "source": [
    "importlib.reload(eipv)"
   ]
  },
  {
   "cell_type": "code",
   "execution_count": null,
   "metadata": {
    "scrolled": true
   },
   "outputs": [],
   "source": [
    "pv_la = eipv.PhoneView(sd_la)"
   ]
  },
  {
   "cell_type": "code",
   "execution_count": null,
   "metadata": {},
   "outputs": [],
   "source": [
    "pv_sj = eipv.PhoneView(sd_sj)"
   ]
  },
  {
   "cell_type": "code",
   "execution_count": null,
   "metadata": {},
   "outputs": [],
   "source": [
    "pv_ucb = eipv.PhoneView(sd_ucb)"
   ]
  },
  {
   "cell_type": "code",
   "execution_count": null,
   "metadata": {},
   "outputs": [],
   "source": [
    "def get_transition_mask_android(df):\n",
    "    # print(df.zzbhB.diff())\n",
    "    return df.zzbhB.diff().abs().fillna(1) > 0"
   ]
  },
  {
   "cell_type": "code",
   "execution_count": null,
   "metadata": {},
   "outputs": [],
   "source": [
    "def get_transition_mask_ios(df):\n",
    "    if len(df) == 0:\n",
    "        return np.array([])\n",
    "    \n",
    "    ret_list = [True]\n",
    "    valid_modes = [\"walking\", \"cycling\", \"running\", \"automotive\"]\n",
    "    # print(\"df = %s\" % df[valid_modes])\n",
    "    # print(\"changes = %s\" % np.diff(df[valid_modes], axis=0))\n",
    "    for row in np.diff(df[valid_modes], axis=0):\n",
    "        ret_list.append(row.any())\n",
    "    ret_array = np.array(ret_list)\n",
    "    # print(df.shape, ret_array.shape, ret_array)\n",
    "    return ret_array"
   ]
  },
  {
   "cell_type": "code",
   "execution_count": null,
   "metadata": {},
   "outputs": [],
   "source": [
    "def get_count_start_end_diff(sr, ma_df, jba_df, transition_mask_fn, start_query, end_query):\n",
    "#    count = np.count_nonzero(ma_df[transition_mask_fn(ma_df)] > 0)\n",
    "#    ma_transition_points = ma_df[transition_mask_fn(ma_df)]\n",
    "#    print(\"Transition points = %s\" % ma_transition_points.index)\n",
    "#    if len(ma_transition_points) > 0:\n",
    "#        start_ts_diff = abs(sr[\"start_ts\"] - ma_transition_points.iloc[0].ts)\n",
    "#        end_ts_diff = abs(sr[\"end_ts\"] - ma_transition_points.iloc[-1].ts)\n",
    "#    else:\n",
    "#        start_ts_diff = THIRTY_MINUTES\n",
    "#        end_ts_diff = THIRTY_MINUTES\n",
    "\n",
    "    jba_transition_points = jba_df[transition_mask_fn(jba_df)]\n",
    "    print(\"Transition points = %s\" % jba_transition_points.index)\n",
    "    count_mask = np.logical_and(jba_transition_points.ts > sr[\"start_ts\"], jba_transition_points.ts < sr[\"end_ts\"])\n",
    "    print(\"matching transitions = %s\" % jba_transition_points[count_mask].index)\n",
    "    count = len(jba_transition_points[count_mask])\n",
    "    if len(jba_transition_points) > 0:\n",
    "        start_diff_series = (jba_transition_points.query(start_query).ts - sr[\"start_ts\"]).abs()\n",
    "        jba_start_ts_diff = start_diff_series.min()\n",
    "        print(\"start_diff_series = %s\" % start_diff_series.index)\n",
    "        end_diff_series = (jba_transition_points.query(end_query).ts - sr[\"end_ts\"]).abs()\n",
    "        print(\"end_diff_series = %s\" % end_diff_series.index)\n",
    "        jba_end_ts_diff = end_diff_series.min()\n",
    "        print(\"Found mins at index start = %s, end = %s\" %\n",
    "              ((start_diff_series[start_diff_series == jba_start_ts_diff]).index,\n",
    "               (end_diff_series[end_diff_series == jba_end_ts_diff]).index))\n",
    "        # print(\"start_ts_diff = %s\" % jba_start_ts_diff)\n",
    "    else:\n",
    "        jba_start_ts_diff = THIRTY_MINUTES\n",
    "        jba_end_ts_diff = THIRTY_MINUTES\n",
    "    return {\n",
    "        \"count\": count,\n",
    "        \"expanded_start_diff_mins\": jba_start_ts_diff / 60,\n",
    "        \"expanded_end_diff_mins\": jba_end_ts_diff / 60\n",
    "    }"
   ]
  },
  {
   "cell_type": "code",
   "execution_count": null,
   "metadata": {},
   "outputs": [],
   "source": [
    "def get_tradeoff_entries(pv):\n",
    "    tradeoff_entry_list = []\n",
    "    for phone_os, phone_map in pv.map().items():\n",
    "        print(15 * \"=*\")\n",
    "        print(phone_os, phone_map.keys())\n",
    "        for phone_label, phone_detail_map in phone_map.items():\n",
    "            print(4 * ' ', 15 * \"-*\")\n",
    "            print(4 * ' ', phone_label, phone_detail_map.keys())\n",
    "            if \"control\" in phone_detail_map[\"role\"]:\n",
    "                print(\"Ignoring %s phone %s since they are always on\" % (phone_detail_map[\"role\"], phone_label))\n",
    "                continue\n",
    "            # this spec does not have any calibration ranges, but evaluation ranges are actually cooler\n",
    "            for r in phone_detail_map[\"evaluation_ranges\"]:\n",
    "                print(8 * ' ', 30 * \"=\")\n",
    "                print(8 * ' ',r.keys())\n",
    "                print(8 * ' ',r[\"trip_id\"], r[\"eval_common_trip_id\"], r[\"eval_role\"], len(r[\"evaluation_trip_ranges\"]))\n",
    "                bcs = r[\"battery_df\"][\"battery_level_pct\"]\n",
    "                delta_battery = bcs.iloc[0] - bcs.iloc[-1]\n",
    "                print(\"Battery starts at %d, ends at %d, drain = %d\" % (bcs.iloc[0], bcs.iloc[-1], delta_battery))\n",
    "                for tr in r[\"evaluation_trip_ranges\"]:\n",
    "                    for section in tr[\"evaluation_section_ranges\"]:\n",
    "                        print(12 * ' ',section[\"trip_id\"], section[\"trip_id_base\"], tr[\"trip_id\"])\n",
    "                        ma_df = section[\"motion_activity_df\"]\n",
    "                        # Expand the range in order to allow for detection beyond ground truth bounds\n",
    "                        # jba_df = r[\"motion_activity_df\"].query(\"ts > %s & ts < %s\" % (sr[\"start_ts\"] - THIRTY_MINUTES, sr[\"end_ts\"] + THIRTY_MINUTES))\n",
    "                        jba_df = r['motion_activity_df']\n",
    "                        if section[\"trip_id_base\"] == \"walk_start\":\n",
    "                            gt_mode = \"WALKING\"\n",
    "                        else:\n",
    "                            gt_mode = pv.spec_details.get_ground_truth_for_leg(tr[\"trip_id_base\"], section[\"trip_id_base\"])[\"mode\"]\n",
    "                        if gt_mode == \"STOPPED\":\n",
    "                            # This is the \"WAIT FOR X\" leg which should largely be stationary, but can involve\n",
    "                            # walking to the door, walking inside the vehicle, etc\n",
    "                            # so we ignore it for now\n",
    "                            print(\"Ignoring STOPPED = waiting for transit vehicle\")\n",
    "                            continue\n",
    "                        if phone_os == \"android\":\n",
    "                            android_mode_map = {\"WALKING\": 2, \"BICYCLING\": 1, \"CAR\": 0, \"ESCOOTER\": 0, \"BUS\": 0,\n",
    "                                               \"TRAIN\": 0, \"SUBWAY\": 0, \"LIGHT_RAIL\": 0}\n",
    "                            gt_mode_start_query = \"zzbhB == %s\" % android_mode_map[gt_mode]\n",
    "                            gt_mode_end_query = \"zzbhB != %s\" % android_mode_map[gt_mode]\n",
    "                            valid_entries_query = \"zzbhB not in [4,5]\"\n",
    "                            csed_df_entry = get_count_start_end_diff(section,\n",
    "                                                ma_df.query(valid_entries_query),\n",
    "                                                jba_df.query(valid_entries_query),\n",
    "                                                get_transition_mask_android,\n",
    "                                                gt_mode_start_query, gt_mode_end_query)\n",
    "                        else:\n",
    "                            valid_entries_query = \"automotive == True | cycling == True | running == True | walking == True | stationary == True\"\n",
    "                            # print(jba_df.query(valid_entries_query))\n",
    "                            ios_mode_map = {\"WALKING\": \"walking\", \"BICYCLING\": \"cycling\", \"CAR\": \"automotive\",\n",
    "                                            \"ESCOOTER\": \"automotive\", \"BUS\": \"automotive\",\n",
    "                                               \"TRAIN\": \"automotive\", \"SUBWAY\": \"automotive\", \"LIGHT_RAIL\": \"automotive\"}\n",
    "                            gt_mode_start_query = \"%s == True\" % ios_mode_map[gt_mode]\n",
    "                            gt_mode_end_query = \"%s == False\" % ios_mode_map[gt_mode]                            \n",
    "                            csed_df_entry = get_count_start_end_diff(section,\n",
    "                                                ma_df.query(valid_entries_query),\n",
    "                                                jba_df.query(valid_entries_query),\n",
    "                                                get_transition_mask_ios,\n",
    "                                                gt_mode_start_query, gt_mode_end_query)\n",
    "                            print(csed_df_entry)\n",
    "                        tradeoff_entry = {\"phone_os\": phone_os, \"phone_label\": phone_label,\n",
    "                                      \"timeline\": pv.spec_details.curr_spec[\"id\"],\n",
    "                                     \"run\": r[\"trip_run\"], \"duration\": r[\"duration\"],\n",
    "                                     \"role\": r[\"eval_role_base\"], \"battery_drain\": delta_battery,\n",
    "                                      \"trip_id\": tr[\"trip_id\"], \"section_id\": section[\"trip_id\"]}\n",
    "                        tradeoff_entry.update(csed_df_entry)\n",
    "                        tradeoff_entry_list.append(tradeoff_entry)\n",
    "\n",
    "    return tradeoff_entry_list"
   ]
  },
  {
   "cell_type": "code",
   "execution_count": null,
   "metadata": {},
   "outputs": [],
   "source": [
    "importlib.reload(eisd)"
   ]
  },
  {
   "cell_type": "code",
   "execution_count": null,
   "metadata": {},
   "outputs": [],
   "source": [
    "# We are not going to look at battery life at the evaluation trip level; we will end with evaluation range\n",
    "# since we want to capture the overall drain for the timeline\n",
    "tradeoff_entries_list = []\n",
    "tradeoff_entries_list.extend(get_tradeoff_entries(pv_la))\n",
    "tradeoff_entries_list.extend(get_tradeoff_entries(pv_sj))\n",
    "tradeoff_entries_list.extend(get_tradeoff_entries(pv_ucb))\n",
    "tradeoff_df = pd.DataFrame(tradeoff_entries_list)"
   ]
  },
  {
   "cell_type": "markdown",
   "metadata": {},
   "source": [
    "## Add in other entries to the dataframe to allow us to plot better"
   ]
  },
  {
   "cell_type": "code",
   "execution_count": null,
   "metadata": {},
   "outputs": [],
   "source": [
    "r2q_map = {\"power_control\": 0, \"HAMFDC\": 1, \"MAHFDC\": 1, \"HAHFDC\": 2, \"accuracy_control\": 3}\n",
    "q2r_android_list = [\"power_control\", \"HAMFDC\", \"HAHFDC\", \"accuracy_control\"]\n",
    "q2r_ios_list = [\"power_control\", \"MAHFDC\", \"HAHFDC\", \"accuracy_control\"]"
   ]
  },
  {
   "cell_type": "code",
   "execution_count": null,
   "metadata": {},
   "outputs": [],
   "source": [
    "# Make a number so that can get the plots to come out in order\n",
    "tradeoff_df[\"quality\"] = tradeoff_df.role.apply(lambda r: r2q_map[r])"
   ]
  },
  {
   "cell_type": "markdown",
   "metadata": {},
   "source": [
    "## Number of transitions in a section\n",
    "\n",
    "We should ideally have only one transition in every TRAVEL section"
   ]
  },
  {
   "cell_type": "code",
   "execution_count": null,
   "metadata": {},
   "outputs": [],
   "source": [
    "tradeoff_df.query(\"timeline=='unimodal_trip_car_bike_mtv_la' & run == 1 & role == 'HAMFDC'\").section_id"
   ]
  },
  {
   "cell_type": "code",
   "execution_count": null,
   "metadata": {},
   "outputs": [],
   "source": [
    "def plot_count_with_errors(ax_array, phone_os):\n",
    "    for i, (tl, trip_gt) in enumerate(timeline_trip_gt.items()):\n",
    "        idx = 0\n",
    "        for q in range(1,3):\n",
    "            section_count_sum_list = []\n",
    "            curr_df = tradeoff_df.query(\"timeline == @tl & phone_os == @phone_os & quality == @q\")\n",
    "            section_list = curr_df.section_id.unique()\n",
    "            for sid in section_list:\n",
    "                section_df = curr_df.query(\"section_id == @sid\")\n",
    "                # print(section_df[\"count\"].min(), section_df[\"count\"].median(), section_df[\"count\"].max())\n",
    "                lower_error = section_df[\"count\"].min() - section_df[\"count\"].median()\n",
    "                upper_error = section_df[\"count\"].median() - section_df[\"count\"].max()\n",
    "                ax_array[i].barh(y=idx, width=section_df[\"count\"].median(), xerr=[[lower_error], [upper_error]])\n",
    "                idx = idx + 1\n",
    "            tick_labels = section_list.tolist()\n",
    "            tick_labels.extend(section_list.tolist())\n",
    "            ax_array[i].set_yticks(range(2 * len(section_list)))\n",
    "            ax_array[i].set_yticklabels(tick_labels)"
   ]
  },
  {
   "cell_type": "code",
   "execution_count": null,
   "metadata": {},
   "outputs": [],
   "source": [
    "ifig, ax_array = plt.subplots(nrows=2,ncols=3,figsize=(16,16), sharex=False, sharey=False)\n",
    "timeline_trip_gt = {\"train_bus_ebike_mtv_ucb\": 17,\n",
    "                    \"car_scooter_brex_san_jose\": 8,\n",
    "                    \"unimodal_trip_car_bike_mtv_la\": 6}\n",
    "\n",
    "plot_count_with_errors(ax_array[0], \"android\")\n",
    "plot_count_with_errors(ax_array[1], \"ios\")\n",
    "\n",
    "# for ax in ax_array[0]:\n",
    "    # ax.set_xticks(range(0,3))\n",
    "    # ax.set_xticklabels([\"truth\"] + q2r_android_list[1:-1])\n",
    "    # ax.set_yticks(range(0,tradeoff_df.trip_count.max(),3))\n",
    "    \n",
    "# for ax in ax_array[1]:\n",
    "    # ax.set_xticks(range(0,3))\n",
    "    # ax.set_xticklabels([\"truth\"] + q2r_ios_list[1:-1])\n",
    "    # ax.set_yticks(range(0,tradeoff_df.trip_count.max(),3))\n",
    "    \n",
    "for ax in ax_array[:,0]:\n",
    "    ax.set_ylabel(\"Number of trips\")\n",
    "    \n",
    "ifig.tight_layout(pad=1.5)"
   ]
  },
  {
   "cell_type": "code",
   "execution_count": null,
   "metadata": {},
   "outputs": [],
   "source": [
    "tradeoff_df.head(n=20)"
   ]
  },
  {
   "cell_type": "code",
   "execution_count": null,
   "metadata": {},
   "outputs": [],
   "source": [
    "out_of_battery_phones = tradeoff_df.query(\"timeline=='train_bus_ebike_mtv_ucb' & role=='HAHFDC' & trip_id=='berkeley_to_mtv_SF_express_bus_0' & phone_os == 'android' & (section_id == 'commuter_rail_with_tunnels_0' | section_id == 'inner_suburb_downtown_walk_0')\")\n",
    "print(out_of_battery_phones.index)\n",
    "for i in out_of_battery_phones.index:\n",
    "    tradeoff_df.loc[i,\"expanded_end_diff_mins\"] = float('nan')"
   ]
  },
  {
   "cell_type": "code",
   "execution_count": null,
   "metadata": {},
   "outputs": [],
   "source": [
    "ifig, ax_array = plt.subplots(nrows=2,ncols=3,figsize=(11,5.5), sharex=False, sharey=False)\n",
    "timeline_list = [\"train_bus_ebike_mtv_ucb\", \"car_scooter_brex_san_jose\", \"unimodal_trip_car_bike_mtv_la\"]\n",
    "for i, tl in enumerate(timeline_list):\n",
    "    tradeoff_df.query(\"timeline == @tl & phone_os == 'android'\").boxplot(ax = ax_array[0][i], column=[\"expanded_start_diff_mins\"], by=[\"quality\"])\n",
    "    ax_array[0][i].set_title(tl)\n",
    "    # tradeoff_df.query(\"timeline == @tl & phone_os == 'android'\").boxplot(ax = ax_array[1][i], column=[\"expanded_end_diff_mins\"], by=[\"quality\"])\n",
    "    # ax_array[1][i].set_title(\"\")\n",
    "    # tradeoff_df.query(\"timeline == @tl & phone_os == 'ios'\").boxplot(ax = ax_array[2][i], column=[\"expanded_start_diff_mins\"], by=[\"quality\"])\n",
    "    # ax_array[2][i].set_title(\"\")\n",
    "    tradeoff_df.query(\"timeline == @tl & phone_os == 'ios'\").boxplot(ax = ax_array[1][i], column=[\"expanded_end_diff_mins\"], by=[\"quality\"])\n",
    "    ax_array[1][i].set_title(\"\")\n",
    "\n",
    "    # print(android_ax_returned.shape, ios_ax_returned.shape)\n",
    "\n",
    "for ax in ax_array[0]:\n",
    "    ax.set_xticklabels(q2r_android_list[1:])\n",
    "    ax.set_xlabel(\"\")\n",
    "\n",
    "# for ax in ax_array[1]:\n",
    "#     ax.set_xticklabels(q2r_android_list[1:])\n",
    "#     ax.set_xlabel(\"\")\n",
    "\n",
    "# for ax in ax_array[2]:\n",
    "#     ax.set_xticklabels(q2r_ios_list[1:])\n",
    "#     ax.set_xlabel(\"\")\n",
    "\n",
    "for ax in ax_array[1]:\n",
    "    ax.set_xticklabels(q2r_ios_list[1:])\n",
    "    ax.set_xlabel(\"\")    \n",
    "\n",
    "ax_array[0][0].set_ylabel(\"start diff (mins, android)\")\n",
    "# ax_array[1][0].set_ylabel(\"end diff (android)\")\n",
    "# ax_array[2][0].set_ylabel(\"start diff (ios)\")\n",
    "ax_array[1][0].set_ylabel(\"end diff (mins, ios)\")\n",
    "\n",
    "# ax_array[2][0].set_ylabel(\"Battery drain (ios)\")\n",
    "# ax_array[3][0].set_ylabel(\"Difference in trip counts (ios)\")\n",
    "ifig.suptitle(\"Ground truth section start and end times v/s sensed activity transitions at different quality levels\")\n",
    "# ifig.tight_layout()"
   ]
  },
  {
   "cell_type": "markdown",
   "metadata": {},
   "source": [
    "### Anomaly checks\n",
    "\n",
    "We can clearly see that there are several outliers with the start/end timestamps for the sections. Let us explore these in greater detail and see if we can find any patterns."
   ]
  },
  {
   "cell_type": "code",
   "execution_count": null,
   "metadata": {},
   "outputs": [],
   "source": [
    "fmt = lambda ts: arrow.get(ts).to(\"America/Los_Angeles\")\n",
    "android_gt_mode_start_query = \"zzbhB == %s\"\n",
    "android_gt_mode_end_query = \"zzbhB != %s\"\n",
    "ios_gt_mode_start_query = \"%s == True\"\n",
    "ios_gt_mode_end_query = \"%s == False\"   \n",
    "valid_android_query = \"zzbhB not in [4,5]\"\n",
    "valid_ios_query = \"automotive == True | cycling == True | running == True | walking == True | stationary == True\""
   ]
  },
  {
   "cell_type": "markdown",
   "metadata": {},
   "source": [
    "#### Easy trip: unimodal, ios\n",
    "\n",
    "MAHFDC does significantly worse than HAHFDC, and this is primarily because iOS never generates a transition between walk and bicycling on the return leg. It stays at walk for the entire return bicycling trip. So the bicycling start is nan, and the walk segment just before it has a very high start diff because the last walk transition is essentially the end of the car trip."
   ]
  },
  {
   "cell_type": "code",
   "execution_count": null,
   "metadata": {},
   "outputs": [],
   "source": [
    "tradeoff_df.query(\"timeline == 'unimodal_trip_car_bike_mtv_la' & phone_os == 'ios'\").boxplot(column=[\"expanded_start_diff_mins\"], by=[\"quality\"])"
   ]
  },
  {
   "cell_type": "code",
   "execution_count": null,
   "metadata": {},
   "outputs": [],
   "source": [
    "tradeoff_df.query(\"timeline == @tl & phone_os == 'ios' & role == 'MAHFDC' & run == 2\")"
   ]
  },
  {
   "cell_type": "code",
   "execution_count": null,
   "metadata": {},
   "outputs": [],
   "source": [
    "eval_range = pv_la.map()['ios']['ucb-sdb-ios-3'][\"evaluation_ranges\"][2]\n",
    "eval_range[\"motion_activity_df\"][\"fmt_time\"] = eval_range[\"motion_activity_df\"].ts.apply(lambda ts: fmt(ts))"
   ]
  },
  {
   "cell_type": "code",
   "execution_count": null,
   "metadata": {},
   "outputs": [],
   "source": [
    "eval_trip_range = eval_range[\"evaluation_trip_ranges\"][0]\n",
    "eval_section_range = eval_trip_range[\"evaluation_section_ranges\"][0]"
   ]
  },
  {
   "cell_type": "code",
   "execution_count": null,
   "metadata": {},
   "outputs": [],
   "source": [
    "eval_section_range[\"trip_id\"], fmt(eval_section_range[\"start_ts\"]), fmt(eval_section_range[\"end_ts\"])"
   ]
  },
  {
   "cell_type": "code",
   "execution_count": null,
   "metadata": {},
   "outputs": [],
   "source": [
    "eval_range[\"motion_activity_df\"].query(valid_ios_query).iloc[0:5]"
   ]
  },
  {
   "cell_type": "code",
   "execution_count": null,
   "metadata": {},
   "outputs": [],
   "source": [
    "get_count_start_end_diff(eval_section_range, None, eval_range[\"motion_activity_df\"].query(valid_ios_query), get_transition_mask_ios,\n",
    "                        ios_gt_mode_end_query % \"walking\", ios_gt_mode_start_query % \"walking\")"
   ]
  },
  {
   "cell_type": "code",
   "execution_count": null,
   "metadata": {},
   "outputs": [],
   "source": [
    "eval_trip_range = eval_range[\"evaluation_trip_ranges\"][1]\n",
    "eval_section_range = eval_trip_range[\"evaluation_section_ranges\"][0]\n",
    "fmt(eval_section_range[\"start_ts\"]), fmt(eval_section_range[\"end_ts\"])"
   ]
  },
  {
   "cell_type": "code",
   "execution_count": null,
   "metadata": {},
   "outputs": [],
   "source": [
    "eval_range[\"motion_activity_df\"].query(valid_ios_query).loc[8:220]"
   ]
  },
  {
   "cell_type": "code",
   "execution_count": null,
   "metadata": {},
   "outputs": [],
   "source": [
    "get_count_start_end_diff(eval_section_range, None, eval_range[\"motion_activity_df\"].query(valid_ios_query), get_transition_mask_ios,\n",
    "                        ios_gt_mode_end_query % \"walking\", ios_gt_mode_start_query % \"walking\")"
   ]
  },
  {
   "cell_type": "markdown",
   "metadata": {},
   "source": [
    "#### Easy trip: unimodal, android\n",
    "\n",
    "Checking some of the outliers in the HAHFDC case.\n",
    "- case #1: turns out to be due to a bad timestamp. The bicycling activity is detected as starting from `10:34:51` which was actually the end of the previous trip. For this trip, we walked from `11:48:06` to `11:48:49` and biked after that. So the closest walk start transition was after the bike ride, and the closest walk end transition was the end of the prior car trip."
   ]
  },
  {
   "cell_type": "code",
   "execution_count": null,
   "metadata": {},
   "outputs": [],
   "source": [
    "tradeoff_df.query(\"timeline == 'unimodal_trip_car_bike_mtv_la' & phone_os == 'android'\").boxplot(column=[\"expanded_end_diff_mins\"], by=[\"quality\"])"
   ]
  },
  {
   "cell_type": "code",
   "execution_count": null,
   "metadata": {},
   "outputs": [],
   "source": [
    "tradeoff_df.query(\"timeline == 'unimodal_trip_car_bike_mtv_la' & phone_os == 'android' & role == 'HAHFDC' & run == 1\")"
   ]
  },
  {
   "cell_type": "code",
   "execution_count": null,
   "metadata": {},
   "outputs": [],
   "source": [
    "eval_range = pv_la.map()['android']['ucb-sdb-android-2'][\"evaluation_ranges\"][1]\n",
    "eval_range[\"motion_activity_df\"][\"fmt_time\"] = eval_range[\"motion_activity_df\"].ts.apply(lambda ts: fmt(ts))"
   ]
  },
  {
   "cell_type": "code",
   "execution_count": null,
   "metadata": {},
   "outputs": [],
   "source": [
    "eval_trip_range = eval_range[\"evaluation_trip_ranges\"][1]\n",
    "eval_section_range = eval_trip_range[\"evaluation_section_ranges\"][0]\n",
    "eval_section_range[\"trip_id\"], fmt(eval_section_range[\"start_ts\"]), fmt(eval_section_range[\"end_ts\"])"
   ]
  },
  {
   "cell_type": "code",
   "execution_count": null,
   "metadata": {},
   "outputs": [],
   "source": [
    "eval_range[\"motion_activity_df\"].query(valid_android_query).loc[56:72]"
   ]
  },
  {
   "cell_type": "code",
   "execution_count": null,
   "metadata": {},
   "outputs": [],
   "source": [
    "get_count_start_end_diff(eval_section_range, None, eval_range[\"motion_activity_df\"].query(valid_android_query), get_transition_mask_android,\n",
    "                        android_gt_mode_start_query % 2, android_gt_mode_end_query % 2)"
   ]
  },
  {
   "cell_type": "code",
   "execution_count": null,
   "metadata": {},
   "outputs": [],
   "source": [
    "eval_trip_range = eval_range[\"evaluation_trip_ranges\"][1]\n",
    "eval_section_range = eval_trip_range[\"evaluation_section_ranges\"][2]\n",
    "fmt(eval_section_range[\"start_ts\"]), fmt(eval_section_range[\"end_ts\"])"
   ]
  },
  {
   "cell_type": "code",
   "execution_count": null,
   "metadata": {},
   "outputs": [],
   "source": [
    "get_count_start_end_diff(eval_section_range, None, eval_range[\"motion_activity_df\"].query(valid_android_query), get_transition_mask_android,\n",
    "                        android_gt_mode_start_query % 2, android_gt_mode_end_query % 2)"
   ]
  },
  {
   "cell_type": "code",
   "execution_count": null,
   "metadata": {},
   "outputs": [],
   "source": [
    "eval_range[\"motion_activity_df\"].query(valid_android_query).loc[144:154]"
   ]
  },
  {
   "cell_type": "code",
   "execution_count": null,
   "metadata": {},
   "outputs": [],
   "source": [
    "fmt(eval_range[\"start_ts\"]), fmt(eval_range[\"end_ts\"])"
   ]
  },
  {
   "cell_type": "markdown",
   "metadata": {},
   "source": [
    "#### Hard trip: multi-modal, ios\n",
    "\n",
    "Checking some of the outliers in the MAHFDC case.\n",
    "- case #1: turns out that the entire range from `18:12:28` -> `18:25:05` was detected as walking, so this is in fact correct"
   ]
  },
  {
   "cell_type": "code",
   "execution_count": null,
   "metadata": {},
   "outputs": [],
   "source": [
    "tradeoff_df.query(\"timeline == 'train_bus_ebike_mtv_ucb' & phone_os == 'ios'\").boxplot(column=[\"expanded_start_diff_mins\"], by=[\"quality\"])"
   ]
  },
  {
   "cell_type": "code",
   "execution_count": null,
   "metadata": {},
   "outputs": [],
   "source": [
    "tradeoff_df.query(\"timeline == 'train_bus_ebike_mtv_ucb' & phone_os == 'ios' & role == 'MAHFDC' & run == 1\")"
   ]
  },
  {
   "cell_type": "code",
   "execution_count": null,
   "metadata": {},
   "outputs": [],
   "source": [
    "eval_range = pv_ucb.map()['ios']['ucb-sdb-ios-3'][\"evaluation_ranges\"][1]\n",
    "eval_range[\"motion_activity_df\"][\"fmt_time\"] = eval_range[\"motion_activity_df\"].ts.apply(lambda ts: fmt(ts))"
   ]
  },
  {
   "cell_type": "code",
   "execution_count": null,
   "metadata": {},
   "outputs": [],
   "source": [
    "eval_trip_range = eval_range[\"evaluation_trip_ranges\"][2]\n",
    "eval_section_range = eval_trip_range[\"evaluation_section_ranges\"][7]\n",
    "eval_section_range[\"trip_id\"], fmt(eval_section_range[\"start_ts\"]), fmt(eval_section_range[\"end_ts\"])"
   ]
  },
  {
   "cell_type": "code",
   "execution_count": null,
   "metadata": {},
   "outputs": [],
   "source": [
    "get_count_start_end_diff(eval_section_range, None, eval_range[\"motion_activity_df\"].query(valid_ios_query), get_transition_mask_ios,\n",
    "                        ios_gt_mode_start_query % \"automotive\", ios_gt_mode_end_query % \"automotive\")"
   ]
  },
  {
   "cell_type": "code",
   "execution_count": null,
   "metadata": {},
   "outputs": [],
   "source": [
    "eval_range[\"motion_activity_df\"].query(valid_ios_query).loc[457:503]"
   ]
  },
  {
   "cell_type": "markdown",
   "metadata": {},
   "source": [
    "#### Hard trip: multi-modal, android\n",
    "\n",
    "Checking some of the outliers in the MAHFDC case.\n",
    "- case #1: turns out that the entire range from `10:29:23` -> `14:15:19` was detected as walking, so we had no transition at the start of this trip section and this is correct\n",
    "\n",
    "```\n",
    "271 \t1563989363.918000 \t2 \t82 \t1563989363.918000 \t2019-07-24T10:29:23.918000-07:00 \t2.684241\n",
    "272 \t1564002919.547000 \t2 \t96 \t1564002919.547000 \t2019-07-24T14:15:19.547000-07:00 \t6.449693\n",
    "```"
   ]
  },
  {
   "cell_type": "code",
   "execution_count": null,
   "metadata": {},
   "outputs": [],
   "source": [
    "tradeoff_df.query(\"timeline == 'train_bus_ebike_mtv_ucb' & phone_os == 'android'\").boxplot(column=[\"expanded_start_diff_mins\"], by=[\"quality\"])"
   ]
  },
  {
   "cell_type": "code",
   "execution_count": null,
   "metadata": {},
   "outputs": [],
   "source": [
    "tradeoff_df.query(\"timeline == 'train_bus_ebike_mtv_ucb' & phone_os == 'android' & role == 'HAMFDC' & run == 0\")"
   ]
  },
  {
   "cell_type": "code",
   "execution_count": null,
   "metadata": {},
   "outputs": [],
   "source": [
    "eval_range = pv_ucb.map()['android']['ucb-sdb-android-3'][\"evaluation_ranges\"][0]\n",
    "eval_range[\"motion_activity_df\"][\"fmt_time\"] = eval_range[\"motion_activity_df\"].ts.apply(lambda ts: fmt(ts))"
   ]
  },
  {
   "cell_type": "code",
   "execution_count": null,
   "metadata": {},
   "outputs": [],
   "source": [
    "eval_trip_range = eval_range[\"evaluation_trip_ranges\"][1]\n",
    "eval_section_range = eval_trip_range[\"evaluation_section_ranges\"][0]\n",
    "eval_section_range[\"trip_id\"], fmt(eval_section_range[\"start_ts\"]), fmt(eval_section_range[\"end_ts\"])"
   ]
  },
  {
   "cell_type": "code",
   "execution_count": null,
   "metadata": {},
   "outputs": [],
   "source": [
    "get_count_start_end_diff(eval_section_range, None, eval_range[\"motion_activity_df\"].query(valid_android_query), get_transition_mask_android,\n",
    "                        android_gt_mode_start_query % 2, android_gt_mode_end_query % 2)"
   ]
  },
  {
   "cell_type": "code",
   "execution_count": null,
   "metadata": {},
   "outputs": [],
   "source": [
    "eval_range[\"motion_activity_df\"].query(valid_android_query).loc[250:300]"
   ]
  },
  {
   "cell_type": "code",
   "execution_count": null,
   "metadata": {},
   "outputs": [],
   "source": []
  },
  {
   "cell_type": "code",
   "execution_count": null,
   "metadata": {},
   "outputs": [],
   "source": []
  }
 ],
 "metadata": {
  "kernelspec": {
   "display_name": "Python 3",
   "language": "python",
   "name": "python3"
  },
  "language_info": {
   "codemirror_mode": {
    "name": "ipython",
    "version": 3
   },
   "file_extension": ".py",
   "mimetype": "text/x-python",
   "name": "python",
   "nbconvert_exporter": "python",
   "pygments_lexer": "ipython3",
   "version": "3.6.7"
  }
 },
 "nbformat": 4,
 "nbformat_minor": 2
}
