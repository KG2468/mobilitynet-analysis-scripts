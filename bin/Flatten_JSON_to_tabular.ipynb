{
 "cells": [
  {
   "cell_type": "code",
   "execution_count": null,
   "id": "nasty-greeting",
   "metadata": {},
   "outputs": [],
   "source": [
    "import sys\n",
    "sys.path.append(\"..\")"
   ]
  },
  {
   "cell_type": "code",
   "execution_count": null,
   "id": "necessary-niger",
   "metadata": {},
   "outputs": [],
   "source": [
    "from emeval.input.spec_details import FileSpecDetails\n",
    "\n",
    "SPEC_ID = \"train_bus_ebike_mtv_ucb\"\n",
    "sd = FileSpecDetails(\"data/\", \"shankari@eecs.berkeley.edu\", SPEC_ID)"
   ]
  },
  {
   "cell_type": "code",
   "execution_count": null,
   "id": "agreed-offer",
   "metadata": {},
   "outputs": [],
   "source": [
    "from emeval.input.phone_view import PhoneView\n",
    "\n",
    "pv = PhoneView(sd)"
   ]
  },
  {
   "cell_type": "code",
   "execution_count": null,
   "id": "alleged-tribe",
   "metadata": {},
   "outputs": [],
   "source": [
    "import pandas as pd\n",
    "\n",
    "df_map = dict()\n",
    "\n",
    "for phone_os, phones in pv.map().items():\n",
    "    for phone_label, phone_map in phones.items():\n",
    "        pk = {\"phone_label\": phone_label, \"role\": phone_map[\"role\"]}\n",
    "        for r in (phone_map[\"calibration_ranges\"] + phone_map[\"evaluation_ranges\"]):\n",
    "            for df_label, df in {k: v for k, v in r.items() if isinstance(v, pd.DataFrame)}.items():\n",
    "                curr_pk = pk.copy()\n",
    "                \n",
    "                if r in phone_map[\"calibration_ranges\"]:\n",
    "                    curr_pk.update({\"range_type\": \"calibration\"})\n",
    "                elif r in phone_map[\"evaluation_ranges\"]:\n",
    "                    curr_pk.update({\"range_type\": \"evaluation\"})\n",
    "                \n",
    "                curr_pk.update({k: v for k, v in r.items()\n",
    "                                if not (\n",
    "                                    isinstance(v, pd.DataFrame)\\\n",
    "                                    or isinstance(v, list)\\\n",
    "                                    or isinstance(v, dict))})\n",
    "                \n",
    "                updated_df = df.assign(**curr_pk)\n",
    "                \n",
    "                for ts_col in [c for c in updated_df.columns.tolist() if \"ts\" in c]:\n",
    "                    updated_df[ts_col] = updated_df[ts_col].astype(float)\n",
    "\n",
    "                if phone_os not in df_map:\n",
    "                    df_map[phone_os] = dict()\n",
    "                \n",
    "                if df_label not in df_map[phone_os]:\n",
    "                    df_map[phone_os][df_label] = updated_df\n",
    "                else:\n",
    "                    df_map[phone_os][df_label] = pd.concat([df_map[phone_os][df_label], updated_df], ignore_index=True)"
   ]
  },
  {
   "cell_type": "code",
   "execution_count": null,
   "id": "vulnerable-arlington",
   "metadata": {
    "scrolled": false
   },
   "outputs": [],
   "source": [
    "from IPython.display import display\n",
    "\n",
    "for phone_os, df_detail_map in df_map.items():\n",
    "    for df_label, df in df_detail_map.items():\n",
    "        print(phone_os, df_label)\n",
    "        display(df)"
   ]
  }
 ],
 "metadata": {
  "kernelspec": {
   "display_name": "Python 3",
   "language": "python",
   "name": "python3"
  },
  "language_info": {
   "codemirror_mode": {
    "name": "ipython",
    "version": 3
   },
   "file_extension": ".py",
   "mimetype": "text/x-python",
   "name": "python",
   "nbconvert_exporter": "python",
   "pygments_lexer": "ipython3",
   "version": "3.8.2"
  }
 },
 "nbformat": 4,
 "nbformat_minor": 5
}
