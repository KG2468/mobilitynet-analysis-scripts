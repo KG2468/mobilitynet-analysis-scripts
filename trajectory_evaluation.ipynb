{
 "cells": [
  {
   "cell_type": "code",
   "execution_count": null,
   "metadata": {},
   "outputs": [],
   "source": [
    "# for reading and validating data\n",
    "import emeval.input.spec_details as eisd\n",
    "import emeval.input.phone_view as eipv\n",
    "import emeval.input.eval_view as eiev"
   ]
  },
  {
   "cell_type": "code",
   "execution_count": null,
   "metadata": {},
   "outputs": [],
   "source": [
    "# Visualization helpers\n",
    "import emeval.viz.phone_view as ezpv\n",
    "import emeval.viz.eval_view as ezev"
   ]
  },
  {
   "cell_type": "code",
   "execution_count": null,
   "metadata": {},
   "outputs": [],
   "source": [
    "# For computation\n",
    "import numpy as np\n",
    "import math\n",
    "import scipy.stats as stats\n",
    "import matplotlib.pyplot as plt\n",
    "from shapely import geometry\n",
    "from scipy.spatial.distance import directed_hausdorff"
   ]
  },
  {
   "cell_type": "code",
   "execution_count": null,
   "metadata": {},
   "outputs": [],
   "source": [
    "DATASTORE_URL = \"http://cardshark.cs.berkeley.edu\"\n",
    "AUTHOR_EMAIL = \"shankari@eecs.berkeley.edu\"\n",
    "sdunp = eisd.SpecDetails(DATASTORE_URL, AUTHOR_EMAIL, \"unimodal_trip_car_bike_mtv_la\")"
   ]
  },
  {
   "cell_type": "code",
   "execution_count": null,
   "metadata": {},
   "outputs": [],
   "source": [
    "import importlib\n",
    "importlib.reload(ezpv)"
   ]
  },
  {
   "cell_type": "code",
   "execution_count": null,
   "metadata": {},
   "outputs": [],
   "source": [
    "pvunp = eipv.PhoneView(sdunp)"
   ]
  },
  {
   "cell_type": "code",
   "execution_count": null,
   "metadata": {},
   "outputs": [],
   "source": [
    "polygons = []\n",
    "trips = pvunp.spec_details.curr_spec['evaluation_trips']\n",
    "\n",
    "for trip in trips:\n",
    "    for leg in trip['legs']:\n",
    "        if 'loc' in leg and leg['loc']['geometry']['type'] == 'Polygon':\n",
    "            polygons.append(geometry.Polygon(leg['loc']['geometry']['coordinates'][0]))\n",
    "        if 'end_loc' in leg and leg['end_loc']['geometry']['type'] == 'Polygon':\n",
    "            polygons.append(geometry.Polygon(leg['end_loc']['geometry']['coordinates'][0]))\n",
    "        if 'start_loc' in leg and leg['start_loc']['geometry']['type'] == 'Polygon':\n",
    "            polygons.append(geometry.Polygon(leg['start_loc']['geometry']['coordinates'][0]))"
   ]
  },
  {
   "cell_type": "code",
   "execution_count": null,
   "metadata": {},
   "outputs": [],
   "source": [
    "def clean(arr):\n",
    "    \"\"\"\n",
    "    Latitude and Longitude defined as np array with shape (n,)\n",
    "    Reshape to (n,1)\n",
    "    \"\"\"\n",
    "    return arr.values.reshape((arr.shape[0], 1))\n",
    "\n",
    "def is_point_in_polygon(point):\n",
    "    \"\"\"\n",
    "    Utility function to check if given Shapely point\n",
    "    is contained within a Shapely polygon\n",
    "    \"\"\"\n",
    "    for polygon in polygons:\n",
    "        if polygon.contains(point):\n",
    "            return True\n",
    "    return False\n",
    "\n",
    "def get_trajectory(df, include_timestamps=True):\n",
    "    \"\"\" \n",
    "    Returns np array combining latitudes, longitudes\n",
    "    and timestamps (if asked for). Only returns those\n",
    "    points that are not contained within Parking Polygons.\n",
    "    \"\"\"\n",
    "    latitudes = clean(df['latitude'])\n",
    "    longitudes = clean(df['longitude'])\n",
    "    if include_timestamps:\n",
    "        timestamps = clean(df['ts'])\n",
    "    \n",
    "    coordinates = np.concatenate((longitudes, latitudes), axis=1).tolist()\n",
    "    \n",
    "    data_points = []\n",
    "    \n",
    "    for (i, coordinate) in enumerate(coordinates):\n",
    "        point = geometry.Point(coordinate[0], coordinate[1])\n",
    "        \n",
    "        if not is_point_in_polygon(point):\n",
    "            if include_timestamps:\n",
    "                coordinate.append(timestamps[i][0])\n",
    "        data_points.append(coordinate)\n",
    "    \n",
    "    return data_points\n",
    "\n",
    "def get_gt_points(pvunp, phone_os, phone_label, trip_index, section_index):\n",
    "    \"\"\"\n",
    "    Get lat-long corrdinates in ground truth\n",
    "    \"\"\"\n",
    "    data = pvunp.spec_details.curr_spec['evaluation_trips'][trip_index]['legs'][section_index]\n",
    "    if 'route_coords' in data:\n",
    "        return data['route_coords']['geometry']['coordinates']\n",
    "    return []\n",
    "\n",
    "def get_measured_points(df):\n",
    "    \"\"\"\n",
    "    Get lat-long coordinates recorded from phone\n",
    "    \"\"\"\n",
    "    return get_trajectory(df, include_timestamps=False)\n",
    "\n",
    "def compute_hausdorff_similarity(base_df, test_df):\n",
    "    \"\"\"\n",
    "    Compute Hausfdorff distance between lat-long-timestamp\n",
    "    triplets of different measurements.\n",
    "    \"\"\"\n",
    "    base_trajectory = get_trajectory(base_df)\n",
    "    test_trajectory = get_trajectory(test_df)\n",
    "    return directed_hausdorff(base_trajectory, test_trajectory)[0]\n",
    "\n",
    "def get_projections(line, measured_points):\n",
    "    projections = []\n",
    "    for p in measured_points:\n",
    "        point = geometry.Point(p[0], p[1])\n",
    "        projections.append(point.distance(line))\n",
    "    return projections\n",
    "\n",
    "def plot_hist(points):\n",
    "    plt.hist(points, bins=10)\n",
    "    plt.show()\n",
    "    \n",
    "def convert_to_xy(points):\n",
    "    xy_points = []\n",
    "    R = 6371 # Radius of the earth in km\n",
    "    \n",
    "    for point in points:\n",
    "        lon = point[0]\n",
    "        lat = point[1]\n",
    "        \n",
    "        theta = math.pi/2 - math.radians(lat) \n",
    "        phi = math.radians(lon)\n",
    "        \n",
    "        x = R * math.sin(theta) * math.cos(phi)\n",
    "        y = R * math.sin(theta) * math.sin(phi)\n",
    "        xy_points.append([x, y])\n",
    "        \n",
    "    return xy_points"
   ]
  },
  {
   "cell_type": "code",
   "execution_count": null,
   "metadata": {},
   "outputs": [],
   "source": [
    "spatial_errors = {}\n",
    "\n",
    "\n",
    "\"\"\"\n",
    "    Spatial errors is a data structure that stores the individual error points (projections) as well as the \n",
    "    RMS error for every phone for every one. It is structured as: \n",
    "        spatial_errors\n",
    "        -- ios\n",
    "        ----ucb-sdb-ios-1\n",
    "        ------total_error[0] For the different trips\n",
    "        ------total_error[1]\n",
    "        .\n",
    "        .\n",
    "        ------errors[0] For the different trips\n",
    "        ------errors[1]\n",
    "        .\n",
    "        .\n",
    "        ----ucb-sdb-ios-2\n",
    "        .\n",
    "        .\n",
    "        -- android\n",
    "        ----ucb-sdb-android-1\n",
    "        \n",
    "        # Errors are all reported in miles\n",
    "        \n",
    "\"\"\"\n",
    "for phone_os, phone_map in pvunp.map().items():\n",
    "    spatial_errors[phone_os] = {}\n",
    "    \n",
    "    for phone_label, phone_detail_map in phone_map.items():\n",
    "        spatial_errors[phone_os][phone_label] = {}\n",
    "        spatial_errors[phone_os][phone_label]['total_error'] = []\n",
    "        spatial_errors[phone_os][phone_label]['errors'] = []\n",
    "        \n",
    "        for (r_idx, r) in enumerate(phone_detail_map[\"evaluation_ranges\"]):\n",
    "            run_mean_error = 0.0\n",
    "            run_errors = []\n",
    "            \n",
    "            for (tr_idx, tr) in enumerate(r[\"evaluation_trip_ranges\"]):\n",
    "                trip_mean_error = 0.0\n",
    "                trip_errors = []\n",
    "                    \n",
    "                for (sr_idx, sr) in enumerate(tr[\"evaluation_section_ranges\"]):\n",
    "                    gt_points = get_gt_points(pvunp, phone_os, phone_label, tr_idx, sr_idx)\n",
    "                    \n",
    "                    if len(sr['location_df']) == 0:\n",
    "                        continue\n",
    "                        \n",
    "                    measured_points = get_measured_points(sr['location_df'])\n",
    "                    line = geometry.LineString(convert_to_xy(gt_points))\n",
    "                    projections = get_projections(line, convert_to_xy(measured_points))\n",
    "                    section_error = sum(projections)\n",
    "                    section_observations = len(projections)\n",
    "                    section_mean_error = section_error/section_observations\n",
    "                    trip_mean_error += section_mean_error\n",
    "                    trip_errors += projections\n",
    "                    \n",
    "                run_mean_error += trip_mean_error\n",
    "                run_errors += trip_errors\n",
    "                \n",
    "            spatial_errors[phone_os][phone_label]['total_error'].append(run_mean_error)\n",
    "            spatial_errors[phone_os][phone_label]['errors'].append(run_errors)"
   ]
  },
  {
   "cell_type": "code",
   "execution_count": null,
   "metadata": {},
   "outputs": [],
   "source": [
    "plot_hist(spatial_errors['ios']['ucb-sdb-ios-1']['errors'][0])"
   ]
  },
  {
   "cell_type": "code",
   "execution_count": null,
   "metadata": {},
   "outputs": [],
   "source": [
    "plot_hist(spatial_errors['ios']['ucb-sdb-ios-1']['errors'][1])"
   ]
  },
  {
   "cell_type": "code",
   "execution_count": null,
   "metadata": {},
   "outputs": [],
   "source": [
    "plot_hist(spatial_errors['ios']['ucb-sdb-ios-1']['errors'][2])"
   ]
  },
  {
   "cell_type": "code",
   "execution_count": null,
   "metadata": {},
   "outputs": [],
   "source": [
    "plot_hist(spatial_errors['ios']['ucb-sdb-ios-2']['errors'][0])"
   ]
  },
  {
   "cell_type": "code",
   "execution_count": null,
   "metadata": {},
   "outputs": [],
   "source": [
    "plot_hist(spatial_errors['ios']['ucb-sdb-ios-2']['errors'][1])"
   ]
  },
  {
   "cell_type": "code",
   "execution_count": null,
   "metadata": {},
   "outputs": [],
   "source": [
    "plot_hist(spatial_errors['ios']['ucb-sdb-ios-2']['errors'][2])"
   ]
  },
  {
   "cell_type": "code",
   "execution_count": null,
   "metadata": {},
   "outputs": [],
   "source": [
    "# Total error of ucb-sdb-ios-1 for each trip \n",
    "print(spatial_errors['ios']['ucb-sdb-ios-1']['total_error'])"
   ]
  },
  {
   "cell_type": "code",
   "execution_count": null,
   "metadata": {},
   "outputs": [],
   "source": [
    "print(spatial_errors['ios']['ucb-sdb-ios-2']['total_error'])"
   ]
  },
  {
   "cell_type": "code",
   "execution_count": null,
   "metadata": {},
   "outputs": [],
   "source": [
    "print(spatial_errors['ios']['ucb-sdb-ios-3']['total_error'])"
   ]
  },
  {
   "cell_type": "code",
   "execution_count": null,
   "metadata": {},
   "outputs": [],
   "source": [
    "print(spatial_errors['android']['ucb-sdb-android-1']['total_error'])"
   ]
  },
  {
   "cell_type": "code",
   "execution_count": null,
   "metadata": {},
   "outputs": [],
   "source": [
    "print(spatial_errors['android']['ucb-sdb-android-2']['total_error'])"
   ]
  },
  {
   "cell_type": "code",
   "execution_count": null,
   "metadata": {},
   "outputs": [],
   "source": [
    "print(spatial_errors['android']['ucb-sdb-android-3']['total_error'])"
   ]
  }
 ],
 "metadata": {
  "kernelspec": {
   "display_name": "Python 3",
   "language": "python",
   "name": "python3"
  },
  "language_info": {
   "codemirror_mode": {
    "name": "ipython",
    "version": 3
   },
   "file_extension": ".py",
   "mimetype": "text/x-python",
   "name": "python",
   "nbconvert_exporter": "python",
   "pygments_lexer": "ipython3",
   "version": "3.6.1"
  }
 },
 "nbformat": 4,
 "nbformat_minor": 2
}
