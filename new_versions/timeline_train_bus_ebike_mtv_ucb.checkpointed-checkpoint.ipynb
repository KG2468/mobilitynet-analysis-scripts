{
 "cells": [
  {
   "cell_type": "markdown",
   "metadata": {},
   "source": [
    "This notebook demonstrates the result of the first round of data collection, for the Mountain View library <-> UC Berkeley round trip. The big flaw of this trip is that "
   ]
  },
  {
   "cell_type": "markdown",
   "metadata": {},
   "source": [
    "## Import all the dependencies"
   ]
  },
  {
   "cell_type": "code",
   "execution_count": null,
   "metadata": {
    "scrolled": false
   },
   "outputs": [],
   "source": [
    "# for reading and validating data\n",
    "import emeval.input.spec_details as eisd\n",
    "import emeval.input.phone_view as eipv\n",
    "import emeval.input.eval_view as eiev"
   ]
  },
  {
   "cell_type": "code",
   "execution_count": null,
   "metadata": {
    "scrolled": false
   },
   "outputs": [],
   "source": [
    "# Visualization helpers\n",
    "import emeval.viz.phone_view as ezpv\n",
    "import emeval.viz.eval_view as ezev"
   ]
  },
  {
   "cell_type": "code",
   "execution_count": null,
   "metadata": {
    "scrolled": false
   },
   "outputs": [],
   "source": [
    "# For plots\n",
    "import matplotlib.pyplot as plt\n",
    "%matplotlib inline"
   ]
  },
  {
   "cell_type": "code",
   "execution_count": null,
   "metadata": {
    "scrolled": false
   },
   "outputs": [],
   "source": [
    "# For maps\n",
    "import branca.element as bre\n",
    "import folium"
   ]
  },
  {
   "cell_type": "markdown",
   "metadata": {},
   "source": [
    "## Load and validate data\n",
    "\n",
    "The first issue to note is that we actually have two specs here. The first spec is the checked in `evaluation.spec.sample`, which defines calibration for both stationary and moving instances, and some evaluation trips. However, while starting with the calibration, we noticed some inconsistencies between the power curves. So in order to be more consistent, I defined a second, calibration-only spec `examples/calibration.only.json`, which essentially repeats the calibration experiments multiple times.\n",
    "\n",
    "After that, I returned to the first set of experiments for the moving calibration and the evaluation."
   ]
  },
  {
   "cell_type": "code",
   "execution_count": null,
   "metadata": {
    "scrolled": false
   },
   "outputs": [],
   "source": [
    "DATASTORE_URL = \"http://cardshark.cs.berkeley.edu\"\n",
    "AUTHOR_EMAIL = \"shankari@eecs.berkeley.edu\"\n",
    "sdunp = eisd.SpecDetails(DATASTORE_URL, AUTHOR_EMAIL, \"train_bus_ebike_mtv_ucb\")"
   ]
  },
  {
   "cell_type": "code",
   "execution_count": null,
   "metadata": {},
   "outputs": [],
   "source": [
    "import importlib\n",
    "importlib.reload(eipv)"
   ]
  },
  {
   "cell_type": "code",
   "execution_count": null,
   "metadata": {
    "scrolled": true
   },
   "outputs": [],
   "source": [
    "pvunp = eipv.PhoneView(sdunp)"
   ]
  },
  {
   "cell_type": "code",
   "execution_count": null,
   "metadata": {
    "scrolled": true
   },
   "outputs": [],
   "source": [
    "import arrow\n",
    "for t in pvunp.map()[\"ios\"][\"ucb-sdb-ios-1\"][\"transitions\"]:\n",
    "    if t[\"data\"][\"transition\"] in [\"START_EVALUATION_PERIOD\", \"STOP_EVALUATION_PERIOD\"] and t[\"data\"][\"spec_id\"] == sdunp.CURR_SPEC_ID:\n",
    "        print(t[\"_id\"], t[\"data\"][\"transition\"], t[\"data\"][\"trip_id\"], arrow.get(t[\"data\"][\"ts\"]).to(sdunp.eval_tz))"
   ]
  },
  {
   "cell_type": "code",
   "execution_count": null,
   "metadata": {},
   "outputs": [],
   "source": [
    "period_transitions = [t for t in pvunp.map()[\"ios\"][\"ucb-sdb-ios-1\"][\"transitions\"] if t[\"data\"][\"transition\"] in [\"START_EVALUATION_PERIOD\", \"STOP_EVALUATION_PERIOD\"] and t[\"data\"][\"spec_id\"] == sdunp.CURR_SPEC_ID]"
   ]
  },
  {
   "cell_type": "code",
   "execution_count": null,
   "metadata": {},
   "outputs": [],
   "source": [
    "pvunp.map()[\"ios\"][\"ucb-sdb-ios-2\"][\"transitions\"]"
   ]
  },
  {
   "cell_type": "code",
   "execution_count": null,
   "metadata": {},
   "outputs": [],
   "source": []
  },
  {
   "cell_type": "code",
   "execution_count": null,
   "metadata": {},
   "outputs": [],
   "source": [
    "pvunp.validate()"
   ]
  },
  {
   "cell_type": "code",
   "execution_count": null,
   "metadata": {},
   "outputs": [],
   "source": [
    "evunp = eiev.EvaluationView()\n",
    "evunp.from_view_eval_trips(pvunp, \"\", \"\")"
   ]
  },
  {
   "cell_type": "code",
   "execution_count": null,
   "metadata": {},
   "outputs": [],
   "source": [
    "[r[\"trip_id\"] for r in pvunp.map()[\"ios\"][\"ucb-sdb-ios-2\"][\"evaluation_ranges\"]]"
   ]
  },
  {
   "cell_type": "code",
   "execution_count": null,
   "metadata": {},
   "outputs": [],
   "source": [
    "importlib.reload(ezev)"
   ]
  },
  {
   "cell_type": "markdown",
   "metadata": {},
   "source": [
    "## Display trips\n",
    "\n",
    "Click on the layer to toggle the lines"
   ]
  },
  {
   "cell_type": "code",
   "execution_count": null,
   "metadata": {},
   "outputs": [],
   "source": [
    "map_list = ezev.get_map_list_eval_trips(evunp, \"android\", \"\", \"HAHFDC|MAHFDC\")\n",
    "rows = ezpv.get_row_count(len(map_list), 2)\n",
    "evaluation_maps = bre.Figure(ratio=\"{}%\".format((rows/4) * 100))\n",
    "for i, curr_map in enumerate(map_list):\n",
    "    evaluation_maps.add_subplot(rows, 2, i+1).add_child(curr_map)"
   ]
  },
  {
   "cell_type": "code",
   "execution_count": null,
   "metadata": {
    "scrolled": false
   },
   "outputs": [],
   "source": [
    "evaluation_maps"
   ]
  },
  {
   "cell_type": "code",
   "execution_count": null,
   "metadata": {},
   "outputs": [],
   "source": [
    "map_list = ezev.get_map_list_eval_trips(evunp, \"ios\", \"\", \"HAHFDC|HAMFDC\")\n",
    "rows = ezpv.get_row_count(len(map_list), 2)\n",
    "evaluation_maps = bre.Figure(ratio=\"{}%\".format((rows/4) * 100))\n",
    "for i, curr_map in enumerate(map_list):\n",
    "    evaluation_maps.add_subplot(rows, 2, i+1).add_child(curr_map)"
   ]
  },
  {
   "cell_type": "code",
   "execution_count": null,
   "metadata": {
    "scrolled": false
   },
   "outputs": [],
   "source": [
    "evaluation_maps"
   ]
  },
  {
   "cell_type": "code",
   "execution_count": null,
   "metadata": {},
   "outputs": [],
   "source": [
    "import emeval.viz.geojson as ezgj\n",
    "import emeval.metrics.dist_calculations as emd\n",
    "import folium"
   ]
  },
  {
   "cell_type": "code",
   "execution_count": null,
   "metadata": {},
   "outputs": [],
   "source": [
    "gt_leg = sdunp.get_ground_truth_for_leg(\"mtv_to_berkeley_sf_bart\", \"commuter_rail_aboveground\"); print(gt_leg[\"id\"])\n",
    "curr_map_0 = ezgj.get_map_for_geojson(sdunp.get_geojson_for_leg(gt_leg), name=\"ground_truth\")\n",
    "curr_map_1 = ezgj.get_map_for_geojson(sdunp.get_geojson_for_leg(gt_leg), name=\"ground_truth\")\n",
    "# ezgj.get_fg_for_loc_df(emd.linestring_to_geo_df(eisd.SpecDetails.get_shapes_for_leg(gt_leg)[\"route\"]),\n",
    "#                        name=\"gt_points\", color=\"green\").add_to(curr_map)\n",
    "\n",
    "name_err_time = lambda lr: \"%d: %s, %s\" % (lr[\"index\"], \"AC\" if run == 0 else \"HA\", sdunp.fmt(lr[\"ts\"], \"MM-DD HH:mm:ss\"))\n",
    "\n",
    "colors = [\"red\", \"blue\"]\n",
    "for run in range(1,3):\n",
    "    platform = \"android\" if run == 1 else \"ios\"\n",
    "    loc_df = pvunp.map()[\"%s\" % platform][\"ucb-sdb-%s-1\" % platform][\"evaluation_ranges\"][3][\"evaluation_trip_ranges\"][2][\"evaluation_section_ranges\"][3][\"location_df\"]\n",
    "    print(\"Displaying for %s\" % pvunp.map()[\"android\"][\"ucb-sdb-android-%d\" % (run+1)][\"evaluation_ranges\"][0][\"eval_role\"])\n",
    "    first_or_last = lambda lr: lr[\"index\"] == 0 or lr[\"index\"] == len(loc_df) - 1\n",
    "    print(\"max error for run %d is %s\" % (run, loc_df.index.max()))\n",
    "    folium.GeoJson(ezgj.get_geojson_for_loc_df(loc_df, color=colors[run-1]), name=\"sensed_values\").add_to(curr_map_0 if run == 1 else curr_map_1)\n",
    "    ezgj.get_fg_for_loc_df(loc_df, name=\"sensed_points\", color=colors[run-1], popupfn=name_err_time, stickyfn=None).add_to(curr_map_0 if run == 1 else curr_map_1)\n",
    "\n",
    "evaluation_maps = bre.Figure()\n",
    "evaluation_maps.add_subplot(1,2,1).add_child(curr_map_0)\n",
    "evaluation_maps.add_subplot(1,2,2).add_child(curr_map_1)\n",
    "evaluation_maps"
   ]
  },
  {
   "cell_type": "code",
   "execution_count": null,
   "metadata": {},
   "outputs": [],
   "source": [
    "pvunp.map()[\"ios\"][\"ucb-sdb-ios-1\"][\"evaluation_ranges\"][7][\"evaluation_trip_ranges\"][2][\"evaluation_section_ranges\"][1][\"location_df\"].tail(n=70)"
   ]
  },
  {
   "cell_type": "code",
   "execution_count": null,
   "metadata": {},
   "outputs": [],
   "source": [
    "pvunp.map()[\"ios\"][\"ucb-sdb-ios-1\"][\"evaluation_ranges\"][7][\"evaluation_trip_ranges\"][2][\"evaluation_section_ranges\"][1][\"location_df\"].loc[6026].ts"
   ]
  },
  {
   "cell_type": "code",
   "execution_count": null,
   "metadata": {},
   "outputs": [],
   "source": [
    "sel_trip = pvunp.map()[\"ios\"][\"ucb-sdb-ios-1\"][\"evaluation_ranges\"][7][\"evaluation_trip_ranges\"][2]\n",
    "for t in pvunp.map()[\"ios\"][\"ucb-sdb-ios-1\"][\"transitions\"]:\n",
    "    if sel_trip[\"start_ts\"] <= t[\"data\"][\"ts\"] <= sel_trip[\"end_ts\"]:\n",
    "        print(\"%s %s %s\" % (t[\"_id\"], t[\"data\"][\"trip_id\"], t[\"data\"][\"transition\"]))"
   ]
  },
  {
   "cell_type": "code",
   "execution_count": null,
   "metadata": {},
   "outputs": [],
   "source": [
    "def verify_run(run):\n",
    "    sel_run = pvunp.map()[\"ios\"][\"ucb-sdb-ios-1\"][\"evaluation_ranges\"][run]\n",
    "    print(\"Verifying time range %s -> %s \" % (arrow.get(sel_run[\"start_ts\"]).to(sdunp.eval_tz), arrow.get(sel_run[\"end_ts\"]).to(sdunp.eval_tz)))\n",
    "    evaluation_maps = bre.Figure(ratio=\"300%\")\n",
    "    \n",
    "    name_err_time = lambda lr: \"%d: %s\" % (lr[\"index\"], sdunp.fmt(lr[\"ts\"], \"MM-DD HH:mm:ss\"))\n",
    "    n_sections = 23\n",
    "    curr_section_id = 1\n",
    "    for trip_id in range(3):\n",
    "        trip = sel_run[\"evaluation_trip_ranges\"][trip_id]\n",
    "        eval_section_ranges = trip[\"evaluation_section_ranges\"]\n",
    "        for s in eval_section_ranges:\n",
    "            print(\"Verifying section range %s, %s: %s -> %s \" % (trip[\"trip_id_base\"], s[\"trip_id_base\"], arrow.get(s[\"start_ts\"]).to(sdunp.eval_tz), arrow.get(s[\"end_ts\"]).to(sdunp.eval_tz)))\n",
    "            gt_leg = sdunp.get_ground_truth_for_leg(trip[\"trip_id_base\"], s[\"trip_id_base\"]); print(gt_leg[\"id\"])\n",
    "            loc_df = s[\"location_df\"]\n",
    "            curr_map = ezgj.get_map_for_geojson(sdunp.get_geojson_for_leg(gt_lreg), name=\"ground_truth\")\n",
    "            folium.GeoJson(ezgj.get_geojson_for_loc_df(loc_df, color=\"blue\"), name=\"sensed_values\").add_to(curr_map)\n",
    "            # ezgj.get_fg_for_loc_df(loc_df, name=\"sensed_points\", color=\"blue\", popupfn=name_err_time, stickyfn=None).add_to(curr_map)\n",
    "            evaluation_maps.add_subplot(12,2,curr_section_id).add_child(curr_map)\n",
    "            curr_section_id = curr_section_id + 1\n",
    "    return evaluation_maps"
   ]
  },
  {
   "cell_type": "code",
   "execution_count": null,
   "metadata": {},
   "outputs": [],
   "source": [
    "def validate_section(run_id, trip_id, section_id):\n",
    "    sel_run = pvunp.map()[\"ios\"][\"ucb-sdb-ios-1\"][\"evaluation_ranges\"][run_id]\n",
    "    trip = sel_run[\"evaluation_trip_ranges\"][trip_id]\n",
    "    s = trip[\"evaluation_section_ranges\"][section_id]\n",
    "    \n",
    "    name_err_time = lambda lr: \"%d: %s\" % (lr[\"index\"], sdunp.fmt(lr[\"ts\"], \"MM-DD HH:mm:ss\"))\n",
    "\n",
    "    gt_leg = sdunp.get_ground_truth_for_leg(trip[\"trip_id_base\"], s[\"trip_id_base\"]); print(gt_leg[\"id\"])\n",
    "    loc_df = s[\"location_df\"]\n",
    "    curr_map = ezgj.get_map_for_geojson(sdunp.get_geojson_for_leg(gt_leg), name=\"ground_truth\")\n",
    "    folium.GeoJson(ezgj.get_geojson_for_loc_df(loc_df, color=\"blue\"), name=\"sensed_values\").add_to(curr_map)\n",
    "    ezgj.get_fg_for_loc_df(loc_df, name=\"sensed_points\", color=\"blue\", popupfn=name_err_time, stickyfn=None).add_to(curr_map)\n",
    "    return curr_map"
   ]
  },
  {
   "cell_type": "code",
   "execution_count": null,
   "metadata": {},
   "outputs": [],
   "source": []
  },
  {
   "cell_type": "code",
   "execution_count": null,
   "metadata": {},
   "outputs": [],
   "source": [
    "eval_maps = verify_run(7)"
   ]
  },
  {
   "cell_type": "code",
   "execution_count": null,
   "metadata": {
    "scrolled": false
   },
   "outputs": [],
   "source": [
    "eval_maps"
   ]
  },
  {
   "cell_type": "code",
   "execution_count": null,
   "metadata": {},
   "outputs": [],
   "source": [
    "validate_section(7, 2, 1)"
   ]
  },
  {
   "cell_type": "code",
   "execution_count": null,
   "metadata": {},
   "outputs": [],
   "source": [
    "pvunp.map()[\"android\"][\"ucb-sdb-android-2\"][\"evaluation_ranges\"][0][\"eval_role\"]"
   ]
  },
  {
   "cell_type": "code",
   "execution_count": null,
   "metadata": {},
   "outputs": [],
   "source": [
    "for run in range(2,4):\n",
    "    print(\"Transitions for phone %s\" % run)\n",
    "    transition_df = pvunp.map()[\"android\"][\"ucb-sdb-android-%d\" % (run)][\"evaluation_ranges\"][0][\"transition_df\"]\n",
    "    transition_df[\"fmt_time\"] = transition_df.ts.apply(lambda ts: sdunp.fmt(ts, \"HH:mm:ss\"))\n",
    "    print(transition_df[[\"transition\", \"fmt_time\"]])"
   ]
  },
  {
   "cell_type": "code",
   "execution_count": null,
   "metadata": {},
   "outputs": [],
   "source": [
    "importlib.reload(ezpv)"
   ]
  },
  {
   "cell_type": "code",
   "execution_count": null,
   "metadata": {},
   "outputs": [],
   "source": [
    "def check_outlier(eval_range, trip_idx):\n",
    "    eval_trip_range = eval_range[\"evaluation_trip_ranges\"][trip_idx]\n",
    "    # print(eval_trip_range[\"trip_id\"], fmt(eval_range[mismatch_key]), fmt(eval_trip_range[mismatch_key]))\n",
    "    print(eval_trip_range[\"transition_df\"][[\"transition\", \"fmt_time\"]])\n",
    "    print(\"**** For entire range ***\")\n",
    "    print(eval_range[\"transition_df\"][[\"transition\", \"fmt_time\"]])\n",
    "    # if mismatch_key == \"end_ts\":\n",
    "    #    print(eval_range[\"transition_df\"].query(\"ts > %s\" % eval_trip_range[\"end_ts\"])[[\"transition\", \"fmt_time\"]])\n",
    "    # else:\n",
    "    curr_map = folium.Map()\n",
    "    for t in eval_trip_range[\"transition_df\"].to_dict(orient=\"records\"):\n",
    "        query_str = \"ts > %s & ts < %s\" % (t[\"ts\"] - 10, t[\"ts\"] + 10)\n",
    "        ezpv.display_map_detail_from_df(sel_location_df=eval_trip_range[\"location_df\"].query(query_str), tz=\"America/Los_Angeles\", sticky_popups=True)\n",
    "    query_str = \"ts > %s & ts < %s\" % (eval_trip_range[\"end_ts\"] - 60, eval_trip_range[\"end_ts\"] + 1200)\n",
    "    print(query_str)\n",
    "    ezpv.display_map_detail_from_df(sel_location_df=eval_trip_range[\"location_df\"].query(query_str), tz=\"America/Los_Angeles\", sticky_popups=True)\n",
    "    return curr_map"
   ]
  },
  {
   "cell_type": "code",
   "execution_count": null,
   "metadata": {},
   "outputs": [],
   "source": [
    "check_outlier(pvunp.map()[\"android\"][\"ucb-sdb-android-3\"][\"evaluation_ranges\"][0], 0)"
   ]
  },
  {
   "cell_type": "code",
   "execution_count": null,
   "metadata": {},
   "outputs": [],
   "source": [
    "ucb_and_back = pvunp.map()[\"android\"][\"ucb-sdb-android-3\"][\"evaluation_ranges\"][0]; ucb_and_back[\"trip_id\"]"
   ]
  },
  {
   "cell_type": "code",
   "execution_count": null,
   "metadata": {},
   "outputs": [],
   "source": [
    "to_trip = ucb_and_back[\"evaluation_trip_ranges\"][0]; print(to_trip[\"trip_id\"])"
   ]
  },
  {
   "cell_type": "code",
   "execution_count": null,
   "metadata": {},
   "outputs": [],
   "source": [
    "bart_leg = to_trip[\"evaluation_section_ranges\"][5]; print(bart_leg[\"trip_id\"])"
   ]
  },
  {
   "cell_type": "code",
   "execution_count": null,
   "metadata": {},
   "outputs": [],
   "source": [
    "gt_leg = sdunp.get_ground_truth_for_leg(to_trip[\"trip_id_base\"], bart_leg[\"trip_id_base\"]); gt_leg[\"id\"]"
   ]
  },
  {
   "cell_type": "code",
   "execution_count": null,
   "metadata": {},
   "outputs": [],
   "source": [
    "import folium"
   ]
  },
  {
   "cell_type": "code",
   "execution_count": null,
   "metadata": {},
   "outputs": [],
   "source": [
    "curr_map = folium.Map()\n",
    "gt_leg_gj = sdunp.get_geojson_for_leg(gt_leg)\n",
    "sensed_section_gj = ezpv.get_geojson_for_leg(bart_leg)\n",
    "gt_leg_gj_feature = folium.GeoJson(gt_leg_gj, name=\"ground_truth\")\n",
    "gt_leg_gj_points = ezpv.get_point_markers(gt_leg_gj[2], name=\"ground_truth_points\", color=\"green\")\n",
    "sensed_leg_gj_feature = folium.GeoJson(sensed_section_gj, name=\"sensed_values\")\n",
    "sensed_leg_gj_points = ezpv.get_point_markers(sensed_section_gj, name=\"sensed_points\", color=\"red\")\n",
    "curr_map.add_child(gt_leg_gj_feature)\n",
    "curr_map.add_child(gt_leg_gj_points)\n",
    "curr_map.add_child(sensed_leg_gj_feature)\n",
    "curr_map.add_child(sensed_leg_gj_points)\n",
    "curr_map.fit_bounds(sensed_leg_gj_feature.get_bounds())\n",
    "folium.LayerControl().add_to(curr_map)\n",
    "curr_map"
   ]
  },
  {
   "cell_type": "markdown",
   "metadata": {},
   "source": [
    "## Display sections"
   ]
  },
  {
   "cell_type": "code",
   "execution_count": null,
   "metadata": {},
   "outputs": [],
   "source": [
    "map_list = ezev.get_map_list_eval_sections(evunp, \"android\", \"\", \"HAHFDC|MAHFDC\")\n",
    "rows = ezpv.get_row_count(len(map_list), 2)\n",
    "evaluation_maps = bre.Figure(ratio=\"{}%\".format((rows/4) * 100))\n",
    "for i, curr_map in enumerate(map_list):\n",
    "    evaluation_maps.add_subplot(rows, 2, i+1).add_child(curr_map)"
   ]
  },
  {
   "cell_type": "code",
   "execution_count": null,
   "metadata": {},
   "outputs": [],
   "source": [
    "evaluation_maps"
   ]
  },
  {
   "cell_type": "code",
   "execution_count": null,
   "metadata": {},
   "outputs": [],
   "source": [
    "map_list = ezev.get_map_list_eval_sections(evunp, \"ios\", \"\", \"HAHFDC|HAMFDC\")\n",
    "rows = ezpv.get_row_count(len(map_list), 2)\n",
    "evaluation_maps = bre.Figure(ratio=\"{}%\".format((rows/4) * 100))\n",
    "for i, curr_map in enumerate(map_list):\n",
    "    evaluation_maps.add_subplot(rows, 2, i+1).add_child(curr_map)"
   ]
  },
  {
   "cell_type": "code",
   "execution_count": null,
   "metadata": {},
   "outputs": [],
   "source": [
    "evaluation_maps"
   ]
  },
  {
   "cell_type": "markdown",
   "metadata": {},
   "source": [
    "## Display battery"
   ]
  },
  {
   "cell_type": "code",
   "execution_count": null,
   "metadata": {
    "scrolled": false
   },
   "outputs": [],
   "source": [
    "(ifig, [android_ax, ios_ax]) = plt.subplots(ncols=1, nrows=2, figsize=(10,10))\n",
    "\n",
    "ezpv.plot_all_power_drain(ios_ax, pvunp.map()[\"ios\"], \"evaluation\", \"\")\n",
    "ios_ax.legend(loc=\"lower left\", bbox_to_anchor=(0, -0.5, 0, -0.5), ncol=2)\n",
    "ezpv.plot_all_power_drain(android_ax, pvunp.map()[\"android\"], \"evaluation\", \"\")\n",
    "android_ax.legend(loc=\"upper left\", bbox_to_anchor=(0,1.45), ncol=2)"
   ]
  },
  {
   "cell_type": "code",
   "execution_count": null,
   "metadata": {},
   "outputs": [],
   "source": [
    "(ifig, android_ax) = plt.subplots(ncols=1, nrows=1, figsize=(8,4))\n",
    "\n",
    "color_map = {}\n",
    "legend_map = {}\n",
    "\n",
    "ezpv.plot_collapsed_all_power_drain(android_ax, pvunp.map()[\"android\"], \"evaluation\", \"\", color_map, legend_map)\n",
    "# legend_map[\"duty cycled:HIGH FREQUENCY\"] = legend_map[\"HAHFDC v/s HAMFDC:HAHFDC\"]\n",
    "legend_map[\"duty cycled:HIGH FREQUENCY 2\"] = legend_map[\"HAHFDC v/s MAHFDC:HAHFDC\"]\n",
    "# legend_map[\"duty cycled:MEDIUM FREQUENCY\"] = legend_map[\"HAHFDC v/s HAMFDC:HAMFDC\"]\n",
    "legend_map[\"duty cycled:MEDIUM ACCURACY\"] = legend_map[\"HAHFDC v/s MAHFDC:MAHFDC\"]\n",
    "# del legend_map[\"HAHFDC v/s HAMFDC:HAHFDC\"]\n",
    "del legend_map[\"HAHFDC v/s MAHFDC:HAHFDC\"]\n",
    "# del legend_map[\"HAHFDC v/s HAMFDC:HAMFDC\"]\n",
    "del legend_map[\"HAHFDC v/s MAHFDC:MAHFDC\"]\n",
    "android_ax.legend(legend_map.values(), legend_map.keys())"
   ]
  },
  {
   "cell_type": "code",
   "execution_count": null,
   "metadata": {},
   "outputs": [],
   "source": [
    "importlib.reload(ezpv)"
   ]
  },
  {
   "cell_type": "code",
   "execution_count": null,
   "metadata": {},
   "outputs": [],
   "source": [
    "android_density_df = ezpv.filter_density_df(ezpv.get_location_density_df(pvunp.map()[\"android\"], \"evaluation\"))\n",
    "android_ax = android_density_df.plot(kind='density', subplots=False, figsize=(8,8), sharex=True, sharey=True)\n",
    "android_ax.legend(loc=\"center left\", bbox_to_anchor=(1, 0.5))"
   ]
  },
  {
   "cell_type": "code",
   "execution_count": null,
   "metadata": {},
   "outputs": [],
   "source": [
    "ios_density_df = ezpv.filter_density_df(ezpv.get_location_density_df(pvunp.map()[\"ios\"], \"evaluation\"))\n",
    "ios_ax = ios_density_df.plot(kind='density', subplots=False, figsize=(10,10), sharex=True, sharey=True)\n",
    "ios_ax.legend(loc=\"center left\", bbox_to_anchor=(1, 0.5))"
   ]
  },
  {
   "cell_type": "code",
   "execution_count": null,
   "metadata": {},
   "outputs": [],
   "source": []
  },
  {
   "cell_type": "code",
   "execution_count": null,
   "metadata": {},
   "outputs": [],
   "source": []
  },
  {
   "cell_type": "code",
   "execution_count": null,
   "metadata": {},
   "outputs": [],
   "source": []
  },
  {
   "cell_type": "code",
   "execution_count": null,
   "metadata": {},
   "outputs": [],
   "source": []
  }
 ],
 "metadata": {
  "kernelspec": {
   "display_name": "Python 3",
   "language": "python",
   "name": "python3"
  },
  "language_info": {
   "codemirror_mode": {
    "name": "ipython",
    "version": 3
   },
   "file_extension": ".py",
   "mimetype": "text/x-python",
   "name": "python",
   "nbconvert_exporter": "python",
   "pygments_lexer": "ipython3",
   "version": "3.8.2"
  }
 },
 "nbformat": 4,
 "nbformat_minor": 2
}
