{
 "cells": [
  {
   "cell_type": "markdown",
   "id": "36ac74aa",
   "metadata": {},
   "source": [
    "# Classification Analysis\n",
    "This notebook will contain classification analysis for both the sensed and pipelined algorithms. Analysis will be preformed in regards for the sensed and pipelined algorthms themselves, as well as the ensemble algorithms. The analysis for the ensemble algorithm will focus on the HAMF android phones and the HAHF iOS phones."
   ]
  },
  {
   "cell_type": "markdown",
   "id": "01c045fb",
   "metadata": {},
   "source": [
    "## Dependencies"
   ]
  },
  {
   "cell_type": "code",
   "execution_count": null,
   "id": "75b2c0fe",
   "metadata": {},
   "outputs": [],
   "source": [
    "# for reading and validating data\n",
    "import emeval.input.spec_details as eisd\n",
    "import emeval.input.phone_view as eipv\n",
    "import emeval.input.eval_view as eiev"
   ]
  },
  {
   "cell_type": "code",
   "execution_count": null,
   "id": "ef7ea7c3",
   "metadata": {},
   "outputs": [],
   "source": [
    "import emeval.viz.phone_view as ezpv\n",
    "import emeval.viz.eval_view as ezev\n",
    "import emeval.viz.geojson as ezgj"
   ]
  },
  {
   "cell_type": "code",
   "execution_count": null,
   "id": "08f1c6a7",
   "metadata": {},
   "outputs": [],
   "source": [
    "# for analysized view\n",
    "import emeval.analysed.phone_view as eapv"
   ]
  },
  {
   "cell_type": "code",
   "execution_count": null,
   "id": "d3c817fd",
   "metadata": {},
   "outputs": [],
   "source": [
    "import emeval.metrics.segmentation as ems"
   ]
  },
  {
   "cell_type": "code",
   "execution_count": null,
   "id": "25aba739",
   "metadata": {},
   "outputs": [],
   "source": [
    "# Metrics helpers\n",
    "import emeval.metrics.dist_calculations as emd\n",
    "import emeval.metrics.reference_trajectory as emr"
   ]
  },
  {
   "cell_type": "code",
   "execution_count": null,
   "id": "234c622b",
   "metadata": {},
   "outputs": [],
   "source": [
    "import pandas as pd\n",
    "pd.options.display.float_format = '{:.6f}'.format\n",
    "import arrow"
   ]
  },
  {
   "cell_type": "code",
   "execution_count": null,
   "id": "748b57dd",
   "metadata": {},
   "outputs": [],
   "source": [
    "import numpy as np\n",
    "import scipy as sp\n",
    "import scipy.interpolate\n",
    "import scipy.integrate"
   ]
  },
  {
   "cell_type": "code",
   "execution_count": null,
   "id": "30c83454",
   "metadata": {},
   "outputs": [],
   "source": [
    "# For plots\n",
    "import itertools\n",
    "import matplotlib.pyplot as plt\n",
    "%matplotlib inline"
   ]
  },
  {
   "cell_type": "code",
   "execution_count": null,
   "id": "b32ef879",
   "metadata": {},
   "outputs": [],
   "source": [
    "# For maps\n",
    "import geopandas as gpd\n",
    "import shapely as shp\n",
    "import folium\n",
    "import branca.element as bre"
   ]
  },
  {
   "cell_type": "code",
   "execution_count": null,
   "id": "ce7ef8a6",
   "metadata": {},
   "outputs": [],
   "source": [
    "# For easier debugging while working on modules\n",
    "import importlib"
   ]
  },
  {
   "cell_type": "code",
   "execution_count": null,
   "id": "b30cdf85",
   "metadata": {},
   "outputs": [],
   "source": [
    "import arrow"
   ]
  },
  {
   "cell_type": "code",
   "execution_count": null,
   "id": "c45d91ee",
   "metadata": {},
   "outputs": [],
   "source": [
    "def pv_to_pkl(pv, pkl_file_name):\n",
    "    if type(pv) is not list: pv = [pv]\n",
    "    import pickle\n",
    "    with open(pkl_file_name, 'wb') as outp:\n",
    "        for pv in pv_l:\n",
    "            pickle.dump(pv, outp, pickle.HIGHEST_PROTOCOL)"
   ]
  },
  {
   "cell_type": "code",
   "execution_count": null,
   "id": "fceb9e2b",
   "metadata": {},
   "outputs": [],
   "source": [
    "def import_sd_and_pv_from_server(trips  = [\"unimodal_trip_car_bike_mtv_la\", \"car_scooter_brex_san_jose\", \"train_bus_ebike_mtv_ucb\"], \n",
    "                                 AUTHOR_EMAIL  = \"shankari@eecs.berkeley.edu\", \n",
    "                                 DATASTORE_LOC = \"http://localhost:8080\", \n",
    "                                 pkl_file_name = None):\n",
    "    sd_l = []\n",
    "    pv_l = []\n",
    "    for trip in trips:\n",
    "        sd = eisd.ServerSpecDetails(DATASTORE_LOC, AUTHOR_EMAIL, trip)\n",
    "        pv = eipv.PhoneView(sd)\n",
    "        sd_l.append(sd)\n",
    "        pv_l.append(pv)\n",
    "    if pkl_file_name:\n",
    "        import pickle\n",
    "        with open(pkl_file_name, 'wb') as outp:\n",
    "            for pv in pv_l:\n",
    "                pickle.dump(pv, outp, pickle.HIGHEST_PROTOCOL)\n",
    "    return sd_l, pv_l"
   ]
  },
  {
   "cell_type": "code",
   "execution_count": null,
   "id": "748bad00",
   "metadata": {},
   "outputs": [],
   "source": [
    "def import_pv_from_pkl(pkl_file_name, \n",
    "                       trips = [\"unimodal_trip_car_bike_mtv_la\", \"car_scooter_brex_san_jose\", \"train_bus_ebike_mtv_ucb\"]):\n",
    "    import pickle\n",
    "    pv_l = []\n",
    "    with open('pv.pkl', 'rb') as inp:\n",
    "        for trip in trips:\n",
    "            pv_l.append(pickle.load(inp))\n",
    "    return pv_l"
   ]
  },
  {
   "cell_type": "code",
   "execution_count": null,
   "id": "f5f7a461",
   "metadata": {},
   "outputs": [],
   "source": [
    "(pv_la, pv_sj, pv_ucb) = import_pv_from_pkl('pv.pkl')"
   ]
  },
  {
   "cell_type": "markdown",
   "id": "be3b7b48",
   "metadata": {},
   "source": [
    "### Get the sensed data for each trip"
   ]
  },
  {
   "cell_type": "code",
   "execution_count": null,
   "id": "ed5b7353",
   "metadata": {},
   "outputs": [],
   "source": [
    "%%capture\n",
    "ems.fill_sensed_section_ranges(pv_la)\n",
    "ems.fill_sensed_section_ranges(pv_sj)\n",
    "ems.fill_sensed_section_ranges(pv_ucb)"
   ]
  },
  {
   "cell_type": "markdown",
   "id": "5425a4a7",
   "metadata": {},
   "source": [
    "## Get sensed timeline"
   ]
  },
  {
   "cell_type": "code",
   "execution_count": null,
   "id": "d90fa1c5",
   "metadata": {},
   "outputs": [],
   "source": [
    "def get_trip_ss_and_gts_timeline(pv, os, role):\n",
    "    assert os in ['android', 'ios'], 'UNKNOWN OS'\n",
    "    assert role in ['accuracy_control', 'HAHFDC', 'HAMFDC', 'MAHFDC', 'power_control'], \"UNKNOWN ROLE\"\n",
    "    trips = []\n",
    "    for phone_os, phone_map in pv.map().items():\n",
    "        if os != phone_os:\n",
    "            continue\n",
    "        for phone_label, phone_detail_map in phone_map.items():\n",
    "            if \"control\" in phone_detail_map[\"role\"]:\n",
    "                continue\n",
    "            for r in phone_detail_map[\"evaluation_ranges\"]:\n",
    "                if r['eval_role_base'] != role:\n",
    "                    continue\n",
    "                for tr in r[\"evaluation_trip_ranges\"]:\n",
    "                    tr_ss  = []\n",
    "                    tr_gts = []\n",
    "                    for ss in tr[\"sensed_section_ranges\"]:\n",
    "                        tr_ss.append(ss)\n",
    "                    for section in tr[\"evaluation_section_ranges\"]:\n",
    "                        section_gt_leg = pv.spec_details.get_ground_truth_for_leg(tr['trip_id_base'],\n",
    "                                                                                  section['trip_id_base'],\n",
    "                                                                                  tr['start_ts'],\n",
    "                                                                                  tr['end_ts'])\n",
    "                        \n",
    "                        if section_gt_leg[\"type\"] == \"WAITING\":\n",
    "                            continue\n",
    "                        gts = {'start_ts': section['start_ts'], \n",
    "                               'end_ts': section['end_ts'], \n",
    "                               'mode': section_gt_leg['mode']}\n",
    "                        tr_gts.append(gts)\n",
    "                    # now, we build a timeline for each trip\n",
    "                    trip = tr.copy()\n",
    "                    trip['ss_timeline']  = tr_ss\n",
    "                    trip['gts_timeline'] = tr_gts\n",
    "                    trips.append(trip)\n",
    "    return trips"
   ]
  },
  {
   "cell_type": "markdown",
   "id": "20bb504d",
   "metadata": {},
   "source": [
    "## Binary Classification (in seconds)"
   ]
  },
  {
   "cell_type": "markdown",
   "id": "ddf4365a",
   "metadata": {},
   "source": [
    "#### rab base mode map"
   ]
  },
  {
   "cell_type": "code",
   "execution_count": null,
   "id": "48d898ab",
   "metadata": {},
   "outputs": [],
   "source": [
    "RBMM = {     \"WALKING\": \"WALKING\",\n",
    "             \"RUNNING\" : \"WALKING\", \n",
    "             \"CYCLING\" : \"CYCLING\",\n",
    "             \"BICYCLING\": \"CYCLING\",\n",
    "             \"ESCOOTER\": \"CYCLING\", \n",
    "             \"AUTOMOTIVE\" : \"AUTOMOTIVE\",\n",
    "             \"BUS\": \"AUTOMOTIVE\",\n",
    "             \"TRAIN\": \"AUTOMOTIVE\",\n",
    "             \"LIGHT_RAIL\": \"AUTOMOTIVE\",\n",
    "             \"SUBWAY\": \"AUTOMOTIVE\",\n",
    "             \"CAR\": \"AUTOMOTIVE\",\n",
    "             \"AIR_OR_HSR\": \"AUTOMOTIVE\",\n",
    "             \"INVALID\" : \"INVALID\"}"
   ]
  },
  {
   "cell_type": "markdown",
   "id": "589fc525",
   "metadata": {},
   "source": [
    "#### cleaned base mode map\n",
    "\n",
    "e-mission-server.emission.core.wrapper.motionactivity.py"
   ]
  },
  {
   "cell_type": "code",
   "execution_count": null,
   "id": "8dc453b2",
   "metadata": {},
   "outputs": [],
   "source": [
    "CBMM = {0 : 'AUTOMOTIVE', \n",
    "        1 : 'CYCLING', \n",
    "        2 : 'WALKING', \n",
    "        3 : 'WALKING', \n",
    "        4 : 'UNKNOWN', \n",
    "        5 : 'WALKING', \n",
    "        7 : 'WALKING', \n",
    "        8 : 'WALKING', \n",
    "        9 : 'UNKNOWN', \n",
    "        10 : 'AUTOMOTIVE', \n",
    "        11 : 'AIR_OR_HSR', \n",
    "         \"WALKING\": \"WALKING\",\n",
    "         \"RUNNING\" : \"WALKING\", \n",
    "         \"CYCLING\" : \"CYCLING\",\n",
    "         \"BICYCLING\": \"CYCLING\",\n",
    "         \"ESCOOTER\": \"CYCLING\", \n",
    "         \"AUTOMOTIVE\" : \"AUTOMOTIVE\",\n",
    "         \"BUS\": \"AUTOMOTIVE\",\n",
    "         \"TRAIN\": \"AUTOMOTIVE\",\n",
    "         \"LIGHT_RAIL\": \"AUTOMOTIVE\",\n",
    "         \"SUBWAY\": \"AUTOMOTIVE\",\n",
    "         \"CAR\": \"AUTOMOTIVE\",\n",
    "         \"AIR_OR_HSR\": \"AIR_OR_HSR\",\n",
    "         \"INVALID\" : \"INVALID\", \n",
    "         \"UNKNOWN\" : \"UNKNOWN\"}"
   ]
  },
  {
   "cell_type": "markdown",
   "id": "a4f3dfff",
   "metadata": {},
   "source": [
    "#### inferred base mode map\n",
    "\n",
    "e-mission-server.emission.core.wrapper.modeprediction.py"
   ]
  },
  {
   "cell_type": "code",
   "execution_count": null,
   "id": "59c93a44",
   "metadata": {},
   "outputs": [],
   "source": [
    "IBMM = {0 : 'UNKNOWN',    # UNKNOWN\n",
    "        1 : 'WALKING',    # WALKING\n",
    "        2 : 'CYCLING',    # BICYCLING\n",
    "        3 : 'AUTOMOTIVE', # BUS\n",
    "        4 : 'TRAIN',      # TRAIN\n",
    "        5 : 'AUTOMOTIVE', # CAR\n",
    "        6 : 'TRAIN',      # AIR_OR_HSR\n",
    "        7 : 'TRAIN',      # SUBWAY\n",
    "        8 : 'TRAIN',      # TRAM\n",
    "        9 : 'TRAIN',      # LIGHT_RAIL\n",
    "         \"WALKING\": \"WALKING\",\n",
    "         \"RUNNING\" : \"WALKING\", \n",
    "         \"CYCLING\" : \"CYCLING\",\n",
    "         \"BICYCLING\": \"CYCLING\",\n",
    "         \"ESCOOTER\": \"CYCLING\", \n",
    "         \"AUTOMOTIVE\" : \"AUTOMOTIVE\",\n",
    "         \"BUS\": \"AUTOMOTIVE\",\n",
    "         \"TRAIN\": \"TRAIN\",\n",
    "         \"LIGHT_RAIL\": \"TRAIN\",\n",
    "         \"SUBWAY\": \"TRAIN\",\n",
    "         \"CAR\": \"AUTOMOTIVE\",\n",
    "         \"AIR_OR_HSR\": \"TRAIN\",\n",
    "         \"INVALID\" : \"INVALID\", \n",
    "         \"UNKNOWN\" : \"UNKNOWN\"}"
   ]
  },
  {
   "cell_type": "code",
   "execution_count": null,
   "id": "1a9b89d4",
   "metadata": {},
   "outputs": [],
   "source": [
    "def get_binary_class_in_sec(os, role, pv, BASE_MODE, test=False, test_trip=None):\n",
    "    if not test:\n",
    "        if type(pv) is not list: pv = [pv]\n",
    "        trips = []\n",
    "        for v in pv:\n",
    "            trips.extend(get_trip_ss_and_gts_timeline(v, os, role))\n",
    "    else:\n",
    "        trips = test_trip if type(test_trip) is list else [test_trip]\n",
    "    TP, FN, FP, TN = {}, {}, {}, {}\n",
    "    for trip in trips:\n",
    "        for mode in set(BASE_MODE.values()):\n",
    "            # get no sensed for a given mode \n",
    "            #### Note, this relies on the assumption that our timelines are always ordered\n",
    "            if len(trip['ss_timeline']) > 0 and len(trip['gts_timeline']) > 0:\n",
    "                no_sensed_start = 0\n",
    "                no_sensed_end = 0\n",
    "                try:\n",
    "                    no_sensed_start = max(0, trip['ss_timeline'][0]['start_ts'] - trip['gts_timeline'][0]['start_ts']) \n",
    "                    no_sensed_end = max(0, trip['gts_timeline'][-1]['end_ts'] - trip['ss_timeline'][-1]['end_ts'])\n",
    "                except:\n",
    "                    no_sensed_start = max(0, trip['ss_timeline'][0]['data']['start_ts'] - trip['gts_timeline'][0]['start_ts'])\n",
    "                    no_sensed_end += max(0, trip['gts_timeline'][-1]['end_ts'] - trip['ss_timeline'][-1]['data']['end_ts'])\n",
    "                if mode == 'INVALID':\n",
    "                    FP[mode] = no_sensed_end + no_sensed_start\n",
    "                elif mode == BASE_MODE[trip['gts_timeline'][0]['mode']] and mode == BASE_MODE[trip['gts_timeline'][-1]['mode']]:\n",
    "                    FN[mode] = FN.setdefault(mode, 0) + no_sensed_start + no_sensed_end\n",
    "                elif mode == BASE_MODE[trip['gts_timeline'][0]['mode']]:\n",
    "                    FN[mode] = FN.setdefault(mode, 0) + no_sensed_start\n",
    "                    TN[mode] = TN.setdefault(mode, 0) + no_sensed_end\n",
    "                elif mode == BASE_MODE[trip['gts_timeline'][-1]['mode']]:\n",
    "                    FN[mode] = FN.setdefault(mode, 0) + no_sensed_end\n",
    "                    TN[mode] = TN.setdefault(mode, 0) + no_sensed_start\n",
    "                else:\n",
    "                    TN[mode] = TN.setdefault(mode, 0) + no_sensed_start + no_sensed_end\n",
    "#                 if mode == 'INVALID':\n",
    "#                     FP[mode] = no_sensed_end + no_sensed_start\n",
    "#                 elif mode == BASE_MODE[trip['gts_timeline'][0]['mode']]:\n",
    "#                     # False Negative\n",
    "#                     FN[mode] = FN.setdefault(mode, 0) + no_sensed_start\n",
    "#                 elif mode == BASE_MODE[trip['gts_timeline'][-1]['mode']]:\n",
    "#                     FN[mode] = FN.setdefault(mode, 0) + no_sensed_end\n",
    "#                 else:\n",
    "#                     TN[mode] = TN.setdefault(mode, 0) + no_sensed_start\n",
    "            for ss in trip['ss_timeline']:\n",
    "#                 print(ss.keys())\n",
    "                if 'data' in ss.keys():\n",
    "                    ss = ss['data']\n",
    "                    ss['mode'] = ss['sensed_mode']\n",
    "                ss_dur = ss['end_ts'] - ss['start_ts']\n",
    "                gts_dur = 0\n",
    "                for gts in trip['gts_timeline']:\n",
    "                    if ss['end_ts'] >= gts['start_ts'] and ss['start_ts'] <= gts['end_ts']:\n",
    "                        dur = min(ss['end_ts'], gts['end_ts']) - max(ss['start_ts'], gts['start_ts'])\n",
    "                        gts_dur += dur\n",
    "                        if BASE_MODE[mode] == BASE_MODE[ss['mode']] and BASE_MODE[mode] == BASE_MODE[gts['mode']]:\n",
    "                            TP[mode] = TP.setdefault(mode, 0) + dur\n",
    "                        elif BASE_MODE[mode] == BASE_MODE[ss['mode']] and BASE_MODE[mode] != BASE_MODE[gts['mode']]:\n",
    "                            FP[mode] = FP.setdefault(mode, 0) + dur\n",
    "                        elif BASE_MODE[mode] != BASE_MODE[ss['mode']] and BASE_MODE[mode] == BASE_MODE[gts['mode']]:\n",
    "                            FN[mode] = FN.setdefault(mode, 0) + dur\n",
    "                        else:\n",
    "                            TN[mode] = TN.setdefault(mode, 0) + dur\n",
    "                leftover = ss_dur - gts_dur\n",
    "                assert leftover >= 0, f\"ERROR, NEGATIVE LEFTOVER OF {leftover}, NEED TO INVESTIGATE\"\n",
    "                if leftover > 0:\n",
    "                    # invalid base mode maps to NO_GT mode\n",
    "                    if mode == 'INVALID':\n",
    "                        FN[mode] = TP.setdefault(mode, 0) + leftover\n",
    "                    # We have no gts, but our modes are equal, so a false positive\n",
    "                    elif BASE_MODE[mode] == BASE_MODE[ss['mode']]:\n",
    "                        FP[mode] = FP.setdefault(mode, 0) + leftover\n",
    "                    # We have no_gts, but our modes are unequal, so a true negative\n",
    "                    else:\n",
    "                        TN[mode] = TN.setdefault(mode, 0) + leftover\n",
    "    return TP, FP, FN, TN"
   ]
  },
  {
   "cell_type": "markdown",
   "id": "7a496827",
   "metadata": {},
   "source": [
    "# $F_\\beta$ score\n",
    "$$\n",
    "F_\\beta = \\frac {(1 + \\beta^2) \\cdot \\mathrm{true\\ positive} }{(1 + \\beta^2) \\cdot \\mathrm{true\\ positive} + \\beta^2 \\cdot \\mathrm{false\\ negative} + \\mathrm{false\\ positive}}\n",
    "$$"
   ]
  },
  {
   "cell_type": "code",
   "execution_count": null,
   "id": "62b79f82",
   "metadata": {},
   "outputs": [],
   "source": [
    "def get_F_score(os, role, pv, BASE_MODE, beta=1, test=False, test_trip=None):\n",
    "    if not test:\n",
    "        assert os in ['android', 'ios'], 'UNKNOWN OS'\n",
    "        assert role in ['accuracy_control', 'HAHFDC', 'HAMFDC', 'MAHFDC', 'power_control'], \"UNKNOWN ROLE\"\n",
    "        (TP, FP, FN, TN) = get_binary_class_in_sec(os, role, pv, BASE_MODE)\n",
    "    else:\n",
    "        (TP, FP, FN, TN) = get_binary_class_in_sec(os, role, pv, BASE_MODE, test=True, test_trip=test_trip)\n",
    "    F_score = {}\n",
    "    for mode in TP.keys():\n",
    "        numerator   = (1 + beta**2) * TP.setdefault(mode, 0)\n",
    "        denominator = (1+beta**2) * TP.setdefault(mode, 0) + beta**2*FN.setdefault(mode, 0) + FP.setdefault(mode, 0)\n",
    "        F_score[mode] = (numerator)/(denominator)\n",
    "    # initializing K \n",
    "    K = 10\n",
    "    for key in F_score:\n",
    "\n",
    "        # rounding to K using round()\n",
    "        F_score[key] = round(F_score[key], K)\n",
    "    return F_score"
   ]
  },
  {
   "cell_type": "code",
   "execution_count": null,
   "id": "1dc6ef95",
   "metadata": {},
   "outputs": [],
   "source": [
    "def display_f_score(os, pv, BASE_MODE):\n",
    "    return (pd.DataFrame([ (k, round(get_F_score(os, 'HAHFDC', pv, BASE_MODE, beta=1)[k], 4)) for k in get_F_score(os, 'HAHFDC', pv, BASE_MODE, beta=1)]).round(4),\n",
    "            pd.DataFrame([ (k, round(get_F_score(os, 'HAMFDC', pv, BASE_MODE, beta=1)[k], 4)) for k in get_F_score(os, 'HAMFDC', pv, BASE_MODE, beta=1)]).round(4),\n",
    "            pd.DataFrame([ (k, round(get_F_score(os, 'MAHFDC', pv, BASE_MODE, beta=1)[k], 4)) for k in get_F_score(os, 'MAHFDC', pv, BASE_MODE, beta=1)]).round(4)\n",
    "            )"
   ]
  },
  {
   "cell_type": "markdown",
   "id": "68f62c54",
   "metadata": {},
   "source": [
    "## Confusion Matrix\n",
    "We will now generate confusion matrices based off OS and role, with the acctual modes as the rows, the predicted modes as the columns, and the entries as the base unit for the duration measurement"
   ]
  },
  {
   "cell_type": "markdown",
   "id": "bbc1042a",
   "metadata": {},
   "source": [
    "#### cleaned index map"
   ]
  },
  {
   "cell_type": "code",
   "execution_count": null,
   "id": "992c1963",
   "metadata": {},
   "outputs": [],
   "source": [
    "CIM = {0 : 'IN_VEHICLE', \n",
    "       1 : 'BICYCLING', \n",
    "       2 : 'ON_FOOT', \n",
    "       3 : 'STILL', \n",
    "       4 : 'UNKNOWN', \n",
    "       5 : 'TILTING', \n",
    "       7 : 'WALKING', \n",
    "       8 : 'RUNNING', \n",
    "       9 : 'NONE', \n",
    "       10 : 'STOPPED_WHILE_IN_VEHICLE', \n",
    "       11 : 'AIR_OR_HSR'}"
   ]
  },
  {
   "cell_type": "markdown",
   "id": "63f8564e",
   "metadata": {},
   "source": [
    "#### inferred index map"
   ]
  },
  {
   "cell_type": "code",
   "execution_count": null,
   "id": "e0d97331",
   "metadata": {},
   "outputs": [],
   "source": [
    "IIM = {\n",
    "    0 : 'UNKNOWN', \n",
    "    1 : 'WALKING', \n",
    "    2 : 'BICYCLING', \n",
    "    3 : 'BUS', \n",
    "    4 : 'TRAIN', \n",
    "    5 : 'CAR', \n",
    "    6 : 'AIR_OR_HSR',\n",
    "    7 : 'SUBWAY',\n",
    "    8 : 'TRAM',\n",
    "    9 : 'LIGHT_RAIL'\n",
    "}"
   ]
  },
  {
   "cell_type": "code",
   "execution_count": null,
   "id": "60bd0e63",
   "metadata": {},
   "outputs": [],
   "source": [
    "def get_confusion_matrix(os, role, pv, test=False, test_trip=None):\n",
    "    cm_l = []\n",
    "    if not test:\n",
    "        assert os in ['android', 'ios'], 'UNKNOWN OS'\n",
    "        assert role in ['accuracy_control', 'HAHFDC', 'HAMFDC', 'MAHFDC', 'power_control'], \"UNKNOWN ROLE\"\n",
    "        if type(pv) is not list:\n",
    "            pv = [pv]\n",
    "        trips = []\n",
    "        for v in pv :\n",
    "            trips.extend(get_trip_ss_and_gts_timeline(v, os, role))\n",
    "    else:\n",
    "        trips = test_trip if type(test_trip) is list else [test_trip]\n",
    "    for trip in trips:\n",
    "        ## get no sensed\n",
    "        if len(trip['ss_timeline']) > 0 and len(trip['gts_timeline']) > 0:\n",
    "            no_sensed_start = 0\n",
    "            no_sensed_end = 0\n",
    "            try:\n",
    "                no_sensed_start = max(0, trip['ss_timeline'][0]['start_ts'] - trip['gts_timeline'][0]['start_ts']) \n",
    "                no_sensed_end = max(0, trip['gts_timeline'][-1]['end_ts'] - trip['ss_timeline'][-1]['end_ts'])\n",
    "            except:\n",
    "                no_sensed_start = max(0, trip['ss_timeline'][0]['data']['start_ts'] - trip['gts_timeline'][0]['start_ts'])\n",
    "                no_sensed_end += max(0, trip['gts_timeline'][-1]['end_ts'] - trip['ss_timeline'][-1]['data']['end_ts'])\n",
    "            if no_sensed_start:\n",
    "                ns = {'sensed_mode' : 'NO_SENSED', trip['gts_timeline'][0]['mode'] : no_sensed_start}\n",
    "                cm_l.append(ns)\n",
    "            if no_sensed_end:\n",
    "                ns = {'sensed_mode' : 'NO_SENSED', trip['gts_timeline'][-1]['mode'] : no_sensed_end}\n",
    "                cm_l.append(ns)\n",
    "        for ss in trip['ss_timeline']:\n",
    "            if 'data' in ss.keys():\n",
    "                ss = ss['data']\n",
    "                ss['mode'] = ss['sensed_mode']\n",
    "            ss_dur = ss['end_ts'] - ss['start_ts']\n",
    "            gts_dur = 0\n",
    "            cm = {}\n",
    "            for gts in trip['gts_timeline']:\n",
    "                dur = 0\n",
    "                if ss['end_ts'] >= gts['start_ts'] and ss['start_ts'] <= gts['end_ts']:\n",
    "                    dur = min(ss['end_ts'], gts['end_ts']) - max(ss['start_ts'], gts['start_ts'])\n",
    "                    \n",
    "                gts_dur += dur\n",
    "                cm[gts['mode']] = cm.setdefault(gts['mode'], 0) + dur\n",
    "            leftover = ss_dur - gts_dur\n",
    "            assert leftover >= 0, f\"ERROR, NEGATIVE LEFTOVER OF {leftover}, NEED TO INVESTIGATE\"\n",
    "            cm['NO_GT'] = cm.setdefault('NO_GT', 0) + leftover\n",
    "            cm['sensed_mode'] = ss['mode']\n",
    "            \n",
    "            cm_l.append(cm)\n",
    "    return cm_l"
   ]
  },
  {
   "cell_type": "code",
   "execution_count": null,
   "id": "2f969e0e",
   "metadata": {},
   "outputs": [],
   "source": [
    "def plot_cm(os, pv, d_type, INDEX_MAP=None):\n",
    "    fig, ax = plt.subplots(1,3, figsize=(15,15), dpi=300, sharey=True)\n",
    "    y=.95\n",
    "    fig.text(0.5, 0.04, 'Predicted Label', ha='center', fontsize='xx-large')\n",
    "    fig.text(0.04, 0.5, 'True Label', va='center', rotation='vertical', fontsize='xx-large')\n",
    "    for k, role in enumerate([\"HAHFDC\", \"HAMFDC\", \"MAHFDC\"]):\n",
    "        if d_type =='raw':\n",
    "            title = f\"Confusion Matrices for Raw Output Data on Phones Running {os} \\n by Calibration Settings\"\n",
    "            df = pd.DataFrame(get_confusion_matrix(os, role, pv)).groupby('sensed_mode').sum()\n",
    "            fname = f\"images/raw_cm_{os}\"\n",
    "        elif d_type == 'clean':\n",
    "            title = f\"Confusion Matrices for Clean Output Data on Phones Running {os} \\n by Calibration Settings\"\n",
    "            df = pd.DataFrame(get_confusion_matrix(os, role, pv)).groupby('sensed_mode').sum().rename(index=INDEX_MAP)\n",
    "            fname = f\"images/clean_cm_{os}\"\n",
    "        elif d_type == 'random_forest' or 'gis':\n",
    "            df = pd.DataFrame(get_confusion_matrix(os, role, pv)).groupby('sensed_mode').sum().rename(index=INDEX_MAP)\n",
    "            fname = f\"images/{d_type}_cm_{os}\"\n",
    "            if d_type == 'random_forest':\n",
    "                title = f\"Confusion Matrices for Inferred Output Data (Random Forest) on Phones Running {os} \\n by Calibration Settings\"\n",
    "            else:\n",
    "                title = f\"Confusion Matrices for Inferred Output Data (GIS) on Phones Running {os} \\n by Calibration Settings\"\n",
    "        else:\n",
    "            assert 0, f'INVALID d_type {d_type}'\n",
    "        df = df.reindex(columns=['WALKING', 'BICYCLING', 'ESCOOTER', 'CAR', 'BUS', 'SUBWAY', 'LIGHT_RAIL', 'TRAIN', 'NO_GT'])\n",
    "#         df = df.div(df.sum(axis=1), axis=0)\n",
    "        cm = ax[k].imshow(df.transpose(), interpolation='nearest',  cmap=plt.cm.coolwarm, aspect='auto')\n",
    "        ax[k].set_title(role)\n",
    "    #     plt.colorbar(cm, ax=ax[0])\n",
    "        tick_marks = np.arange(len(df))\n",
    "        ax[k].set_yticks(np.arange(len(df.columns)))\n",
    "        ax[k].set_xticks(np.arange(len(df)))\n",
    "        ax[k].set_yticklabels(df)\n",
    "        ax[k].set_xticklabels(df.index, rotation=80)\n",
    "        color_thresh = df.max().max() / 4\n",
    "        for i, j in itertools.product(range(df.shape[1]), range(df.shape[0])  ):\n",
    "            ax[k].text(j, i, (int(df.transpose().iat[i,j])), horizontalalignment='center', \n",
    "                   color='white' \n",
    "                       if df.transpose().iat[i,j] < color_thresh \n",
    "#                            or df.transpose().iat[i,j] in df.max()\n",
    "                       else 'black')\n",
    "    fig.subplots_adjust(right=0.8)\n",
    "    cbar_ax = fig.add_axes([0.85, 0.15, 0.05, 0.7])\n",
    "    fig.colorbar(cm, cax=cbar_ax)\n",
    "    plt.suptitle(title, weight='bold', size='x-large', y=y)\n",
    "    plt.savefig(fname=fname)"
   ]
  },
  {
   "cell_type": "markdown",
   "id": "09b4ab8e",
   "metadata": {},
   "source": [
    "## Analyzed Data"
   ]
  },
  {
   "cell_type": "markdown",
   "id": "eccd4179",
   "metadata": {},
   "source": [
    "#### cleaned view"
   ]
  },
  {
   "cell_type": "code",
   "execution_count": null,
   "id": "87a082a4",
   "metadata": {
    "scrolled": true
   },
   "outputs": [],
   "source": [
    "cv_la   = eapv.create_analysed_view(pv_la, \"http://localhost:8080\", \"analysis/recreated_location\", \"analysis/cleaned_trip\", \"analysis/cleaned_section\")\n",
    "cv_sj   = eapv.create_analysed_view(pv_sj, \"http://localhost:8080\", \"analysis/recreated_location\", \"analysis/cleaned_trip\", \"analysis/cleaned_section\")\n",
    "cv_ucb  = eapv.create_analysed_view(pv_ucb, \"http://localhost:8080\", \"analysis/recreated_location\", \"analysis/cleaned_trip\", \"analysis/cleaned_section\")"
   ]
  },
  {
   "cell_type": "markdown",
   "id": "3bc72d77",
   "metadata": {},
   "source": [
    "#### inferred view random forest"
   ]
  },
  {
   "cell_type": "code",
   "execution_count": null,
   "id": "7ea612f9",
   "metadata": {},
   "outputs": [],
   "source": [
    "rfv_la   = eapv.create_analysed_view(pv_la, \"http://localhost:8080\", \"analysis/recreated_location\", \"analysis/cleaned_trip\", \"analysis/inferred_section\")\n",
    "rfv_sj   = eapv.create_analysed_view(pv_sj, \"http://localhost:8080\", \"analysis/recreated_location\", \"analysis/cleaned_trip\", \"analysis/inferred_section\")\n",
    "rfv_ucb  = eapv.create_analysed_view(pv_ucb, \"http://localhost:8080\", \"analysis/recreated_location\", \"analysis/cleaned_trip\", \"analysis/inferred_section\")"
   ]
  },
  {
   "cell_type": "markdown",
   "id": "f3e5f2ef",
   "metadata": {},
   "source": [
    "#### inferred view GIS"
   ]
  },
  {
   "cell_type": "code",
   "execution_count": null,
   "id": "73e84299",
   "metadata": {},
   "outputs": [],
   "source": [
    "gisv_la   = eapv.create_analysed_view(pv_la, \"http://localhost:8080\", \"analysis/recreated_location\", \"analysis/cleaned_trip\", \"analysis/inferred_section\")\n",
    "gisv_sj   = eapv.create_analysed_view(pv_sj, \"http://localhost:8080\", \"analysis/recreated_location\", \"analysis/cleaned_trip\", \"analysis/inferred_section\")\n",
    "gisv_ucb  = eapv.create_analysed_view(pv_ucb, \"http://localhost:8080\", \"analysis/recreated_location\", \"analysis/cleaned_trip\", \"analysis/inferred_section\")"
   ]
  },
  {
   "cell_type": "markdown",
   "id": "1ccea244",
   "metadata": {},
   "source": [
    "# Results "
   ]
  },
  {
   "cell_type": "markdown",
   "id": "728bb6ab",
   "metadata": {},
   "source": [
    "#### Raw data"
   ]
  },
  {
   "cell_type": "code",
   "execution_count": null,
   "id": "5d16f2d9",
   "metadata": {},
   "outputs": [],
   "source": [
    "display_f_score('android', [pv_la, pv_sj, pv_ucb], RBMM)"
   ]
  },
  {
   "cell_type": "code",
   "execution_count": null,
   "id": "e3fa912b",
   "metadata": {},
   "outputs": [],
   "source": [
    "display_f_score('ios', [pv_la, pv_sj, pv_ucb], RBMM)"
   ]
  },
  {
   "cell_type": "code",
   "execution_count": null,
   "id": "e806c418",
   "metadata": {},
   "outputs": [],
   "source": [
    "plot_cm('ios', [pv_la, pv_sj, pv_ucb], 'raw')"
   ]
  },
  {
   "cell_type": "code",
   "execution_count": null,
   "id": "463edab6",
   "metadata": {},
   "outputs": [],
   "source": [
    "plot_cm('android', [pv_la, pv_sj, pv_ucb], 'raw')"
   ]
  },
  {
   "cell_type": "markdown",
   "id": "92124deb",
   "metadata": {},
   "source": [
    "#### Cleaned data"
   ]
  },
  {
   "cell_type": "code",
   "execution_count": null,
   "id": "aa6f8e99",
   "metadata": {},
   "outputs": [],
   "source": [
    "display_f_score('android', [cv_la, cv_sj, cv_ucb], CBMM)"
   ]
  },
  {
   "cell_type": "code",
   "execution_count": null,
   "id": "7b3db628",
   "metadata": {},
   "outputs": [],
   "source": [
    "display_f_score('ios', [cv_la, cv_sj, cv_ucb], CBMM)"
   ]
  },
  {
   "cell_type": "code",
   "execution_count": null,
   "id": "058dc35c",
   "metadata": {},
   "outputs": [],
   "source": [
    "plot_cm('ios', [cv_la, cv_sj, cv_ucb], 'clean', CIM)"
   ]
  },
  {
   "cell_type": "code",
   "execution_count": null,
   "id": "842139b4",
   "metadata": {},
   "outputs": [],
   "source": [
    "plot_cm('android', [cv_la, cv_sj, cv_ucb], 'clean', CIM)"
   ]
  },
  {
   "cell_type": "markdown",
   "id": "ab27c65e",
   "metadata": {},
   "source": [
    "#### Random Forrest"
   ]
  },
  {
   "cell_type": "code",
   "execution_count": null,
   "id": "ce81be62",
   "metadata": {},
   "outputs": [],
   "source": [
    "display_f_score('android', [rfv_la, rfv_sj, rfv_ucb], IBMM)"
   ]
  },
  {
   "cell_type": "code",
   "execution_count": null,
   "id": "904c8658",
   "metadata": {},
   "outputs": [],
   "source": [
    "display_f_score('ios', [rfv_la, rfv_sj, rfv_ucb], IBMM)"
   ]
  },
  {
   "cell_type": "code",
   "execution_count": null,
   "id": "ab3bdf7f",
   "metadata": {},
   "outputs": [],
   "source": [
    "plot_cm('ios', [rfv_la,rfv_sj,rfv_ucb], 'random_forest', INDEX_MAP=IIM)"
   ]
  },
  {
   "cell_type": "code",
   "execution_count": null,
   "id": "e826728f",
   "metadata": {},
   "outputs": [],
   "source": [
    "plot_cm('android', [rfv_la,rfv_sj,rfv_ucb], 'random_forest', INDEX_MAP=IIM)"
   ]
  },
  {
   "cell_type": "markdown",
   "id": "b03a27cd",
   "metadata": {},
   "source": [
    "#### GIS"
   ]
  },
  {
   "cell_type": "code",
   "execution_count": null,
   "id": "841f929d",
   "metadata": {},
   "outputs": [],
   "source": [
    "display_f_score('android', [gisv_la, gisv_sj, gisv_ucb], IBMM)"
   ]
  },
  {
   "cell_type": "code",
   "execution_count": null,
   "id": "90d1079d",
   "metadata": {},
   "outputs": [],
   "source": [
    "display_f_score('ios', [gisv_la, gisv_sj, gisv_ucb], IBMM)"
   ]
  },
  {
   "cell_type": "code",
   "execution_count": null,
   "id": "5882e9df",
   "metadata": {},
   "outputs": [],
   "source": [
    "plot_cm('ios', [gisv_la,gisv_sj,gisv_ucb], 'gis', INDEX_MAP=IIM)"
   ]
  },
  {
   "cell_type": "code",
   "execution_count": null,
   "id": "05023a27",
   "metadata": {},
   "outputs": [],
   "source": [
    "plot_cm('android', [gisv_la,gisv_sj,gisv_ucb], 'gis', INDEX_MAP=IIM)"
   ]
  },
  {
   "cell_type": "markdown",
   "id": "5251a9e3",
   "metadata": {},
   "source": [
    "# Unite Testing\n",
    "\n",
    "* get_binary_class_in_sec(os, role, pv, BASE_MODE, test=False, test_trip=None)\n",
    "* get_F_score(os, role, pv, BASE_MODE, beta=1, test=False, test_trip=None)\n",
    "* get_confusion_matrix(os, role, pv, test=False, test_trip=None)"
   ]
  },
  {
   "cell_type": "markdown",
   "id": "60805138",
   "metadata": {},
   "source": [
    "## Example timelines"
   ]
  },
  {
   "cell_type": "markdown",
   "id": "bcfa1c91",
   "metadata": {},
   "source": [
    "### No sensed at the beggining, No GT at the end, Multimodal\n",
    "\n",
    "\n",
    "* pipeline timeline\n",
    "\n",
    "WALKING (0.5, 1.35) -> CYCLING (1.35, 2.7) -> WALKING (2.7, 3.5)\n",
    "\n",
    "* ground truth timeline\n",
    "\n",
    "WALKING (0, 1.05) -> BICYCLING (1.05, 3.1)\n",
    "\n",
    "#### binary classifiers\n",
    "    + TP \n",
    "        + [WALKING: 0.55] \n",
    "        + [CYCLING: 1.35]\n",
    "    + FP \n",
    "        + [WALKING: 1.10] \n",
    "        + [INVALID: 0.5]\n",
    "    + FN \n",
    "        + [WALKING: 0.50] \n",
    "        + [CYCLING: 0.70]\n",
    "        + [INVALID: 0.4]\n",
    "    + TN \n",
    "        + [WALKING: 1.35] \n",
    "        + [CYCLING: 1.45]\n",
    "        + [INVALID: 2.60]\n",
    "* $F_1$ score\n",
    "    + [WALKING: 0.41]\n",
    "    + [CYCLING: 0.79]\n",
    "    + [INVALID: ....]\n",
    "    \n",
    "#### Confusion Matrix\n",
    "\n",
    "\n",
    "sensed = [WALKING, CYCLING, NO_SENSED]\n",
    "\n",
    "ground truth = [WALKING, BICYCLING, NO_GT]\n",
    "\n",
    "origin top left\n",
    "\n",
    "    [0.55, 0.00, 0.50]\n",
    "    [0.70, 1.35, 0.00]\n",
    "    [0.40, 0.00, 0.00]"
   ]
  },
  {
   "cell_type": "code",
   "execution_count": null,
   "id": "eb8a522f",
   "metadata": {},
   "outputs": [],
   "source": [
    "test_trip = {\n",
    "    'ss_timeline'  : [{'start_ts' : 0.5, 'end_ts' : 1.35, 'mode' : 'WALKING'},\n",
    "                      {'start_ts' : 1.35, 'end_ts' : 2.7, 'mode' : 'CYCLING'}, \n",
    "                      {'start_ts' : 2.7, 'end_ts' : 3.5, 'mode' : 'WALKING'}],\n",
    "    'gts_timeline' : [{'start_ts' : 0, 'end_ts' : 1.05, 'mode' : 'WALKING'}, \n",
    "                      {'start_ts' : 1.05, 'end_ts' : 3.1, 'mode' : 'BICYCLING'}]\n",
    "}\n",
    "test_BMM = {'WALKING' : 'WALKING', 'CYCLING' : 'CYCLING', 'BICYCLING' : 'CYCLING', 'NO_SENSED' : 'INVALID', 'NO_GT' : 'INVALID', 'INVALID' : 'INVALID'}"
   ]
  },
  {
   "cell_type": "markdown",
   "id": "53e64c48",
   "metadata": {},
   "source": [
    "#### get_binary_class_in_sec"
   ]
  },
  {
   "cell_type": "code",
   "execution_count": null,
   "id": "6ad30123",
   "metadata": {},
   "outputs": [],
   "source": [
    "res = get_binary_class_in_sec(..., ..., ..., test_BMM, test=True, test_trip=test_trip)"
   ]
  },
  {
   "cell_type": "code",
   "execution_count": null,
   "id": "e54d921b",
   "metadata": {},
   "outputs": [],
   "source": [
    "assert round(res[0]['WALKING'], 2) == 0.55 and round(res[0]['CYCLING'], 2) == 1.35 and res[0]['INVALID'] == 0 and len(res[0]) == 3, f\"TP wrong\"\n",
    "assert round(res[1]['WALKING'], 2) == 1.10 and round(res[1]['INVALID'], 2) == 0.50 and len(res[1]) == 2, f\"FP wrong\"\n",
    "assert round(res[2]['WALKING'], 2) == 0.50 and round(res[2]['CYCLING'], 2) == 0.70 and round(res[2]['INVALID'], 2) == 0.40 and len(res[2]) == 3, f\"FN wrong\"\n",
    "assert round(res[3]['WALKING'], 2) == 1.35 and round(res[3]['CYCLING'], 2) == 1.45 and round(res[3]['INVALID'], 2) == 2.60 and len(res[2]) == 3, f\"TN wrong\""
   ]
  },
  {
   "cell_type": "markdown",
   "id": "492b4ffe",
   "metadata": {},
   "source": [
    "#### get_F_score"
   ]
  },
  {
   "cell_type": "code",
   "execution_count": null,
   "id": "0b8f5d99",
   "metadata": {},
   "outputs": [],
   "source": [
    "res = get_F_score(..., ..., ..., test_BMM, beta=1, test=True, test_trip=test_trip)\n",
    "assert round(res['WALKING'],2) == 0.41 and round(res['CYCLING'], 2) == 0.79 and res['INVALID'] == 0, f\"F_1 scores wrong\""
   ]
  },
  {
   "cell_type": "markdown",
   "id": "2e54c761",
   "metadata": {},
   "source": [
    "#### get_confusion_matrix"
   ]
  },
  {
   "cell_type": "code",
   "execution_count": null,
   "id": "70f41be3",
   "metadata": {},
   "outputs": [],
   "source": [
    "res = get_confusion_matrix(..., ..., ..., test=True, test_trip=test_trip)\n",
    "df = pd.DataFrame(res).groupby('sensed_mode').sum()\n",
    "assert 'WALKING' in df.index and 'CYCLING' in df.index and 'NO_SENSED' in df.index, f\"INCORRECT INDECIES \\n EXPECTED \\t 'WALKING', 'CYCLING', 'NO_SENSED' \\n GOT \\t \\t {df.index}\"\n",
    "assert df.loc['WALKING'].loc['WALKING'] == 0.55 and df.loc['WALKING'].loc['BICYCLING'] == 0.70 and round(df.loc['WALKING'].loc['NO_GT'],2) == 0.40\n",
    "assert df.loc['CYCLING'].loc['WALKING'] == 0 and df.loc['CYCLING'].loc['BICYCLING'] == 1.35 and round(df.loc['CYCLING'].loc['NO_GT'],2) == 0.0\n",
    "assert round(df.loc['NO_SENSED'].loc['WALKING'], 2) == 0.50 and df.loc['NO_SENSED'].loc['BICYCLING'] == 0.0 and round(df.loc['NO_SENSED'].loc['NO_GT'],2) == 0.0"
   ]
  },
  {
   "cell_type": "markdown",
   "id": "b130e0b5",
   "metadata": {},
   "source": [
    "### No sensed at beggining and end, multimodal\n",
    "\n",
    "* pipeline timeline\n",
    "WALKING (0.5, 1) -> BIKING (1, 1.5)\n",
    "\n",
    "* ground truth timeline\n",
    "WALKING (0, 2)\n",
    "\n",
    "#### Multiclass classifiers\n",
    "* TP\n",
    "    + WALKING [0.5]\n",
    "* FP\n",
    "    + CYCLING [0.5]\n",
    "    + INVALID [1]\n",
    "* FN\n",
    "    + WALKING [1.5]\n",
    "* TN\n",
    "    + INVALID [1]\n",
    "#### Confusion Matrix\n",
    "\n",
    "sensed mode = ['WALKING', 'NO_SENSED']\n",
    "\n",
    "ground truth = ['WALKING']\n",
    "\n",
    "    [1,1]"
   ]
  },
  {
   "cell_type": "code",
   "execution_count": null,
   "id": "c116eeff",
   "metadata": {},
   "outputs": [],
   "source": [
    "test_trip = {\n",
    "    'ss_timeline'  : [{'start_ts' : 0.5, 'end_ts' : 1, 'mode' : 'WALKING'}, {'start_ts' : 1, 'end_ts' : 1.5, 'mode' : 'CYCLING'}],\n",
    "    'gts_timeline' : [{'start_ts' : 0, 'end_ts' : 2, 'mode' : 'WALKING'}]\n",
    "}\n",
    "test_BMM = {'WALKING' : 'WALKING', 'CYCLING' : \"CYCLING\", 'NO_SENSED' : 'INVALID', 'NO_GT' : 'INVALID', 'INVALID' : 'INVALID'}"
   ]
  },
  {
   "cell_type": "code",
   "execution_count": null,
   "id": "52d6ca48",
   "metadata": {},
   "outputs": [],
   "source": [
    "res = get_binary_class_in_sec(..., ..., ..., test_BMM, test=True, test_trip=test_trip)"
   ]
  },
  {
   "cell_type": "code",
   "execution_count": null,
   "id": "40d5b543",
   "metadata": {},
   "outputs": [],
   "source": [
    "res"
   ]
  },
  {
   "cell_type": "code",
   "execution_count": null,
   "id": "53c30f06",
   "metadata": {},
   "outputs": [],
   "source": [
    "assert res[0]['WALKING'] == 0.5\n",
    "assert res[1]['INVALID'] == 1.0 and res[1]['CYCLING'] == 0.5\n",
    "assert res[2]['WALKING'] == 1.5\n",
    "assert res[3]['INVALID'] == 1.0"
   ]
  },
  {
   "cell_type": "code",
   "execution_count": null,
   "id": "af08a6b3",
   "metadata": {},
   "outputs": [],
   "source": [
    "res = get_confusion_matrix(..., ..., ..., test=True, test_trip=test_trip)\n",
    "df = pd.DataFrame(res).groupby('sensed_mode').sum()"
   ]
  },
  {
   "cell_type": "code",
   "execution_count": null,
   "id": "a510b8b5",
   "metadata": {},
   "outputs": [],
   "source": [
    "assert df.loc['WALKING'].loc['WALKING'] == 0.5\n",
    "assert df.loc['CYCLING'].loc['WALKING'] == 0.5\n",
    "assert df.loc['NO_SENSED'].loc['WALKING'] == 1"
   ]
  },
  {
   "cell_type": "markdown",
   "id": "973a1716",
   "metadata": {},
   "source": [
    "### No ground truth at beggining and end, unimodal\n",
    "\n",
    "* pipeline timeline\n",
    "WALKING (0, 2)\n",
    "\n",
    "* ground truth timeline\n",
    "WALKING (0.5, 1.5)\n",
    "\n",
    "#### Multiclass classifiers\n",
    "* TP\n",
    "    + WALKING [1]\n",
    "* FP\n",
    "    + WALKING [1]\n",
    "* FN\n",
    "    + INVALID [1]\n",
    "* TN\n",
    "    + INVALID [1]\n",
    "* $F_1$ score\n",
    "    + ...\n",
    "#### Confusion Matrix\n",
    "\n",
    "sensed mode = ['WALKING']\n",
    "\n",
    "ground truth = ['WALKING', 'NO_GT]\n",
    "\n",
    "    [1,1]"
   ]
  },
  {
   "cell_type": "code",
   "execution_count": null,
   "id": "54da3fa0",
   "metadata": {},
   "outputs": [],
   "source": [
    "test_trip = {\n",
    "    'gts_timeline'  : [{'start_ts' : 0.5, 'end_ts' : 1.5, 'mode' : 'WALKING'}],\n",
    "    'ss_timeline' : [{'start_ts' : 0, 'end_ts' : 2, 'mode' : 'WALKING'}]\n",
    "}\n",
    "test_BMM = {'WALKING' : 'WALKING', 'NO_SENSED' : 'INVALID', 'NO_GT' : 'INVALID', 'INVALID' : 'INVALID'}"
   ]
  },
  {
   "cell_type": "code",
   "execution_count": null,
   "id": "92916c9a",
   "metadata": {},
   "outputs": [],
   "source": [
    "res = get_binary_class_in_sec(..., ..., ..., test_BMM, test=True, test_trip=test_trip)"
   ]
  },
  {
   "cell_type": "code",
   "execution_count": null,
   "id": "ccf9c908",
   "metadata": {},
   "outputs": [],
   "source": [
    "assert res[0]['WALKING'] == 1\n",
    "assert res[1]['WALKING'] == 1\n",
    "assert res[2]['INVALID'] == 1\n",
    "assert res[3]['INVALID'] == 1"
   ]
  },
  {
   "cell_type": "code",
   "execution_count": null,
   "id": "6f7cbc2e",
   "metadata": {},
   "outputs": [],
   "source": [
    "res = get_confusion_matrix(..., ..., ..., test=True, test_trip=test_trip)\n",
    "df = pd.DataFrame(res).groupby('sensed_mode').sum()"
   ]
  },
  {
   "cell_type": "code",
   "execution_count": null,
   "id": "91b1ecb7",
   "metadata": {},
   "outputs": [],
   "source": [
    "assert df.loc['WALKING'].loc['WALKING'] == 1\n",
    "assert df.loc['WALKING'].loc['NO_GT'] == 1"
   ]
  }
 ],
 "metadata": {
  "kernelspec": {
   "display_name": "Python 3 (ipykernel)",
   "language": "python",
   "name": "python3"
  },
  "language_info": {
   "codemirror_mode": {
    "name": "ipython",
    "version": 3
   },
   "file_extension": ".py",
   "mimetype": "text/x-python",
   "name": "python",
   "nbconvert_exporter": "python",
   "pygments_lexer": "ipython3",
   "version": "3.8.13"
  }
 },
 "nbformat": 4,
 "nbformat_minor": 5
}
